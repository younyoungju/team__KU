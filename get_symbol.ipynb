{
 "cells": [
  {
   "cell_type": "code",
   "execution_count": 8,
   "metadata": {},
   "outputs": [],
   "source": [
    "import re"
   ]
  },
  {
   "cell_type": "code",
   "execution_count": 9,
   "metadata": {},
   "outputs": [],
   "source": [
    "def EBS_dict():\n",
    "    pattern1 = re.compile(r'\\s{2,}') \n",
    "    pattern2 = re.compile(r'[가-힣.?,‘’]') \n",
    "#     pattern3 = re.compile(r'[ㄱ-ㅎa-z]{1}') # ㄱ,ㄴ ....a,b,c....\n",
    "    \n",
    "    dic = []\n",
    "    for i in range(1, 16):\n",
    "        n = '{0:05d}'.format(i)\n",
    "        lec = 'lec' + n + '_EBS.txt'\n",
    "        dic.append(lec)\n",
    "        \n",
    "    texts = ''\n",
    "        \n",
    "    for _ in dic:\n",
    "        # 로컬 경로\n",
    "        with open('C:\\\\Users\\\\KYEONGCHAN LEE\\\\(1-1.5) DataCampus\\\\'+ _ ,'r',encoding='utf-8') as r:\n",
    "            texts += r.read()\n",
    "\n",
    "    texts = pattern1.sub(' ', texts) ## o\n",
    "    texts = pattern2.sub(' ', texts) ## o\n",
    "#     texts = pattern3.sub(' ', texts) ## o\n",
    "#     EBSDic = texts.split()\n",
    "    EBSDic = texts\n",
    "    return list(set(EBSDic.split()))\n",
    "#     return ' '.join(EBSDic.split())\n",
    "    \n",
    "#     return [_ for _ in set(EBSDic) if len(_) == 1] + ['sin','cos','tan']"
   ]
  },
  {
   "cell_type": "code",
   "execution_count": 10,
   "metadata": {},
   "outputs": [],
   "source": [
    "pat1 = re.compile(r'\\D+')\n",
    "pat2 = re.compile(r'[^0-9a-zA-Z]')\n",
    "pat3 = re.compile(r'[a-zA-Z]+')"
   ]
  },
  {
   "cell_type": "code",
   "execution_count": 12,
   "metadata": {},
   "outputs": [],
   "source": [
    "result = EBS_dict()\n",
    "i=0\n",
    "for _ in range(0,len(result)):\n",
    "    got_symbols = pat2.findall(result[0])\n",
    "    got_alphabets = pat3.findall(result[0])\n",
    "    result.pop(0)\n",
    "    if got_symbols:\n",
    "        result += got_symbols\n",
    "    if got_alphabets:\n",
    "        result += got_alphabets\n",
    "    i+=1"
   ]
  },
  {
   "cell_type": "code",
   "execution_count": 13,
   "metadata": {},
   "outputs": [
    {
     "name": "stdout",
     "output_type": "stream",
     "text": [
      "{'DAB', '㎠', 'B', 'c', 'D', 'ABM', 'CA', 'ㄴ', ')', 'x', 'IBC', '%', '＝', 'BDH', 'BO', '×', 'AHB', 'H', '＋', '˚', 'M', 'BCD', '㈎', 'PH', 'BAH', '㈐', 'EDC', '②', 'EB', 'ED', 'CO', 'ACH', 'CD', 'sim', 'BD', '=', 'm', 'HQCD', 'EAD', 'ABQ', 'AO', 'cosB', 'r', 'S', 'PQH', '□', 'ab', 'GBC', '－', 'AB', 'P', 'CBH', 'BR', 'BC', 'BH', 'BOA', 'ABE', 'cos', 'DC', 'OP', '⑴', '≤', 'ABCD', 'EBS', '⑵', '㎞', 'BAD', '√', 'ADE', 'OAB', 'AMC', 'F', 'AED', 'CAB', 'O', 'ACD', 'BCH', 'N', 'cm', 'K', 'BIC', 'h', 'CB', 'tan', 'BQ', 'AF', 'ㄷ', 'MH', 'G', '~', 'I', '＞', 'BAC', '⅓', 'n', 'DMN', 'OMR', '…', '+', 'ADB', 'π', '½', 'b', '③', '(', '㈏', 'ACB', 'AHC', 'PD', 'BMN', 'km', 'EC', 'PA', 'HC', 'AOC', 'DH', 'y', 'POA', 'AH', 'FA', 'con', 'OD', '⑤', 'ABH', 'sinA', 'BM', 'SAS', 'QH', 'w', 'PB', 'RHS', 'ㄱ', 'ODC', 'OH', 'BA', 'BHC', 'CH', '¼', 'BQP', '-', 'DE', 'PQRS', 'PQ', '÷', 'CBN', 'PR', 'v', 'ABC', '①', '|', 'MN', 'E', 'xx', '∠', 'tna', ':', 'DCH', 'MBN', 'z', 'PS', 'OA', 'mx', 'OC', '④', 'CM', 'ASA', '⅔', '＜', 'AD', 'CAD', '²', 'sin', 'ba', 'AA', 'DB', \"'\", 'Q', 'C', 'DBH', 'AC', 'GD', 'AMN', 'DBC', 'RSH', 'AQ', '△', 'CQ', 'AE', 'AMH', 's', '㎝', 'p', 'BP', 'DCB', 'ADC', 'tanA', '!', '′', 'a', 'BE', 'AM', 'X', 'CAH', 'A', 'OB', 'ABD', 'AG'}\n"
     ]
    }
   ],
   "source": [
    "result = set(result)\n",
    "print(result)"
   ]
  },
  {
   "cell_type": "code",
   "execution_count": 14,
   "metadata": {},
   "outputs": [],
   "source": [
    "result_ = ' '.join(result)\n",
    "p = re.compile(r'[a-zA-Z]+')\n",
    "result_ = p.sub(' ', result_)"
   ]
  },
  {
   "cell_type": "code",
   "execution_count": 15,
   "metadata": {},
   "outputs": [
    {
     "data": {
      "text/plain": [
       "\"  ㎠           ㄴ )     % ＝     ×     ＋ ˚     ㈎     ㈐   ②               =                   □     －                       ⑴ ≤     ⑵ ㎞   √                                     ㄷ     ~   ＞   ⅓       … +   π ½   ③ ( ㈏                                 ⑤                 ㄱ           ¼   -       ÷         ① |       ∠   :               ④     ⅔ ＜     ²         '                   △         ㎝           ! ′                  \""
      ]
     },
     "execution_count": 15,
     "metadata": {},
     "output_type": "execute_result"
    }
   ],
   "source": [
    "result_"
   ]
  },
  {
   "cell_type": "code",
   "execution_count": 16,
   "metadata": {},
   "outputs": [
    {
     "data": {
      "text/plain": [
       "413"
      ]
     },
     "execution_count": 16,
     "metadata": {},
     "output_type": "execute_result"
    }
   ],
   "source": [
    "len(result_)"
   ]
  },
  {
   "cell_type": "code",
   "execution_count": null,
   "metadata": {},
   "outputs": [],
   "source": []
  }
 ],
 "metadata": {
  "kernelspec": {
   "display_name": "Python 3",
   "language": "python",
   "name": "python3"
  },
  "language_info": {
   "codemirror_mode": {
    "name": "ipython",
    "version": 3
   },
   "file_extension": ".py",
   "mimetype": "text/x-python",
   "name": "python",
   "nbconvert_exporter": "python",
   "pygments_lexer": "ipython3",
   "version": "3.7.6"
  }
 },
 "nbformat": 4,
 "nbformat_minor": 4
}
