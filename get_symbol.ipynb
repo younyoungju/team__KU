{
 "cells": [
  {
   "cell_type": "code",
   "execution_count": 2,
   "metadata": {},
   "outputs": [],
   "source": [
    "import re"
   ]
  },
  {
   "cell_type": "code",
   "execution_count": 3,
   "metadata": {},
   "outputs": [],
   "source": [
    "def EBS_dict():\n",
    "    pattern1 = re.compile(r'\\s{2,}') \n",
    "    pattern2 = re.compile(r'[가-힣.?,‘’]') \n",
    "#     pattern3 = re.compile(r'[ㄱ-ㅎa-z]{1}') # ㄱ,ㄴ ....a,b,c....\n",
    "    \n",
    "    dic = []\n",
    "    for i in range(1, 16):\n",
    "        n = '{0:05d}'.format(i)\n",
    "        lec = 'lec' + n + '_EBS.txt'\n",
    "        dic.append(lec)\n",
    "        \n",
    "    texts = ''\n",
    "        \n",
    "    for _ in dic:\n",
    "        # 로컬 경로\n",
    "        with open('C:\\\\Users\\\\KYEONGCHAN LEE\\\\(1-1.5) DataCampus\\\\'+ _ ,'r',encoding='utf-8') as r:\n",
    "            texts += r.read()\n",
    "\n",
    "    texts = pattern1.sub(' ', texts) ## o\n",
    "    texts = pattern2.sub(' ', texts) ## o\n",
    "#     texts = pattern3.sub(' ', texts) ## o\n",
    "#     EBSDic = texts.split()\n",
    "    EBSDic = texts\n",
    "    return list(set(EBSDic.split()))\n",
    "#     return ' '.join(EBSDic.split())\n",
    "    \n",
    "#     return [_ for _ in set(EBSDic) if len(_) == 1] + ['sin','cos','tan']"
   ]
  },
  {
   "cell_type": "code",
   "execution_count": 4,
   "metadata": {},
   "outputs": [],
   "source": [
    "pat1 = re.compile(r'\\D+')\n",
    "pat2 = re.compile(r'[^0-9a-zA-Z]')\n",
    "pat3 = re.compile(r'[a-zA-Z]+')"
   ]
  },
  {
   "cell_type": "code",
   "execution_count": 5,
   "metadata": {},
   "outputs": [],
   "source": [
    "result = EBS_dict()\n",
    "i=0\n",
    "for _ in range(0,len(result)):\n",
    "    got_symbols = pat2.findall(result[0])\n",
    "    got_alphabets = pat3.findall(result[0])\n",
    "    result.pop(0)\n",
    "    if got_symbols:\n",
    "        result += got_symbols\n",
    "    if got_alphabets:\n",
    "        result += got_alphabets\n",
    "    i+=1"
   ]
  },
  {
   "cell_type": "code",
   "execution_count": 6,
   "metadata": {},
   "outputs": [
    {
     "name": "stdout",
     "output_type": "stream",
     "text": [
      "{'EB', 'c', 'v', 'CM', 'AOC', 'EC', 'BD', '㈏', 'DCB', 'EDC', '㎝', '⑵', 'DH', ':', '㈎', 'PB', 'CO', 'cosB', 'cm', '′', '⑤', 'EBS', '÷', 'DBC', 'PH', 'ODC', '¼', 'RHS', 'm', '＜', 'ABD', 'AO', ')', 'AC', 'SAS', 'BC', 'PQ', '△', 'ab', '＋', 'AD', 'N', 'BDH', 'BQ', 'PR', 'PA', 'OP', 'xx', 'ㄷ', 'AA', 'HC', '²', 'RSH', 'p', 'ABQ', 'B', 'P', 'BMN', '①', 'AF', 'DC', 'sinA', 'FA', 'D', '＞', 'S', '③', '=', 'ADC', 'OB', 'H', 'AB', 'PQH', 'PQRS', 'z', 'ABM', 'OH', 'AQ', 'EAD', 'ㄴ', 'BH', '~', '≤', 'MBN', 'y', 'AHC', 'ACB', 'DB', \"'\", '⅓', '④', 'ABCD', 'ED', 'BHC', 'Q', 'ACD', 'DE', 'GD', 'C', 'A', '㈐', '＝', 'CB', 'n', 'x', 'ASA', 'h', 'mx', '⅔', 'CD', '(', 'BQP', 'CH', 'OMR', 's', 'tanA', 'AE', 'OC', 'AMN', '+', 'BAC', 'X', 'MN', 'km', 'QH', 'OD', 'M', '…', 'sin', 'E', 'a', 'π', '˚', 'OA', 'AMH', '－', 'CBN', 'CQ', 'BAD', 'BIC', 'POA', 'AG', 'G', 'BA', 'DAB', 'con', 'w', 'ABC', 'ABH', '□', 'DBH', 'ADE', 'BO', 'PD', 'BE', 'BAH', 'AH', 'BP', 'sim', 'ACH', 'DMN', '㎞', '-', 'K', '%', '∠', 'tan', 'DCH', '√', 'CAH', '㎠', 'GBC', 'CBH', 'AED', 'BCD', 'AMC', 'BR', 'F', 'cos', 'ba', 'BM', 'CAB', 'BOA', '!', 'b', '⑴', 'I', 'ADB', 'PS', 'AHB', '|', '½', 'O', 'ㄱ', 'r', 'CA', 'IBC', 'BCH', '②', 'ABE', 'CAD', 'MH', '×', 'HQCD', 'AM', 'OAB', 'tna'}\n"
     ]
    }
   ],
   "source": [
    "result = set(result)\n",
    "print(result)"
   ]
  },
  {
   "cell_type": "code",
   "execution_count": 7,
   "metadata": {},
   "outputs": [],
   "source": [
    "result_ = ' '.join(result)\n",
    "p = re.compile(r'[a-zA-Zㄱ-ㅎ]+')\n",
    "result_ = p.sub(' ', result_)"
   ]
  },
  {
   "cell_type": "code",
   "execution_count": 8,
   "metadata": {},
   "outputs": [
    {
     "data": {
      "text/plain": [
       "\"              ㈏     ㎝ ⑵   : ㈎         ′ ⑤   ÷       ¼     ＜     )         △   ＋                       ²             ①           ＞   ③ =                           ~ ≤           ' ⅓ ④                   ㈐ ＝             ⅔   (                 +               …       π ˚     －                           □                       ㎞ -   % ∠     √   ㎠                         !   ⑴         | ½             ②       ×        \""
      ]
     },
     "execution_count": 8,
     "metadata": {},
     "output_type": "execute_result"
    }
   ],
   "source": [
    "result_"
   ]
  },
  {
   "cell_type": "code",
   "execution_count": 9,
   "metadata": {},
   "outputs": [
    {
     "data": {
      "text/plain": [
       "45"
      ]
     },
     "execution_count": 9,
     "metadata": {},
     "output_type": "execute_result"
    }
   ],
   "source": [
    "len(result_.split())"
   ]
  },
  {
   "cell_type": "code",
   "execution_count": 10,
   "metadata": {},
   "outputs": [
    {
     "name": "stdout",
     "output_type": "stream",
     "text": [
      "{'EB', 'c', 'v', 'CM', 'AOC', 'EC', 'BD', '㈏', 'DCB', 'EDC', '㎝', '⑵', 'DH', ':', '㈎', 'PB', 'CO', 'cosB', 'cm', '′', '⑤', 'EBS', '÷', 'DBC', 'PH', 'ODC', '¼', 'RHS', 'm', '＜', 'ABD', 'AO', ')', 'AC', 'SAS', 'BC', 'PQ', '△', 'ab', '＋', 'AD', 'N', 'BDH', 'BQ', 'PR', 'PA', 'OP', 'xx', 'ㄷ', 'AA', 'HC', '²', 'RSH', 'p', 'ABQ', 'B', 'P', 'BMN', '①', 'AF', 'DC', 'sinA', 'FA', 'D', '＞', 'S', '③', '=', 'ADC', 'OB', 'H', 'AB', 'PQH', 'PQRS', 'z', 'ABM', 'OH', 'AQ', 'EAD', 'ㄴ', 'BH', '~', '≤', 'MBN', 'y', 'AHC', 'ACB', 'DB', \"'\", '⅓', '④', 'ABCD', 'ED', 'BHC', 'Q', 'ACD', 'DE', 'GD', 'C', 'A', '㈐', '＝', 'CB', 'n', 'x', 'ASA', 'h', 'mx', '⅔', 'CD', '(', 'BQP', 'CH', 'OMR', 's', 'tanA', 'AE', 'OC', 'AMN', '+', 'BAC', 'X', 'MN', 'km', 'QH', 'OD', 'M', '…', 'sin', 'E', 'a', 'π', '˚', 'OA', 'AMH', '－', 'CBN', 'CQ', 'BAD', 'BIC', 'POA', 'AG', 'G', 'BA', 'DAB', 'con', 'w', 'ABC', 'ABH', '□', 'DBH', 'ADE', 'BO', 'PD', 'BE', 'BAH', 'AH', 'BP', 'sim', 'ACH', 'DMN', '㎞', '-', 'K', '%', '∠', 'tan', 'DCH', '√', 'CAH', '㎠', 'GBC', 'CBH', 'AED', 'BCD', 'AMC', 'BR', 'F', 'cos', 'ba', 'BM', 'CAB', 'BOA', '!', 'b', '⑴', 'I', 'ADB', 'PS', 'AHB', '|', '½', 'O', 'ㄱ', 'r', 'CA', 'IBC', 'BCH', '②', 'ABE', 'CAD', 'MH', '×', 'HQCD', 'AM', 'OAB', 'tna'}\n"
     ]
    }
   ],
   "source": [
    "print(result)"
   ]
  },
  {
   "cell_type": "code",
   "execution_count": null,
   "metadata": {},
   "outputs": [],
   "source": []
  }
 ],
 "metadata": {
  "kernelspec": {
   "display_name": "Python 3",
   "language": "python",
   "name": "python3"
  },
  "language_info": {
   "codemirror_mode": {
    "name": "ipython",
    "version": 3
   },
   "file_extension": ".py",
   "mimetype": "text/x-python",
   "name": "python",
   "nbconvert_exporter": "python",
   "pygments_lexer": "ipython3",
   "version": "3.7.6"
  }
 },
 "nbformat": 4,
 "nbformat_minor": 4
}
