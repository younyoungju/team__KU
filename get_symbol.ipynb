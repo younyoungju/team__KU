{
 "cells": [
  {
   "cell_type": "code",
   "execution_count": 1,
   "metadata": {},
   "outputs": [],
   "source": [
    "import re"
   ]
  },
  {
   "cell_type": "code",
   "execution_count": 54,
   "metadata": {},
   "outputs": [],
   "source": [
    "def EBS_dict():\n",
    "    pattern1 = re.compile(r'\\s{2,}') \n",
    "    pattern2 = re.compile(r'[가-힣.?,A-Z‘’0-9()]') \n",
    "    pattern3 = re.compile(r'[ㄱ-ㅎa-z]{1}') # ㄱ,ㄴ ....a,b,c....\n",
    "    \n",
    "    dic = []\n",
    "    for i in range(1, 16):\n",
    "        n = '{0:05d}'.format(i)\n",
    "        lec = 'lec' + n + '_EBS.txt'\n",
    "        dic.append(lec)\n",
    "        \n",
    "    texts = ''\n",
    "    for i in range(1, 16):\n",
    "        n = '{0:05d}'.format(i)\n",
    "        lec = 'lec' + n + '_EBS.txt'\n",
    "        dic.append(lec)\n",
    "        \n",
    "    for _ in dic:\n",
    "        # 로컬 경로\n",
    "        with open('C:\\\\Users\\\\KYEONGCHAN LEE\\\\(1-1.5) DataCampus\\\\'+ _ ,'r',encoding='utf-8') as r:\n",
    "            texts += r.read()\n",
    "\n",
    "    texts = pattern1.sub(' ', texts) ## o\n",
    "    texts = pattern2.sub(' ', texts) ## o\n",
    "    texts = pattern3.sub(' ', texts) ## o\n",
    "    EBSDic = texts.split()\n",
    "    \n",
    "\n",
    "    #return set(EBSDic)\n",
    "    \n",
    "    return [_ for _ in set(EBSDic) if len(_) == 1] + ['sin','cos','tan']"
   ]
  },
  {
   "cell_type": "code",
   "execution_count": 55,
   "metadata": {},
   "outputs": [
    {
     "name": "stdout",
     "output_type": "stream",
     "text": [
      "46\n",
      "['¼', '~', '㎞', '㈎', ':', '△', '⑤', '㎝', '⅓', '|', '②', '－', '×', '²', '-', '③', '⑴', '＝', '½', '□', '＋', '①', 'π', '+', '′', \"'\", '＞', '≤', '㈐', '④', '=', '…', '∠', '˚', '＜', '⅔', '㈏', '√', '%', '!', '㎠', '÷', '⑵', 'sin', 'cos', 'tan']\n"
     ]
    }
   ],
   "source": [
    "print(len(EBS_dict()))\n",
    "print(EBS_dict())"
   ]
  },
  {
   "cell_type": "code",
   "execution_count": 46,
   "metadata": {},
   "outputs": [
    {
     "name": "stdout",
     "output_type": "stream",
     "text": [
      "¼\n",
      "~\n",
      "a\n",
      "㎞\n",
      "㈎\n",
      ":\n",
      "△\n",
      "z\n",
      "y\n",
      "⑤\n",
      "㎝\n",
      "⅓\n",
      "|\n",
      "x\n",
      "ㄴ\n",
      "②\n",
      "－\n",
      "×\n",
      "²\n",
      "-\n",
      "③\n",
      "⑴\n",
      "½\n",
      "□\n",
      "＝\n",
      "＋\n",
      "①\n",
      "v\n",
      "π\n",
      "+\n",
      "′\n",
      "p\n",
      "'\n",
      "c\n",
      "m\n",
      "＞\n",
      "≤\n",
      "h\n",
      "㈐\n",
      "④\n",
      "=\n",
      "…\n",
      "b\n",
      "∠\n",
      "ㄱ\n",
      "w\n",
      "˚\n",
      "＜\n",
      "⅔\n",
      "㈏\n",
      "ㄷ\n",
      "√\n",
      "%\n",
      "!\n",
      "㎠\n",
      "÷\n",
      "⑵\n",
      "57\n"
     ]
    }
   ],
   "source": [
    "i = 0\n",
    "for _ in EBS_dict():\n",
    "    if len(_) == 1:\n",
    "        print(_)\n",
    "        i +=1\n",
    "print(i)"
   ]
  },
  {
   "cell_type": "code",
   "execution_count": 35,
   "metadata": {},
   "outputs": [
    {
     "ename": "NameError",
     "evalue": "name 'texts' is not defined",
     "output_type": "error",
     "traceback": [
      "\u001b[1;31m---------------------------------------------------------------------------\u001b[0m",
      "\u001b[1;31mNameError\u001b[0m                                 Traceback (most recent call last)",
      "\u001b[1;32m<ipython-input-35-a1ded21a2141>\u001b[0m in \u001b[0;36m<module>\u001b[1;34m\u001b[0m\n\u001b[1;32m----> 1\u001b[1;33m \u001b[0mtexts\u001b[0m\u001b[1;33m\u001b[0m\u001b[1;33m\u001b[0m\u001b[0m\n\u001b[0m",
      "\u001b[1;31mNameError\u001b[0m: name 'texts' is not defined"
     ]
    }
   ],
   "source": [
    "texts"
   ]
  },
  {
   "cell_type": "code",
   "execution_count": 53,
   "metadata": {},
   "outputs": [
    {
     "data": {
      "text/plain": [
       "['sk', 'sk']"
      ]
     },
     "execution_count": 53,
     "metadata": {},
     "output_type": "execute_result"
    }
   ],
   "source": [
    "['sk']+['sk']"
   ]
  },
  {
   "cell_type": "code",
   "execution_count": null,
   "metadata": {},
   "outputs": [],
   "source": []
  }
 ],
 "metadata": {
  "kernelspec": {
   "display_name": "Python 3",
   "language": "python",
   "name": "python3"
  },
  "language_info": {
   "codemirror_mode": {
    "name": "ipython",
    "version": 3
   },
   "file_extension": ".py",
   "mimetype": "text/x-python",
   "name": "python",
   "nbconvert_exporter": "python",
   "pygments_lexer": "ipython3",
   "version": "3.7.6"
  }
 },
 "nbformat": 4,
 "nbformat_minor": 4
}
