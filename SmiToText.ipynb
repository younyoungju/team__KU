{
 "cells": [
  {
   "cell_type": "code",
   "execution_count": 1,
   "metadata": {},
   "outputs": [],
   "source": [
    "import re"
   ]
  },
  {
   "cell_type": "code",
   "execution_count": 18,
   "metadata": {},
   "outputs": [],
   "source": [
    "def getText_smi( File ):\n",
    "    text = []\n",
    "    file = open(File, \"r\" , encoding = \"utf-8\")\n",
    "    wholefile = file.readlines()\n",
    "    wholefile = wholefile[1:]\n",
    "    for line in wholefile:\n",
    "        line = line.strip()\n",
    "        if re.search(r\"#\",line) or line.endswith(\":>\"):\n",
    "            continue\n",
    "        elif line.startswith('<') or line.endswith(\"; }\"):\n",
    "            continue\n",
    "        elif line.startswith('--') or line.endswith(\";\"):\n",
    "            continue\n",
    "        text.append(line)   #re 쓰는법 알려주세요\n",
    "    return ''.join(text).split(' 봅시다.(다)를')[0]\n",
    "\n",
    "#microsoft가 다 안되서 되는데까지 짤랏어요\n",
    "#getText_smi('subtitle_2.smi')"
   ]
  },
  {
   "cell_type": "code",
   "execution_count": 19,
   "metadata": {},
   "outputs": [],
   "source": [
    "#lec 번호 처음 : s, 끝 : e\n",
    "def text_save(s, e, d):\n",
    "    smis = []\n",
    "    directory = d\n",
    "    for i in range(s, e+1):\n",
    "        n = '{0:05d}'.format(i)\n",
    "        lec = 'lec' + n + '.smi'\n",
    "        smis.append(lec)\n",
    "    print(smis)\n",
    "    for _ in smis:\n",
    "        text = getText_smi(d+_)\n",
    "        save_name = _[-12:-4]\n",
    "        print(save_name)\n",
    "        f = open(save_name+'.txt', mode='wt', encoding='utf-8')\n",
    "        f.write(text)\n",
    "        f.close()\n",
    "#  d = 'C:\\\\EBSi\\\\EBS중학뉴런수학3(하)_손석민\\\\'\n",
    "#  현재 주피터 파일 경로에 저장됩니다"
   ]
  },
  {
   "cell_type": "code",
   "execution_count": 20,
   "metadata": {},
   "outputs": [
    {
     "name": "stdout",
     "output_type": "stream",
     "text": [
      "['lec00001.smi', 'lec00002.smi', 'lec00003.smi', 'lec00004.smi', 'lec00005.smi', 'lec00006.smi', 'lec00007.smi', 'lec00008.smi', 'lec00009.smi', 'lec00010.smi', 'lec00011.smi', 'lec00012.smi', 'lec00013.smi', 'lec00014.smi', 'lec00015.smi']\n",
      "lec00001\n",
      "lec00002\n",
      "lec00003\n",
      "lec00004\n",
      "lec00005\n",
      "lec00006\n",
      "lec00007\n",
      "lec00008\n",
      "lec00009\n",
      "lec00010\n",
      "lec00011\n",
      "lec00012\n",
      "lec00013\n",
      "lec00014\n",
      "lec00015\n"
     ]
    }
   ],
   "source": [
    "# smi파일 저장돼있는 경로 설정\n",
    "# 파일 이름은 lec00035처럼 되어있어야함\n",
    "# 예를들어 lec00012 ~ lec00036까지 변환하고 싶다면,\n",
    "# text_save(12, 36, 'C:\\\\EBSi\\\\EBS중학뉴런수학3(하)_손석민\\\\')\n",
    "\n",
    "text_save(1, 15, 'C:\\\\EBSi\\\\EBS중학뉴런수학3(하)_손석민\\\\')"
   ]
  },
  {
   "cell_type": "code",
   "execution_count": null,
   "metadata": {},
   "outputs": [],
   "source": []
  }
 ],
 "metadata": {
  "kernelspec": {
   "display_name": "Python 3",
   "language": "python",
   "name": "python3"
  },
  "language_info": {
   "codemirror_mode": {
    "name": "ipython",
    "version": 3
   },
   "file_extension": ".py",
   "mimetype": "text/x-python",
   "name": "python",
   "nbconvert_exporter": "python",
   "pygments_lexer": "ipython3",
   "version": "3.7.6"
  }
 },
 "nbformat": 4,
 "nbformat_minor": 4
}
