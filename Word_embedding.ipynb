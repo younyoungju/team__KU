{
 "cells": [
  {
   "cell_type": "code",
   "execution_count": 1,
   "metadata": {},
   "outputs": [],
   "source": [
    "import re\n",
    "from string import punctuation"
   ]
  },
  {
   "cell_type": "code",
   "execution_count": 2,
   "metadata": {},
   "outputs": [],
   "source": [
    "from konlpy.tag import Hannanum, Kkma"
   ]
  },
  {
   "cell_type": "code",
   "execution_count": 3,
   "metadata": {},
   "outputs": [],
   "source": [
    "kkma = Kkma()"
   ]
  },
  {
   "cell_type": "markdown",
   "metadata": {},
   "source": [
    "# gensim w2v\n",
    "- size: (default 100) The number of dimensions of the embedding, e.g. the length of the dense vector to represent each token (word).\n",
    "- window: (default 5) The maximum distance between a target word and words around the target word.\n",
    "- min_count: (default 5) The minimum count of words to consider when training the model; words with an occurrence less than this count will be ignored.\n",
    "- workers: (default 3) The number of threads to use while training.\n",
    "- sg: (default 0 or CBOW) The training algorithm, either CBOW (0) or skip gram (1)."
   ]
  },
  {
   "cell_type": "markdown",
   "metadata": {},
   "source": [
    "# 모든 EBS 와 모든 google"
   ]
  },
  {
   "cell_type": "code",
   "execution_count": 4,
   "metadata": {},
   "outputs": [],
   "source": [
    "def get_STT1_Google(s, e):\n",
    "    # 파일 이름 만들기 #################################################\n",
    "    STT_filenames = []\n",
    "    for i in range(s, e+1):\n",
    "        n = '{0:05d}'.format(i)\n",
    "        STT_fname = 'lec' + n + '_STT1_Google.txt'\n",
    "        STT_filenames.append(STT_fname)\n",
    "    print(STT_filenames)\n",
    "    ####################################################\n",
    "    \n",
    "    # 파일 불러오기 ###################################################\n",
    "    STT_integrated = ''\n",
    "    \n",
    "    try:\n",
    "        for _ in STT_filenames:\n",
    "            with open('data/' + _, 'r', encoding = 'euc-kr') as f:\n",
    "                if STT_filenames.index(_) == 0:\n",
    "                    STT_integrated += f.read() \n",
    "                else:\n",
    "                    STT_integrated += ' '+f.read()\n",
    "    except:\n",
    "        for _ in STT_filenames:\n",
    "            with open('data/' + _, 'r') as f:\n",
    "                if STT_filenames.index(_) == 0:\n",
    "                    STT_integrated += f.read() \n",
    "                else:\n",
    "                    STT_integrated += ' '+f.read()   \n",
    "    ####################################################\n",
    "    \n",
    "    return STT_integrated"
   ]
  },
  {
   "cell_type": "code",
   "execution_count": 5,
   "metadata": {},
   "outputs": [
    {
     "name": "stdout",
     "output_type": "stream",
     "text": [
      "['lec00001_EBS.txt', 'lec00002_EBS.txt', 'lec00003_EBS.txt', 'lec00004_EBS.txt', 'lec00005_EBS.txt', 'lec00006_EBS.txt', 'lec00007_EBS.txt', 'lec00008_EBS.txt', 'lec00009_EBS.txt', 'lec00010_EBS.txt', 'lec00011_EBS.txt', 'lec00012_EBS.txt', 'lec00013_EBS.txt', 'lec00014_EBS.txt', 'lec00015_EBS.txt', 'lec00016_EBS.txt', 'lec00017_EBS.txt', 'lec00018_EBS.txt', 'lec00019_EBS.txt', 'lec00020_EBS.txt', 'lec00021_EBS.txt', 'lec00022_EBS.txt', 'lec00023_EBS.txt', 'lec00024_EBS.txt', 'lec00025_EBS.txt', 'lec00026_EBS.txt']\n"
     ]
    }
   ],
   "source": [
    "from PreProcessing.Opentext import get_EBS\n",
    "from PreProcessing.Opentext import get_STT1_Google"
   ]
  },
  {
   "cell_type": "code",
   "execution_count": null,
   "metadata": {},
   "outputs": [],
   "source": [
    "def preprocessing_EBS(text):\n",
    "    \n",
    "    pun = re.compile('[{0}]'.format(re.escape(punctuation)))\n",
    "    pat1 = re.compile(r'[‘,’]')\n",
    "    p_numberdot = re.compile('(?<=\\d)[.](?=\\d)')\n",
    "    \n",
    "   \n",
    "    text = p_numberdot.sub('점',text)       #decimal point to 점               \n",
    "    text = pat1.sub(' ', text)              #remove ','\n",
    "    text = pun.sub(' ', text)               #remove rest of punctuation\n",
    "    \n",
    "    return text"
   ]
  },
  {
   "cell_type": "code",
   "execution_count": 6,
   "metadata": {},
   "outputs": [
    {
     "name": "stdout",
     "output_type": "stream",
     "text": [
      "['lec00001_EBS.txt', 'lec00002_EBS.txt', 'lec00003_EBS.txt', 'lec00004_EBS.txt', 'lec00005_EBS.txt', 'lec00006_EBS.txt', 'lec00007_EBS.txt', 'lec00008_EBS.txt', 'lec00009_EBS.txt', 'lec00010_EBS.txt', 'lec00011_EBS.txt', 'lec00012_EBS.txt', 'lec00013_EBS.txt', 'lec00014_EBS.txt', 'lec00015_EBS.txt', 'lec00016_EBS.txt', 'lec00017_EBS.txt', 'lec00018_EBS.txt', 'lec00019_EBS.txt', 'lec00020_EBS.txt', 'lec00021_EBS.txt', 'lec00022_EBS.txt', 'lec00023_EBS.txt', 'lec00024_EBS.txt', 'lec00025_EBS.txt', 'lec00026_EBS.txt']\n"
     ]
    },
    {
     "data": {
      "text/plain": [
       "357749"
      ]
     },
     "execution_count": 6,
     "metadata": {},
     "output_type": "execute_result"
    }
   ],
   "source": [
    "all_EBS = get_EBS(1,26)\n",
    "len(all_EBS)"
   ]
  },
  {
   "cell_type": "code",
   "execution_count": null,
   "metadata": {},
   "outputs": [],
   "source": [
    "new_EBS = preprocessing_EBS(all_EBS)"
   ]
  },
  {
   "cell_type": "code",
   "execution_count": null,
   "metadata": {},
   "outputs": [],
   "source": [
    "symbol_dict = {'½': '이분의일',\n",
    " '□': '사각형',\n",
    " '＞': '보다 크다',\n",
    " '㈏': '나',\n",
    " '(': '',\n",
    " '×': '곱하기',\n",
    " ')': '',\n",
    " '①': '일번',\n",
    " '+': '더하기',\n",
    " '˚': '도',\n",
    " '⑤': '오번',\n",
    " '⅓': '삼분의일',\n",
    " '⅔': '삼분의이',\n",
    " '¼': '사분의일',\n",
    " '′': '',\n",
    " '＜': '보다 작다',\n",
    " '-': '마이너스',\n",
    " '!': '',\n",
    " '④': '사번',\n",
    " 'π': '파이',\n",
    " '㎞': '킬로미터',\n",
    " '=': '는',\n",
    " ':': '대',\n",
    " '~': '',\n",
    " '…': '',\n",
    " '△': '삼각형',\n",
    " '²': '의제곱',\n",
    " '②': '이번',\n",
    " '㈎': '가',\n",
    " '≤': '보다크거나같다',\n",
    " '㎝': '센치미터',\n",
    " '|': '절대값',\n",
    " '㈐': '다',\n",
    " '＝': '는',\n",
    " '÷': '나누기',\n",
    " '⑵': '이번',\n",
    " '㎠': '제곱센치미터',\n",
    " '¾': '사분의삼',\n",
    " '∠': '각',\n",
    " '%': '퍼센트',\n",
    " '－': '마이너스',\n",
    " \"'\": '',\n",
    " '③': '삼번',\n",
    " '＋': '더하기',\n",
    " '⑴': '일번',\n",
    " '√': '루트',\n",
    " 'cos': '코사인',\n",
    " 'sin': '사인',\n",
    " 'tan': '탄젠트'}"
   ]
  },
  {
   "cell_type": "code",
   "execution_count": null,
   "metadata": {},
   "outputs": [],
   "source": [
    "sample = '8.4054 입니다. 8.4053'\n",
    "p_numberdot = re.compile('(?<=\\d)[.](?=\\d)')\n",
    "p_numberdot.sub(' 점 ',sample)"
   ]
  },
  {
   "cell_type": "code",
   "execution_count": null,
   "metadata": {},
   "outputs": [],
   "source": [
    "all_EBS[:50]"
   ]
  },
  {
   "cell_type": "code",
   "execution_count": 7,
   "metadata": {},
   "outputs": [
    {
     "name": "stdout",
     "output_type": "stream",
     "text": [
      "['lec00001_STT1_Google.txt', 'lec00002_STT1_Google.txt', 'lec00003_STT1_Google.txt', 'lec00004_STT1_Google.txt', 'lec00005_STT1_Google.txt', 'lec00006_STT1_Google.txt', 'lec00007_STT1_Google.txt', 'lec00008_STT1_Google.txt', 'lec00009_STT1_Google.txt', 'lec00010_STT1_Google.txt', 'lec00011_STT1_Google.txt', 'lec00012_STT1_Google.txt', 'lec00013_STT1_Google.txt', 'lec00014_STT1_Google.txt', 'lec00015_STT1_Google.txt', 'lec00016_STT1_Google.txt', 'lec00017_STT1_Google.txt', 'lec00018_STT1_Google.txt', 'lec00019_STT1_Google.txt', 'lec00020_STT1_Google.txt', 'lec00021_STT1_Google.txt', 'lec00022_STT1_Google.txt', 'lec00023_STT1_Google.txt', 'lec00024_STT1_Google.txt', 'lec00025_STT1_Google.txt', 'lec00026_STT1_Google.txt']\n"
     ]
    }
   ],
   "source": [
    "all_google = get_STT1_Google(1,26)"
   ]
  },
  {
   "cell_type": "code",
   "execution_count": 8,
   "metadata": {},
   "outputs": [],
   "source": [
    "ebs_pos = kkma.pos(all_EBS)"
   ]
  },
  {
   "cell_type": "code",
   "execution_count": 9,
   "metadata": {},
   "outputs": [],
   "source": [
    "google_pos = kkma.pos(all_google)"
   ]
  },
  {
   "cell_type": "code",
   "execution_count": 10,
   "metadata": {},
   "outputs": [],
   "source": [
    "def selected_pos(pos_text):\n",
    "    alist = []\n",
    "    for _ in pos_text:\n",
    "        if _[1] in ['NNG','NNP','NNB','NR','NP', 'VV','VA','OL']:\n",
    "            alist.append(_[0])\n",
    "            continue\n",
    "    return alist"
   ]
  },
  {
   "cell_type": "code",
   "execution_count": 11,
   "metadata": {},
   "outputs": [],
   "source": [
    "list_EBS_pos = selected_pos(ebs_pos)\n",
    "list_google_pos = selected_pos(google_pos)"
   ]
  },
  {
   "cell_type": "code",
   "execution_count": 12,
   "metadata": {},
   "outputs": [],
   "source": [
    "sentences = [list_EBS_pos,list_google_pos]"
   ]
  },
  {
   "cell_type": "code",
   "execution_count": 13,
   "metadata": {},
   "outputs": [],
   "source": [
    "from gensim.models import Word2Vec"
   ]
  },
  {
   "cell_type": "code",
   "execution_count": null,
   "metadata": {},
   "outputs": [],
   "source": [
    "#gensim w2v\n",
    "#train model ,CBOW\n",
    "model = Word2Vec(\n",
    "    sentences, \n",
    "    size = 150,\n",
    "    min_count=1)\n",
    "print(model)"
   ]
  },
  {
   "cell_type": "code",
   "execution_count": null,
   "metadata": {},
   "outputs": [],
   "source": [
    "print(model['분수'])"
   ]
  },
  {
   "cell_type": "code",
   "execution_count": null,
   "metadata": {},
   "outputs": [],
   "source": [
    "model.wv.similar_by_word('사인',topn=5)"
   ]
  },
  {
   "cell_type": "code",
   "execution_count": 14,
   "metadata": {},
   "outputs": [
    {
     "name": "stdout",
     "output_type": "stream",
     "text": [
      "Word2Vec(vocab=2873, size=150, alpha=0.025)\n"
     ]
    }
   ],
   "source": [
    "model_skip = Word2Vec(\n",
    "    sentences, \n",
    "    size = 150,\n",
    "    min_count=1,\n",
    "    sg = 1\n",
    ")\n",
    "print(model_skip)"
   ]
  },
  {
   "cell_type": "code",
   "execution_count": 15,
   "metadata": {},
   "outputs": [
    {
     "data": {
      "text/plain": [
       "[('tan', 0.9988812804222107),\n",
       " ('cos', 0.9966633319854736),\n",
       " ('늘', 0.988133430480957),\n",
       " ('가', 0.9841101169586182),\n",
       " ('때', 0.9789323210716248),\n",
       " ('의', 0.9739584922790527),\n",
       " ('맞', 0.9727792739868164),\n",
       " ('여기', 0.964065432548523),\n",
       " ('그렇', 0.9640284776687622),\n",
       " ('그다음', 0.9611791968345642)]"
      ]
     },
     "execution_count": 15,
     "metadata": {},
     "output_type": "execute_result"
    }
   ],
   "source": [
    "model_skip.wv.similar_by_word('sin',topn=10)"
   ]
  },
  {
   "cell_type": "code",
   "execution_count": null,
   "metadata": {},
   "outputs": [],
   "source": []
  }
 ],
 "metadata": {
  "kernelspec": {
   "display_name": "Python 3",
   "language": "python",
   "name": "python3"
  },
  "language_info": {
   "codemirror_mode": {
    "name": "ipython",
    "version": 3
   },
   "file_extension": ".py",
   "mimetype": "text/x-python",
   "name": "python",
   "nbconvert_exporter": "python",
   "pygments_lexer": "ipython3",
   "version": "3.8.3"
  }
 },
 "nbformat": 4,
 "nbformat_minor": 4
}
