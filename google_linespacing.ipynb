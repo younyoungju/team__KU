{
 "cells": [
  {
   "cell_type": "markdown",
   "metadata": {},
   "source": [
    "# 1. 문장끝에 . 붙여서 나누기\n",
    "1. how to put dot at the end of the each sentence?\n",
    "    - find the the end loc of the sentence using re and put comma\n",
    "        - how do we find the loc?\n",
    "            - using pattern#\n",
    "        - how do we add the commas?\n",
    "            - working on it \n",
    "            - might be using findall, or match\n",
    "\n",
    "            "
   ]
  },
  {
   "cell_type": "code",
   "execution_count": null,
   "metadata": {},
   "outputs": [],
   "source": [
    "# !pip install soynlp\n",
    "!pip install jamo"
   ]
  },
  {
   "cell_type": "code",
   "execution_count": 1,
   "metadata": {},
   "outputs": [],
   "source": [
    "from PreProcessing.find_common_part import find_common_part\n",
    "import re\n",
    "from PreProcessing.Opentext import get_EBS\n",
    "from PreProcessing.Opentext import get_EBS_entered\n",
    "from PreProcessing.Opentext import get_STT1_Google_entered\n",
    "from PreProcessing.Opentext import get_STT1_Transcribe_entered\n",
    "from string import punctuation\n",
    "from jamo import h2j, j2hcj, j2h\n",
    "from soynlp.hangle import levenshtein\n",
    "from soynlp.hangle import jamo_levenshtein"
   ]
  },
  {
   "cell_type": "code",
   "execution_count": 2,
   "metadata": {},
   "outputs": [],
   "source": [
    "pun = re.compile('[{0}]'.format(re.escape(punctuation)))\n",
    "pat1 = re.compile(r'[‘,’]')"
   ]
  },
  {
   "cell_type": "code",
   "execution_count": 3,
   "metadata": {},
   "outputs": [
    {
     "name": "stdout",
     "output_type": "stream",
     "text": [
      "['lec00001_EBS.txt']\n"
     ]
    }
   ],
   "source": [
    "textE1 = get_EBS(1,1)\n",
    "textE1 = pun.sub(' ', textE1)\n",
    "textE1 = pat1.sub(' ', textE1)"
   ]
  },
  {
   "cell_type": "code",
   "execution_count": 4,
   "metadata": {},
   "outputs": [],
   "source": [
    "with open('data/lec00001_STT1_Google.txt','r',encoding='euc-kr') as rG:\n",
    "    textG1 = rG.read()\n",
    "    textG1 = textG1.replace('\\n','')"
   ]
  },
  {
   "cell_type": "code",
   "execution_count": null,
   "metadata": {},
   "outputs": [],
   "source": [
    "textG1"
   ]
  },
  {
   "cell_type": "code",
   "execution_count": 5,
   "metadata": {},
   "outputs": [],
   "source": [
    "def insert_dot(text, dot):\n",
    "    \n",
    "    pattern1 = re.compile(r'(ㅂㄴㅣㄷㅏ)$')   #ㅂ 니다\n",
    "    pattern2 = re.compile(r'(.ㅔ|ㅏ|ㅓ|ㅐ|ㅗ|ㅜ)(ㅇㅛ)$') # ㅔ요, ㅏ요, ㅓ요\n",
    "#     pattern3 = re.compile(r'(ㅆ)(ㅈ|ㅊ)(ㅛ)$') \n",
    "    pattern4 = re.compile(r'(ㅂ|ㅣ)(ㄴㅣㄲㅏ)$')  #ㅂ니까\n",
    "    pattern5 = re.compile(r'(ㄴㄷㅔ)$')\n",
    "    \n",
    "    text_list = []\n",
    "    \n",
    "    _1 = 0\n",
    "    _2 = 0\n",
    "    _3 = 0\n",
    "    _4 = 0\n",
    "    _5 = 0\n",
    "    _6 = 0\n",
    "    \n",
    "        \n",
    "    for _ in text.split(' '): \n",
    "        \n",
    "        new_ = j2hcj(h2j(_))\n",
    "        if pattern1.findall(new_):\n",
    "            text_list.append(_.replace(_, _+dot))\n",
    "            _1 += 1\n",
    "            \n",
    "            \n",
    "        elif pattern2.findall(new_):\n",
    "            text_list.append(_.replace(_, _+dot))\n",
    "            _2 += 1\n",
    "            #list2.append(_)\n",
    "        \n",
    "#         elif pattern3.findall(new_):\n",
    "#             text_list.append(_.replace(_, _+dot))\n",
    "#             _3 += 1\n",
    "#             list3.append(_)\n",
    "        \n",
    "        elif pattern4.findall(new_):\n",
    "            text_list.append(_.replace(_, _+dot))\n",
    "            _4 += 1\n",
    "            \n",
    "        elif pattern5.findall(new_):\n",
    "            text_list.append(_.replace(_,_+dot))\n",
    "            _5 += 1\n",
    "            \n",
    "        else:\n",
    "            text_list.append(_)\n",
    "            _6 += 1\n",
    "            #list6.append(_)\n",
    "            \n",
    "    print('pattern1 = {}, pattern2= {}, pattern3 = {}, pattern5 = {}, pattern6 = {}'.format(_1,_2,_3,_4,_5,_6)) \n",
    "    #print('pattern2 = ',list2)#'\\n','list5 = ',list5)\n",
    "    return text_list\n",
    "    "
   ]
  },
  {
   "cell_type": "code",
   "execution_count": 6,
   "metadata": {},
   "outputs": [
    {
     "name": "stdout",
     "output_type": "stream",
     "text": [
      "pattern1 = 92, pattern2= 99, pattern3 = 0, pattern5 = 54, pattern6 = 59\n"
     ]
    }
   ],
   "source": [
    "new_textE1 = ' '.join(insert_dot(textE1,'.')).split('.')"
   ]
  },
  {
   "cell_type": "code",
   "execution_count": 7,
   "metadata": {},
   "outputs": [
    {
     "name": "stdout",
     "output_type": "stream",
     "text": [
      "pattern1 = 88, pattern2= 85, pattern3 = 0, pattern5 = 39, pattern6 = 58\n"
     ]
    }
   ],
   "source": [
    "new_textG1 = ' '.join(insert_dot(textG1,'.')).split('.')"
   ]
  },
  {
   "cell_type": "code",
   "execution_count": 9,
   "metadata": {
    "scrolled": true
   },
   "outputs": [],
   "source": [
    "a = new_textE1[:15]\n"
   ]
  },
  {
   "cell_type": "code",
   "execution_count": 8,
   "metadata": {},
   "outputs": [],
   "source": [
    "b = new_textG1[:15]\n"
   ]
  },
  {
   "cell_type": "code",
   "execution_count": 64,
   "metadata": {},
   "outputs": [
    {
     "name": "stdout",
     "output_type": "stream",
     "text": [
      "EBS_sentence :  반갑습니다\n",
      "google_sentence :  반갑습니다\n",
      "EBS sentence length : 5, Google sentence length: 5\n",
      "common_part ['반갑습니다']\n",
      "levenshtein =  0\n",
      "\n",
      "EBS_sentence :    EBS 친구 여러분들  여러분들과 함께 중학뉴런수학3 하 를 강의하게 된 손석민입니다\n",
      "google_sentence :   이비에스 여러분들 여러분들과 함께 중학뉴런수학 3할을 강의하기 됨 손성민입니다\n",
      "EBS sentence length : 49, Google sentence length: 44\n",
      "common_part ['여러분들여러분들과함께중학뉴런수학3', '강의하', '민입니다']\n",
      "levenshtein =  15\n",
      "\n",
      "EBS_sentence :   2학년 뉴런을 통해서도 만났었는데요\n",
      "google_sentence :   2학년 이런을 통해서도 만났었는데\n",
      "EBS sentence length : 20, Google sentence length: 19\n",
      "common_part ['2학년', '런을통해서도만났었는데']\n",
      "levenshtein =  2\n",
      "\n",
      "EBS_sentence :    여러분들  이렇게 다시 만나게 되어서 정말 반갑습니다\n",
      "google_sentence :   여러분들 이렇게 다시 만나게 되어서 정말 반갑습니다\n",
      "EBS sentence length : 31, Google sentence length: 29\n",
      "common_part ['여러분들이렇게다시만나게되어서정말반갑습니다']\n",
      "levenshtein =  2\n",
      "\n",
      "EBS_sentence :   앞으로 3 하  과정 어떻게 진행되는지에 대해서는 여러분들께서 오리엔테이션 강의를 통해서 확인할 수 있을 거고요\n",
      "google_sentence :   앞으로 3과정 어떻게 진행되는지에 대해서는 여러분들께서 오리엔테이션 강의를 통해서 확인할 수 있을 거구요\n",
      "EBS sentence length : 63, Google sentence length: 59\n",
      "common_part ['앞으로3', '과정어떻게진행되는지에대해서는여러분들께서오리엔테이션강의를통해서확인할수있을거']\n",
      "levenshtein =  5\n",
      "\n",
      "EBS_sentence :   오리엔테이션 강의는 반드시 듣고 오셔야 여러분들이 3학년 과정이   하  과정이 특히 어떻게 수업되는지 확인할 수 있을 겁니다\n",
      "google_sentence :   오리엔테이션 강의는 반드시 듣고 오셔야 여러분들이 3학년 과정이 하마 종이접기 어떻게 수업 되는지 확인할 수 있을 겁니다\n",
      "EBS sentence length : 71, Google sentence length: 68\n",
      "common_part ['오리엔테이션강의는반드시듣고오셔야여러분들이3학년과정이하', '어떻게수업되는지확인할수있을겁니다']\n",
      "levenshtein =  9\n",
      "\n",
      "EBS_sentence :   일단 3학년 과정 같은 경우에는 크게 3개의 대단원으로 이루어져 있는데요\n",
      "google_sentence :   일단 3학년 가정 같은 경우에는 크게 세 개의대 단원으로 이루어져있는데요\n",
      "EBS sentence length : 41, Google sentence length: 41\n",
      "common_part ['일단3학년', '정같은경우에는크게', '개의대단원으로이루어져있는데요']\n",
      "levenshtein =  6\n",
      "\n",
      "EBS_sentence :    첫 번째가 삼각비라는 단원이고 두 번째가 원의 성질  세 번째가 통계  이렇게 이루어져 있습니다\n",
      "google_sentence :   첫 번째가 삼각비라는 단어 이거 두 번째가 원의 성질 세 번째가 통계 이렇게 이루어져 있습니다\n",
      "EBS sentence length : 55, Google sentence length: 53\n",
      "common_part ['첫번째가삼각비라는단', '두번째가원의성질세번째가통계이렇게이루어져있습니다']\n",
      "levenshtein =  6\n",
      "\n",
      "EBS_sentence :   우리가 1학년 하 도 마찬가지고 2학년 하 도 그래 왔듯   주로 도형에 대한 이야기가 3 하 에서 많이 다루어지는구나   라는 걸 생각하면 될 테고요\n",
      "google_sentence :   우리가 1학년 하도 마찬가지고 2학년 하도 그래왔듯 주로 도형에 대한 이야기가 3화많이 다루어 지는구나라는 걸 생각하면 될테구요\n",
      "EBS sentence length : 85, Google sentence length: 72\n",
      "common_part ['우리가1학년하도마찬가지고2학년하도그래왔듯주로도형에대한이야기가3', '많이다루어지는구나라는걸생각하면될테']\n",
      "levenshtein =  17\n",
      "\n",
      "EBS_sentence :   오늘은 그 첫 시간이니까\n",
      "google_sentence :   오늘은 그 첫 시간이니까\n",
      "EBS sentence length : 14, Google sentence length: 14\n",
      "common_part ['오늘은그첫시간이니까']\n",
      "levenshtein =  0\n",
      "\n",
      "EBS_sentence :    삼각비    삼각  알아요\n",
      "google_sentence :   삼각비 삼각 알아요\n",
      "EBS sentence length : 16, Google sentence length: 11\n",
      "common_part ['삼각비삼각알아요']\n",
      "levenshtein =  5\n",
      "\n",
      "EBS_sentence :     비  알아요\n",
      "google_sentence :   알아요\n",
      "EBS sentence length : 9, Google sentence length: 4\n",
      "common_part ['알아요']\n",
      "levenshtein =  5\n",
      "\n",
      "EBS_sentence :    근데\n",
      "google_sentence :   근데\n",
      "EBS sentence length : 4, Google sentence length: 3\n",
      "common_part ['근데']\n",
      "levenshtein =  1\n",
      "\n",
      "EBS_sentence :   이제 합쳐져 있는  삼각비 라는 새로운 용어가 나왔죠 그럼 이 개념을 공부하기에 앞서서 당연히 삼각비의 뜻부터 시작하는 것이 첫 시간입니다\n",
      "google_sentence :   이제 합쳐져 있는 삼각비라는 새로운 영화이 개념은 공부하기 앞서서 당연히 삼각비의 뜻부터 시작하는 것이 첫 시간입니다\n",
      "EBS sentence length : 78, Google sentence length: 66\n",
      "common_part ['이제합쳐져있는삼각비라는새로운', '이개념', '공부하기', '앞서서당연히삼각비의뜻부터시작하는것이첫시간입니다']\n",
      "levenshtein =  15\n",
      "\n",
      "EBS_sentence :    오늘 그 첫 시간  함께 시작해 보도록 할 텐데요\n",
      "google_sentence :   오늘도 차 시간 함께 시작해 보도록 할 텐데요\n",
      "EBS sentence length : 29, Google sentence length: 26\n",
      "common_part ['오늘', '시간함께시작해보도록할텐데요']\n",
      "levenshtein =  5\n",
      "\n"
     ]
    }
   ],
   "source": [
    "for c, d in zip(a, b):\n",
    "    print('EBS_sentence : ',c)\n",
    "    print('google_sentence : ', d)\n",
    "    print('EBS sentence length : {}, Google sentence length: {}'.format(len(c),len(d)))\n",
    "    print('common_part {}'.format(find_common_part(c, d)))\n",
    "    print('levenshtein = ', levenshtein(c,d))\n",
    "    print(\"\")"
   ]
  },
  {
   "cell_type": "code",
   "execution_count": 20,
   "metadata": {},
   "outputs": [
    {
     "data": {
      "text/plain": [
       "['가나다']"
      ]
     },
     "execution_count": 20,
     "metadata": {},
     "output_type": "execute_result"
    }
   ],
   "source": [
    "find_common_part('가나다라마', '가나다마')"
   ]
  },
  {
   "cell_type": "code",
   "execution_count": null,
   "metadata": {},
   "outputs": [],
   "source": [
    "s1 =  '차 이렇게 한번 그려보겠습니다'"
   ]
  },
  {
   "cell_type": "code",
   "execution_count": null,
   "metadata": {},
   "outputs": [],
   "source": [
    "s2 = '이렇게 이렇게 여기서부터 수선을 이렇게 커 보겠습니다'"
   ]
  },
  {
   "cell_type": "code",
   "execution_count": null,
   "metadata": {},
   "outputs": [],
   "source": [
    "levenshtein(s1, s2)"
   ]
  },
  {
   "cell_type": "code",
   "execution_count": 67,
   "metadata": {},
   "outputs": [
    {
     "data": {
      "text/plain": [
       "(271, 305)"
      ]
     },
     "execution_count": 67,
     "metadata": {},
     "output_type": "execute_result"
    }
   ],
   "source": [
    "len(new_textG1), len(new_textE1)"
   ]
  },
  {
   "cell_type": "code",
   "execution_count": 145,
   "metadata": {},
   "outputs": [],
   "source": [
    "def compare_text(EBS_text, STT_text):\n",
    "    k_list = []\n",
    "    common_text = []\n",
    "    for (k,v) in enumerate(STT_text):\n",
    "\n",
    "        while k < 1:\n",
    "            for (q,w) in enumerate(EBS_text[k:k+6]):\n",
    "                x = levenshtein(v,w)\n",
    "                if x < 15:\n",
    "#                     print('k = ',k)\n",
    "#                     print('google:{}, Ebs:{}'.format(v,w))\n",
    "#                     print(x)\n",
    "#                     print(\"\")\n",
    "                    k_list.append(k)\n",
    "            break\n",
    "\n",
    "\n",
    "        while k == 1:\n",
    "            for (q,w) in enumerate(EBS_text[k-1:k+5]):\n",
    "                x = levenshtein(v,w)\n",
    "                if x <= 15:\n",
    "#                     print('k = ',k)\n",
    "#                     print('google:{}, Ebs:{}'.format(v,w))\n",
    "#                     print(x)\n",
    "#                     print(\"\")\n",
    "                    k_list.append(k)\n",
    "            break\n",
    "        \n",
    "        while k == 2:\n",
    "            for (q,w) in enumerate(EBS_text[k-2:k+4]):\n",
    "                x = levenshtein(v,w)\n",
    "                if x <= 15:\n",
    "#                     print('k = ',k)\n",
    "#                     print('google:{}, Ebs:{}'.format(v,w))\n",
    "#                     print(x)\n",
    "#                     print(\"\")\n",
    "                    k_list.append(k)\n",
    "            break\n",
    "\n",
    "\n",
    "        while k > 2:\n",
    "            for (q,w) in enumerate(EBS_text[k-2:k+4]):\n",
    "                x = levenshtein(v,w)\n",
    "                if x < 15:\n",
    "#                     print('k = ',k)\n",
    "#                     print('google:{}, Ebs:{}'.format(v,w))\n",
    "#                     print(x)\n",
    "#                     print(\"\")\n",
    "                    k_list.append(k)\n",
    "            break\n",
    "\n",
    "    print(len(set(k_list)))\n",
    "    print(set(k_list))\n",
    "    \n",
    "        \n"
   ]
  },
  {
   "cell_type": "code",
   "execution_count": 146,
   "metadata": {},
   "outputs": [
    {
     "name": "stdout",
     "output_type": "stream",
     "text": [
      "94\n",
      "{0, 1, 2, 3, 4, 5, 6, 7, 9, 10, 11, 12, 14, 15, 16, 17, 18, 22, 23, 24, 25, 31, 34, 35, 37, 38, 39, 41, 43, 44, 45, 46, 49, 50, 51, 55, 56, 57, 58, 59, 60, 61, 62, 63, 66, 68, 69, 70, 72, 73, 74, 75, 78, 81, 82, 83, 93, 94, 95, 96, 97, 99, 100, 101, 108, 110, 114, 115, 116, 117, 118, 119, 120, 121, 123, 124, 128, 134, 154, 159, 166, 168, 170, 172, 181, 186, 210, 213, 226, 230, 237, 257, 262, 269}\n"
     ]
    }
   ],
   "source": [
    "compare_text(new_textE1, new_textG1)"
   ]
  },
  {
   "cell_type": "code",
   "execution_count": 132,
   "metadata": {},
   "outputs": [
    {
     "data": {
      "text/plain": [
       "23.247232472324722"
      ]
     },
     "execution_count": 132,
     "metadata": {},
     "output_type": "execute_result"
    }
   ],
   "source": [
    "63/len(new_textG1)*100"
   ]
  },
  {
   "cell_type": "code",
   "execution_count": null,
   "metadata": {},
   "outputs": [],
   "source": [
    "#제일 작은 levenshtein 값을 return 하는 것도 필요함\n",
    "#while q > k:"
   ]
  }
 ],
 "metadata": {
  "kernelspec": {
   "display_name": "Python 3",
   "language": "python",
   "name": "python3"
  },
  "language_info": {
   "codemirror_mode": {
    "name": "ipython",
    "version": 3
   },
   "file_extension": ".py",
   "mimetype": "text/x-python",
   "name": "python",
   "nbconvert_exporter": "python",
   "pygments_lexer": "ipython3",
   "version": "3.8.3"
  }
 },
 "nbformat": 4,
 "nbformat_minor": 4
}
