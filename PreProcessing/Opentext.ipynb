{
 "cells": [
  {
   "cell_type": "code",
   "execution_count": 5,
   "metadata": {},
   "outputs": [],
   "source": [
    "def get_EBS_entered(s, e):\n",
    "    # 파일 이름 만들기 #################################################\n",
    "    EBS_filenames = []\n",
    "    for i in range(s, e+1):\n",
    "        n = '{0:05d}'.format(i)\n",
    "        EBS_fname = 'lec' + n + '_EBS_entered.txt'\n",
    "        EBS_filenames.append(EBS_fname)\n",
    "    print(EBS_filenames)\n",
    "    ####################################################\n",
    "    \n",
    "    # 파일 불러오기 ###################################################\n",
    "    EBS_integrated = ''\n",
    "    try:\n",
    "        for _ in EBS_filenames:\n",
    "            with open('data/' + _, 'r', encoding = 'utf8') as f:\n",
    "                if EBS_filenames.index(_) == 0:\n",
    "                    EBS_integrated += f.read() \n",
    "                else:\n",
    "                    EBS_integrated += '\\n'+f.read()\n",
    "    except:\n",
    "        for _ in EBS_filenames:\n",
    "            with open('data/' + _, 'r') as f:\n",
    "                if EBS_filenames.index(_) == 0:\n",
    "                    EBS_integrated += f.read() \n",
    "                else:\n",
    "                    EBS_integrated += '\\n'+f.read()\n",
    "    ####################################################\n",
    "    \n",
    "    return EBS_integrated"
   ]
  },
  {
   "cell_type": "code",
   "execution_count": 6,
   "metadata": {},
   "outputs": [],
   "source": [
    "def get_STT1_Google_entered(s, e):\n",
    "    # 파일 이름 만들기 #################################################\n",
    "    STT_filenames = []\n",
    "    for i in range(s, e+1):\n",
    "        n = '{0:05d}'.format(i)\n",
    "        STT_fname = 'lec' + n + '_STT1_Google_entered.txt'\n",
    "        STT_filenames.append(STT_fname)\n",
    "    print(STT_filenames)\n",
    "    ####################################################\n",
    "    \n",
    "    # 파일 불러오기 ###################################################\n",
    "    STT_integrated = ''\n",
    "    \n",
    "    try:\n",
    "        for _ in STT_filenames:\n",
    "            with open('data/' + _, 'r', encoding = 'utf8') as f:\n",
    "                if STT_filenames.index(_) == 0:\n",
    "                    STT_integrated += f.read() \n",
    "                else:\n",
    "                    STT_integrated += '\\n'+f.read()\n",
    "    except:\n",
    "        for _ in STT_filenames:\n",
    "            with open('data/' + _, 'r') as f:\n",
    "                if STT_filenames.index(_) == 0:\n",
    "                    STT_integrated += f.read() \n",
    "                else:\n",
    "                    STT_integrated += '\\n'+f.read()   \n",
    "    ####################################################\n",
    "    \n",
    "    return STT_integrated"
   ]
  },
  {
   "cell_type": "code",
   "execution_count": 7,
   "metadata": {},
   "outputs": [],
   "source": [
    "def get_STT1_Transcribe_entered(s, e):\n",
    "    # 파일 이름 만들기 #################################################\n",
    "    STT_filenames = []\n",
    "    for i in range(s, e+1):\n",
    "        n = '{0:05d}'.format(i)\n",
    "        STT_fname = 'lec' + n + '_STT1_Transcribe_entered.txt'\n",
    "        STT_filenames.append(STT_fname)\n",
    "    print(STT_filenames)\n",
    "    ####################################################\n",
    "    \n",
    "    # 파일 불러오기 ###################################################\n",
    "    STT_integrated = ''\n",
    "    \n",
    "    try:\n",
    "        for _ in STT_filenames:\n",
    "            with open('data/' + _, 'r', encoding = 'utf8') as f:\n",
    "                if STT_filenames.index(_) == 0:\n",
    "                    STT_integrated += f.read() \n",
    "                else:\n",
    "                    STT_integrated += '\\n'+f.read()\n",
    "    except:\n",
    "        for _ in STT_filenames:\n",
    "            with open('data/' + _, 'r') as f:\n",
    "                if STT_filenames.index(_) == 0:\n",
    "                    STT_integrated += f.read() \n",
    "                else:\n",
    "                    STT_integrated += '\\n'+f.read()\n",
    "    ####################################################\n",
    "    \n",
    "    return STT_integrated"
   ]
  },
  {
   "cell_type": "code",
   "execution_count": 1,
   "metadata": {},
   "outputs": [],
   "source": [
    "def get_EBS(s, e):\n",
    "    # 파일 이름 만들기 #################################################\n",
    "    EBS_filenames = []\n",
    "    for i in range(s, e+1):\n",
    "        n = '{0:05d}'.format(i)\n",
    "        EBS_fname = 'lec' + n + '_EBS.txt'\n",
    "        EBS_filenames.append(EBS_fname)\n",
    "    print(EBS_filenames)\n",
    "    ####################################################\n",
    "    \n",
    "    # 파일 불러오기 ###################################################\n",
    "    EBS_integrated = ''\n",
    "    try:\n",
    "        for _ in EBS_filenames:\n",
    "            with open('data/' + _, 'r', encoding = 'utf8') as f:\n",
    "                if EBS_filenames.index(_) == 0:\n",
    "                    EBS_integrated += f.read() \n",
    "                else:\n",
    "                    EBS_integrated += '\\n'+f.read()\n",
    "    except:\n",
    "        for _ in EBS_filenames:\n",
    "            with open('data/' + _, 'r') as f:\n",
    "                if EBS_filenames.index(_) == 0:\n",
    "                    EBS_integrated += f.read() \n",
    "                else:\n",
    "                    EBS_integrated += '\\n'+f.read()\n",
    "    ####################################################\n",
    "    \n",
    "    return EBS_integrated"
   ]
  },
  {
   "cell_type": "code",
   "execution_count": 2,
   "metadata": {},
   "outputs": [
    {
     "name": "stdout",
     "output_type": "stream",
     "text": [
      "['lec00001_EBS.txt', 'lec00002_EBS.txt', 'lec00003_EBS.txt', 'lec00004_EBS.txt', 'lec00005_EBS.txt', 'lec00006_EBS.txt', 'lec00007_EBS.txt', 'lec00008_EBS.txt', 'lec00009_EBS.txt', 'lec00010_EBS.txt', 'lec00011_EBS.txt', 'lec00012_EBS.txt', 'lec00013_EBS.txt', 'lec00014_EBS.txt', 'lec00015_EBS.txt', 'lec00016_EBS.txt', 'lec00017_EBS.txt', 'lec00018_EBS.txt', 'lec00019_EBS.txt', 'lec00020_EBS.txt', 'lec00021_EBS.txt', 'lec00022_EBS.txt', 'lec00023_EBS.txt', 'lec00024_EBS.txt', 'lec00025_EBS.txt', 'lec00026_EBS.txt']\n"
     ]
    },
    {
     "ename": "FileNotFoundError",
     "evalue": "[Errno 2] No such file or directory: 'data/lec00001_EBS.txt'",
     "output_type": "error",
     "traceback": [
      "\u001b[1;31m---------------------------------------------------------------------------\u001b[0m",
      "\u001b[1;31mFileNotFoundError\u001b[0m                         Traceback (most recent call last)",
      "\u001b[1;32m<ipython-input-1-28f7eacaa958>\u001b[0m in \u001b[0;36mget_EBS\u001b[1;34m(s, e)\u001b[0m\n\u001b[0;32m     14\u001b[0m         \u001b[1;32mfor\u001b[0m \u001b[0m_\u001b[0m \u001b[1;32min\u001b[0m \u001b[0mEBS_filenames\u001b[0m\u001b[1;33m:\u001b[0m\u001b[1;33m\u001b[0m\u001b[1;33m\u001b[0m\u001b[0m\n\u001b[1;32m---> 15\u001b[1;33m             \u001b[1;32mwith\u001b[0m \u001b[0mopen\u001b[0m\u001b[1;33m(\u001b[0m\u001b[1;34m'data/'\u001b[0m \u001b[1;33m+\u001b[0m \u001b[0m_\u001b[0m\u001b[1;33m,\u001b[0m \u001b[1;34m'r'\u001b[0m\u001b[1;33m,\u001b[0m \u001b[0mencoding\u001b[0m \u001b[1;33m=\u001b[0m \u001b[1;34m'utf8'\u001b[0m\u001b[1;33m)\u001b[0m \u001b[1;32mas\u001b[0m \u001b[0mf\u001b[0m\u001b[1;33m:\u001b[0m\u001b[1;33m\u001b[0m\u001b[1;33m\u001b[0m\u001b[0m\n\u001b[0m\u001b[0;32m     16\u001b[0m                 \u001b[1;32mif\u001b[0m \u001b[0mEBS_filenames\u001b[0m\u001b[1;33m.\u001b[0m\u001b[0mindex\u001b[0m\u001b[1;33m(\u001b[0m\u001b[0m_\u001b[0m\u001b[1;33m)\u001b[0m \u001b[1;33m==\u001b[0m \u001b[1;36m0\u001b[0m\u001b[1;33m:\u001b[0m\u001b[1;33m\u001b[0m\u001b[1;33m\u001b[0m\u001b[0m\n",
      "\u001b[1;31mFileNotFoundError\u001b[0m: [Errno 2] No such file or directory: 'data/lec00001_EBS.txt'",
      "\nDuring handling of the above exception, another exception occurred:\n",
      "\u001b[1;31mFileNotFoundError\u001b[0m                         Traceback (most recent call last)",
      "\u001b[1;32m<ipython-input-2-1313d934c7e4>\u001b[0m in \u001b[0;36m<module>\u001b[1;34m\u001b[0m\n\u001b[1;32m----> 1\u001b[1;33m \u001b[0mget_EBS\u001b[0m\u001b[1;33m(\u001b[0m\u001b[1;36m1\u001b[0m\u001b[1;33m,\u001b[0m\u001b[1;36m26\u001b[0m\u001b[1;33m)\u001b[0m\u001b[1;33m\u001b[0m\u001b[1;33m\u001b[0m\u001b[0m\n\u001b[0m",
      "\u001b[1;32m<ipython-input-1-28f7eacaa958>\u001b[0m in \u001b[0;36mget_EBS\u001b[1;34m(s, e)\u001b[0m\n\u001b[0;32m     20\u001b[0m     \u001b[1;32mexcept\u001b[0m\u001b[1;33m:\u001b[0m\u001b[1;33m\u001b[0m\u001b[1;33m\u001b[0m\u001b[0m\n\u001b[0;32m     21\u001b[0m         \u001b[1;32mfor\u001b[0m \u001b[0m_\u001b[0m \u001b[1;32min\u001b[0m \u001b[0mEBS_filenames\u001b[0m\u001b[1;33m:\u001b[0m\u001b[1;33m\u001b[0m\u001b[1;33m\u001b[0m\u001b[0m\n\u001b[1;32m---> 22\u001b[1;33m             \u001b[1;32mwith\u001b[0m \u001b[0mopen\u001b[0m\u001b[1;33m(\u001b[0m\u001b[1;34m'data/'\u001b[0m \u001b[1;33m+\u001b[0m \u001b[0m_\u001b[0m\u001b[1;33m,\u001b[0m \u001b[1;34m'r'\u001b[0m\u001b[1;33m)\u001b[0m \u001b[1;32mas\u001b[0m \u001b[0mf\u001b[0m\u001b[1;33m:\u001b[0m\u001b[1;33m\u001b[0m\u001b[1;33m\u001b[0m\u001b[0m\n\u001b[0m\u001b[0;32m     23\u001b[0m                 \u001b[1;32mif\u001b[0m \u001b[0mEBS_filenames\u001b[0m\u001b[1;33m.\u001b[0m\u001b[0mindex\u001b[0m\u001b[1;33m(\u001b[0m\u001b[0m_\u001b[0m\u001b[1;33m)\u001b[0m \u001b[1;33m==\u001b[0m \u001b[1;36m0\u001b[0m\u001b[1;33m:\u001b[0m\u001b[1;33m\u001b[0m\u001b[1;33m\u001b[0m\u001b[0m\n\u001b[0;32m     24\u001b[0m                     \u001b[0mEBS_integrated\u001b[0m \u001b[1;33m+=\u001b[0m \u001b[0mf\u001b[0m\u001b[1;33m.\u001b[0m\u001b[0mread\u001b[0m\u001b[1;33m(\u001b[0m\u001b[1;33m)\u001b[0m\u001b[1;33m\u001b[0m\u001b[1;33m\u001b[0m\u001b[0m\n",
      "\u001b[1;31mFileNotFoundError\u001b[0m: [Errno 2] No such file or directory: 'data/lec00001_EBS.txt'"
     ]
    }
   ],
   "source": [
    "get_EBS(1,26)"
   ]
  },
  {
   "cell_type": "code",
   "execution_count": null,
   "metadata": {},
   "outputs": [],
   "source": []
  }
 ],
 "metadata": {
  "kernelspec": {
   "display_name": "Python 3",
   "language": "python",
   "name": "python3"
  },
  "language_info": {
   "codemirror_mode": {
    "name": "ipython",
    "version": 3
   },
   "file_extension": ".py",
   "mimetype": "text/x-python",
   "name": "python",
   "nbconvert_exporter": "python",
   "pygments_lexer": "ipython3",
   "version": "3.7.6"
  }
 },
 "nbformat": 4,
 "nbformat_minor": 4
}
