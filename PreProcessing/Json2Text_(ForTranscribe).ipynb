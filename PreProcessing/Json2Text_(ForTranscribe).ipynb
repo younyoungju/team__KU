{
 "cells": [
  {
   "cell_type": "code",
   "execution_count": 5,
   "metadata": {},
   "outputs": [],
   "source": [
    "import json"
   ]
  },
  {
   "cell_type": "code",
   "execution_count": 6,
   "metadata": {},
   "outputs": [],
   "source": [
    "def getText_json(FileDir):\n",
    "    with open(FileDir, encoding='utf-8') as f:\n",
    "        data = json.load(f)\n",
    "    return data['results']['transcripts'][0]['transcript']"
   ]
  },
  {
   "cell_type": "code",
   "execution_count": 7,
   "metadata": {},
   "outputs": [],
   "source": [
    "def text_save(s, e, d):\n",
    "    jsons = []\n",
    "    for i in range(s, e+1):\n",
    "        n = '{0:05d}'.format(i)\n",
    "        lec = 'lec' + n + '.json'\n",
    "        jsons.append(lec)\n",
    "    for _ in jsons:\n",
    "        text = getText_json(d+_)\n",
    "        save_name = _[-31:-5]+'_STT1_Transcribe'\n",
    "        print(save_name)\n",
    "        f = open(save_name+'.txt', mode='wt', encoding='utf-8')\n",
    "        f.write(text)\n",
    "        f.close()"
   ]
  },
  {
   "cell_type": "code",
   "execution_count": 8,
   "metadata": {},
   "outputs": [
    {
     "name": "stdout",
     "output_type": "stream",
     "text": [
      "lec00016_STT1_Transcribe\n",
      "lec00017_STT1_Transcribe\n",
      "lec00018_STT1_Transcribe\n",
      "lec00019_STT1_Transcribe\n",
      "lec00020_STT1_Transcribe\n",
      "lec00021_STT1_Transcribe\n",
      "lec00022_STT1_Transcribe\n",
      "lec00023_STT1_Transcribe\n",
      "lec00024_STT1_Transcribe\n",
      "lec00025_STT1_Transcribe\n",
      "lec00026_STT1_Transcribe\n"
     ]
    }
   ],
   "source": [
    "# json파일 저장돼있는 경로 설정\n",
    "# 파일 이름은 lec00035처럼 되어있어야함\n",
    "# 예를들어 lec00012 ~ lec00036까지 변환하고 싶다면,\n",
    "# text_save(12, 36, r'C:\\\\Users\\\\KYEONGCHAN LEE\\\\Downloads\\\\')\n",
    "\n",
    "text_save(16, 26,  r'C:\\\\Users\\\\KYEONGCHAN LEE\\\\Downloads\\\\')"
   ]
  },
  {
   "cell_type": "code",
   "execution_count": null,
   "metadata": {},
   "outputs": [],
   "source": []
  }
 ],
 "metadata": {
  "kernelspec": {
   "display_name": "Python 3",
   "language": "python",
   "name": "python3"
  },
  "language_info": {
   "codemirror_mode": {
    "name": "ipython",
    "version": 3
   },
   "file_extension": ".py",
   "mimetype": "text/x-python",
   "name": "python",
   "nbconvert_exporter": "python",
   "pygments_lexer": "ipython3",
   "version": "3.7.6"
  }
 },
 "nbformat": 4,
 "nbformat_minor": 4
}
