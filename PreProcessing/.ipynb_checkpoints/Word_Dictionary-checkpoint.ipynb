{
 "cells": [
  {
   "cell_type": "code",
   "execution_count": 1,
   "metadata": {},
   "outputs": [],
   "source": [
    "import sqlite3"
   ]
  },
  {
   "cell_type": "code",
   "execution_count": 13,
   "metadata": {},
   "outputs": [],
   "source": [
    "conn = sqlite3.connect(\"word_dic.db\") #db 생성\n",
    "cur = conn.cursor() #db 연결"
   ]
  },
  {
   "cell_type": "code",
   "execution_count": 22,
   "metadata": {},
   "outputs": [
    {
     "data": {
      "text/plain": [
       "<sqlite3.Cursor at 0x20b411cfe30>"
      ]
     },
     "execution_count": 22,
     "metadata": {},
     "output_type": "execute_result"
    }
   ],
   "source": [
    "# 테이블 생성 (이미 만들어져있으면 버리고 다시 생성)\n",
    "conn.execute('DROP TABLE IF EXISTS  word;')\n",
    "conn.execute(\"CREATE TABLE word(wrong TEXT, correct TEXT, prev1 TEXT DEFALUT 'no value', prev2 TEXT DEFALUT 'no value', next1 TEXT DEFALUT 'no value', next2 TEXT DEFALUT 'no value')\")"
   ]
  },
  {
   "cell_type": "code",
   "execution_count": 23,
   "metadata": {},
   "outputs": [],
   "source": [
    "#저장할 앞뒤 단어가 있을 때\n",
    "cur.executemany(\n",
    "    'INSERT INTO word VALUES (?,?,?,?,?,?)',\n",
    "    [('a1','b1','c1','d1','e1','f1'),\n",
    "     ('a2','b2','c2','d2','e2','f2'),\n",
    "     ('a3','b3','c3','d3','e3','f3')\n",
    "    ]\n",
    ")\n",
    "conn.commit() #위 내용 실제 db에 적용"
   ]
  },
  {
   "cell_type": "code",
   "execution_count": 25,
   "metadata": {},
   "outputs": [],
   "source": [
    "#저장할 앞 뒤 단어가 없을 때\n",
    "cur.executemany(\n",
    "    'INSERT INTO word (wrong,correct) VALUES(?,?)',\n",
    "    [('사과','배'),\n",
    "    ('이거','저거')]\n",
    ")\n",
    "conn.commit() #위 내용 실제 db에 적용"
   ]
  },
  {
   "cell_type": "code",
   "execution_count": 26,
   "metadata": {
    "scrolled": true
   },
   "outputs": [
    {
     "name": "stdout",
     "output_type": "stream",
     "text": [
      "('a1', 'b1', 'c1', 'd1', 'e1', 'f1')\n",
      "('a2', 'b2', 'c2', 'd2', 'e2', 'f2')\n",
      "('a3', 'b3', 'c3', 'd3', 'e3', 'f3')\n",
      "('사과', '배', None, None, None, None)\n",
      "('이거', '저거', None, None, None, None)\n"
     ]
    }
   ],
   "source": [
    "# 입력값 확인\n",
    "cur.execute(\"SELECT * FROM word\")\n",
    "rows = cur.fetchall()\n",
    "for row in rows:\n",
    "    print (row)"
   ]
  },
  {
   "cell_type": "code",
   "execution_count": 27,
   "metadata": {
    "scrolled": true
   },
   "outputs": [
    {
     "data": {
      "text/html": [
       "<div>\n",
       "<style scoped>\n",
       "    .dataframe tbody tr th:only-of-type {\n",
       "        vertical-align: middle;\n",
       "    }\n",
       "\n",
       "    .dataframe tbody tr th {\n",
       "        vertical-align: top;\n",
       "    }\n",
       "\n",
       "    .dataframe thead th {\n",
       "        text-align: right;\n",
       "    }\n",
       "</style>\n",
       "<table border=\"1\" class=\"dataframe\">\n",
       "  <thead>\n",
       "    <tr style=\"text-align: right;\">\n",
       "      <th></th>\n",
       "      <th>wrong</th>\n",
       "      <th>correct</th>\n",
       "      <th>prev1</th>\n",
       "      <th>prev2</th>\n",
       "      <th>next1</th>\n",
       "      <th>next2</th>\n",
       "    </tr>\n",
       "  </thead>\n",
       "  <tbody>\n",
       "    <tr>\n",
       "      <th>0</th>\n",
       "      <td>a1</td>\n",
       "      <td>b1</td>\n",
       "      <td>c1</td>\n",
       "      <td>d1</td>\n",
       "      <td>e1</td>\n",
       "      <td>f1</td>\n",
       "    </tr>\n",
       "    <tr>\n",
       "      <th>1</th>\n",
       "      <td>a2</td>\n",
       "      <td>b2</td>\n",
       "      <td>c2</td>\n",
       "      <td>d2</td>\n",
       "      <td>e2</td>\n",
       "      <td>f2</td>\n",
       "    </tr>\n",
       "    <tr>\n",
       "      <th>2</th>\n",
       "      <td>a3</td>\n",
       "      <td>b3</td>\n",
       "      <td>c3</td>\n",
       "      <td>d3</td>\n",
       "      <td>e3</td>\n",
       "      <td>f3</td>\n",
       "    </tr>\n",
       "    <tr>\n",
       "      <th>3</th>\n",
       "      <td>사과</td>\n",
       "      <td>배</td>\n",
       "      <td>None</td>\n",
       "      <td>None</td>\n",
       "      <td>None</td>\n",
       "      <td>None</td>\n",
       "    </tr>\n",
       "    <tr>\n",
       "      <th>4</th>\n",
       "      <td>이거</td>\n",
       "      <td>저거</td>\n",
       "      <td>None</td>\n",
       "      <td>None</td>\n",
       "      <td>None</td>\n",
       "      <td>None</td>\n",
       "    </tr>\n",
       "  </tbody>\n",
       "</table>\n",
       "</div>"
      ],
      "text/plain": [
       "  wrong correct prev1 prev2 next1 next2\n",
       "0    a1      b1    c1    d1    e1    f1\n",
       "1    a2      b2    c2    d2    e2    f2\n",
       "2    a3      b3    c3    d3    e3    f3\n",
       "3    사과       배  None  None  None  None\n",
       "4    이거      저거  None  None  None  None"
      ]
     },
     "execution_count": 27,
     "metadata": {},
     "output_type": "execute_result"
    }
   ],
   "source": [
    "#dataframe으로 확인하기\n",
    "import pandas as pd\n",
    "conn = sqlite3.connect(\"word_dic.db\")\n",
    "cur= conn.cursor()\n",
    "cur.execute(\"SELECT * FROM word\")\n",
    "\n",
    "rows= cur.fetchall()\n",
    "\n",
    "cols = [column[0] for column in cur.description]\n",
    "data_df = pd.DataFrame.from_records(data=rows, columns=cols)\n",
    "\n",
    "data_df"
   ]
  },
  {
   "cell_type": "code",
   "execution_count": 31,
   "metadata": {},
   "outputs": [
    {
     "data": {
      "text/plain": [
       "0    a1\n",
       "1    a2\n",
       "2    a3\n",
       "3    사과\n",
       "4    이거\n",
       "Name: wrong, dtype: object"
      ]
     },
     "execution_count": 31,
     "metadata": {},
     "output_type": "execute_result"
    }
   ],
   "source": [
    "data_df['wrong']"
   ]
  },
  {
   "cell_type": "code",
   "execution_count": null,
   "metadata": {},
   "outputs": [],
   "source": [
    "conn.close() #db연결을 닫음"
   ]
  }
 ],
 "metadata": {
  "kernelspec": {
   "display_name": "Python 3",
   "language": "python",
   "name": "python3"
  },
  "language_info": {
   "codemirror_mode": {
    "name": "ipython",
    "version": 3
   },
   "file_extension": ".py",
   "mimetype": "text/x-python",
   "name": "python",
   "nbconvert_exporter": "python",
   "pygments_lexer": "ipython3",
   "version": "3.8.3"
  }
 },
 "nbformat": 4,
 "nbformat_minor": 4
}
