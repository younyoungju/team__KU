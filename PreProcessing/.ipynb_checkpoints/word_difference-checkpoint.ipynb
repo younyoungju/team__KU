{
 "cells": [
  {
   "cell_type": "code",
   "execution_count": 1,
   "metadata": {},
   "outputs": [],
   "source": [
    "ebs = '''\n",
    "반갑습니다, EBS 친구 여러분들. 여러분들과 함께 중학뉴런수학3(하)를 강의하게 된 손석민입니다.\n",
    "2학년 뉴런을 통해서도 만났었는데요.\n",
    "여러분들, 이렇게 다시 만나게 되어서 정말 반갑습니다.\n",
    "앞으로 3(하) 과정 어떻게 진행되는지에 대해서는 여러분들께서 오리엔테이션 강의를 통해서 확인할 수 있을 거고요.\n",
    "오리엔테이션 강의는 반드시 듣고 오셔야 여러분들이 3학년 과정이, (하) 과정이 특히 어떻게 수업되는지 확인할 수 있을 겁니다.\n",
    "일단 3학년 과정 같은 경우에는 크게 3개의 대단원으로 이루어져 있는데요. \n",
    "첫 번째가 삼각비라는 단원이고 두 번째가 원의 성질, 세 번째가 통계. 이렇게 이루어져 있습니다.\n",
    "우리가 1학년(하)도 마찬가지고 2학년(하)도 그래 왔듯, ‘주로 도형에 대한 이야기가 3(하)에서 많이 다루어지는구나.’ 라는 걸 생각하면 될 테고요.\n",
    "오늘은 그 첫 시간이니까 ‘삼각비.’ ‘삼각’ 알아요. ‘비’ 알아요. \n",
    "근데 이제 합쳐져 있는 ‘삼각비’라는 새로운 용어가 나왔죠.\n",
    "그럼 이 개념을 공부하기에 앞서서 당연히 삼각비의 뜻부터 시작하는 것이 첫 시간입니다.\n",
    "오늘 그 첫 시간, 함께 시작해 보도록 할 텐데요. 중학교 3학년 수학! 손샘과 끝냅시다!\n",
    "오늘 공부할 내용, 바로 두 가지 개념인데요. 오늘 두 가지 개념 첫 번째 제목이 굉장히 길어요. \n",
    "'''"
   ]
  },
  {
   "cell_type": "code",
   "execution_count": 2,
   "metadata": {},
   "outputs": [],
   "source": [
    "amazon = '''\n",
    "반갑습니다. WITH 여러분들 여러분들과 함께 중학 유럽 수학 삼 하를 강행하기 된 분석입니다. 사. \n",
    "이 학년 늘어 를 통해서도 만났는데요. \n",
    "여러분들 이렇게 다시 만나게 되어서 정말 반갑습니다. \n",
    "앞으로 삼 하 과정 어떻게 진행되는지 에 대해서는 여러분들께서 오리엔테이션 강의를 통해서 확인할 수 있을 거고요.\n",
    "오리엔테이션 강의는 반드시 듣고 옷 여야 여러분들이 삼 학년 과정의 한 가정의 특히 어떻게 수업 되는지 확인할 수 있을 겁니다. \n",
    "기자 \n",
    "일단 삼 학년 과정 같은 경우에는 크게 세계의 대단원의 으로 이뤄져 있는데요.\n",
    "첫번째가 삼각 이라는 단원고 두 번째가 원에 성질, 세 번째가 통계 이렇게 이뤄져 있습니다. \n",
    "우리가 일 학년 하도 마찬가지고 이 학년 하도 그랬듯 주로 도용에 대한 이야기가 삼 하에서 많이 다뤄지는 구나 라는 걸 생각하면 될 테고요.\n",
    "오늘은 그 첫 시간이 이니까 삼 갑 의 삼각 알아요 이 알아요. \n",
    "합쳐져 있는 삼각 이라는 새로운 용어가 나왔죠. \n",
    "이 개념을 공부하게 앞서 당연히 삼각 비 듯 부터 시작하는 것이 첫 시간입니다. \n",
    "오늘 사 시간 함께 시작해 보도록 할 텐데요. 중학교 삼, 학년 수학 선생과 끝납니다. \n",
    "오늘 공부할 내용, 바로 두 가지 개념 인데요. 아! 오늘 두 가지 기념 첫 번째 제복이 굉장히 길어야 \n",
    "'''"
   ]
  },
  {
   "cell_type": "code",
   "execution_count": 3,
   "metadata": {},
   "outputs": [],
   "source": [
    "google = '''\n",
    "반갑습니다. 이비에스 여러분들 여러분들과 함께 중학뉴런수학 3할을 강의하기 됨 손성민입니다 \n",
    "2학년 이런을 통해서도 만났었는데 \n",
    "여러분들 이렇게 다시 만나게 되어서 정말 반갑습니다 \n",
    "앞으로 3과정 어떻게 진행되는지에 대해서는 여러분들께서 오리엔테이션 강의를 통해서 확인할 수 있을 거구요\n",
    "오리엔테이션 강의는 반드시 듣고 오셔야 여러분들이 3학년 과정이 하마 종이접기 어떻게 수업 되는지 확인할 수 있을 겁니다 \n",
    "일단 3학년 가정 같은 경우에는 크게 세 개의대 단원으로 이루어져있는데요 \n",
    "첫 번째가 삼각비라는 단어 이거 두 번째가 원의 성질 세 번째가 통계 이렇게 이루어져 있습니다 \n",
    "우리가 1학년 하도 마찬가지고 2학년 하도 그래왔듯 주로 도형에 대한 이야기가 3화 많이 다루어 지는구나라는 걸 생각하면 될테구요 \n",
    "오늘은 그 첫 시간이니까 삼각비 삼각 알아요 알아요 \n",
    "근데 이제 합쳐져 있는 삼각비라는 새로운 영화\n",
    "이 개념은 공부하기 앞서서 당연히 삼각비의 뜻부터 시작하는 것이 첫 시간입니다 \n",
    "오늘도 차 시간 함께 시작해 보도록 할 텐데요 중학교 3학년 수학 거 끝냈어\n",
    "오늘 공부한 내용은 바로 두 가지 개념인데요 자 오늘 두 가지 그냥 첫 번째 제목이 굉장히 길어요 \n",
    "'''"
   ]
  },
  {
   "cell_type": "code",
   "execution_count": 4,
   "metadata": {},
   "outputs": [],
   "source": [
    "microsoft = '''\n",
    "반갑습니다 있으며 여러분들 여러분들과 함께 중학 뉴런 수학 삼 할을 강행하게된 손성민 입니다\n",
    "자 2학년 이런 을 통해서도 만나 썼는데요\n",
    "여러분들 이렇게 다시 만나게 되어서 정말 반갑습니다\n",
    "자 프로 삼 와 과정 어떻게 진행되는지 에 대해서는 여러분들께서 오리엔테이션 강의를 통해서 확인할 수 있을거구요\n",
    "오리엔테이션 강의 는 반드시 듣고 오셔야 여러분들이 3학년 과정이 화과정이 특히 어떻게 수업 되는지 확인할 수 있을 겁니다\n",
    "일단 3학년 과정 같은 경우에는 크게 세계의 대 단원으로 이루어져 있는데요\n",
    "첫 번째가 삼각비 라는 단어도 두번째가 원의 성질 세번째가 통계 이렇게 이루어져 있습니다\n",
    "우리가 일학년 하도 마찬가지고 2학년 하도 그래 왔듯 주로 도형에 대한 이야기가 삼 ha 에서 많이 다루어지는 구나 라는 걸 생각하면 될 테구요\n",
    "자 오늘은 그 첫 시간이니까 삼가 p 삼각 알아요 B 알아요\n",
    "근데 합쳐져 있는 삼각비 라는 새로운 용어가 나왔죠\n",
    "그럼 이 개념을 공부하게 앞서서 당연히 삼각비 뜻 부터 시작하는 것이 첫 시간입니다\n",
    "오늘 첫 시간 함께 시작해 보도록 할 텐데요 자, 중학교 3학년 수학 선생님과 끝냅시다\n",
    "자 오늘 공부할 내용, 바로 두 가지 개념인데요 오늘 두 가지 개념 첫번째 제목이 굉장히 길어요\n",
    "'''"
   ]
  },
  {
   "cell_type": "markdown",
   "metadata": {},
   "source": [
    "#set로 만듦\n",
    "import re\n",
    "set_ebs = set(re.split('[ \\n]',ebs))\n",
    "set_google = set(re.split('[ \\n]',google))\n",
    "set_amazon = set(re.split('[ \\n]',amazon))\n",
    "\n",
    "#ebs - (ebs 교집합 google)\n",
    "set_ebs.difference(set_google)\n",
    "set_ebs.intersection(set_google)"
   ]
  },
  {
   "cell_type": "code",
   "execution_count": 5,
   "metadata": {},
   "outputs": [],
   "source": [
    "#list로 만듦 - 각각을 공백과 개행을 기준으로 분리하여 리스트로 저장\n",
    "ebs_word = ebs.split()\n",
    "google_word = google.split()\n",
    "amazon_word = amazon.split()\n",
    "microsoft_word = microsoft.split()"
   ]
  },
  {
   "cell_type": "code",
   "execution_count": 24,
   "metadata": {},
   "outputs": [
    {
     "data": {
      "text/plain": [
       "80"
      ]
     },
     "execution_count": 24,
     "metadata": {},
     "output_type": "execute_result"
    }
   ],
   "source": [
    "# A inter B inter C : 찐 정답\n",
    "correct = []\n",
    "for i in google_word:\n",
    "    if i in amazon_word and i in microsoft_word:\n",
    "        correct.append(i)\n",
    "len(correct)"
   ]
  },
  {
   "cell_type": "code",
   "execution_count": 19,
   "metadata": {},
   "outputs": [
    {
     "data": {
      "text/plain": [
       "['이비에스',\n",
       " '중학뉴런수학',\n",
       " '3할을',\n",
       " '강의하기',\n",
       " '됨',\n",
       " '손성민입니다',\n",
       " '이런을',\n",
       " '만났었는데',\n",
       " '3과정',\n",
       " '진행되는지에',\n",
       " '거구요',\n",
       " '하마',\n",
       " '종이접기',\n",
       " '가정',\n",
       " '개의대',\n",
       " '이루어져있는데요',\n",
       " '삼각비라는',\n",
       " '단어',\n",
       " '이거',\n",
       " '1학년',\n",
       " '그래왔듯',\n",
       " '3화',\n",
       " '다루어',\n",
       " '지는구나라는',\n",
       " '될테구요',\n",
       " '이제',\n",
       " '삼각비라는',\n",
       " '영화',\n",
       " '개념은',\n",
       " '공부하기',\n",
       " '삼각비의',\n",
       " '뜻부터',\n",
       " '오늘도',\n",
       " '차',\n",
       " '거',\n",
       " '끝냈어',\n",
       " '공부한',\n",
       " '내용은',\n",
       " '그냥']"
      ]
     },
     "execution_count": 19,
     "metadata": {},
     "output_type": "execute_result"
    }
   ],
   "source": [
    "# google - (amazon and microsoft) : 찐 구글\n",
    "google_itself = []\n",
    "for i in google_word:\n",
    "    if i not in amazon_word and i not in microsoft_word:\n",
    "        google_itself.append(i)\n",
    "google_itself"
   ]
  },
  {
   "cell_type": "code",
   "execution_count": 20,
   "metadata": {},
   "outputs": [
    {
     "data": {
      "text/plain": [
       "['여러분들',\n",
       " '여러분들과',\n",
       " '함께',\n",
       " '중학',\n",
       " '수학',\n",
       " '삼',\n",
       " '이',\n",
       " '통해서도',\n",
       " '여러분들',\n",
       " '이렇게',\n",
       " '다시',\n",
       " '만나게',\n",
       " '되어서',\n",
       " '정말',\n",
       " '삼',\n",
       " '과정',\n",
       " '어떻게',\n",
       " '진행되는지',\n",
       " '에',\n",
       " '대해서는',\n",
       " '여러분들께서',\n",
       " '오리엔테이션',\n",
       " '강의를',\n",
       " '통해서',\n",
       " '확인할',\n",
       " '수',\n",
       " '있을',\n",
       " '오리엔테이션',\n",
       " '반드시',\n",
       " '듣고',\n",
       " '여러분들이',\n",
       " '삼',\n",
       " '특히',\n",
       " '어떻게',\n",
       " '수업',\n",
       " '되는지',\n",
       " '확인할',\n",
       " '수',\n",
       " '있을',\n",
       " '일단',\n",
       " '삼',\n",
       " '과정',\n",
       " '같은',\n",
       " '경우에는',\n",
       " '크게',\n",
       " '세계의',\n",
       " '삼각',\n",
       " '두',\n",
       " '번째가',\n",
       " '번째가',\n",
       " '통계',\n",
       " '이렇게',\n",
       " '우리가',\n",
       " '하도',\n",
       " '마찬가지고',\n",
       " '이',\n",
       " '하도',\n",
       " '주로',\n",
       " '대한',\n",
       " '이야기가',\n",
       " '삼',\n",
       " '많이',\n",
       " '구나',\n",
       " '라는',\n",
       " '걸',\n",
       " '생각하면',\n",
       " '될',\n",
       " '오늘은',\n",
       " '그',\n",
       " '첫',\n",
       " '삼',\n",
       " '삼각',\n",
       " '알아요',\n",
       " '이',\n",
       " '합쳐져',\n",
       " '있는',\n",
       " '삼각',\n",
       " '새로운',\n",
       " '용어가',\n",
       " '이',\n",
       " '개념을',\n",
       " '공부하게',\n",
       " '당연히',\n",
       " '삼각',\n",
       " '부터',\n",
       " '시작하는',\n",
       " '것이',\n",
       " '첫',\n",
       " '오늘',\n",
       " '시간',\n",
       " '함께',\n",
       " '시작해',\n",
       " '보도록',\n",
       " '할',\n",
       " '중학교',\n",
       " '수학',\n",
       " '오늘',\n",
       " '공부할',\n",
       " '내용,',\n",
       " '바로',\n",
       " '두',\n",
       " '가지',\n",
       " '개념',\n",
       " '오늘',\n",
       " '두',\n",
       " '가지',\n",
       " '첫',\n",
       " '굉장히']"
      ]
     },
     "execution_count": 20,
     "metadata": {},
     "output_type": "execute_result"
    }
   ],
   "source": [
    "# amazon inter microsoft : amazon과 microsoft 교집합\n",
    "amazon_inter_microsoft= []\n",
    "for i in amazon_word:\n",
    "    if i in microsoft_word:\n",
    "        amazon_inter_microsoft.append(i)\n",
    "amazon_inter_microsoft"
   ]
  },
  {
   "cell_type": "code",
   "execution_count": 28,
   "metadata": {},
   "outputs": [
    {
     "name": "stdout",
     "output_type": "stream",
     "text": [
      "80 23\n"
     ]
    }
   ],
   "source": [
    "no= []\n",
    "for i in amazon_inter_microsoft:\n",
    "    if i not in correct:\n",
    "        no.append(i)\n",
    "print(len(correct), len(no))"
   ]
  },
  {
   "cell_type": "code",
   "execution_count": 11,
   "metadata": {
    "collapsed": true
   },
   "outputs": [
    {
     "data": {
      "text/plain": [
       "['이비에스',\n",
       " '중학뉴런수학',\n",
       " '3할을',\n",
       " '강의하기',\n",
       " '됨',\n",
       " '손성민입니다',\n",
       " '이런을',\n",
       " '만났었는데',\n",
       " '3과정',\n",
       " '진행되는지에',\n",
       " '거구요',\n",
       " '하마',\n",
       " '종이접기',\n",
       " '가정',\n",
       " '개의대',\n",
       " '이루어져있는데요',\n",
       " '삼각비라는',\n",
       " '단어',\n",
       " '이거',\n",
       " '1학년',\n",
       " '그래왔듯',\n",
       " '3화',\n",
       " '다루어',\n",
       " '지는구나라는',\n",
       " '될테구요',\n",
       " '이제',\n",
       " '삼각비라는',\n",
       " '영화',\n",
       " '개념은',\n",
       " '공부하기',\n",
       " '삼각비의',\n",
       " '뜻부터',\n",
       " '오늘도',\n",
       " '차',\n",
       " '거',\n",
       " '끝냈어',\n",
       " '공부한',\n",
       " '내용은',\n",
       " '그냥']"
      ]
     },
     "execution_count": 11,
     "metadata": {},
     "output_type": "execute_result"
    }
   ],
   "source": [
    "google_itself"
   ]
  },
  {
   "cell_type": "code",
   "execution_count": 12,
   "metadata": {
    "collapsed": true
   },
   "outputs": [
    {
     "data": {
      "text/plain": [
       "['여러분들',\n",
       " '여러분들과',\n",
       " '함께',\n",
       " '중학',\n",
       " '수학',\n",
       " '삼',\n",
       " '이',\n",
       " '통해서도',\n",
       " '여러분들',\n",
       " '이렇게',\n",
       " '다시',\n",
       " '만나게',\n",
       " '되어서',\n",
       " '정말',\n",
       " '삼',\n",
       " '과정',\n",
       " '어떻게',\n",
       " '진행되는지',\n",
       " '에',\n",
       " '대해서는',\n",
       " '여러분들께서',\n",
       " '오리엔테이션',\n",
       " '강의를',\n",
       " '통해서',\n",
       " '확인할',\n",
       " '수',\n",
       " '있을',\n",
       " '오리엔테이션',\n",
       " '반드시',\n",
       " '듣고',\n",
       " '여러분들이',\n",
       " '삼',\n",
       " '특히',\n",
       " '어떻게',\n",
       " '수업',\n",
       " '되는지',\n",
       " '확인할',\n",
       " '수',\n",
       " '있을',\n",
       " '일단',\n",
       " '삼',\n",
       " '과정',\n",
       " '같은',\n",
       " '경우에는',\n",
       " '크게',\n",
       " '세계의',\n",
       " '삼각',\n",
       " '두',\n",
       " '번째가',\n",
       " '번째가',\n",
       " '통계',\n",
       " '이렇게',\n",
       " '우리가',\n",
       " '하도',\n",
       " '마찬가지고',\n",
       " '이',\n",
       " '하도',\n",
       " '주로',\n",
       " '대한',\n",
       " '이야기가',\n",
       " '삼',\n",
       " '많이',\n",
       " '구나',\n",
       " '라는',\n",
       " '걸',\n",
       " '생각하면',\n",
       " '될',\n",
       " '오늘은',\n",
       " '그',\n",
       " '첫',\n",
       " '삼',\n",
       " '삼각',\n",
       " '알아요',\n",
       " '이',\n",
       " '합쳐져',\n",
       " '있는',\n",
       " '삼각',\n",
       " '새로운',\n",
       " '용어가',\n",
       " '이',\n",
       " '개념을',\n",
       " '공부하게',\n",
       " '당연히',\n",
       " '삼각',\n",
       " '부터',\n",
       " '시작하는',\n",
       " '것이',\n",
       " '첫',\n",
       " '오늘',\n",
       " '시간',\n",
       " '함께',\n",
       " '시작해',\n",
       " '보도록',\n",
       " '할',\n",
       " '중학교',\n",
       " '수학',\n",
       " '오늘',\n",
       " '공부할',\n",
       " '내용,',\n",
       " '바로',\n",
       " '두',\n",
       " '가지',\n",
       " '개념',\n",
       " '오늘',\n",
       " '두',\n",
       " '가지',\n",
       " '첫',\n",
       " '굉장히']"
      ]
     },
     "execution_count": 12,
     "metadata": {},
     "output_type": "execute_result"
    }
   ],
   "source": [
    "amazon_inter_microsoft"
   ]
  },
  {
   "cell_type": "code",
   "execution_count": 10,
   "metadata": {},
   "outputs": [
    {
     "data": {
      "text/plain": [
       "[]"
      ]
     },
     "execution_count": 10,
     "metadata": {},
     "output_type": "execute_result"
    }
   ],
   "source": [
    "google_false = []\n",
    "for i in google_itself:\n",
    "    if i in amazon_inter_microsoft:\n",
    "        google_false.append(i)\n",
    "google_false"
   ]
  },
  {
   "cell_type": "code",
   "execution_count": null,
   "metadata": {},
   "outputs": [],
   "source": []
  },
  {
   "cell_type": "code",
   "execution_count": 25,
   "metadata": {},
   "outputs": [
    {
     "ename": "NameError",
     "evalue": "name 'no1' is not defined",
     "output_type": "error",
     "traceback": [
      "\u001b[1;31m---------------------------------------------------------------------------\u001b[0m",
      "\u001b[1;31mNameError\u001b[0m                                 Traceback (most recent call last)",
      "\u001b[1;32m<ipython-input-25-d2ae735242eb>\u001b[0m in \u001b[0;36m<module>\u001b[1;34m\u001b[0m\n\u001b[0;32m      2\u001b[0m \u001b[1;32mfor\u001b[0m \u001b[0mi\u001b[0m \u001b[1;32min\u001b[0m \u001b[0mgoogle_word\u001b[0m\u001b[1;33m:\u001b[0m\u001b[1;33m\u001b[0m\u001b[1;33m\u001b[0m\u001b[0m\n\u001b[0;32m      3\u001b[0m     \u001b[1;32mif\u001b[0m \u001b[0mi\u001b[0m \u001b[1;32mnot\u001b[0m \u001b[1;32min\u001b[0m \u001b[0mamazon_word\u001b[0m \u001b[1;32mand\u001b[0m \u001b[0mi\u001b[0m \u001b[1;32mnot\u001b[0m \u001b[1;32min\u001b[0m \u001b[0mmicrosoft_word\u001b[0m\u001b[1;33m:\u001b[0m\u001b[1;33m\u001b[0m\u001b[1;33m\u001b[0m\u001b[0m\n\u001b[1;32m----> 4\u001b[1;33m         \u001b[0mno1\u001b[0m\u001b[1;33m.\u001b[0m\u001b[0mappend\u001b[0m\u001b[1;33m(\u001b[0m\u001b[0mi\u001b[0m\u001b[1;33m)\u001b[0m\u001b[1;33m\u001b[0m\u001b[1;33m\u001b[0m\u001b[0m\n\u001b[0m\u001b[0;32m      5\u001b[0m \u001b[0mamazon_itself\u001b[0m \u001b[1;33m=\u001b[0m \u001b[1;33m[\u001b[0m\u001b[1;33m]\u001b[0m\u001b[1;33m\u001b[0m\u001b[1;33m\u001b[0m\u001b[0m\n\u001b[0;32m      6\u001b[0m \u001b[1;32mfor\u001b[0m \u001b[0mi\u001b[0m \u001b[1;32min\u001b[0m \u001b[0mamazon_word\u001b[0m\u001b[1;33m:\u001b[0m\u001b[1;33m\u001b[0m\u001b[1;33m\u001b[0m\u001b[0m\n",
      "\u001b[1;31mNameError\u001b[0m: name 'no1' is not defined"
     ]
    }
   ],
   "source": [
    "google_itself = []\n",
    "for i in google_word:\n",
    "    if i not in amazon_word and i not in microsoft_word:\n",
    "        google_itself.append(i)\n",
    "amazon_itself = []\n",
    "for i in amazon_word:\n",
    "    if i not in google_word and i not in microsoft_word:\n",
    "        amazon_itself.append(i)\n",
    "microsoft_itself = []\n",
    "for i in microsoft_word:\n",
    "    if i not in google_word and i not in amazon_word:\n",
    "        microsoft_itself.append(i)"
   ]
  },
  {
   "cell_type": "code",
   "execution_count": null,
   "metadata": {
    "scrolled": true
   },
   "outputs": [],
   "source": [
    "no1"
   ]
  },
  {
   "cell_type": "code",
   "execution_count": null,
   "metadata": {
    "scrolled": true
   },
   "outputs": [],
   "source": [
    "no2"
   ]
  },
  {
   "cell_type": "code",
   "execution_count": null,
   "metadata": {
    "scrolled": true
   },
   "outputs": [],
   "source": [
    "no3"
   ]
  },
  {
   "cell_type": "code",
   "execution_count": null,
   "metadata": {},
   "outputs": [],
   "source": [
    "no4 =[]\n",
    "for i in no1:\n",
    "    if i not in no2 and i not in no3:\n",
    "        no4.append(i)\n",
    "no4"
   ]
  }
 ],
 "metadata": {
  "kernelspec": {
   "display_name": "Python 3",
   "language": "python",
   "name": "python3"
  },
  "language_info": {
   "codemirror_mode": {
    "name": "ipython",
    "version": 3
   },
   "file_extension": ".py",
   "mimetype": "text/x-python",
   "name": "python",
   "nbconvert_exporter": "python",
   "pygments_lexer": "ipython3",
   "version": "3.8.3"
  }
 },
 "nbformat": 4,
 "nbformat_minor": 4
}
