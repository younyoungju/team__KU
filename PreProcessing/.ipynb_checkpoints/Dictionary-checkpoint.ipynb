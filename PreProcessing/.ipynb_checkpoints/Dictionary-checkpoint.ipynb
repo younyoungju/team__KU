{
 "cells": [
  {
   "cell_type": "code",
   "execution_count": 1,
   "metadata": {},
   "outputs": [],
   "source": [
    "# symbol dictionary\n",
    "sd = {'½': '이분의일',\n",
    " '□': '사각형',\n",
    " '＞': '보다크다',\n",
    " '㈏': '나',\n",
    " '(': '',\n",
    " '×': '곱하기',\n",
    " ')': '',\n",
    " '①': '일',\n",
    " '+': '더하기',\n",
    " '˚': '도',\n",
    " '⑤': '오',\n",
    " '⅓': '삼분의일',\n",
    " '⅔': '삼분의이',\n",
    " '¼': '사분의일',\n",
    " '′': '',\n",
    " '＜': '보다작다',\n",
    " '-': '마이너스',\n",
    " '!': '',\n",
    " '④': '사',\n",
    " 'π': '파이',\n",
    " '㎞': '킬로미터',\n",
    " '=': '는',\n",
    " ':': '대',\n",
    " '~': '',\n",
    " '…': '',\n",
    " '△': '삼각형',\n",
    " '²': '의제곱',\n",
    " '②': '이',\n",
    " '㈎': '가',\n",
    " '≤': '보다크거나같다',\n",
    " '㎝': '센치미터',\n",
    " '|': '절대값',\n",
    " '㈐': '다',\n",
    " '＝': '는',\n",
    " '÷': '나누기',\n",
    " '⑵': '이번',\n",
    " '㎠': '제곱센치미터',\n",
    " '¾': '사분의삼',\n",
    " '∠': '각',\n",
    " '%': '퍼센트',\n",
    " '－': '마이너스',\n",
    " \"'\": '',\n",
    " '③': '삼',\n",
    " '＋': '더하기',\n",
    " '⑴': '일번',\n",
    " '√': '루트',\n",
    " 'cos': '코사인',\n",
    " 'sin': '사인',\n",
    " 'tan': '탄젠트', \n",
    "     'm' : '미터',\n",
    "     'con' : '코사인', \n",
    "     'sim' : '사인', \n",
    "     'tna' : '탄젠트'}"
   ]
  },
  {
   "cell_type": "code",
   "execution_count": null,
   "metadata": {},
   "outputs": [],
   "source": [
    "ad = {\n",
    "    'a':'에이',\n",
    "    'b':'비',\n",
    "    'c':'씨',\n",
    "    'd':'디',\n",
    "    'e':'이',\n",
    "    'f':'에프',\n",
    "    'g':'쥐',\n",
    "    'h':'에이치',\n",
    "    'i':'아이',\n",
    "    'j':'제이',\n",
    "    'k':'케이',\n",
    "    'l':'엘',\n",
    "    'm':'엠',\n",
    "    'n':'엔',\n",
    "    'o':'오',\n",
    "    'p':'피',\n",
    "    'q':'큐',\n",
    "    'r':'알',\n",
    "    's':'에스',\n",
    "    't':'티',\n",
    "    'u':'유',\n",
    "    'v':'브이',\n",
    "    'w':'더블유',\n",
    "    'x':'엑스',\n",
    "    'y':'와이',\n",
    "    'z':'지',\n",
    "    'A':'에이',\n",
    "    'B':'비',\n",
    "    'C':'씨',\n",
    "    'D':'디',\n",
    "    'E':'이',\n",
    "    'F':'에프',\n",
    "    'G':'쥐',\n",
    "    'H':'에이치',\n",
    "    'I':'아이',\n",
    "    'J':'제이',\n",
    "    'K':'케이',\n",
    "    'L':'엘',\n",
    "    'M':'엠',\n",
    "    'N':'엔',\n",
    "    'O':'오',\n",
    "    'P':'피',\n",
    "    'Q':'큐',\n",
    "    'R':'알',\n",
    "    'S':'에스',\n",
    "    'T':'티',\n",
    "    'U':'유',\n",
    "    'V':'브이',\n",
    "    'W':'더블유',\n",
    "    'X':'엑스',\n",
    "    'Y':'와이',\n",
    "    'Z':'지'\n",
    "}"
   ]
  },
  {
   "cell_type": "code",
   "execution_count": 3,
   "metadata": {},
   "outputs": [],
   "source": [
    "def get_korean_pronunciation_of_number(n):\n",
    "    nbased = {0 : '', 1 : '일', 2 : '이', 3 : '삼', 4 : '사', 5 : '오', 6 : '육', 7 : '칠', 8 : '팔', 9 : '구' }\n",
    "    nkopro = {}\n",
    "    for _ in range(n+1):\n",
    "        c = (_%100000000)//10000000\n",
    "        b = (_%10000000)//1000000\n",
    "        s = (_%1000000)//100000\n",
    "        m = (_%100000)//10000\n",
    "        t = (_%10000)//1000\n",
    "        h = (_%1000)//100\n",
    "        d = (_%100)//10\n",
    "        o = _%10\n",
    "\n",
    "        if _ == 0:\n",
    "            nkopro[_] = '영'\n",
    "        else:\n",
    "            cc = '' if c == 0 else ('천' if c == 1 else nbased[c] + '천')\n",
    "            bb = '' if b == 0 else ('백' if b == 1 else nbased[b] + '백')\n",
    "            ss = '' if s == 0 else ('십' if s == 1 else nbased[s] + '십')\n",
    "            if s == 0:\n",
    "                mm = '' if m == 0 else ('만' if m == 1 else nbased[m] + '만')\n",
    "            else:\n",
    "                mm = '만' if m == 0 else ('일만' if m == 1 else nbased[m] + '만')\n",
    "            tt = '' if t == 0 else ('천' if t == 1 else nbased[t] + '천')\n",
    "            hh = '' if h == 0 else ('백' if h == 1 else nbased[h] + '백')\n",
    "            dd = '' if d == 0 else ('십' if d == 1 else nbased[d] + '십')\n",
    "            oo = '' if o == 0 else nbased[o]\n",
    "            nkopro[_] = cc+bb+ss+mm+tt+hh+dd+oo\n",
    "            \n",
    "    return nkopro"
   ]
  },
  {
   "cell_type": "code",
   "execution_count": 6,
   "metadata": {},
   "outputs": [],
   "source": [
    "kopro = get_korean_pronunciation_of_number(9999999) #~99999"
   ]
  },
  {
   "cell_type": "code",
   "execution_count": 11,
   "metadata": {},
   "outputs": [
    {
     "data": {
      "text/plain": [
       "'백팔십만백칠십팔'"
      ]
     },
     "execution_count": 11,
     "metadata": {},
     "output_type": "execute_result"
    }
   ],
   "source": [
    "kopro[1800178]"
   ]
  },
  {
   "cell_type": "code",
   "execution_count": 54,
   "metadata": {},
   "outputs": [
    {
     "data": {
      "text/plain": [
       "'구십구만구천구백구십구'"
      ]
     },
     "execution_count": 54,
     "metadata": {},
     "output_type": "execute_result"
    }
   ],
   "source": [
    "kopro[999999]"
   ]
  },
  {
   "cell_type": "code",
   "execution_count": 55,
   "metadata": {},
   "outputs": [
    {
     "data": {
      "text/plain": [
       "'팔십만팔천이백십사'"
      ]
     },
     "execution_count": 55,
     "metadata": {},
     "output_type": "execute_result"
    }
   ],
   "source": [
    "kopro[808214]"
   ]
  },
  {
   "cell_type": "code",
   "execution_count": 56,
   "metadata": {},
   "outputs": [
    {
     "data": {
      "text/plain": [
       "'팔십일만팔천이백십사'"
      ]
     },
     "execution_count": 56,
     "metadata": {},
     "output_type": "execute_result"
    }
   ],
   "source": [
    "kopro[818214]"
   ]
  },
  {
   "cell_type": "code",
   "execution_count": 57,
   "metadata": {},
   "outputs": [
    {
     "data": {
      "text/plain": [
       "'십일만팔천이백십사'"
      ]
     },
     "execution_count": 57,
     "metadata": {},
     "output_type": "execute_result"
    }
   ],
   "source": [
    "kopro[118214]"
   ]
  },
  {
   "cell_type": "code",
   "execution_count": 58,
   "metadata": {},
   "outputs": [
    {
     "data": {
      "text/plain": [
       "'십만팔천이백십사'"
      ]
     },
     "execution_count": 58,
     "metadata": {},
     "output_type": "execute_result"
    }
   ],
   "source": [
    "kopro[108214]"
   ]
  },
  {
   "cell_type": "code",
   "execution_count": 59,
   "metadata": {},
   "outputs": [
    {
     "data": {
      "text/plain": [
       "'만이천오백사십팔'"
      ]
     },
     "execution_count": 59,
     "metadata": {},
     "output_type": "execute_result"
    }
   ],
   "source": [
    "kopro[12548]"
   ]
  },
  {
   "cell_type": "code",
   "execution_count": 60,
   "metadata": {},
   "outputs": [
    {
     "data": {
      "text/plain": [
       "'십일만팔천이백십사'"
      ]
     },
     "execution_count": 60,
     "metadata": {},
     "output_type": "execute_result"
    }
   ],
   "source": [
    "kopro[118214]"
   ]
  },
  {
   "cell_type": "code",
   "execution_count": 61,
   "metadata": {},
   "outputs": [
    {
     "data": {
      "text/plain": [
       "'십팔만'"
      ]
     },
     "execution_count": 61,
     "metadata": {},
     "output_type": "execute_result"
    }
   ],
   "source": [
    "kopro[180000]"
   ]
  },
  {
   "cell_type": "code",
   "execution_count": 62,
   "metadata": {},
   "outputs": [
    {
     "data": {
      "text/plain": [
       "'십일만팔천이백십사'"
      ]
     },
     "execution_count": 62,
     "metadata": {},
     "output_type": "execute_result"
    }
   ],
   "source": [
    "kopro[118214]"
   ]
  },
  {
   "cell_type": "code",
   "execution_count": 35,
   "metadata": {},
   "outputs": [
    {
     "name": "stdout",
     "output_type": "stream",
     "text": [
      "0\n",
      "0\n",
      "0\n",
      "1\n",
      "2\n",
      "5\n",
      "4\n",
      "8\n"
     ]
    }
   ],
   "source": [
    "_ = 12548 #천오백십팔만\n",
    "c = (_%100000000)//10000000\n",
    "b = (_%10000000)//1000000\n",
    "s = (_%1000000)//100000\n",
    "m = (_%100000)//10000\n",
    "t = (_%10000)//1000\n",
    "h = (_%1000)//100\n",
    "d = (_%100)//10\n",
    "o = _%10\n",
    "print(c)\n",
    "print(b)\n",
    "print(s)\n",
    "print(m)\n",
    "print(t)\n",
    "print(h)\n",
    "print(d)\n",
    "print(o)"
   ]
  },
  {
   "cell_type": "code",
   "execution_count": null,
   "metadata": {},
   "outputs": [],
   "source": []
  }
 ],
 "metadata": {
  "kernelspec": {
   "display_name": "Python 3",
   "language": "python",
   "name": "python3"
  },
  "language_info": {
   "codemirror_mode": {
    "name": "ipython",
    "version": 3
   },
   "file_extension": ".py",
   "mimetype": "text/x-python",
   "name": "python",
   "nbconvert_exporter": "python",
   "pygments_lexer": "ipython3",
   "version": "3.7.6"
  }
 },
 "nbformat": 4,
 "nbformat_minor": 4
}
