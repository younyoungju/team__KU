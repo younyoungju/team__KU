{
 "cells": [
  {
   "cell_type": "markdown",
   "metadata": {},
   "source": [
    "# 1. 문장끝에 . 붙여서 나누기\n",
    "1. how to put dot at the end of the each sentence?\n",
    "    - find the the end loc of the sentence using re and put comma\n",
    "        - how do we find the loc?\n",
    "            - using pattern#\n",
    "        - how do we add the commas?\n",
    "            - working on it \n",
    "            - might be using findall, or match\n",
    "\n",
    "            "
   ]
  },
  {
   "cell_type": "code",
   "execution_count": null,
   "metadata": {},
   "outputs": [],
   "source": [
    "# import re\n",
    "\n",
    "# text = \"\"\"\\\n",
    "# Mr. Smith bought cheapsite.com for 1.5 million dollars, i.e. he paid a lot for it. Did he mind? Adam Jones Jr. thinks he didn't. In any case, this isn't true... Well, with a probability of .9 it isn't.\n",
    "# \"\"\"\n",
    "# sentences = re.split(r' *[\\.\\?!][\\'\"\\)\\]]* *', text)\n",
    "\n",
    "# for stuff in sentences:\n",
    "#         print(stuff)    "
   ]
  },
  {
   "cell_type": "code",
   "execution_count": 5,
   "metadata": {},
   "outputs": [],
   "source": [
    "import re"
   ]
  },
  {
   "cell_type": "code",
   "execution_count": 6,
   "metadata": {},
   "outputs": [],
   "source": [
    "from string import punctuation\n",
    "pun = re.compile('[{0}]'.format(re.escape(punctuation)))\n",
    "pat1 = re.compile(r'[‘,’]')"
   ]
  },
  {
   "cell_type": "code",
   "execution_count": 9,
   "metadata": {},
   "outputs": [],
   "source": [
    "with open('lec00002_EBS.txt','r',encoding='utf-8') as rE:\n",
    "    textE2 = rE.read().strip()\n",
    "    textE2 = pun.sub(' ', textE2)\n",
    "    textE2 = pat1.sub(' ', textE2)"
   ]
  },
  {
   "cell_type": "code",
   "execution_count": 10,
   "metadata": {},
   "outputs": [],
   "source": [
    "with open('./lec00002_STT1_Google.txt','r',encoding='euc-kr') as rG:\n",
    "    textG2 = rG.read()\n",
    "    textG2 = textG2.replace('\\n','')"
   ]
  },
  {
   "cell_type": "code",
   "execution_count": null,
   "metadata": {},
   "outputs": [],
   "source": [
    "#export"
   ]
  },
  {
   "cell_type": "code",
   "execution_count": null,
   "metadata": {},
   "outputs": [],
   "source": [
    "with open('new_textE.txt', mode='wt', encoding='utf-8') as wr:\n",
    "    for _ in new_textE:\n",
    "        wr.write(_)\n",
    "        wr.write('\\n')"
   ]
  },
  {
   "cell_type": "code",
   "execution_count": null,
   "metadata": {},
   "outputs": [],
   "source": [
    "with open('new_textG.txt', mode='wt', encoding='utf-8') as wr:\n",
    "    for _ in new_textG:\n",
    "        wr.write(_)\n",
    "        wr.write('\\n')"
   ]
  },
  {
   "cell_type": "code",
   "execution_count": null,
   "metadata": {},
   "outputs": [],
   "source": []
  },
  {
   "cell_type": "code",
   "execution_count": null,
   "metadata": {},
   "outputs": [],
   "source": []
  },
  {
   "cell_type": "code",
   "execution_count": null,
   "metadata": {},
   "outputs": [],
   "source": []
  },
  {
   "cell_type": "code",
   "execution_count": null,
   "metadata": {},
   "outputs": [],
   "source": []
  },
  {
   "cell_type": "code",
   "execution_count": null,
   "metadata": {},
   "outputs": [],
   "source": [
    "!pip install soynlp"
   ]
  },
  {
   "cell_type": "code",
   "execution_count": null,
   "metadata": {},
   "outputs": [],
   "source": [
    "from soynlp.hangle import jamo_levenshtein"
   ]
  },
  {
   "cell_type": "code",
   "execution_count": null,
   "metadata": {},
   "outputs": [],
   "source": [
    "for i in range()\n",
    "\n",
    "        "
   ]
  },
  {
   "cell_type": "code",
   "execution_count": null,
   "metadata": {},
   "outputs": [],
   "source": []
  },
  {
   "cell_type": "code",
   "execution_count": null,
   "metadata": {},
   "outputs": [],
   "source": []
  },
  {
   "cell_type": "code",
   "execution_count": null,
   "metadata": {},
   "outputs": [],
   "source": [
    "!pip install jamo"
   ]
  },
  {
   "cell_type": "code",
   "execution_count": 11,
   "metadata": {},
   "outputs": [],
   "source": [
    "from jamo import h2j, j2hcj, j2h"
   ]
  },
  {
   "cell_type": "code",
   "execution_count": null,
   "metadata": {},
   "outputs": [],
   "source": [
    "j2hcj(h2j('많죠'))"
   ]
  },
  {
   "cell_type": "code",
   "execution_count": null,
   "metadata": {},
   "outputs": [],
   "source": []
  },
  {
   "cell_type": "code",
   "execution_count": 12,
   "metadata": {},
   "outputs": [],
   "source": [
    "def insert_dot(text, dot):\n",
    "    \n",
    "    pattern1 = re.compile(r'(ㅂㄴㅣㄷㅏ)$')   #ㅂ 니다\n",
    "    pattern2 = re.compile(r'(.ㅔ|ㅏ|ㅓ|ㅐ|ㅗ)(ㅇㅛ)$') # ㅔ요, ㅏ요, ㅓ요\n",
    "    pattern3 = re.compile(r'(ㅆ)(ㅈ|ㅊ)(ㅛ)$') \n",
    "    pattern4 = re.compile(r'(ㅂ|ㅣ)(ㄴㅣㄲㅏ)$')  #ㅂ니까\n",
    "    pattern5 = re.compile(r'(ㄴㄷㅔ)$')\n",
    "    \n",
    "    text_list = []\n",
    "    \n",
    "    _1 = 0\n",
    "    _2 = 0\n",
    "    _3 = 0\n",
    "    _4 = 0\n",
    "    _5 = 0\n",
    "    _6 = 0\n",
    "    \n",
    "        \n",
    "    for _ in text.split(' '): \n",
    "        \n",
    "        new_ = j2hcj(h2j(_))\n",
    "        if pattern1.findall(new_):\n",
    "            text_list.append(_.replace(_, _+dot))\n",
    "            _1 += 1\n",
    "            \n",
    "            \n",
    "        elif pattern2.findall(new_):\n",
    "            text_list.append(_.replace(_, _+dot))\n",
    "            _2 += 1\n",
    "            #list2.append(_)\n",
    "        \n",
    "        elif pattern3.findall(new_):\n",
    "            text_list.append(_.replace(_, _+dot))\n",
    "            _3 += 1\n",
    "#             list3.append(_)\n",
    "        \n",
    "        elif pattern4.findall(new_):\n",
    "            text_list.append(_.replace(_, _+dot))\n",
    "            _4 += 1\n",
    "            \n",
    "        elif pattern5.findall(new_):\n",
    "            text_list.append(_.replace(_,_+dot))\n",
    "            _5 += 1\n",
    "            \n",
    "        else:\n",
    "            text_list.append(_)\n",
    "            _6 += 1\n",
    "            #list6.append(_)\n",
    "            \n",
    "    print('pattern1 = {}, pattern2= {}, pattern3 = {}, pattern5 = {}, pattern6 = {}'.format(_1,_2,_3,_4,_5,_6)) \n",
    "    #print('pattern2 = ',list2)#'\\n','list5 = ',list5)\n",
    "    return text_list\n",
    "    "
   ]
  },
  {
   "cell_type": "code",
   "execution_count": 16,
   "metadata": {},
   "outputs": [
    {
     "name": "stdout",
     "output_type": "stream",
     "text": [
      "pattern1 = 1, pattern2= 3, pattern3 = 0, pattern5 = 0, pattern6 = 0\n"
     ]
    },
    {
     "data": {
      "text/plain": [
       "['안녕하세요.', '김채연입니다.', '많이', '덥네요.', '바다', '그렇지', '않나요.', '그렇죠', '많죠', '그쵸']"
      ]
     },
     "execution_count": 16,
     "metadata": {},
     "output_type": "execute_result"
    }
   ],
   "source": [
    "insert_dot('안녕하세요 김채연입니다 많이 덥네요 바다 그렇지 않나요 그렇죠 많죠 그쵸','.')  #test 용"
   ]
  },
  {
   "cell_type": "code",
   "execution_count": 13,
   "metadata": {},
   "outputs": [
    {
     "name": "stdout",
     "output_type": "stream",
     "text": [
      "pattern1 = 83, pattern2= 117, pattern3 = 52, pattern5 = 33, pattern6 = 59\n"
     ]
    }
   ],
   "source": [
    "new_textE2 = ' '.join(insert_dot(textE2,'.')).split('.')"
   ]
  },
  {
   "cell_type": "code",
   "execution_count": 14,
   "metadata": {},
   "outputs": [
    {
     "name": "stdout",
     "output_type": "stream",
     "text": [
      "pattern1 = 76, pattern2= 103, pattern3 = 36, pattern5 = 25, pattern6 = 51\n"
     ]
    }
   ],
   "source": [
    "new_textG2 = ' '.join(insert_dot(textG2,'.')).split('.')"
   ]
  },
  {
   "cell_type": "code",
   "execution_count": 15,
   "metadata": {},
   "outputs": [
    {
     "data": {
      "text/plain": [
       "(295, 345)"
      ]
     },
     "execution_count": 15,
     "metadata": {},
     "output_type": "execute_result"
    }
   ],
   "source": [
    "len(new_textG2),len(new_textE2)"
   ]
  },
  {
   "cell_type": "code",
   "execution_count": null,
   "metadata": {},
   "outputs": [],
   "source": [
    "#text export"
   ]
  },
  {
   "cell_type": "code",
   "execution_count": null,
   "metadata": {},
   "outputs": [],
   "source": [
    "with open('new_textE2.txt', mode='wt', encoding='utf-8') as wr:\n",
    "    for _ in new_textE2:\n",
    "        wr.write(_)\n",
    "        wr.write('\\n')"
   ]
  },
  {
   "cell_type": "code",
   "execution_count": null,
   "metadata": {},
   "outputs": [],
   "source": [
    "with open('new_textG2.txt', mode='wt', encoding='utf-8') as wr:\n",
    "    for _ in new_textG2:\n",
    "        wr.write(_)\n",
    "        wr.write('\\n')"
   ]
  },
  {
   "cell_type": "code",
   "execution_count": null,
   "metadata": {},
   "outputs": [],
   "source": []
  },
  {
   "cell_type": "code",
   "execution_count": null,
   "metadata": {},
   "outputs": [],
   "source": []
  }
 ],
 "metadata": {
  "kernelspec": {
   "display_name": "Python 3",
   "language": "python",
   "name": "python3"
  },
  "language_info": {
   "codemirror_mode": {
    "name": "ipython",
    "version": 3
   },
   "file_extension": ".py",
   "mimetype": "text/x-python",
   "name": "python",
   "nbconvert_exporter": "python",
   "pygments_lexer": "ipython3",
   "version": "3.8.3"
  }
 },
 "nbformat": 4,
 "nbformat_minor": 4
}
