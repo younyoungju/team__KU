{
 "cells": [
  {
   "cell_type": "code",
   "execution_count": null,
   "metadata": {},
   "outputs": [],
   "source": [
    "# !pip install soynlp"
   ]
  },
  {
   "cell_type": "code",
   "execution_count": 6,
   "metadata": {},
   "outputs": [],
   "source": [
    "from soynlp.hangle import levenshtein\n",
    "from soynlp.hangle import jamo_levenshtein\n",
    "from soynlp.hangle import compose\n",
    "from soynlp.hangle import decompose\n",
    "from konlpy.tag import Kkma\n",
    "import nltk\n",
    "from nltk.tag import pos_tag\n",
    "from nltk.corpus import gutenberg\n",
    "from nltk.tokenize import sent_tokenize\n",
    "from nltk.tokenize import word_tokenize\n",
    "from nltk.tokenize import TweetTokenizer\n",
    "from nltk.tokenize import regexp_tokenize\n",
    "from nltk.help import upenn_tagset\n",
    "from string import punctuation\n",
    "from nltk import Text\n",
    "from konlpy.corpus import kolaw, kobill\n",
    "from konlpy.tag import Kkma, Mecab, Okt, Komoran, Hannanum\n",
    "import pandas as pd\n",
    "import numpy as np\n",
    "import re\n",
    "from PreProcessing.Dictionary import sd, ad, kopro"
   ]
  },
  {
   "cell_type": "code",
   "execution_count": 7,
   "metadata": {},
   "outputs": [],
   "source": [
    "s1_t1 = '큰 삼각형에서 밑변 분의 높이는 어때요 팔분의육인데 이들이 모두 다 어때 같다는 걸 여러분들이 알 수 있단 얘기예요'\n",
    "s2_t1 = '큰 삼각형 에서 및 변 불이 높이는 팔 분의 육 인데 이들이 모두 같다는 걸 여러분들이 할 수 있다는데요'"
   ]
  },
  {
   "cell_type": "code",
   "execution_count": 8,
   "metadata": {},
   "outputs": [],
   "source": [
    "s1_t2 = '마찬가지로 하나 더 해 볼까요 작은 삼각형에서 밑변 분의 높이는 사분의삼이죠'\n",
    "s2_t2 = '마찬가지로 하나 더 있을까요 작은 삼각형 에서 이 편 불이 높이는 사 분의 삼'"
   ]
  },
  {
   "cell_type": "code",
   "execution_count": 9,
   "metadata": {},
   "outputs": [],
   "source": [
    "s1_t3 = '이렇게 한번 그려 보겠습니다 이렇게 여기에서부터 수선을 이렇게 그어 보겠습니다'\n",
    "s2_t3 = '이렇게 만들어보겠습니다 이렇게 이렇게 여기서부터 수선을 이렇게 들어보겠습니다'"
   ]
  },
  {
   "cell_type": "code",
   "execution_count": 10,
   "metadata": {},
   "outputs": [],
   "source": [
    "s1_t4 = '또 다른 직각삼각형를 빗변 위 한 점을 잡아서 이렇게 수선을 똑같이 그어 주면 바로 두 직각삼각형 에이비씨하고 에이디이는 서로 어떤 닮음에이에이닮음이 된다'\n",
    "s2_t4 = '또다른 즉각 삼각형 하나를 이 편이 한 점을 잡아서 이렇게 수선을 똑같이 그럴 주면 바로 두 즉각 삼각형 에이 비 지시하고 에이티 서로 어떤 닮은 에이 담은 이 된다'"
   ]
  },
  {
   "cell_type": "code",
   "execution_count": 11,
   "metadata": {},
   "outputs": [],
   "source": [
    "s1_t5 = '이건 우리가 중학교 이학년 때 배웠죠 그렇죠 각에이가 공통이고 그다음에 둘 다 직각을 갖고 있으니까 에이에이닮음이 될 테고'\n",
    "s2_t5 = '이건 우리가 중학교 이해하는 데 배웠죠 가계가 공통 이고 그 다음에 둘 다 즉각 을 갖고 있으니까 에이에이 닮은 있을 테고'"
   ]
  },
  {
   "cell_type": "code",
   "execution_count": 12,
   "metadata": {},
   "outputs": [
    {
     "data": {
      "text/plain": [
       "['lec00001_EBS_test.txt', 'lec00002_EBS_test.txt', 'lec00003_EBS_test.txt']"
      ]
     },
     "execution_count": 12,
     "metadata": {},
     "output_type": "execute_result"
    }
   ],
   "source": [
    "EBS_filenames = []\n",
    "for i in range(1, 4):\n",
    "    n = '{0:05d}'.format(i)\n",
    "    EBS_fname = 'lec' + n + '_EBS_test.txt'\n",
    "    EBS_filenames.append(EBS_fname)\n",
    "EBS_filenames"
   ]
  },
  {
   "cell_type": "code",
   "execution_count": 16,
   "metadata": {},
   "outputs": [],
   "source": [
    "def get_integrated(s, e):\n",
    "    EBS_filenames = []\n",
    "    for i in range(s, e+1):\n",
    "        n = '{0:05d}'.format(i)\n",
    "        EBS_fname = 'lec' + n + '_EBS_entered_test.txt'\n",
    "        EBS_filenames.append(EBS_fname)\n",
    "        \n",
    "    STT_filenames = []\n",
    "    for i in range(s, e+1):\n",
    "        n = '{0:05d}'.format(i)\n",
    "        STT_fname = 'lec' + n + '_STT_entered_test.txt'\n",
    "        STT_filenames.append(STT_fname)\n",
    "    \n",
    "    EBS_integrated = ''\n",
    "    for _ in EBS_filenames:\n",
    "        with open('data/' + _, 'r', encoding = 'utf-8') as f:\n",
    "            EBS_integrated += '\\n'+f.read()\n",
    "           \n",
    "    STT_integrated = ''\n",
    "    for _ in STT_filenames:\n",
    "        with open('data/' + _, 'r', encoding = 'utf-8') as f:\n",
    "            STT_integrated += '\\n'+f.read()\n",
    "    \n",
    "    return EBS_integrated, STT_integrated"
   ]
  },
  {
   "cell_type": "code",
   "execution_count": 17,
   "metadata": {},
   "outputs": [],
   "source": [
    "EBS_entered, STT_entered = get_integrated(1, 3)"
   ]
  },
  {
   "cell_type": "code",
   "execution_count": 41,
   "metadata": {},
   "outputs": [
    {
     "name": "stdout",
     "output_type": "stream",
     "text": [
      "\n",
      "반갑습니다, EBS 친구 여러분들. 여러분들과 함께 중학뉴런수학3(하)를 강의하게 된 손석민입니다.\n",
      "2학년 뉴런을 통해서도 만났었는데요.\n",
      "여러분들, 이렇게 다시 만나게 되어서 정말 반갑습니다.\n",
      "앞으로 3(하) 과정 어떻게 진행되는지에 대해서는 여러분들께서 오리엔테이션 강의를 통해서 확인할 수 있을 거고요.\n",
      "오리엔테이션 강의는 반드시 듣고 오셔야 여러분들이 3학년 과정이, (하) 과정이 특히 어떻게 수업되는지 확인할 수 있을 겁니다.\n",
      "일단 3학년 과정 같은 경우에는 크게 3개의 대단원으로 이루어져 있는데요. \n",
      "첫 번째가 삼각비라는 단원이고 두 번째가 원의 성질, 세 번째가 통계. 이렇게 이루어져 있습니다.\n",
      "우리가 1학년(하)도 마찬가지고 2학년(하)도 그래 왔듯, ‘주로 도형에 대한 이야기가 3(하)에서 많이 다루어지는구나.’ 라는 걸 생각하면 될 테고요.\n",
      "오늘은 그 첫 시간이니까 ‘삼각비.’ ‘삼각’ 알아요. ‘비’ 알아요. \n",
      "근데 이제 합쳐져 있는 ‘삼각비’라는 새로운 용어가 나왔죠.\n",
      "그럼 이 개념을 공부하기에 앞서서 당연히 삼각비의 뜻부터 시작하는 것이 첫 시간입니다.\n",
      "오늘 그 첫 시간, 함께 시작해 보도록 할 텐데요. 중학교 3학년 수학! 손샘과 끝냅시다!\n",
      "오늘 공부할 내용, 바로 두 가지 개념인데요. 오늘 두 가지 개념 첫 번째 제목이 굉장히 길어요. \n",
      "‘닮은 직각삼각형에서 대응변의 길이의 비’라는 것이 있습니다.\n",
      "그다음 두 번째 개념이 바로 뭐냐면, ‘삼각비’라는 건데 삼각비의 뜻이겠죠? \n",
      "이 첫 번째 개념은, 앞으로 쭉 공부할 내용이 다 직각삼각형에서 주로 다루어질 텐데직각삼각형에서 갖는 기본적인 성질이 있는데 그 성질을 알고 가자는, ‘삼각비를 공부하기에 앞선 징검다리 내용이다.’ 라고 여러분들이 받아들이시면 됩니다.\n",
      "그렇다면 ‘닮은 직각삼각형에서’라고 했으니까 닮은 직각삼각형을 그려 봐야 되겠죠? \n",
      "닮은 직각삼각형 두 개를 편하게 그릴 수 있는 제일 좋은 방법은 뭘까 생각해 보면우리는 이렇게 그리면 될 거 같아요. \n",
      "이렇게 한번 그려 보겠습니다, 이렇게. 여기에서부터 수선을 이렇게 그어 보겠습니다. \n",
      "일단 바깥쪽에 직각삼각형 하나 보입니다, 그렇죠?\n",
      "또 다른 직각삼각형를 빗변 위 한 점을 잡아서 이렇게 수선을 똑같이 그어 주면 바로 두 직각삼각형 ABC하고, ADE는 서로 어떤 닮음?AA닮음이 된다. \n",
      "이건 우리가 중학교 2학년 때 배웠죠, 그렇죠? ∠A가 공통이고, 그다음에 둘 다 직각을 갖고 있으니까 AA닮음이 될 테고.\n",
      "우리가 중2 때 배웠던 닮음비라는 건 뭐였냐 하면 대응하는 변의 길이의 비였어요, 그렇죠? \n",
      "그래서 만약에 이 길이를 5라고 해 보고, 이 길이를 10이라고 해 보면.두 삼각형의 닮음비는 5:10. 1:2겠죠. \n",
      "그렇다면 우리가 이 길이를 4라고 놔 보면, 이 길이는 얼마가 됩니까, 당연히? \n",
      "그렇죠. 4의 두 배인 8이 돼야 돼.\n",
      "이 길이를 거꾸로 우리가 6이라고 해 보겠습니다. \n",
      "그럼 거꾸로 이 작은 쪽은 얼마가 될까? \n",
      "1:2, 2:1. 얼마? 3이 돼야 된다는 걸 여러분들이 알 수 있죠.\n",
      "그래서 우리는 닮음비라는 건 ‘작은 삼각형과 큰 삼각형의 대응하는 변의 길이의 비’이니까 5:10, 3:6, 4:8. 이것이 모두 다 1:2로 같고 그것을 닮음비라고 한다.\n",
      "이렇게 공부를 했었는데 이것 말고도 이러한 것들도 성립할 거란 얘기예요. \n",
      "예를 들어 작은 삼각형에서 빗변 분의 높이 얼마입니까? 5분의3이죠?\n",
      "큰 삼각형에서 빗변 분의 높이 얼마죠? 10분의6이죠. 이 둘 어때요? \n",
      "5분의3으로 서로 같다는 거 확인할 수 있고.\n",
      "또 마찬가지로 작은 삼각형에서 예를 들어서 빗변 분의 밑변 해 봅시다. 5분의4죠.\n",
      " 큰 삼각형에서 빗변 분의 밑변 해 보면 얼마죠?10분의8이죠. 근데 이것도 서로 어때? 같아요. \n",
      "마찬가지로 하나 더 해 볼까요? 작은 삼각형에서 밑변 분의 높이는 4분의3이죠.\n",
      "큰 삼각형에서 밑변 분의 높이는 어때요? 8분의6인데, 이들이 모두 다 어때? 같다는 걸 여러분들이 알 수 있단 얘기예요. \n"
     ]
    }
   ],
   "source": [
    "print(EBS_entered)"
   ]
  },
  {
   "cell_type": "code",
   "execution_count": 42,
   "metadata": {},
   "outputs": [
    {
     "name": "stdout",
     "output_type": "stream",
     "text": [
      "\n",
      "반갑습니다. WITH 여러분들 여러분들과 함께 중학 유럽 수학 삼 하를 강행하기 된 분석입니다. 사. \n",
      "이 학년 늘어 를 통해서도 만났는데요. \n",
      "여러분들 이렇게 다시 만나게 되어서 정말 반갑습니다. \n",
      "앞으로 삼 하 과정 어떻게 진행되는지 에 대해서는 여러분들께서 오리엔테이션 강의를 통해서 확인할 수 있을 거고요.\n",
      " 오리엔테이션 강의는 반드시 듣고 옷 여야 여러분들이 삼 학년 과정의 한 가정의 특히 어떻게 수업 되는지 확인할 수 있을 겁니다. \n",
      "기자 일단 삼 학년 과정 같은 경우에는 크게 세계의 대단원의 으로 이뤄져 있는데요.\n",
      " 첫번째가 삼각 이라는 단원고 두 번째가 원에 성질, 세 번째가 통계 이렇게 이뤄져 있습니다. \n",
      "우리가 일 학년 하도 마찬가지고 이 학년 하도 그랬듯 주로 도용에 대한 이야기가 삼 하에서 많이 다뤄지는 구나 라는 걸 생각하면 될 테고요.\n",
      " 오늘은 그 첫 시간이 이니까 삼 갑 의 삼각 알아요 이 알아요. \n",
      "합쳐져 있는 삼각 이라는 새로운 용어가 나왔죠. \n",
      "이 개념을 공부하게 앞서 당연히 삼각 비 듯 부터 시작하는 것이 첫 시간입니다. \n",
      "오늘 사 시간 함께 시작해 보도록 할 텐데요. 중학교 삼, 학년 수학 선생과 끝납니다. \n",
      "오늘 공부할 내용, 바로 두 가지 개념 인데요. 아! 오늘 두 가지 기념 첫 번째 제복이 굉장히 길어야 \n",
      "닮은 즉각 삼 각 통에서 대응 변의 길이의 이 라는 것이 있습니다. \n",
      "그 다음 두 번째 개념이 바로 뭐냐하면 삼 갑 의 라는 건데 상납 뜻이겠죠 \n",
      "의 첫 번째 개념은 두 번째 앞으로 쭉 공부할 내용이 다 즉각 삼각형 에서 주로 다뤄질 텐데 즉각 상황 평에서 갖는 기본적인 성질이 있는데 그 성질을 알고 가자 라는 어떤 삼각 비를 공부하기 앞선 징검다리 내용이라고 여러분들이 받아들이지만 됩니다. \n",
      "그렇다면 닮은 즉각 삼각형 해서 있으니까 닮은 즉각 삼각형을 그려 봐야겠죠. \n",
      "닮은 즉각 삼각형 두 개를 편하게 그릴 수 있는 제일 좋은 방법은 뭘까? 생각해보면 우리는 이렇게 그리면 될 것 같아요. \n",
      "이렇게 만들어보겠습니다 이렇게 이렇게 여기서부터 수선을 이렇게 들어보겠습니다.\n",
      " 일단 바깥쪽에 즉각 삼각형 않아 보입니다. \n",
      "또다른 즉각 삼각형 하나를 이 편이 한 점을 잡아서 이렇게 수선을 똑같이 그럴 주면 바로 두 즉각 삼각형 A B 지시하고 AT 서로 어떤 닮은 A 담은 이 된다. \n",
      "이건 우리가 중학교 이해하는 데 배웠죠. 가계가 공통 이고 그 다음에 둘 다 즉각 을 갖고 있으니까 AA 닮은 있을 테고,\n",
      " 우리가 중인 팀이었던 닮은 이라는 건 뭐냐면, 대응하는 변의 길이의 이었어요. \n",
      "만약에 이 길이를 오라고 해보고 길이를 십 이라고 안 보면 두 삼각형의 닮은 비는 오 대 십일 대 있겠죠. \n",
      "그렇다면 우리가 이 길이를 살아가다 보면 일이 얼마나 됩니까? 당연히 \n",
      "그쳐 사회 두 배인 팔 일 자\n",
      " 의 길이를 거꾸로 우리가 육 이라고 해보겠습니다. \n",
      "그럼 거꾸로 이 작은 쪽은 얼마나 될까? \n",
      "일 대 이, 이 대 일 얼마 삶의 돼야 한다는 걸 여러분이 할 수 있죠. \n",
      "그래서 우리는 닮은 이라는 건 작은 상납 형과 큰 삼각형 에 대응하는 별이 길이 보니까 오 대 십, 선대 육, 사 대 팔, 이것이 모두 다 일 대 이 로 갖고 그것을 닮은 이라고 한다. \n",
      "이렇게 공부했는데 이것 말고도 이러한 것들도 성립할 거라는 \n",
      "예를 들어 작은 삼각형 에서 이 변 분에 높이 얼마입니까? 오 분의 삼 \n",
      "큰 삼각형 에서 이 본부를 높여야 하죠. 십 분 의 유기적 이들 오 대 \n",
      "오 분의 삼 으로 서로 같다 라는 것을 알 수 있고 \n",
      "또 마찬가지로 작은 삼각형 에서 예를 들어 빚 변 분의 이 편 해봅시다. 오 분의 사적 \n",
      "큰 삼각형 에서 이 변 분에 및 편의 봄 얼마전 십 분의 팔 이적 근데 이것도 서로 때 같아요. \n",
      "마찬가지로 하나 더 있을까요? 작은 삼각형 에서 이 편 불이 높이는 사 분의 삼 \n",
      "큰 삼각형 에서 및 변 불이 높이는 팔 분의 육 인데 이들이 모두 같다는 걸 여러분들이 할 수 있다는데요. \n"
     ]
    }
   ],
   "source": [
    "print(STT_entered)"
   ]
  },
  {
   "cell_type": "code",
   "execution_count": 20,
   "metadata": {},
   "outputs": [],
   "source": [
    "# 한 문장의 모든 경우의 수 구하기\n",
    "# input : sentence\n",
    "# output : 모든 길이의 단어 리스트\n",
    "def get_words_of_all_length(s):\n",
    "    answer = []\n",
    "    MIN_LEN = 1\n",
    "    MAX_LEN = len(s)\n",
    "    for l in range(MIN_LEN, MAX_LEN+1):\n",
    "        for i in range(len(s)-l+1):\n",
    "            answer.append(s[i:i+l])\n",
    "    \n",
    "    return answer    "
   ]
  },
  {
   "cell_type": "code",
   "execution_count": 21,
   "metadata": {},
   "outputs": [],
   "source": [
    "# levenshtein가 가장 낮은 단어 구하기\n",
    "# input : (1개의 단어, 여러개 단어의 리스트)\n",
    "# output : leven distance가 가장 낮은 단어 리스트(1개가 아닐수도있음)\n",
    "def find_min_levdis_words(w, l):\n",
    "    answer = []\n",
    "#     answer2 = []\n",
    "    \n",
    "    prob_list = [levenshtein(w,_) for _ in l]\n",
    "    MIN_PROB = min(prob_list)\n",
    "    for i, _ in enumerate(prob_list):\n",
    "        if _ == MIN_PROB:\n",
    "            answer.append(l[i])\n",
    "#             answer2.append(_)\n",
    "\n",
    "    return answer\n",
    "#     return answer, answer2"
   ]
  },
  {
   "cell_type": "code",
   "execution_count": null,
   "metadata": {},
   "outputs": [],
   "source": [
    "for n in fl:\n",
    "            _ = _.replace(n, kopro[int(n)])\n",
    "        new_esl2.append(_)"
   ]
  },
  {
   "cell_type": "code",
   "execution_count": 48,
   "metadata": {},
   "outputs": [],
   "source": [
    "esl = EBS_entered.splitlines()"
   ]
  },
  {
   "cell_type": "code",
   "execution_count": 66,
   "metadata": {},
   "outputs": [
    {
     "data": {
      "text/plain": [
       "{'½': '이분의일',\n",
       " '□': '사각형',\n",
       " '＞': '보다크다',\n",
       " '㈏': '나',\n",
       " '(': '',\n",
       " '×': '곱하기',\n",
       " ')': '',\n",
       " '①': '일번',\n",
       " '+': '더하기',\n",
       " '˚': '도',\n",
       " '⑤': '오번',\n",
       " '⅓': '삼분의일',\n",
       " '⅔': '삼분의이',\n",
       " '¼': '사분의일',\n",
       " '′': '',\n",
       " '＜': '보다작다',\n",
       " '-': '빼기',\n",
       " '!': '',\n",
       " '④': '사번',\n",
       " 'π': '파이',\n",
       " '㎞': '킬로미터',\n",
       " '=': '는',\n",
       " ':': '대',\n",
       " '~': '',\n",
       " '…': '',\n",
       " '△': '삼각형',\n",
       " '²': '의제곱',\n",
       " '②': '이번',\n",
       " '㈎': '가',\n",
       " '≤': '보다크거나같다',\n",
       " '㎝': '센치미터',\n",
       " '|': '절대값',\n",
       " '㈐': '다',\n",
       " '＝': '는',\n",
       " '÷': '나누기',\n",
       " '⑵': '이번',\n",
       " '㎠': '제곱센치미터',\n",
       " '¾': '사분의삼',\n",
       " '∠': '각',\n",
       " '%': '퍼센트',\n",
       " '－': '마이너스',\n",
       " \"'\": '',\n",
       " '③': '삼번',\n",
       " '＋': '더하기',\n",
       " '⑴': '일번',\n",
       " '√': '루트',\n",
       " 'cos': '코사인',\n",
       " 'sin': '사인',\n",
       " 'tan': '탄젠트'}"
      ]
     },
     "execution_count": 66,
     "metadata": {},
     "output_type": "execute_result"
    }
   ],
   "source": [
    "sd"
   ]
  },
  {
   "cell_type": "code",
   "execution_count": 70,
   "metadata": {},
   "outputs": [
    {
     "name": "stdout",
     "output_type": "stream",
     "text": [
      "오리엔테이션 강의는 반드시 듣고 오셔야 여러분들이 3학년 과정이, 하) 과정이 특히 어떻게 수업되는지 확인할 수 있을 겁니다.\n",
      "오리엔테이션 강의는 반드시 듣고 오셔야 여러분들이 3학년 과정이, (하 과정이 특히 어떻게 수업되는지 확인할 수 있을 겁니다.\n",
      "우리가 1학년하)도 마찬가지고 2학년하)도 그래 왔듯, ‘주로 도형에 대한 이야기가 3하)에서 많이 다루어지는구나.’ 라는 걸 생각하면 될 테고요.\n",
      "우리가 1학년(하도 마찬가지고 2학년(하도 그래 왔듯, ‘주로 도형에 대한 이야기가 3(하에서 많이 다루어지는구나.’ 라는 걸 생각하면 될 테고요.\n",
      "오늘 그 첫 시간, 함께 시작해 보도록 할 텐데요. 중학교 3학년 수학 손샘과 끝냅시다\n",
      "이건 우리가 중학교 2학년 때 배웠죠, 그렇죠? 각A가 공통이고, 그다음에 둘 다 직각을 갖고 있으니까 AA닮음이 될 테고.\n",
      "그래서 만약에 이 길이를 5라고 해 보고, 이 길이를 10이라고 해 보면.두 삼각형의 닮음비는 5대10. 1대2겠죠. \n",
      "1대2, 2대1. 얼마? 3이 돼야 된다는 걸 여러분들이 알 수 있죠.\n",
      "그래서 우리는 닮음비라는 건 ‘작은 삼각형과 큰 삼각형의 대응하는 변의 길이의 비’이니까 5대10, 3대6, 4대8. 이것이 모두 다 1대2로 같고 그것을 닮음비라고 한다.\n"
     ]
    }
   ],
   "source": [
    "esl_math_symbol = []\n",
    "for _ in esl:\n",
    "    for ms in sd.keys():\n",
    "        if ms in _:\n",
    "             print(_.replace(ms, sd[ms]))"
   ]
  },
  {
   "cell_type": "code",
   "execution_count": 67,
   "metadata": {},
   "outputs": [
    {
     "data": {
      "text/plain": [
       "'이건 우리가 중학교 2학년 때 배웠죠, 그렇죠? 각A가 공통이고, 그다음에 둘 다 직각을 갖고 있으니까 AA닮음이 될 테고.'"
      ]
     },
     "execution_count": 67,
     "metadata": {},
     "output_type": "execute_result"
    }
   ],
   "source": [
    "'이건 우리가 중학교 2학년 때 배웠죠, 그렇죠? ∠A가 공통이고, 그다음에 둘 다 직각을 갖고 있으니까 AA닮음이 될 테고.'.replace('∠', '각')"
   ]
  },
  {
   "cell_type": "code",
   "execution_count": 69,
   "metadata": {},
   "outputs": [
    {
     "data": {
      "text/plain": [
       "['',\n",
       " '반갑습니다, EBS 친구 여러분들. 여러분들과 함께 중학뉴런수학3하를 강의하게 된 손석민입니다.',\n",
       " '2학년 뉴런을 통해서도 만났었는데요.',\n",
       " '여러분들, 이렇게 다시 만나게 되어서 정말 반갑습니다.',\n",
       " '앞으로 3하 과정 어떻게 진행되는지에 대해서는 여러분들께서 오리엔테이션 강의를 통해서 확인할 수 있을 거고요.',\n",
       " '오리엔테이션 강의는 반드시 듣고 오셔야 여러분들이 3학년 과정이, (하) 과정이 특히 어떻게 수업되는지 확인할 수 있을 겁니다.',\n",
       " '일단 3학년 과정 같은 경우에는 크게 3개의 대단원으로 이루어져 있는데요. ',\n",
       " '첫 번째가 삼각비라는 단원이고 두 번째가 원의 성질, 세 번째가 통계. 이렇게 이루어져 있습니다.',\n",
       " '우리가 1학년(하)도 마찬가지고 2학년(하)도 그래 왔듯, ‘주로 도형에 대한 이야기가 3(하)에서 많이 다루어지는구나.’ 라는 걸 생각하면 될 테고요.',\n",
       " '오늘은 그 첫 시간이니까 ‘삼각비.’ ‘삼각’ 알아요. ‘비’ 알아요. ',\n",
       " '근데 이제 합쳐져 있는 ‘삼각비’라는 새로운 용어가 나왔죠.',\n",
       " '그럼 이 개념을 공부하기에 앞서서 당연히 삼각비의 뜻부터 시작하는 것이 첫 시간입니다.',\n",
       " '오늘 그 첫 시간, 함께 시작해 보도록 할 텐데요. 중학교 3학년 수학! 손샘과 끝냅시다!',\n",
       " '오늘 공부할 내용, 바로 두 가지 개념인데요. 오늘 두 가지 개념 첫 번째 제목이 굉장히 길어요. ',\n",
       " '‘닮은 직각삼각형에서 대응변의 길이의 비’라는 것이 있습니다.',\n",
       " '그다음 두 번째 개념이 바로 뭐냐면, ‘삼각비’라는 건데 삼각비의 뜻이겠죠? ',\n",
       " '이 첫 번째 개념은, 앞으로 쭉 공부할 내용이 다 직각삼각형에서 주로 다루어질 텐데직각삼각형에서 갖는 기본적인 성질이 있는데 그 성질을 알고 가자는, ‘삼각비를 공부하기에 앞선 징검다리 내용이다.’ 라고 여러분들이 받아들이시면 됩니다.',\n",
       " '그렇다면 ‘닮은 직각삼각형에서’라고 했으니까 닮은 직각삼각형을 그려 봐야 되겠죠? ',\n",
       " '닮은 직각삼각형 두 개를 편하게 그릴 수 있는 제일 좋은 방법은 뭘까 생각해 보면우리는 이렇게 그리면 될 거 같아요. ',\n",
       " '이렇게 한번 그려 보겠습니다, 이렇게. 여기에서부터 수선을 이렇게 그어 보겠습니다. ',\n",
       " '일단 바깥쪽에 직각삼각형 하나 보입니다, 그렇죠?',\n",
       " '또 다른 직각삼각형를 빗변 위 한 점을 잡아서 이렇게 수선을 똑같이 그어 주면 바로 두 직각삼각형 ABC하고, ADE는 서로 어떤 닮음?AA닮음이 된다. ',\n",
       " '이건 우리가 중학교 2학년 때 배웠죠, 그렇죠? ∠A가 공통이고, 그다음에 둘 다 직각을 갖고 있으니까 AA닮음이 될 테고.',\n",
       " '우리가 중2 때 배웠던 닮음비라는 건 뭐였냐 하면 대응하는 변의 길이의 비였어요, 그렇죠? ',\n",
       " '그래서 만약에 이 길이를 5라고 해 보고, 이 길이를 10이라고 해 보면.두 삼각형의 닮음비는 5:10. 1:2겠죠. ',\n",
       " '그렇다면 우리가 이 길이를 4라고 놔 보면, 이 길이는 얼마가 됩니까, 당연히? ',\n",
       " '그렇죠. 4의 두 배인 8이 돼야 돼.',\n",
       " '이 길이를 거꾸로 우리가 6이라고 해 보겠습니다. ',\n",
       " '그럼 거꾸로 이 작은 쪽은 얼마가 될까? ',\n",
       " '1:2, 2:1. 얼마? 3이 돼야 된다는 걸 여러분들이 알 수 있죠.',\n",
       " '그래서 우리는 닮음비라는 건 ‘작은 삼각형과 큰 삼각형의 대응하는 변의 길이의 비’이니까 5:10, 3:6, 4:8. 이것이 모두 다 1:2로 같고 그것을 닮음비라고 한다.',\n",
       " '이렇게 공부를 했었는데 이것 말고도 이러한 것들도 성립할 거란 얘기예요. ',\n",
       " '예를 들어 작은 삼각형에서 빗변 분의 높이 얼마입니까? 5분의3이죠?',\n",
       " '큰 삼각형에서 빗변 분의 높이 얼마죠? 10분의6이죠. 이 둘 어때요? ',\n",
       " '5분의3으로 서로 같다는 거 확인할 수 있고.',\n",
       " '또 마찬가지로 작은 삼각형에서 예를 들어서 빗변 분의 밑변 해 봅시다. 5분의4죠.',\n",
       " ' 큰 삼각형에서 빗변 분의 밑변 해 보면 얼마죠?10분의8이죠. 근데 이것도 서로 어때? 같아요. ',\n",
       " '마찬가지로 하나 더 해 볼까요? 작은 삼각형에서 밑변 분의 높이는 4분의3이죠.',\n",
       " '큰 삼각형에서 밑변 분의 높이는 어때요? 8분의6인데, 이들이 모두 다 어때? 같다는 걸 여러분들이 알 수 있단 얘기예요. ']"
      ]
     },
     "execution_count": 69,
     "metadata": {},
     "output_type": "execute_result"
    }
   ],
   "source": [
    "esl"
   ]
  },
  {
   "cell_type": "code",
   "execution_count": 59,
   "metadata": {},
   "outputs": [
    {
     "ename": "IndexError",
     "evalue": "string index out of range",
     "output_type": "error",
     "traceback": [
      "\u001b[1;31m---------------------------------------------------------------------------\u001b[0m",
      "\u001b[1;31mIndexError\u001b[0m                                Traceback (most recent call last)",
      "\u001b[1;32m<ipython-input-59-f9346118e90c>\u001b[0m in \u001b[0;36m<module>\u001b[1;34m\u001b[0m\n\u001b[0;32m      1\u001b[0m \u001b[1;32mfor\u001b[0m \u001b[0mi\u001b[0m \u001b[1;32min\u001b[0m \u001b[0mrange\u001b[0m\u001b[1;33m(\u001b[0m\u001b[0mlen\u001b[0m\u001b[1;33m(\u001b[0m\u001b[0mesl\u001b[0m\u001b[1;33m)\u001b[0m\u001b[1;33m)\u001b[0m\u001b[1;33m:\u001b[0m\u001b[1;33m\u001b[0m\u001b[1;33m\u001b[0m\u001b[0m\n\u001b[0;32m      2\u001b[0m     \u001b[1;32mfor\u001b[0m \u001b[0mj\u001b[0m \u001b[1;32min\u001b[0m \u001b[0mrange\u001b[0m\u001b[1;33m(\u001b[0m\u001b[0mlen\u001b[0m\u001b[1;33m(\u001b[0m\u001b[0mesl\u001b[0m\u001b[1;33m[\u001b[0m\u001b[0mi\u001b[0m\u001b[1;33m]\u001b[0m\u001b[1;33m)\u001b[0m\u001b[1;33m)\u001b[0m\u001b[1;33m:\u001b[0m\u001b[1;33m\u001b[0m\u001b[1;33m\u001b[0m\u001b[0m\n\u001b[1;32m----> 3\u001b[1;33m         \u001b[0ms\u001b[0m \u001b[1;33m=\u001b[0m \u001b[0mesl\u001b[0m\u001b[1;33m[\u001b[0m\u001b[0mi\u001b[0m\u001b[1;33m]\u001b[0m\u001b[1;33m[\u001b[0m\u001b[0mj\u001b[0m\u001b[1;33m]\u001b[0m\u001b[1;33m\u001b[0m\u001b[1;33m\u001b[0m\u001b[0m\n\u001b[0m\u001b[0;32m      4\u001b[0m         \u001b[1;32mif\u001b[0m \u001b[0ms\u001b[0m \u001b[1;32min\u001b[0m \u001b[0msd\u001b[0m\u001b[1;33m:\u001b[0m\u001b[1;33m\u001b[0m\u001b[1;33m\u001b[0m\u001b[0m\n\u001b[0;32m      5\u001b[0m             \u001b[0mesl\u001b[0m\u001b[1;33m[\u001b[0m\u001b[0mi\u001b[0m\u001b[1;33m]\u001b[0m \u001b[1;33m=\u001b[0m \u001b[0mesl\u001b[0m\u001b[1;33m[\u001b[0m\u001b[0mi\u001b[0m\u001b[1;33m]\u001b[0m\u001b[1;33m.\u001b[0m\u001b[0mreplace\u001b[0m\u001b[1;33m(\u001b[0m\u001b[0ms\u001b[0m\u001b[1;33m,\u001b[0m \u001b[0msd\u001b[0m\u001b[1;33m[\u001b[0m\u001b[0ms\u001b[0m\u001b[1;33m]\u001b[0m\u001b[1;33m)\u001b[0m\u001b[1;33m\u001b[0m\u001b[1;33m\u001b[0m\u001b[0m\n",
      "\u001b[1;31mIndexError\u001b[0m: string index out of range"
     ]
    }
   ],
   "source": [
    "for i in range(len(esl)):\n",
    "    for j in range(len(esl[i])):\n",
    "        s = esl[i][j]\n",
    "        if s in sd:\n",
    "            esl[i] = esl[i].replace(s, sd[s])"
   ]
  },
  {
   "cell_type": "code",
   "execution_count": 55,
   "metadata": {},
   "outputs": [
    {
     "name": "stdout",
     "output_type": "stream",
     "text": [
      "□\n"
     ]
    }
   ],
   "source": [
    "for _ in sd.keys():\n",
    "    if _ in '□sdfs':\n",
    "        print(_)"
   ]
  },
  {
   "cell_type": "code",
   "execution_count": null,
   "metadata": {},
   "outputs": [],
   "source": []
  },
  {
   "cell_type": "code",
   "execution_count": null,
   "metadata": {},
   "outputs": [],
   "source": []
  },
  {
   "cell_type": "code",
   "execution_count": 23,
   "metadata": {},
   "outputs": [
    {
     "ename": "SyntaxError",
     "evalue": "unexpected EOF while parsing (<ipython-input-23-56ece396231a>, line 19)",
     "output_type": "error",
     "traceback": [
      "\u001b[1;36m  File \u001b[1;32m\"<ipython-input-23-56ece396231a>\"\u001b[1;36m, line \u001b[1;32m19\u001b[0m\n\u001b[1;33m    _.replace(n, kopro[int(n)]\u001b[0m\n\u001b[1;37m                              ^\u001b[0m\n\u001b[1;31mSyntaxError\u001b[0m\u001b[1;31m:\u001b[0m unexpected EOF while parsing\n"
     ]
    }
   ],
   "source": [
    "# EBS 문장들 전처리\n",
    "def EBS_preprocessing(EBS_entered):\n",
    "    pat_math_symbol = re.compile(r'[().,‘’?!]') #수학기호 정규식\n",
    "    pat_number = re.compile(r'\\d+') #숫자 정규식\n",
    "    esl = EBS_entered.splitlines() #문장단위로 리스트\n",
    "    \n",
    "    esl = [s.strip() for s in [pat_math_symbol.sub('', _) for _ in esl]]# punctuation 제거, 앞뒤 공백 제거\n",
    "    \n",
    "    #수학기호 한국어로 변환(EBS)\n",
    "    for i in range(len(esl)):\n",
    "        for j in range(len(esl[i])):\n",
    "            s = esl[i][j]\n",
    "            if s in sd:\n",
    "                esl[i] = esl[i].replace(s, sd[s])\n",
    "                \n",
    "    for _ in esl:\n",
    "        esl_math_conversion = []\n",
    "    \n",
    "    #숫자 한국어로 변환(EBS)\n",
    "    for _ in esl:\n",
    "        FoundDigits = re.findall(r'\\d+', _)\n",
    "        "
   ]
  },
  {
   "cell_type": "code",
   "execution_count": null,
   "metadata": {},
   "outputs": [],
   "source": [
    "def STT_preprocessing():\n",
    "    esl = text1.splitlines() #문장단위로 리스트\n",
    "    gsl = text2.splitlines()"
   ]
  },
  {
   "cell_type": "code",
   "execution_count": 24,
   "metadata": {},
   "outputs": [],
   "source": [
    "# input : (EBS 띄어쓰기 아직 안 된 sentence, STT 띄어쓰기 아직 안 된 sentence)\n",
    "# output : sentence => pd.DataFrame\n",
    "def get_similar_word_table(EBS_entered, STT_entered):\n",
    "    d = {}\n",
    "    d['한글발음'] = []\n",
    "    d['STT'] = []\n",
    "    \n",
    "    preprocessing_line_by_line()\n",
    "    \n",
    "#     STT remove white space\n",
    "    s2 = ''.join(TweetTokenizer().tokenize(s2))\n",
    "#     EBS 어절단위 끊은 리스트\n",
    "    EBS_tokens = TweetTokenizer().tokenize(s1)\n",
    "#     STT 모든 경우의수 단어 리스트\n",
    "    all_len_words = get_words_of_all_length(s2)\n",
    "    \n",
    "    for _ in EBS_tokens:\n",
    "        if _ in d['한글발음']:\n",
    "            i = d['한글발음'].index(_)\n",
    "            new_word = ', '.join(find_min_levdis_words(_, all_len_words))\n",
    "            d['STT'][i] += ', ' + new_word\n",
    "        else:\n",
    "            d['한글발음'].append(_)\n",
    "            d['STT'].append(', '.join(find_min_levdis_words(_, all_len_words)))\n",
    "    \n",
    "    return pd.DataFrame(d)"
   ]
  },
  {
   "cell_type": "code",
   "execution_count": 25,
   "metadata": {},
   "outputs": [
    {
     "ename": "NameError",
     "evalue": "name 'preprocessing_line_by_line' is not defined",
     "output_type": "error",
     "traceback": [
      "\u001b[1;31m---------------------------------------------------------------------------\u001b[0m",
      "\u001b[1;31mNameError\u001b[0m                                 Traceback (most recent call last)",
      "\u001b[1;32m<ipython-input-25-fba32ec925cd>\u001b[0m in \u001b[0;36m<module>\u001b[1;34m\u001b[0m\n\u001b[1;32m----> 1\u001b[1;33m \u001b[0mdf1\u001b[0m \u001b[1;33m=\u001b[0m \u001b[0mget_similar_word_table\u001b[0m\u001b[1;33m(\u001b[0m\u001b[0ms1_t1\u001b[0m\u001b[1;33m,\u001b[0m \u001b[0ms2_t1\u001b[0m\u001b[1;33m)\u001b[0m\u001b[1;33m\u001b[0m\u001b[1;33m\u001b[0m\u001b[0m\n\u001b[0m\u001b[0;32m      2\u001b[0m \u001b[0mdf2\u001b[0m \u001b[1;33m=\u001b[0m \u001b[0mget_similar_word_table\u001b[0m\u001b[1;33m(\u001b[0m\u001b[0ms1_t2\u001b[0m\u001b[1;33m,\u001b[0m \u001b[0ms2_t2\u001b[0m\u001b[1;33m)\u001b[0m\u001b[1;33m\u001b[0m\u001b[1;33m\u001b[0m\u001b[0m\n\u001b[0;32m      3\u001b[0m \u001b[0mdf3\u001b[0m \u001b[1;33m=\u001b[0m \u001b[0mget_similar_word_table\u001b[0m\u001b[1;33m(\u001b[0m\u001b[0ms1_t3\u001b[0m\u001b[1;33m,\u001b[0m \u001b[0ms2_t3\u001b[0m\u001b[1;33m)\u001b[0m\u001b[1;33m\u001b[0m\u001b[1;33m\u001b[0m\u001b[0m\n\u001b[0;32m      4\u001b[0m \u001b[0mdf4\u001b[0m \u001b[1;33m=\u001b[0m \u001b[0mget_similar_word_table\u001b[0m\u001b[1;33m(\u001b[0m\u001b[0ms1_t4\u001b[0m\u001b[1;33m,\u001b[0m \u001b[0ms2_t4\u001b[0m\u001b[1;33m)\u001b[0m\u001b[1;33m\u001b[0m\u001b[1;33m\u001b[0m\u001b[0m\n\u001b[0;32m      5\u001b[0m \u001b[0mdf5\u001b[0m \u001b[1;33m=\u001b[0m \u001b[0mget_similar_word_table\u001b[0m\u001b[1;33m(\u001b[0m\u001b[0ms1_t5\u001b[0m\u001b[1;33m,\u001b[0m \u001b[0ms2_t5\u001b[0m\u001b[1;33m)\u001b[0m\u001b[1;33m\u001b[0m\u001b[1;33m\u001b[0m\u001b[0m\n",
      "\u001b[1;32m<ipython-input-24-c23d59553036>\u001b[0m in \u001b[0;36mget_similar_word_table\u001b[1;34m(EBS_entered, STT_entered)\u001b[0m\n\u001b[0;32m      6\u001b[0m     \u001b[0md\u001b[0m\u001b[1;33m[\u001b[0m\u001b[1;34m'STT'\u001b[0m\u001b[1;33m]\u001b[0m \u001b[1;33m=\u001b[0m \u001b[1;33m[\u001b[0m\u001b[1;33m]\u001b[0m\u001b[1;33m\u001b[0m\u001b[1;33m\u001b[0m\u001b[0m\n\u001b[0;32m      7\u001b[0m \u001b[1;33m\u001b[0m\u001b[0m\n\u001b[1;32m----> 8\u001b[1;33m     \u001b[0mpreprocessing_line_by_line\u001b[0m\u001b[1;33m(\u001b[0m\u001b[1;33m)\u001b[0m\u001b[1;33m\u001b[0m\u001b[1;33m\u001b[0m\u001b[0m\n\u001b[0m\u001b[0;32m      9\u001b[0m \u001b[1;33m\u001b[0m\u001b[0m\n\u001b[0;32m     10\u001b[0m \u001b[1;31m#     STT remove white space\u001b[0m\u001b[1;33m\u001b[0m\u001b[1;33m\u001b[0m\u001b[1;33m\u001b[0m\u001b[0m\n",
      "\u001b[1;31mNameError\u001b[0m: name 'preprocessing_line_by_line' is not defined"
     ]
    }
   ],
   "source": [
    "df1 = get_similar_word_table(s1_t1, s2_t1)\n",
    "df2 = get_similar_word_table(s1_t2, s2_t2)\n",
    "df3 = get_similar_word_table(s1_t3, s2_t3)\n",
    "df4 = get_similar_word_table(s1_t4, s2_t4)\n",
    "df5 = get_similar_word_table(s1_t5, s2_t5)\n",
    "\n",
    "result = pd.concat([df1, df2, df3, df4, df5])\n",
    "result"
   ]
  },
  {
   "cell_type": "code",
   "execution_count": null,
   "metadata": {},
   "outputs": [],
   "source": []
  },
  {
   "cell_type": "code",
   "execution_count": null,
   "metadata": {},
   "outputs": [],
   "source": []
  },
  {
   "cell_type": "code",
   "execution_count": null,
   "metadata": {},
   "outputs": [],
   "source": []
  },
  {
   "cell_type": "code",
   "execution_count": null,
   "metadata": {},
   "outputs": [],
   "source": []
  },
  {
   "cell_type": "code",
   "execution_count": null,
   "metadata": {},
   "outputs": [],
   "source": []
  },
  {
   "cell_type": "code",
   "execution_count": null,
   "metadata": {},
   "outputs": [],
   "source": []
  },
  {
   "cell_type": "code",
   "execution_count": null,
   "metadata": {},
   "outputs": [],
   "source": []
  },
  {
   "cell_type": "code",
   "execution_count": null,
   "metadata": {},
   "outputs": [],
   "source": []
  },
  {
   "cell_type": "code",
   "execution_count": null,
   "metadata": {},
   "outputs": [],
   "source": []
  },
  {
   "cell_type": "code",
   "execution_count": null,
   "metadata": {},
   "outputs": [],
   "source": []
  }
 ],
 "metadata": {
  "kernelspec": {
   "display_name": "Python 3",
   "language": "python",
   "name": "python3"
  },
  "language_info": {
   "codemirror_mode": {
    "name": "ipython",
    "version": 3
   },
   "file_extension": ".py",
   "mimetype": "text/x-python",
   "name": "python",
   "nbconvert_exporter": "python",
   "pygments_lexer": "ipython3",
   "version": "3.7.6"
  }
 },
 "nbformat": 4,
 "nbformat_minor": 4
}
