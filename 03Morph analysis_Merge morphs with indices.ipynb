{
 "cells": [
  {
   "cell_type": "code",
   "execution_count": null,
   "metadata": {},
   "outputs": [],
   "source": [
    "okt = Okt()"
   ]
  },
  {
   "cell_type": "markdown",
   "metadata": {},
   "source": [
    "# OKT"
   ]
  },
  {
   "cell_type": "code",
   "execution_count": null,
   "metadata": {},
   "outputs": [],
   "source": [
    "def selected_pos_okt(pos_text):\n",
    "    alist = []\n",
    "    for _ in pos_text:\n",
    "        if _[1] in ['Noun','Verb','Modifier','Adjective', 'Adverb']:\n",
    "            alist.append(_)\n",
    "            continue\n",
    "    return alist\n",
    "\n",
    "def get_pos_filter_okt(s1,s2):\n",
    "\n",
    "    ebs_mor_okt = okt.pos(s1)\n",
    "    google_mor_okt = okt.pos(s2)\n",
    "    ebs_pos_filter_okt= selected_pos_okt(ebs_mor_okt)\n",
    "    google_pos_filter_okt = selected_pos_okt(google_mor_okt)\n",
    "    \n",
    "    return ebs_pos_filter_okt, google_pos_filter_okt"
   ]
  },
  {
   "cell_type": "code",
   "execution_count": null,
   "metadata": {},
   "outputs": [],
   "source": [
    "print(' '.join([_[0] for _ in ebs_mor_okt]))\n",
    "print()\n",
    "print(' '.join([_[0] for _ in google_mor_okt]))\n",
    "print()\n",
    "print(' '.join([_[0] for _ in ebs_pos_filter_okt]))\n",
    "print()\n",
    "print(' '.join([_[0] for _ in google_pos_filter_okt]))"
   ]
  },
  {
   "cell_type": "markdown",
   "metadata": {},
   "source": [
    "# 같은부분 찾아서 merge (okt)"
   ]
  },
  {
   "cell_type": "code",
   "execution_count": null,
   "metadata": {},
   "outputs": [],
   "source": [
    "#같은 형태소들 사이의 값들을 이어붙임\n",
    "def find_common_pos(ebs_pos, google_pos):\n",
    "    prev_found_g_idx = 0\n",
    "    i = 0\n",
    "    used_g_idx = []\n",
    "#     for e, g in zip(ebs_pos, google_pos):\n",
    "#         print(i, '   ', e, '   ', g)\n",
    "#         i+= 1\n",
    "#     print()\n",
    "    \n",
    "    mor_merge_ebs = []\n",
    "    mor_merge_google = []\n",
    "\n",
    "    accm = 0\n",
    "    prev = 0\n",
    "    \n",
    "    for _ in range(len(ebs_pos)):\n",
    "        \n",
    "        # ran_g 시작 인덱스, 끝 인덱스 얻기#################################\n",
    "        ran_g_idx_s = _-10 if _-10>0 else 0\n",
    "        ran_g_idx_e = _+10 if _+10<len(google_pos) else len(google_pos)\n",
    "        ran_g = []\n",
    "#         print('_:',_, 'ebs_pos[_]:', ebs_pos[_], 'g_start:',  ran_g_idx_s, 'g_end:',  ran_g_idx_e)\n",
    "        #################################################################\n",
    "        \n",
    "        # ran_g 얻기 #####################################################\n",
    "        for lets_removed_used in list(range(ran_g_idx_s, ran_g_idx_e)):\n",
    "            if lets_removed_used in used_g_idx:\n",
    "                ran_g.append(' ')\n",
    "            else:\n",
    "                ran_g.append(google_pos[lets_removed_used])\n",
    "        #################################################################\n",
    "        \n",
    "        # 현 ebs 형태소 in ran_g ? ######################################\n",
    "        if ebs_pos[_] in ran_g:\n",
    "            accm = 0\n",
    "            if _ < 5:\n",
    "                curr_g_idx = ran_g.index(ebs_pos[_])\n",
    "#                 print(curr_g_idx)\n",
    "            else:\n",
    "                curr_g_idx  = _ + ran_g.index(ebs_pos[_]) -5\n",
    "            used_g_idx.append(curr_g_idx)\n",
    "        else:\n",
    "            accm += 1\n",
    "#         print('accm:', accm)\n",
    "        #################################################################\n",
    "\n",
    "        if prev:\n",
    "            if accm:\n",
    "                if _ == len(ebs_pos) - 1:\n",
    "                    mor_merge_ebs.append(ebs_pos[ebs_s:])\n",
    "                    mor_merge_google.append((google_pos[google_s:]))\n",
    "                else:\n",
    "                    pass\n",
    "                \n",
    "            else:\n",
    "                ebs_e = _ -1\n",
    "                google_e = curr_g_idx - 1\n",
    "\n",
    "                mor_merge_ebs.append(ebs_pos[ebs_s:ebs_e+1])\n",
    "                mor_merge_google.append((google_pos[google_s:google_e+1]))\n",
    "#                 print('merged')\n",
    "#                 print(ebs_pos[ebs_s:ebs_e+1], ebs_s, '~', ebs_e)\n",
    "#                 print(google_pos[google_s:google_e+1], google_s, '~', google_e)\n",
    "#                 print()\n",
    "#                 print('****'*10)\n",
    "#                 print()\n",
    "\n",
    "                mor_merge_ebs.append(ebs_pos[_])\n",
    "                mor_merge_google.append(google_pos[curr_g_idx])\n",
    "#                 print('find!')\n",
    "#                 print(ebs_pos[_], _, '   ',google_pos[curr_g_idx], curr_g_idx)\n",
    "#                 print()\n",
    "#                 print('****'*10)\n",
    "#                 print()\n",
    "\n",
    "                prev_found_g_idx = curr_g_idx\n",
    "        else:\n",
    "            if accm:\n",
    "                ebs_s = _\n",
    "                google_s = prev_found_g_idx + 1\n",
    "\n",
    "            else:\n",
    "                mor_merge_ebs.append(ebs_pos[_])\n",
    "                mor_merge_google.append(google_pos[curr_g_idx])\n",
    "                prev_found_g_idx = curr_g_idx\n",
    "                \n",
    "#                 print('find!')\n",
    "#                 print(ebs_pos[_], _, '  ', google_pos[curr_g_idx], curr_g_idx)\n",
    "#                 print()\n",
    "#                 print('****'*10)\n",
    "#                 print()\n",
    "        prev = accm\n",
    "    return mor_merge_ebs, mor_merge_google"
   ]
  },
  {
   "cell_type": "code",
   "execution_count": null,
   "metadata": {},
   "outputs": [],
   "source": [
    "# 형태소끼리 띄어쓰기로 붙여 문장만들기\n",
    "def get_final_string_ebs(mor_merge_ebs):\n",
    "    final_string_ebs = ''\n",
    "    for _ in mor_merge_ebs:\n",
    "        if type(_) == list:\n",
    "            add = ''.join([t[0] for t in _])\n",
    "        else:\n",
    "            add = _[0]\n",
    "        final_string_ebs += ' '+add\n",
    "        \n",
    "    return final_string_ebs\n",
    "\n",
    "def get_final_string_google(mor_merge_google):\n",
    "    final_string_google = ''\n",
    "    for _ in mor_merge_google:\n",
    "        if type(_) == list:\n",
    "            add = ''.join([t[0] for t in _])\n",
    "        else:\n",
    "            add = _[0]\n",
    "        final_string_google += ' '+add\n",
    "        \n",
    "    return final_string_google"
   ]
  },
  {
   "cell_type": "code",
   "execution_count": null,
   "metadata": {},
   "outputs": [],
   "source": [
    "get_final_string_ebs(mor_merge_ebs)\n",
    "get_final_string_google(mor_merge_google)"
   ]
  },
  {
   "cell_type": "code",
   "execution_count": null,
   "metadata": {},
   "outputs": [],
   "source": [
    "def get_final_input_strings(result_ebs_1000, result_google_1000):\n",
    "    result = []\n",
    "    for e, g in zip(result_ebs_1000, result_google_1000):\n",
    "        ebs_pos_filter_okt, google_pos_filter_okt = get_pos_filter_okt(e,g)\n",
    "        mor_merge_ebs, mor_merge_google = find_common_pos(ebs_pos_filter_okt, google_pos_filter_okt)\n",
    "        print(get_final_string_ebs(mor_merge_ebs))\n",
    "        print()\n",
    "        print(get_final_string_ebs(mor_merge_google))\n",
    "        print()\n",
    "        print()\n",
    "        result.append(get_final_string_ebs(mor_merge_ebs))\n",
    "        result.append(get_final_string_ebs(mor_merge_google))\n",
    "        \n",
    "    return result"
   ]
  },
  {
   "cell_type": "code",
   "execution_count": null,
   "metadata": {},
   "outputs": [],
   "source": [
    "result = get_final_input_strings(result_ebs_1000, result_google_1000)"
   ]
  },
  {
   "cell_type": "code",
   "execution_count": null,
   "metadata": {},
   "outputs": [],
   "source": [
    "# 저장할때\n",
    "with open('data/result.txt', 'wb') as f:\n",
    "    pickle.dump(result, f)"
   ]
  }
 ],
 "metadata": {
  "kernelspec": {
   "display_name": "Python 3",
   "language": "python",
   "name": "python3"
  },
  "language_info": {
   "codemirror_mode": {
    "name": "ipython",
    "version": 3
   },
   "file_extension": ".py",
   "mimetype": "text/x-python",
   "name": "python",
   "nbconvert_exporter": "python",
   "pygments_lexer": "ipython3",
   "version": "3.7.6"
  }
 },
 "nbformat": 4,
 "nbformat_minor": 4
}
