{
 "cells": [
  {
   "cell_type": "code",
   "execution_count": 37,
   "metadata": {},
   "outputs": [],
   "source": [
    "import json"
   ]
  },
  {
   "cell_type": "code",
   "execution_count": 43,
   "metadata": {},
   "outputs": [],
   "source": [
    "def getText_json(FileDir):\n",
    "    with open(FileDir, encoding='utf-8') as f:\n",
    "        data = json.load(f)\n",
    "    return data['results']['transcripts'][0]['transcript']"
   ]
  },
  {
   "cell_type": "code",
   "execution_count": 58,
   "metadata": {},
   "outputs": [],
   "source": [
    "def text_save(s, e, d):\n",
    "    jsons = []\n",
    "    for i in range(1, 15+1):\n",
    "        n = '{0:05d}'.format(i)\n",
    "        lec = 'lec' + n + '.json'\n",
    "        jsons.append(lec)\n",
    "    for _ in jsons:\n",
    "        text = getText_json(d+_)\n",
    "        save_name = _[-31:-5]+'_STT1_Transcribe'\n",
    "        print(save_name)\n",
    "        f = open(save_name+'.txt', mode='wt', encoding='utf-8')\n",
    "        f.write(text)\n",
    "        f.close()"
   ]
  },
  {
   "cell_type": "code",
   "execution_count": 59,
   "metadata": {},
   "outputs": [
    {
     "name": "stdout",
     "output_type": "stream",
     "text": [
      "lec00001_STT1_Transcribe\n",
      "lec00002_STT1_Transcribe\n",
      "lec00003_STT1_Transcribe\n",
      "lec00004_STT1_Transcribe\n",
      "lec00005_STT1_Transcribe\n",
      "lec00006_STT1_Transcribe\n",
      "lec00007_STT1_Transcribe\n",
      "lec00008_STT1_Transcribe\n",
      "lec00009_STT1_Transcribe\n",
      "lec00010_STT1_Transcribe\n",
      "lec00011_STT1_Transcribe\n",
      "lec00012_STT1_Transcribe\n",
      "lec00013_STT1_Transcribe\n",
      "lec00014_STT1_Transcribe\n",
      "lec00015_STT1_Transcribe\n"
     ]
    }
   ],
   "source": [
    "# json파일 저장돼있는 경로 설정\n",
    "# 파일 이름은 lec00035처럼 되어있어야함\n",
    "# 예를들어 lec00012 ~ lec00036까지 변환하고 싶다면,\n",
    "# text_save(12, 36, r'C:\\\\Users\\\\KYEONGCHAN LEE\\\\Downloads\\\\')\n",
    "\n",
    "text_save(1, 15,  r'C:\\\\Users\\\\KYEONGCHAN LEE\\\\Downloads\\\\')"
   ]
  }
 ],
 "metadata": {
  "kernelspec": {
   "display_name": "Python 3",
   "language": "python",
   "name": "python3"
  },
  "language_info": {
   "codemirror_mode": {
    "name": "ipython",
    "version": 3
   },
   "file_extension": ".py",
   "mimetype": "text/x-python",
   "name": "python",
   "nbconvert_exporter": "python",
   "pygments_lexer": "ipython3",
   "version": "3.7.6"
  }
 },
 "nbformat": 4,
 "nbformat_minor": 4
}
