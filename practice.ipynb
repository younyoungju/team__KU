{
 "cells": [
  {
   "cell_type": "code",
   "execution_count": 1,
   "metadata": {},
   "outputs": [],
   "source": [
    "import pickle\n",
    "from soynlp.hangle import levenshtein\n",
    "# from PreProcessing.find_common_part\n",
    "from konlpy.tag import Kkma\n",
    "from PreProcessing import find_common_part"
   ]
  },
  {
   "cell_type": "code",
   "execution_count": 163,
   "metadata": {},
   "outputs": [],
   "source": [
    "import re"
   ]
  },
  {
   "cell_type": "code",
   "execution_count": 84,
   "metadata": {},
   "outputs": [],
   "source": [
    "from soynlp.hangle import levenshtein, jamo_levenshtein\n",
    "from konlpy.tag import Kkma, Mecab, Okt, Komoran, Hannanum\n",
    "from jamo import h2j, j2hcj, j2h"
   ]
  },
  {
   "cell_type": "code",
   "execution_count": 79,
   "metadata": {},
   "outputs": [
    {
     "name": "stdout",
     "output_type": "stream",
     "text": [
      "0\n",
      "0\n",
      "0\n",
      "1\n",
      "2\n",
      "5\n",
      "4\n",
      "8\n"
     ]
    }
   ],
   "source": [
    "from PreProcessing.find_common_part import find_common_part\n",
    "from PreProcessing.Dictionary import sd, ad, kopro\n",
    "from PreProcessing.Opentext import get_EBS, get_EBS_entered, get_STT1_Google_entered, get_STT1_Google, get_STT1_Transcribe_entered"
   ]
  },
  {
   "cell_type": "code",
   "execution_count": 2,
   "metadata": {},
   "outputs": [],
   "source": [
    "# 불러올때\n",
    "with open('data/ws_removed_EBS.txt', 'rb') as f:\n",
    "    ws_removed_EBS = pickle.load(f)\n",
    "\n",
    "with open('data/most_similar_GOOGLE.txt', 'rb') as f:\n",
    "    most_similar_GOOGLE = pickle.load(f)\n",
    "\n",
    "with open('data/ws_removed_GOOGLE.txt', 'rb') as f:\n",
    "    ws_removed_GOOGLE = pickle.load(f)\n",
    "\n",
    "with open('data/leven_list.txt', 'rb') as f:\n",
    "    leven_list = pickle.load(f)\n",
    "\n",
    "with open('data/leven_nor_list.txt', 'rb') as f:\n",
    "    leven_nor_list = pickle.load(f)"
   ]
  },
  {
   "cell_type": "code",
   "execution_count": null,
   "metadata": {},
   "outputs": [],
   "source": [
    "'그리고똑같이기준값을넣어주면돼결국이직각삼각형에서빗변분의변의길이가얼마나많은이긴한글을줄여서우리는코사인에이가얼마니이렇게묻는거야되나요제가세번째로밑변물의높이를갔다가미평물에높이에기대에비를이걸갖다'"
   ]
  },
  {
   "cell_type": "code",
   "execution_count": 3,
   "metadata": {},
   "outputs": [
    {
     "data": {
      "text/plain": [
       "40"
      ]
     },
     "execution_count": 3,
     "metadata": {},
     "output_type": "execute_result"
    }
   ],
   "source": [
    "ws_removed_GOOGLE.index('그리고나머지한변이뭐가된다')"
   ]
  },
  {
   "cell_type": "code",
   "execution_count": 4,
   "metadata": {},
   "outputs": [],
   "source": [
    "indices = [i for i, x in enumerate(ws_removed_GOOGLE) if x == \"그리고나머지한변이뭐가된다\"]"
   ]
  },
  {
   "cell_type": "code",
   "execution_count": 5,
   "metadata": {},
   "outputs": [
    {
     "data": {
      "text/plain": [
       "[40]"
      ]
     },
     "execution_count": 5,
     "metadata": {},
     "output_type": "execute_result"
    }
   ],
   "source": [
    "indices"
   ]
  },
  {
   "cell_type": "code",
   "execution_count": 9,
   "metadata": {},
   "outputs": [
    {
     "data": {
      "text/plain": [
       "['그리고똑같이기준값을넣어주면돼결국이직각삼각형에서빗변분의변의길이가얼마나많은이긴한글을줄여서우리는코사인에이가얼마니이렇게묻는거야되나요제가세번째로밑변물의높이를갔다가미평물에높이에기대에비를이걸갖다',\n",
       " '우리는뭐라고부르면탄젠트라고부릅니다',\n",
       " '일단사인코사인탄젠트그럼탄젠트를이세개중에어떤들을뽑아서밑변분의높이를우리가게사는것을탄젠트에이라고이야기한다',\n",
       " '내가그러니까앞으로직각삼각형에서기준각일대영구사높이가몇분의몇시니이긴문장을줄여서탄젠트에이가얼마니라고간단하게먹는날이야수학은우리가기로약속이저기서새로운용어가나오고새로운누가이렇게정이되는구나대한걸알았으면이제여러분들이좀암기가필요합니다',\n",
       " '다시한번정리하지만삼각비라는것은세명중에직각삼각형에서삼번중에두병을와서만들수있는길을상담이라고하고그총여섯가지중에세가지를우리가중학교때됐는데쌓이는빗변분의높이코사인은빛변탄젠트는밑변분의높이달하는이기본약속을여러분들이웨어주신상태에서시작을해야되는거예요그리고빗변을집가게에서마주보이는대변이고높이뭐라고요기준가게대변이높이다',\n",
       " '그리고나머지한개는먹어야된다',\n",
       " '밑변이된다',\n",
       " '여기까지여러분들이먼저좀새로운약속이니까지금이약속들을안길을함께가셔야됩니다']"
      ]
     },
     "execution_count": 9,
     "metadata": {},
     "output_type": "execute_result"
    }
   ],
   "source": [
    "ws_removed_GOOGLE[45:53]"
   ]
  },
  {
   "cell_type": "code",
   "execution_count": null,
   "metadata": {},
   "outputs": [],
   "source": []
  },
  {
   "cell_type": "code",
   "execution_count": null,
   "metadata": {},
   "outputs": [],
   "source": []
  },
  {
   "cell_type": "code",
   "execution_count": null,
   "metadata": {},
   "outputs": [],
   "source": []
  },
  {
   "cell_type": "code",
   "execution_count": null,
   "metadata": {},
   "outputs": [],
   "source": []
  },
  {
   "cell_type": "code",
   "execution_count": null,
   "metadata": {},
   "outputs": [],
   "source": []
  },
  {
   "cell_type": "code",
   "execution_count": null,
   "metadata": {},
   "outputs": [],
   "source": []
  },
  {
   "cell_type": "code",
   "execution_count": null,
   "metadata": {},
   "outputs": [],
   "source": []
  },
  {
   "cell_type": "code",
   "execution_count": 80,
   "metadata": {},
   "outputs": [
    {
     "name": "stdout",
     "output_type": "stream",
     "text": [
      "['lec00001_EBS.txt', 'lec00002_EBS.txt', 'lec00003_EBS.txt', 'lec00004_EBS.txt', 'lec00005_EBS.txt', 'lec00006_EBS.txt', 'lec00007_EBS.txt', 'lec00008_EBS.txt', 'lec00009_EBS.txt', 'lec00010_EBS.txt', 'lec00011_EBS.txt', 'lec00012_EBS.txt', 'lec00013_EBS.txt', 'lec00014_EBS.txt', 'lec00015_EBS.txt', 'lec00016_EBS.txt', 'lec00017_EBS.txt', 'lec00018_EBS.txt', 'lec00019_EBS.txt', 'lec00020_EBS.txt', 'lec00021_EBS.txt', 'lec00022_EBS.txt', 'lec00023_EBS.txt', 'lec00024_EBS.txt', 'lec00025_EBS.txt', 'lec00026_EBS.txt']\n"
     ]
    }
   ],
   "source": [
    "EBS = get_EBS(1, 26)"
   ]
  },
  {
   "cell_type": "code",
   "execution_count": 81,
   "metadata": {},
   "outputs": [
    {
     "name": "stdout",
     "output_type": "stream",
     "text": [
      "['lec00001_STT1_Google.txt', 'lec00002_STT1_Google.txt', 'lec00003_STT1_Google.txt', 'lec00004_STT1_Google.txt', 'lec00005_STT1_Google.txt', 'lec00006_STT1_Google.txt', 'lec00007_STT1_Google.txt', 'lec00008_STT1_Google.txt', 'lec00009_STT1_Google.txt', 'lec00010_STT1_Google.txt', 'lec00011_STT1_Google.txt', 'lec00012_STT1_Google.txt', 'lec00013_STT1_Google.txt', 'lec00014_STT1_Google.txt', 'lec00015_STT1_Google.txt', 'lec00016_STT1_Google.txt', 'lec00017_STT1_Google.txt', 'lec00018_STT1_Google.txt', 'lec00019_STT1_Google.txt', 'lec00020_STT1_Google.txt', 'lec00021_STT1_Google.txt', 'lec00022_STT1_Google.txt', 'lec00023_STT1_Google.txt', 'lec00024_STT1_Google.txt', 'lec00025_STT1_Google.txt', 'lec00026_STT1_Google.txt']\n"
     ]
    }
   ],
   "source": [
    "GOOGLE = get_STT1_Google(1, 26)"
   ]
  },
  {
   "cell_type": "code",
   "execution_count": 82,
   "metadata": {},
   "outputs": [],
   "source": [
    "def decimalnumber_to_korean(m):\n",
    "    answer = ''\n",
    "    for _ in m.group(1):\n",
    "        answer += kopro[int(_)]\n",
    "    answer += '점'\n",
    "    for _ in m.group(3):\n",
    "        answer += kopro[int(_)]\n",
    "    return answer\n",
    "\n",
    "def number_to_korean(s):\n",
    "    #소수점 한국어로\n",
    "    s = re.sub(r'(\\d+)(\\.)(\\d+)', decimalnumber_to_korean, s)\n",
    "    \n",
    "    #정수 한국어로\n",
    "    fl = re.findall(r'\\d+', s)\n",
    "    fl = set(fl)\n",
    "    fl = [int(_) for _ in fl]\n",
    "    fl.sort(reverse=True)\n",
    "    fl = [str(_) for _ in fl]\n",
    "    for n in fl:\n",
    "        s = s.replace(n, kopro[int(n)])\n",
    "    return s\n",
    "\n",
    "def mathsymbol_to_korean(s):\n",
    "    for ms in sd.keys():\n",
    "        if ms in s:\n",
    "            s = s.replace(ms, sd[ms])\n",
    "    return s\n",
    "\n",
    "def alphabet_to_korean(s):\n",
    "    for a in ad.keys():\n",
    "        if a in s:\n",
    "            s = s.replace(a, ad[a])\n",
    "    return s\n",
    "\n",
    "def remove_newlines(s):\n",
    "    \n",
    "    return re.sub(r'[\\n]+', ' ', s)\n",
    "\n",
    "def remove_puncuations(s):\n",
    "    \n",
    "    return re.sub(r'[\\.?,‘’]+', ' ', s)\n",
    "\n",
    "def insert_dot(text, dot):\n",
    "    pattern1 = re.compile(r'\\S(ㄷㅏ)$')   #다\n",
    "#     pattern2 = re.compile(r'(.ㅔ|ㅏ|ㅓ|ㅐ|ㅗ|ㅜ)(ㅇㅛ)$') # ㅔ요, ㅏ요, ㅓ요\n",
    "#     pattern3 = re.compile(r'(ㅆ)(ㅈ|ㅊ)(ㅛ)$') \n",
    "#     pattern4 = re.compile(r'(ㅂ|ㅣ)(ㄴㅣㄲㅏ)$')  #ㅂ니까\n",
    "#     pattern5 = re.compile(r'(ㄴㄷㅔ)$')\n",
    "    text_list = []\n",
    "    _1 = 0\n",
    "    _2 = 0\n",
    "    _3 = 0\n",
    "    _4 = 0\n",
    "    _5 = 0\n",
    "    _6 = 0\n",
    "    for _ in text.split(' '):         \n",
    "        new_ = j2hcj(h2j(_))\n",
    "        if pattern1.findall(new_):\n",
    "            text_list.append(_.replace(_, _+dot))\n",
    "            _1 += 1\n",
    "#         elif pattern2.findall(new_):\n",
    "#             text_list.append(_.replace(_, _+dot))\n",
    "#             _2 += 1\n",
    "#             list2.append(_)\n",
    "#         elif pattern3.findall(new_):\n",
    "#             text_list.append(_.replace(_, _+dot))\n",
    "#             _3 += 1\n",
    "#             list3.append(_)\n",
    "#         elif pattern4.findall(new_):\n",
    "#             text_list.append(_.replace(_, _+dot))\n",
    "#             _4 += 1\n",
    "#         elif pattern5.findall(new_):\n",
    "#             text_list.append(_.replace(_,_+dot))\n",
    "#             _5 += 1\n",
    "        else:\n",
    "            text_list.append(_)\n",
    "            _6 += 1\n",
    "#     print('pattern1 = {}, pattern2= {}, pattern3 = {}, pattern5 = {}, pattern6 = {}'.format(_1,_2,_3,_4,_5,_6)) \n",
    "    #print('pattern2 = ',list2)#'\\n','list5 = ',list5)\n",
    "    return text_list    \n",
    "\n",
    "# EBS 전처리\n",
    "def EBS_preprocessing(EBS):\n",
    "    \n",
    "#     수학기호 한국어로 변환(EBS)\n",
    "    ebs_math_conversion = mathsymbol_to_korean(EBS)\n",
    "        \n",
    "#     숫자 한국어로 변환(EBS)\n",
    "    ebs_number_conversion = number_to_korean(ebs_math_conversion)\n",
    "        \n",
    "#     알파벳 한국어로 변환(EBS)\n",
    "    ebs_alphabet_conversion = alphabet_to_korean(ebs_number_conversion)\n",
    "    \n",
    "#     특수문자 제거\n",
    "    ebs_punc_removed = remove_puncuations(ebs_alphabet_conversion)\n",
    "    \n",
    "#     점 집어넣기\n",
    "#     ebs_dot_inserted = ' '.join(insert_dot(ebs_punc_removed,'.'))\n",
    "\n",
    "#     띄어쓰기 제거\n",
    "#     ebs_whitespace_removed = re.sub('[\\s]+', '', ebs_punc_removed)\n",
    "\n",
    "    return ebs_punc_removed\n",
    "\n",
    "# GOOGLE 전처리\n",
    "def GOOGLE_preprocessing(GOOGLE):\n",
    "        \n",
    "#     개행 삭제\n",
    "    google_newline_removed = remove_newlines(GOOGLE)\n",
    "    \n",
    "#     수학기호 한국어로 변환\n",
    "    google_math_conversion = mathsymbol_to_korean(google_newline_removed)\n",
    "    \n",
    "#     숫자 한국어로 변환(GOOGLE)\n",
    "    google_number_conversion = number_to_korean(google_math_conversion)\n",
    "        \n",
    "#     알파벳 한국어로 변환(GOOGLE)\n",
    "    google_alphabet_conversion = alphabet_to_korean(google_number_conversion)\n",
    "    \n",
    "#     특수문자 제거\n",
    "    google_punc_removed = remove_puncuations(google_alphabet_conversion)\n",
    "    \n",
    "#     점 집어넣기\n",
    "#     google_dot_inserted = ' '.join(insert_dot(google_punc_removed,'.'))\n",
    "    \n",
    "#     띄어쓰기 제거\n",
    "#     google_whitespace_removed = re.sub('[\\s]+', '', google_punc_removed)\n",
    "\n",
    "    return google_punc_removed"
   ]
  },
  {
   "cell_type": "code",
   "execution_count": 85,
   "metadata": {},
   "outputs": [],
   "source": [
    "ko_pre_EBS = EBS_preprocessing(EBS) #한글로 치환\n",
    "ko_pre_GOOGLE = GOOGLE_preprocessing(GOOGLE) #한글로 치환\n",
    "dot_inserted_EBS = ' '.join(insert_dot(ko_pre_EBS,'.')).split('.')\n",
    "dot_inserted_GOOGLE = ' '.join(insert_dot(ko_pre_GOOGLE,'.')).split('.')"
   ]
  },
  {
   "cell_type": "code",
   "execution_count": 86,
   "metadata": {},
   "outputs": [],
   "source": [
    "ws_removed_EBS = [''.join(_.split()) for _ in dot_inserted_EBS]\n",
    "ws_removed_GOOGLE = [''.join(_.split()) for _ in dot_inserted_GOOGLE]"
   ]
  },
  {
   "cell_type": "code",
   "execution_count": 89,
   "metadata": {
    "scrolled": false
   },
   "outputs": [
    {
     "data": {
      "text/plain": [
       "1368"
      ]
     },
     "execution_count": 89,
     "metadata": {},
     "output_type": "execute_result"
    }
   ],
   "source": [
    "ws_removed_EBS.index('그러니까여기에서소문자에이치를곱해주면비에이치는결국에이치탄젠트오십칠도이고같은방법으로탄젠트누구는노란색으로볼까요이삼각형에서탄젠트누구이십삼도는에이치분의씨에이치다')"
   ]
  },
  {
   "cell_type": "code",
   "execution_count": 90,
   "metadata": {},
   "outputs": [
    {
     "data": {
      "text/plain": [
       "1342"
      ]
     },
     "execution_count": 90,
     "metadata": {},
     "output_type": "execute_result"
    }
   ],
   "source": [
    "ws_removed_GOOGLE.index('삼각형에이비씨가있습니다')"
   ]
  },
  {
   "cell_type": "code",
   "execution_count": 93,
   "metadata": {},
   "outputs": [],
   "source": [
    "idx = ws_removed_GOOGLE.index('삼각형의넓이어저기선생님조금아까이분의일곱하기육영영영곱하기높이이거말고삼각형의넓이를삼각비중에서뭐가아직굉장히새롭게하나요그렇진않아요오늘삼각형의넓이또한우리가이미알고있는이분의일곱하기높이를통해서구할겁니다')"
   ]
  },
  {
   "cell_type": "code",
   "execution_count": 96,
   "metadata": {
    "scrolled": true
   },
   "outputs": [
    {
     "data": {
      "text/plain": [
       "1339"
      ]
     },
     "execution_count": 96,
     "metadata": {},
     "output_type": "execute_result"
    }
   ],
   "source": [
    "idx"
   ]
  },
  {
   "cell_type": "code",
   "execution_count": 94,
   "metadata": {},
   "outputs": [
    {
     "data": {
      "text/plain": [
       "['괄호안에고객의삼분후에그다음마지막알파벳하나가좋을텐데요무엇인지오늘수업포인트안나면다보일수있을겁니다',\n",
       " '저는수고많이하셨고요다음시간에도철저한복습하고오시는거잊지마시기바랍니다',\n",
       " '수고하셨습니다',\n",
       " '오늘제목이삼각형의넓이져우리춤삼각형의넓이어이건우리두살때부터그랬다',\n",
       " '이분의일곱하기곱하기곱하기다들알고있어요그죠근데뭘갑자기삼각형의넓이를또그않아우리가지금되고있는나는바로뭡니까삼각비입니다이삼각비의활용을배우고있는데이삼각비를이용해서도삼각형넓이를구할수있어요오늘공부할주제는딱이거하나요삼각형의넓이를구할겁니다',\n",
       " '물이용해서삼각비를이용해서오늘은늦게공식이안길을좀부탁드릴게요그때그봉식이어렵지않습니다',\n",
       " '그대로쪽에서충분히외울수있고그리고오늘앞부분에개념설명은그공유기왜나오는지유도과정보여드리는걸개념을할겁니다',\n",
       " '그러기때문에유도과정을쪽보고나서마지막에는결론은여러분들이암기를하셔야된다는거지금까지는선생님시간지난시간안해도돼라고했는데오늘은물론암기를안해도풀수는있지만암기를했을때와안했을때의시간차이가많이나기때문에암기를권하는겁니다',\n",
       " '오늘뭐공부하겠다고요삼각형의넓이끝냅시다',\n",
       " '자대전한번보도록하겠습니다',\n",
       " '삼각형의넓이어저기선생님조금아까이분의일곱하기육영영영곱하기높이이거말고삼각형의넓이를삼각비중에서뭐가아직굉장히새롭게하나요그렇진않아요오늘삼각형의넓이또한우리가이미알고있는이분의일곱하기높이를통해서구할겁니다',\n",
       " '그런데닉변하고높이가다주어지는게아니라이런조건으로되어있어요첫번째바로두변의길이가주어져요그다음에끼인각이들었습니다',\n",
       " '그런데우리는삼각형의넓이를구할수있다는얘기야무슨얘긴지그림을단단하게그려보도록하겠습니다',\n",
       " '삼각형에이비씨가있습니다',\n",
       " '우리는뭐용변을갔다가가기대문자이면벼는소문자에이적자가기소문자대문자쉬면변은이렇게쓰겠죠내용이뭐냐면지금이렇게세개가좋아요주어지는걸선생님이분홍색으로동그라미쳐볼게육일이육일이뭐라고요두변의길이그다음에그이년사이에낀가기주어서있을때우리는이삼각형의넓이구할수있다라는얘기죠예전같으면상상도못했죠어떻게해도넓이를거예요이거높이높이높이곱하기이분의일해야되는데맞죠근데그걸로할거야잘봐요아이것만하면끝나겠네이거이거요거그럼답은놀까답이삼각형의넓이로맨스라고나보면넓이를이분의일곱하기육영영영곱하기높이뛰어거잖아그죠에이치를구해주면되는거야근데이건선생님이지금잡은문자고하고씨하고삐요세개가있으니에이칠그걸이용해서표현으로자금어떻게할거냐지금여기왼쪽에보면삼각형에이비에이치는무슨삼각형직각삼각형그러면당연히못쓸수있어삼각비쓸수있어요에이치를주어진것들을가지고표현을해볼거면다쓸수도있고없을수도있는데당연히어떻게할거야직각삼각형이니까아빗변이있고높이를알고싶은거니까싸인비가되겠구나라는걸생각할수있으면되는겁니다',\n",
       " '아선생님이싸인비가와요빗변분의높이잖아요맞죠그러니까에이치는하려면씨를양변에보태주면돼요결국씨싸인비가높이입니다',\n",
       " '씨하고학비는추워져있으니이거숫자로바꾸기그죠그러면우리가구하고자하는넓이에서에이치자리에다가씨싸인비를대입하면이것이바로삼각형의넓이구하는공식이된다는이야기요자결과만놓고본다면제외되어삼각형에서두변의길이가핀가기젖어있으면이분의일곱하기밑변곱하기그다음에요번달은앞면곱하기사인기인가이렇게하면좀복잡하죠문제어떻게되냐면주어진두변의길이곱하기사인게임다시한번이분의일곱하기두변의길이의추워졌어요두변의길이곱하기사인기인가됐나요이분의일곱하기두변의길이곱하기네오세요알았죠남겨드립니다',\n",
       " '근데이게완전새로운공식게아니라뭘통해서나왔다',\n",
       " '아바로루피를구해서이분의일곱하기사곱하기높이초등학교때부터이방법으로푼건데단높이에이칠바로삼각비리움에서유병각비를의미표현했다라는요아이디어만새롭게추가가된다는얘기야그책에보면두번째볼수도있습니다',\n",
       " '두번째두번째도마찬가지로두변의길이가긴가기전에있는데그게임가게이제게임가기그냥간단하게이렇게게임가기등각있대요어떤느낌인지보겠습니다',\n",
       " '이렇게생겼어요어떤병인가어떤병이주어서있냐면입원하고간단하게그냥문자로쓰겠습니다요면이주어서있고이사이에가기주어져있는데그각이입니다이삼각형의넓이를편해볼거야새로운거없었어삼각형넓이어떻게이분의일곱하기윗변곱하기높였고이등변삼각형의넓이는밑변을에이라고했을때높이어떻게하더라우리높이어떻게썼죠그쳐당연히밑변에연장선긋고맞죠나머지꼭짓점에서밑변에수선연장선에서늙은요길이가높이이거에이치지금선생님이문제있는건연두색세개요맞죠그럼우리는답이뭐죠넓이어떻게구해면되지이분의일곱하기밑변곱하기소피아둔각삼각형에서넓이구하는거어차피밑변이오고높이는요거곡이거야뭘로바꿀거야우리가알고있네소문자에이씨비로바꾸겠다는이야기입니다',\n",
       " '그런데요거바꿀건데여보세요아요삼각형에서쓰면되겠구나삼각비로응그러면요가글알면싸인비싸인요거는여선생싸인요거는십에이치에이그걸이용하겠다고근데우리아들어떻게변할수있어백팔십도에서주어진비를빼는겁니다요게뭐라고백팔십도에서갖기를뺀거잖아맞죠아그러니까이거삼각형에서우리는싸인백팔십마이너스비가제사이게복잡한개를이거싸이닉씨에이치니까결국양변에씨를곱해주면이렇게올라갈테니에이치가시사인백팔십마이너스비니까에이치자리에그대로대입해보면씨스타엔백에스피이게바로넓이를구하는공식이된다라는이야긴데이게뭔가되게어렵고복잡한게아니라여러분들단숨에우리다인이레이저백이거뭘로사인백이십도알아요모르잖아싸인백이십백오십몰라요어떻게하란얘기야바깥쪽은내가이기겠지안쪽에생각이면바깥쪽으로바꾸어서우리는이각을바로매입하면된단얘기야됐으니까이가카고카고이곳이간단음식처럼보이지만실제로는계속해보세요이분의일곱하기두변의길이의이분의일곱하기두변의길이있잖아곱하기사임진각하려고했는데그게중간이라모르니까바깥쪽으로타자연습필요하겠죠같이함께아래쪽에있는그얘기개념확인문제한번살펴보도록하겠습니다',\n",
       " '문자로돼있어서굉장히여러분들이좀어렵게느껴지고이렇게실제로구해보면전혀어렵지않아요보겠습니다',\n",
       " '제가삼각형에이비씨넓이를구하는식은보세요두변의길이젖어있고게임닥터돼있죠어떻게하자는의견이이분의일곱하기이곱하기사곱하기사인게임각어렵습니까이분의일곱하기이분의일곱하기사인게임가자그러면이것만계산해주면이분의칠십곱하기싸인사십오도가이분의루트있잖아그래서그럼요거삼십오이렇게아픈데테니이분의삼십오분이제곱센티미터다이렇게구해주시면끝나는거야선생님두변의길이하고게임각젖어있어요이분의일곱하기두변의길이의싸인근데백삼십오도사인백산수모르잖아모르면어떻게하려고바깥쪽내가몇도사십오도요걸그냥데이트해주면된다니까결과적으로이렇게적용시키면되고웨이바깥쪽가글쓰는지는조금아까유도과정에서보여드렸습니다',\n",
       " '그러기때문에우리가이걸정리해보면이분의칠십이분해볼까삼십육곱하기싸인사십오도가이분의루트이니까팔루트제곱씨미터다이렇게구해주시면끝이야어렵습니까오늘되는거다시한번정리합니다',\n",
       " '두변의길이가긴가기전에있어그럼이분의일곱하기두변의길이곱하기이분의일곱하기일곱하기일곱하기이곱하기삼곱하기사이긴가겠습니다',\n",
       " '바깥쪽에가글대입한다',\n",
       " '내가됐어이렇게놈들이정리하시면되는거야함께예제로조금더연습해보도록하겠습니다',\n",
       " '자이제한번보도록하지근데오늘여러분들지금은아주잘안헤어졌어요하는데오늘강의가끝날때쯤에약간죽여이제왔습니다',\n",
       " '선생님이렇게다다함께같이시작해보도록할게요지금뭐하고팔두변의길이주어졌고두면사이에낀가기주어진상태에서널미구하라그대로공식적으로하면되겠죠어떻게됩니까칠곱하기구별의별싸인기인가이게끝이냐고들어오나요이분의일곱하기두변의길이곱하기웹처럼그럼이분의오백팔십사십월이십이적싸인육십돈이분의루트삼이적그러니까약돈에서루트삼선택지에서정답은일번이렇게여러분들이구하시면된단얘기야이거를만약에선생님이진짜진짜열심히공부해서내가왜왔었는데요시험지를받으니까세상이하얘지면서공식을잊어버렸어요개념을쪽에서풀면되잖아아삼각형넓이를이분의일곱하기곱하기높이야나이걸로밑변으로블랙높이는여기서이렇게경기도피겠죠구일하는거잖아그죠이삼각형에서우리가싸인육십도가뭐부네보석싸인육십도가오분의빗변분의높으니까에이치는결국사인육십도이분의루트삼이니까이분의루트삼의높이자그러니까삼각형넓이네이분의일곱하기사곱하기오곱하기육곱하기칠곱하기높이높이가여기서구해놨어요이렇게대입해도사천이백팔십일십루트삼정답은일번하고구할수있는데매번이렇게유도에서풀지않을거야하는게빠르니까이백칠안개하자라고말씀드린겁니다']"
      ]
     },
     "execution_count": 94,
     "metadata": {},
     "output_type": "execute_result"
    }
   ],
   "source": [
    "ws_removed_GOOGLE[idx-10:idx+20]"
   ]
  },
  {
   "cell_type": "code",
   "execution_count": 95,
   "metadata": {},
   "outputs": [
    {
     "data": {
      "text/plain": [
       "1400"
      ]
     },
     "execution_count": 95,
     "metadata": {},
     "output_type": "execute_result"
    }
   ],
   "source": [
    "ws_removed_EBS.index('문제에주어져있는건연두색삼개예요맞죠그럼우리는답이뭐죠넓이어떻게구하면되지이분의일곱하기밑변곱하기높이야이것도배웠죠둔각삼각형에서넓이구하는거어차피밑변이이거고높이는이거고어이거야근데에이치를뭐로바꿀거야우리가알고있는소문자에이씨각비로바꾸겠다는이야기입니다')"
   ]
  },
  {
   "cell_type": "markdown",
   "metadata": {},
   "source": [
    "ebs :  문제에주어져있는건연두색삼개예요맞죠그럼우리는답이뭐죠넓이어떻게구하면되지이분의일곱하기밑변곱하기높이야이것도배웠죠둔각삼각형에서넓이구하는거어차피밑변이이거고높이는이거고어이거야근데에이치를뭐로바꿀거야우리가알고있는소문자에이씨각비로바꾸겠다는이야기입니다\n",
    "1400\n",
    "\n",
    "(잘못찾아짐)\n",
    "google :  삼각형의넓이어저기선생님조금아까이분의일곱하기육영영영곱하기높이이거말고삼각형의넓이를삼각비중에서뭐가아직굉장히새롭게하나요그렇진않아요오늘삼각형의넓이또한우리가이미알고있는이분의일곱하기높이를통해서구할겁니다\n"
   ]
  },
  {
   "cell_type": "markdown",
   "metadata": {},
   "source": [
    "ebs :  이게지금문자로되어있어서굉장히여러분들이좀어렵게느껴지고이렇게실제로구해보면전혀어렵지않아요보겠습니다\n",
    "1403\n",
    "\n",
    "google :  문자로돼있어서굉장히여러분들이좀어렵게느껴지고이렇게실제로구해보면전혀어렵지않아요보겠습니다\n",
    "1351"
   ]
  },
  {
   "cell_type": "code",
   "execution_count": 106,
   "metadata": {},
   "outputs": [
    {
     "data": {
      "text/plain": [
       "'이게지금문자로되어있어서굉장히여러분들이좀어렵게느껴지고이렇게실제로구해보면전혀어렵지않아요보겠습니다'"
      ]
     },
     "execution_count": 106,
     "metadata": {},
     "output_type": "execute_result"
    }
   ],
   "source": [
    "ws_removed_EBS[1403]"
   ]
  },
  {
   "cell_type": "code",
   "execution_count": 107,
   "metadata": {},
   "outputs": [
    {
     "data": {
      "text/plain": [
       "'문자로돼있어서굉장히여러분들이좀어렵게느껴지고이렇게실제로구해보면전혀어렵지않아요보겠습니다'"
      ]
     },
     "execution_count": 107,
     "metadata": {},
     "output_type": "execute_result"
    }
   ],
   "source": [
    "ws_removed_GOOGLE[1351]"
   ]
  },
  {
   "cell_type": "code",
   "execution_count": 117,
   "metadata": {},
   "outputs": [
    {
     "data": {
      "text/plain": [
       "['두번째도마찬가지로두변의길이와끼인각이주어져있는데그끼인각이그냥간단하게이렇게해볼게요끼인각이둔각일때예요어떤느낌인지보겠습니다',\n",
       " '이렇게생겼어요어떤변과어떤변이주어져있냐면이변하고간단하게그냥문자로쓰겠습니다',\n",
       " '이변이주어져있고이사이의각이주어져있는데그각이둔각입니다',\n",
       " '이삼각형의넓이를표현을해볼거예요새로운거없었어삼각형넓이어떻게이분의일곱하기밑변곱하기높이였고이둔각삼각형의넓이를밑변을에이라고했을때높이어떻게하더라우리높이어떻게했었죠그렇죠당연히밑변의연장선긋고맞죠나머지꼭짓점에서밑변의수선연장선에수선을그은이길이가높이예요이거에이치지금선생님이쓴겁니다',\n",
       " '문제에주어져있는건연두색삼개예요맞죠그럼우리는답이뭐죠넓이어떻게구하면되지이분의일곱하기밑변곱하기높이야이것도배웠죠둔각삼각형에서넓이구하는거어차피밑변이이거고높이는이거고어이거야근데에이치를뭐로바꿀거야우리가알고있는소문자에이씨각비로바꾸겠다는이야기입니다',\n",
       " '그런데이거바꿀건데잘보세요이삼각형에서쓰면되겠구나삼각비를그렇죠그러면이각을알면사인이거는씨분의에이치예요그걸이용하겠죠근데우리이각을어떻게표현할수있어백팔십도에서주어진비를빼는겁니다',\n",
       " '이게뭐라고백팔십도에서각비를뺀거잖아맞죠그러니까이삼각형에서우리는사인백팔십도마이너스각비가이게복잡한게아니라이거됐죠사인이각이씨분의에이치니까결국양변에씨를곱해주면이렇게올라갈테니에이치가씨사인백팔십도마이너스각비이니까에이치자리에그대로대입해보면씨사인백팔십도마이너스각비이게바로넓이를구하는공식이된다는이야기인데이게뭔가되게어렵고복잡한게아니라요여러분들단순해이거우리사인예를들어백이십도사인백이십도알아요모르잖아사인백이십도백오십도몰라요어떻게하자는얘기야이바깥쪽은예각이겠죠안쪽이둔각이면바깥쪽으로바꾸어서우리는이각을바로대입하면된다는얘기야됐습니까이공식하고이공식은다른공식처럼보이지만실제로는이공식해석해보세요이분의일곱하기두변의길이의곱이분의일곱하기두변의길이의곱주어져있잖아곱하기사인끼인각하려고했는데그게둔각이라모르니까바깥쪽을대입하자연습필요하겠죠같이함께아래쪽에있는개념확인문제한번살펴보도록하겠습니다',\n",
       " '이게지금문자로되어있어서굉장히여러분들이좀어렵게느껴지고이렇게실제로구해보면전혀어렵지않아요보겠습니다']"
      ]
     },
     "execution_count": 117,
     "metadata": {},
     "output_type": "execute_result"
    }
   ],
   "source": [
    "ws_removed_EBS[1396:1404]"
   ]
  },
  {
   "cell_type": "code",
   "execution_count": 116,
   "metadata": {},
   "outputs": [
    {
     "data": {
      "text/plain": [
       "['근데이게완전새로운공식게아니라뭘통해서나왔다',\n",
       " '아바로루피를구해서이분의일곱하기사곱하기높이초등학교때부터이방법으로푼건데단높이에이칠바로삼각비리움에서유병각비를의미표현했다라는요아이디어만새롭게추가가된다는얘기야그책에보면두번째볼수도있습니다',\n",
       " '두번째두번째도마찬가지로두변의길이가긴가기전에있는데그게임가게이제게임가기그냥간단하게이렇게게임가기등각있대요어떤느낌인지보겠습니다',\n",
       " '이렇게생겼어요어떤병인가어떤병이주어서있냐면입원하고간단하게그냥문자로쓰겠습니다요면이주어서있고이사이에가기주어져있는데그각이입니다이삼각형의넓이를편해볼거야새로운거없었어삼각형넓이어떻게이분의일곱하기윗변곱하기높였고이등변삼각형의넓이는밑변을에이라고했을때높이어떻게하더라우리높이어떻게썼죠그쳐당연히밑변에연장선긋고맞죠나머지꼭짓점에서밑변에수선연장선에서늙은요길이가높이이거에이치지금선생님이문제있는건연두색세개요맞죠그럼우리는답이뭐죠넓이어떻게구해면되지이분의일곱하기밑변곱하기소피아둔각삼각형에서넓이구하는거어차피밑변이오고높이는요거곡이거야뭘로바꿀거야우리가알고있네소문자에이씨비로바꾸겠다는이야기입니다',\n",
       " '그런데요거바꿀건데여보세요아요삼각형에서쓰면되겠구나삼각비로응그러면요가글알면싸인비싸인요거는여선생싸인요거는십에이치에이그걸이용하겠다고근데우리아들어떻게변할수있어백팔십도에서주어진비를빼는겁니다요게뭐라고백팔십도에서갖기를뺀거잖아맞죠아그러니까이거삼각형에서우리는싸인백팔십마이너스비가제사이게복잡한개를이거싸이닉씨에이치니까결국양변에씨를곱해주면이렇게올라갈테니에이치가시사인백팔십마이너스비니까에이치자리에그대로대입해보면씨스타엔백에스피이게바로넓이를구하는공식이된다라는이야긴데이게뭔가되게어렵고복잡한게아니라여러분들단숨에우리다인이레이저백이거뭘로사인백이십도알아요모르잖아싸인백이십백오십몰라요어떻게하란얘기야바깥쪽은내가이기겠지안쪽에생각이면바깥쪽으로바꾸어서우리는이각을바로매입하면된단얘기야됐으니까이가카고카고이곳이간단음식처럼보이지만실제로는계속해보세요이분의일곱하기두변의길이의이분의일곱하기두변의길이있잖아곱하기사임진각하려고했는데그게중간이라모르니까바깥쪽으로타자연습필요하겠죠같이함께아래쪽에있는그얘기개념확인문제한번살펴보도록하겠습니다',\n",
       " '문자로돼있어서굉장히여러분들이좀어렵게느껴지고이렇게실제로구해보면전혀어렵지않아요보겠습니다']"
      ]
     },
     "execution_count": 116,
     "metadata": {},
     "output_type": "execute_result"
    }
   ],
   "source": [
    "ws_removed_GOOGLE[1346:1352]"
   ]
  },
  {
   "cell_type": "code",
   "execution_count": 122,
   "metadata": {},
   "outputs": [],
   "source": [
    "s1 = '이렇게생겼어요어떤변과어떤변이주어져있냐면이변하고간단하게그냥문자로쓰겠습니다이삼각형의넓이를표현을해볼거예요새로운거없었어삼각형넓이어떻게이분의일곱하기밑변곱하기높이였고이둔각삼각형의넓이를밑변을에이라고했을때높이어떻게하더라우리높이어떻게했었죠그렇죠당연히밑변의연장선긋고맞죠나머지꼭짓점에서밑변의수선연장선에수선을그은이길이가높이예요이거에이치지금선생님이쓴겁니다문제에주어져있는건연두색삼개예요맞죠그럼우리는답이뭐죠넓이어떻게구하면되지이분의일곱하기밑변곱하기높이야이것도배웠죠둔각삼각형에서넓이구하는거어차피밑변이이거고높이는이거고어이거야근데에이치를뭐로바꿀거야우리가알고있는소문자에이씨각비로바꾸겠다는이야기입니다'"
   ]
  },
  {
   "cell_type": "code",
   "execution_count": 123,
   "metadata": {},
   "outputs": [],
   "source": [
    "s2 = '이렇게생겼어요어떤병인가어떤병이주어서있냐면입원하고간단하게그냥문자로쓰겠습니다요면이주어서있고이사이에가기주어져있는데그각이입니다이삼각형의넓이를편해볼거야새로운거없었어삼각형넓이어떻게이분의일곱하기윗변곱하기높였고이등변삼각형의넓이는밑변을에이라고했을때높이어떻게하더라우리높이어떻게썼죠그쳐당연히밑변에연장선긋고맞죠나머지꼭짓점에서밑변에수선연장선에서늙은요길이가높이이거에이치지금선생님이문제있는건연두색세개요맞죠그럼우리는답이뭐죠넓이어떻게구해면되지이분의일곱하기밑변곱하기소피아둔각삼각형에서넓이구하는거어차피밑변이오고높이는요거곡이거야뭘로바꿀거야우리가알고있네소문자에이씨비로바꾸겠다는이야기입니다'"
   ]
  },
  {
   "cell_type": "code",
   "execution_count": 124,
   "metadata": {},
   "outputs": [
    {
     "data": {
      "text/plain": [
       "90"
      ]
     },
     "execution_count": 124,
     "metadata": {},
     "output_type": "execute_result"
    }
   ],
   "source": [
    "levenshtein(s1, s2)"
   ]
  },
  {
   "cell_type": "code",
   "execution_count": 98,
   "metadata": {
    "scrolled": true
   },
   "outputs": [
    {
     "data": {
      "text/plain": [
       "1403"
      ]
     },
     "execution_count": 98,
     "metadata": {},
     "output_type": "execute_result"
    }
   ],
   "source": [
    "ws_removed_EBS.index('이게지금문자로되어있어서굉장히여러분들이좀어렵게느껴지고이렇게실제로구해보면전혀어렵지않아요보겠습니다')"
   ]
  },
  {
   "cell_type": "markdown",
   "metadata": {},
   "source": [
    "# case1"
   ]
  },
  {
   "cell_type": "markdown",
   "metadata": {},
   "source": [
    "#### 잘 맞는애들"
   ]
  },
  {
   "cell_type": "code",
   "execution_count": 132,
   "metadata": {},
   "outputs": [
    {
     "name": "stdout",
     "output_type": "stream",
     "text": [
      "1617\n",
      "1539\n"
     ]
    }
   ],
   "source": [
    "print(ws_re#### 잘 맞는애들moved_EBS.index('구하고자하는건이제둘레의길이죠간단하게둘레라고만쓰겠습니다'))\n",
    "print(ws_removed_GOOGLE.index('야구하고자는건이제둘레길이줘그냥간단하게부르라고쓰겠습니다'))"
   ]
  },
  {
   "cell_type": "markdown",
   "metadata": {},
   "source": [
    "#### XXX 잘 안맞는애들"
   ]
  },
  {
   "cell_type": "code",
   "execution_count": 133,
   "metadata": {},
   "outputs": [
    {
     "name": "stdout",
     "output_type": "stream",
     "text": [
      "1618\n",
      "1433\n"
     ]
    }
   ],
   "source": [
    "print(ws_removed_EBS.index('둘레의길이는그럼팔이이개있고그다음에누가십오가이개있어이얘기네그렇죠그러니까한마디로십오이개더하면삼십팔이개더하면십육이렇게가도되겠죠십육더하기삼십이렇게해주면결국사십육센치미터다'))\n",
    "print(ws_removed_GOOGLE.index('그럼잘보세요여기에서정리해보자나이렇게나쁜데서이의제곱더하기이분의일이에이제곱더하기이분의일에이제곱더하기삼각형비미터엔이모터사이제법이다'))"
   ]
  },
  {
   "cell_type": "markdown",
   "metadata": {},
   "source": [
    "#### XXX 잘 안맞는애들"
   ]
  },
  {
   "cell_type": "code",
   "execution_count": 134,
   "metadata": {},
   "outputs": [
    {
     "name": "stdout",
     "output_type": "stream",
     "text": [
      "1619\n",
      "1532\n"
     ]
    }
   ],
   "source": [
    "print(ws_removed_EBS.index('센티미터맞죠이렇게여러분들께서답을구해주시면끝나는거예요됐죠결국문제가좀복잡할때는구하고자하는것이무엇인가를먼저봤는데그게굉장히복잡해보이지만실제로어떤거하나만구하면되는지그포인트를잡아내는것이여러분들이이런문제를푸는데어떤핵심이되겠습니다'))\n",
    "print(ws_removed_GOOGLE.index('이렇게여러분들이생각을바꿀수있어야되겠고그빗이애기는어떻게구할거야당연히넓이구하는공식을이용한다는이야기입니다#### XXX 잘 안맞는애들'))"
   ]
  },
  {
   "cell_type": "markdown",
   "metadata": {},
   "source": [
    "#### XXX 잘 안맞는애들"
   ]
  },
  {
   "cell_type": "code",
   "execution_count": 130,
   "metadata": {},
   "outputs": [
    {
     "name": "stdout",
     "output_type": "stream",
     "text": [
      "1620\n",
      "1541\n"
     ]
    }
   ],
   "source": [
    "print(ws_removed_EBS.index('다음문제로유제칠번문제들어가보도록할텐데요유제칠번을이제평행사변형쪽은끝났으니까대각선의길이주어진거나오겠죠그렇죠문제보도록할게요이문제는사실그냥그대로예요우리가아는거땅의넓이구하래이거땅이야지금대각선주어져있고교각주어져있어뭐하라는얘기예요그렇죠넓이는이분의일곱하기두대각선의길이의곱곱하기사인육십도이거하라는얘기잖아사인육십도뭐로고칠까이분의루트삼고쳐놓고시작해보도록하겠습니다'))\n",
    "print(ws_removed_GOOGLE.index('그저문제보도록할게요이문제는사실그냥그대로왜요우리가아는거땅의넓이구할해이거짱이야지금대각선주제곡음악들어있어뭐하란얘기예요그렇죠넓이를이분의일곱하기두대각선의길이곱하기육십이거하는얘기잖아그럼뭘로지을까이분의루트삼고쳐놓고시작해보도록하겠습니다'))"
   ]
  },
  {
   "cell_type": "markdown",
   "metadata": {},
   "source": [
    "#### 잘 맞는애들"
   ]
  },
  {
   "cell_type": "code",
   "execution_count": 131,
   "metadata": {},
   "outputs": [
    {
     "name": "stdout",
     "output_type": "stream",
     "text": [
      "1621\n",
      "1542\n"
     ]
    }
   ],
   "source": [
    "print(ws_removed_EBS.index('그러면이분의십오될테고요이분의오곱하기칠는삼십오죠이분의삼십오루트삼단위는제곱미터선택지에서몇번이다'))\n",
    "print(ws_removed_GOOGLE.index('이분의십오될테구요이분의오십칠길삼십오삼십오루트삼의제곱미터선택지에서몇번이다이번이다'))"
   ]
  },
  {
   "cell_type": "code",
   "execution_count": 161,
   "metadata": {},
   "outputs": [
    {
     "name": "stdout",
     "output_type": "stream",
     "text": [
      "둘레의길이는그럼팔이이개있고그다음에누가십오가이개있어이얘기네그렇죠그러니까한마디로십오이개더하면삼십팔이개더하면십육이렇게가도되겠죠십육더하기삼십이렇게해주면결국사십육센치미터다센티미터맞죠이렇게여러분들께서답을구해주시면끝나는거예요됐죠결국문제가좀복잡할때는구하고자하는것이무엇인가를먼저봤는데그게굉장히복잡해보이지만실제로어떤거하나만구하면되는지그포인트를잡아내는것이여러분들이이런문제를푸는데어떤핵심이되겠습니다다음문제로유제칠번문제들어가보도록할텐데요유제칠번을이제평행사변형쪽은끝났으니까대각선의길이주어진거나오겠죠그렇죠문제보도록할게요이문제는사실그냥그대로예요우리가아는거땅의넓이구하래이거땅이야지금대각선주어져있고교각주어져있어뭐하라는얘기예요그렇죠넓이는이분의일곱하기두대각선의길이의곱곱하기사인육십도이거하라는얘기잖아사인육십도뭐로고칠까이분의루트삼고쳐놓고시작해보도록하겠습니다\n"
     ]
    }
   ],
   "source": [
    "print(''.join(ws_removed_EBS[1617+1: 1621]))"
   ]
  },
  {
   "cell_type": "code",
   "execution_count": 162,
   "metadata": {},
   "outputs": [
    {
     "name": "stdout",
     "output_type": "stream",
     "text": [
      "블레이디는금파리두개있고그다음에누가십오가두개있어이얘기네그죠그러니까한마디로치고두개다하면삼십팔두개다음에십육이렇게가도되겠지뭐십육더하기삼십이이렇게해주면결국사십얼마죠육씨미터다일씨미터왔죠이렇게해서답을보여주시면끝나는거야내가좀복잡할텐데구하고자는것이무엇인가먼저봤는데그게굉장히복잡해보이지만실제로어떤거하나만구하면되는데그포인트를잡아내는것이여러분들이이런문제를푸는데어떤학생이진짜다음지도이제칠번문제들어가보도록할텐데요이제칠번은이제평행사변형조금끝났으니까대각선의길이좋아진거나오겠다그저문제보도록할게요이문제는사실그냥그대로왜요우리가아는거땅의넓이구할해이거짱이야지금대각선주제곡음악들어있어뭐하란얘기예요그렇죠넓이를이분의일곱하기두대각선의길이곱하기육십이거하는얘기잖아그럼뭘로지을까이분의루트삼고쳐놓고시작해보도록하겠습니다\n"
     ]
    }
   ],
   "source": [
    "print(''.join(ws_removed_GOOGLE[1539+1: 1542]))"
   ]
  },
  {
   "cell_type": "markdown",
   "metadata": {},
   "source": [
    "# case2"
   ]
  },
  {
   "cell_type": "markdown",
   "metadata": {},
   "source": [
    "#### 잘 맞는애들"
   ]
  },
  {
   "cell_type": "code",
   "execution_count": 138,
   "metadata": {},
   "outputs": [
    {
     "name": "stdout",
     "output_type": "stream",
     "text": [
      "2276\n",
      "2128\n"
     ]
    }
   ],
   "source": [
    "print(ws_removed_EBS.index('문제가이렇게되어있다는얘기야사인이주어져있어요그리고코사인하고탄젠트를구하래조금아까는사인이주어져있었고삼각형주어진다음에하나변주어져있었고나머지두변구하는거였고지금은사인에이가얼마라고알려주고나머지코사인에이하고탄젠트에이를구하라고했습니다'))\n",
    "print(ws_removed_GOOGLE.index('문제가있다는거야싸인이주어져있어요그리고코사인탄젠트를구하라조금아까는싸인이주어도있었고삼각형주어진다음에일번주어질수없고나머지두명구하는거같고지금은싸인에이가얼마사라고알려주고나머지코사인탄젠트일을구하라그랬습니다'))"
   ]
  },
  {
   "cell_type": "markdown",
   "metadata": {},
   "source": [
    "#### XXX 잘 안맞는애들"
   ]
  },
  {
   "cell_type": "code",
   "execution_count": 139,
   "metadata": {},
   "outputs": [
    {
     "name": "stdout",
     "output_type": "stream",
     "text": [
      "2277\n",
      "2129\n"
     ]
    }
   ],
   "source": [
    "print(ws_removed_EBS.index('이유형이왜어려울까딱하나예요어려운이유는그림이없어서뭐라고요그림이없어서그럼해결방법은뭘까그림을그리면돼요단순하죠그림을그려삼각비는무슨삼각형직각삼각형에서한다고했잖아직각삼각형을그리면끝나요그런데그시작그리는게귀찮아아니면어떻게그려야할지몰라서머뭇머뭇그래서이유형을모르는거예요그림을그리기만하면됩니다'))\n",
    "print(ws_removed_GOOGLE.index('왜어려울것딱하나예요어려운이유는그림이없어서뭐라고요그림이없어서그래방법은뭘까그림을그리면돼요단순하죠그림을그려삼각비무슨삼각형직각삼각형에서한다'))"
   ]
  },
  {
   "cell_type": "markdown",
   "metadata": {},
   "source": [
    "#### 잘 맞는애들"
   ]
  },
  {
   "cell_type": "code",
   "execution_count": 141,
   "metadata": {},
   "outputs": [
    {
     "name": "stdout",
     "output_type": "stream",
     "text": [
      "2278\n",
      "2131\n"
     ]
    }
   ],
   "source": [
    "print(ws_removed_EBS.index('개념은이렇게되어있어요삼각비중어느하나의값을알때다른삼각비의값은어떻게한다고요첫번째가포인트예요직각삼각형그리세요그릴수있습니다'))\n",
    "print(ws_removed_GOOGLE.index('개념은이렇게돼있어요삼각비중어느하나의값을할때다른생각의값은어떻게한다고첫번째가프린트직각삼각형그리세요그릴수있습니다'))"
   ]
  },
  {
   "cell_type": "code",
   "execution_count": 157,
   "metadata": {},
   "outputs": [
    {
     "name": "stdout",
     "output_type": "stream",
     "text": [
      "이유형이왜어려울까딱하나예요어려운이유는그림이없어서뭐라고요그림이없어서그럼해결방법은뭘까그림을그리면돼요단순하죠그림을그려삼각비는무슨삼각형직각삼각형에서한다고했잖아직각삼각형을그리면끝나요그런데그시작그리는게귀찮아아니면어떻게그려야할지몰라서머뭇머뭇그래서이유형을모르는거예요그림을그리기만하면됩니다\n",
      "\n",
      "왜어려울것딱하나예요어려운이유는그림이없어서뭐라고요그림이없어서그래방법은뭘까그림을그리면돼요단순하죠그림을그려삼각비무슨삼각형직각삼각형에서한다그랬잖아직각삼각형을그리면끝나요근데그시작드리는게귀찮아아니면어떻게그려야될지몰라서머뭇머뭇그래서유형을모르는거예요그림을그리기만하면됩니다\n"
     ]
    }
   ],
   "source": [
    "print(''.join(ws_removed_EBS[2276+1:2278]))\n",
    "print()\n",
    "print(''.join(ws_removed_GOOGLE[2128+1:2131]))"
   ]
  },
  {
   "cell_type": "markdown",
   "metadata": {},
   "source": [
    "# case3"
   ]
  },
  {
   "cell_type": "markdown",
   "metadata": {},
   "source": [
    "#### 잘 맞는애들"
   ]
  },
  {
   "cell_type": "code",
   "execution_count": 144,
   "metadata": {},
   "outputs": [
    {
     "name": "stdout",
     "output_type": "stream",
     "text": [
      "2393\n",
      "2245\n"
     ]
    }
   ],
   "source": [
    "print(ws_removed_EBS.index('따라서사십오도가기준각이면사인코사인탄젠트생각할수있을겁니다'))\n",
    "print(ws_removed_GOOGLE.index('따라서사십오도바퀴중간이면싸인코사인탄젠트생각할수있을겁니다'))"
   ]
  },
  {
   "cell_type": "markdown",
   "metadata": {},
   "source": [
    "#### XXX 잘 안맞는애들"
   ]
  },
  {
   "cell_type": "code",
   "execution_count": 145,
   "metadata": {},
   "outputs": [
    {
     "name": "stdout",
     "output_type": "stream",
     "text": [
      "2394\n",
      "2269\n"
     ]
    }
   ],
   "source": [
    "print(ws_removed_EBS.index('사인코사인탄젠트사십오도가머릿속을스쳐지나가야해그다음오른쪽에있는삼각형에이씨디에서도보겠습니다'))\n",
    "print(ws_removed_GOOGLE.index('사인코사인안에있는작은사각형탄젠트는밖에있는삼각형에서생각한다'))"
   ]
  },
  {
   "cell_type": "markdown",
   "metadata": {},
   "source": [
    "#### XXX 잘 안맞는애들"
   ]
  },
  {
   "cell_type": "code",
   "execution_count": 146,
   "metadata": {},
   "outputs": [
    {
     "name": "stdout",
     "output_type": "stream",
     "text": [
      "2395\n",
      "2269\n"
     ]
    }
   ],
   "source": [
    "print(ws_removed_EBS.index('이삼각형은선생님직각삼각형인데기준각육십도로보거나아니면이각이삼십도니까그걸갖고어쨌든할거예요여기서포인트는에이디가왼쪽에있는삼각형의한변이면서오른쪽에있는삼각형의한변이야즉에이디를매개삼아우리는구할거야이생각을해야하는거예요그러면첫번째에이디의길이구하라고하잖아이걸구해야시작한다고포인트예요그러면에이디는어떻게구해당연히여기서는하나도변을모르니까오른쪽에서구하는거겠죠분홍색삼각형에서즉이건어디서구해삼각형에이디씨에서구해볼거예요에이디씨에서어떻게됩니까아높이를구하라는얘기네육십도에서바라봤을때의높이빗변이사고높이즉사분의에이디가바로빗변분의높이사인육십도구나그러니까사인육십도는이분의루트삼이잖아그렇죠그러니까양변에사배해주면에이디는결국뭐가돼사곱하기이분의루트삼이돼서이루트삼이다'))\n",
    "print(ws_removed_GOOGLE.index('사인코사인안에있는작은사각형탄젠트는밖에있는삼각형에서생각한다#### XXX 잘 안맞는애들'))"
   ]
  },
  {
   "cell_type": "markdown",
   "metadata": {},
   "source": [
    "#### XXX 잘 안맞는애들"
   ]
  },
  {
   "cell_type": "code",
   "execution_count": 147,
   "metadata": {},
   "outputs": [
    {
     "name": "stdout",
     "output_type": "stream",
     "text": [
      "2396\n",
      "2269\n"
     ]
    }
   ],
   "source": [
    "print(ws_removed_EBS.index('여기까지여러분들이구할수있는거예요아이길이가이루트삼이구나그렇다면두번째에이비의길이는어떻게구할수있을까에이비는이거네아선생님이걸기준각으로봤을때빗변을알고싶은거예요그런데기준각에서마주보이는높이가주어져있어요그러면우리머릿속에빡스쳐지나가는거야빗변하고높이네뭐야사인이네됐죠두번째거는사인사십오도를이용해야겠네사인사십오도가뭐분의뭐야에이비분의이루트삼이라는거예요에이비분의이루트삼그런데사인사십오도외웠죠몇이에요이분의루트이입니다'))\n",
    "print(ws_removed_GOOGLE.index('사인코사인안에있는#### XXX 잘 안맞는애들작은사각형탄젠트는밖에있는삼각형에서생각한다'))"
   ]
  },
  {
   "cell_type": "markdown",
   "metadata": {},
   "source": [
    "#### 잘 맞는애들"
   ]
  },
  {
   "cell_type": "code",
   "execution_count": 148,
   "metadata": {},
   "outputs": [
    {
     "name": "stdout",
     "output_type": "stream",
     "text": [
      "2397\n",
      "2247\n"
     ]
    }
   ],
   "source": [
    "print(ws_removed_EBS.index('됐죠그럼여기서우리는에이비를구할거고대각선끼리곱하면같다고이야기했어요루트이에이비가몇루트삼사루트삼이니까이렇게곱하면양변을루트이로나누면에이비는루트이분의사루트삼이고유리화해서루트이분의루트이를곱해주면잘보세요분모얼마예요이죠분자얼마예요사루트육이죠그러니까이분의사만약분해주면결국이루트육까지여러분들이에이비의길이를구할수있습니다'))\n",
    "print(ws_removed_GOOGLE.index('됐어그럼여기서우리레이블을할거고대각선길이곱하면같다라고이야기했어요비가몇노트삼사루트삼의이렇게곱하면양변을일어나면에이비는루트이분의루트삼의유리하게해서루트이의루트일을보태주면잘보세요부모얼마예요이적분자얼마예요사루트유기적그러니까이분의사만약분해주면결국이루트육가지여러분들이에이브이에이지일을할수있습니다'))"
   ]
  },
  {
   "cell_type": "code",
   "execution_count": 151,
   "metadata": {},
   "outputs": [
    {
     "data": {
      "text/plain": [
       "'사인코사인탄젠트사십오도가머릿속을스쳐지나가야해그다음오른쪽에있는삼각형에이씨디에서도보겠습니다이삼각형은선생님직각삼각형인데기준각육십도로보거나아니면이각이삼십도니까그걸갖고어쨌든할거예요여기서포인트는에이디가왼쪽에있는삼각형의한변이면서오른쪽에있는삼각형의한변이야즉에이디를매개삼아우리는구할거야이생각을해야하는거예요그러면첫번째에이디의길이구하라고하잖아이걸구해야시작한다고포인트예요그러면에이디는어떻게구해당연히여기서는하나도변을모르니까오른쪽에서구하는거겠죠분홍색삼각형에서즉이건어디서구해삼각형에이디씨에서구해볼거예요에이디씨에서어떻게됩니까아높이를구하라는얘기네육십도에서바라봤을때의높이빗변이사고높이즉사분의에이디가바로빗변분의높이사인육십도구나그러니까사인육십도는이분의루트삼이잖아그렇죠그러니까양변에사배해주면에이디는결국뭐가돼사곱하기이분의루트삼이돼서이루트삼이다여기까지여러분들이구할수있는거예요아이길이가이루트삼이구나그렇다면두번째에이비의길이는어떻게구할수있을까에이비는이거네아선생님이걸기준각으로봤을때빗변을알고싶은거예요그런데기준각에서마주보이는높이가주어져있어요그러면우리머릿속에빡스쳐지나가는거야빗변하고높이네뭐야사인이네됐죠두번째거는사인사십오도를이용해야겠네사인사십오도가뭐분의뭐야에이비분의이루트삼이라는거예요에이비분의이루트삼그런데사인사십오도외웠죠몇이에요이분의루트이입니다'"
      ]
     },
     "execution_count": 151,
     "metadata": {},
     "output_type": "execute_result"
    }
   ],
   "source": [
    "''.join(ws_removed_EBS[2393+1:2397])"
   ]
  },
  {
   "cell_type": "code",
   "execution_count": 152,
   "metadata": {},
   "outputs": [
    {
     "data": {
      "text/plain": [
       "'사인코사인탄젠트사십오도가머릿속으로스쳐지나가야돼그다음오른쪽에있는삼각형에이씨뒤에서도보겠습니다요삼각형은선생님직각삼각형인데기준각육십도로육가길삼십주니까그걸갖고어쨌든할거예요여기서포인트는팔위가왼쪽에있는삼각형의한별이면서오른쪽에있는삼각형에한별이한테팔일을매개사마귀는구할이생각을해야되는거야그러면첫번째애인구하려고하잖아이걸구일시작한다고포인트에요그러면애들어떻게당연히여기서는하나도변을모르니까오른쪽에서부터하는거겠지분홍색삼각형에서요건어디서해삼각형에이비씨에서구해볼거예요에이비씨에서어떻게됩니까높이를관한얘기네육십도에서바라봤을때높이아빗변이사고높이사분의에이피가바로빗변분의높이사인육십도구나그러니까싸인육십돌을이분의루트삼이잖아그죠그러니까양변에내비에주면에이디는결국뭐가돼사곱하기이분의루트삼의돼서이의루트삼의다여기까지여러분들이구할수있는거야아여기가이일부터자그렇다면이엔디에이브이이기린은어떻게갈수있을까이거네아선생님요거기준값으로봤을때빗변을알고싶은거예요근데기준과리스마스보이는높이가저하됐을우리말을빠빠빠나는변하고높이이래뭐야쌓이네됐죠아두번째거를싸인사십오들을이용해야되겠네싸인사십오도감오분의뭐야에이비에스삼십이원하는거예요이분의루트삼근데싸인사십오내세요이분의루트입니다'"
      ]
     },
     "execution_count": 152,
     "metadata": {},
     "output_type": "execute_result"
    }
   ],
   "source": [
    "''.join(ws_removed_GOOGLE[2245+1:2247])"
   ]
  },
  {
   "cell_type": "code",
   "execution_count": 167,
   "metadata": {},
   "outputs": [],
   "source": [
    "import pickle\n",
    "with open('most_similar_GOOGLE.txt', 'rb') as f:\n",
    "    data = pickle.load(f)"
   ]
  },
  {
   "cell_type": "code",
   "execution_count": 171,
   "metadata": {},
   "outputs": [
    {
     "name": "stdout",
     "output_type": "stream",
     "text": [
      "Collecting fontawesome\n",
      "  Downloading fontawesome-5.10.1.post1-py3-none-any.whl (20 kB)\n",
      "Installing collected packages: fontawesome\n",
      "Successfully installed fontawesome-5.10.1.post1\n"
     ]
    },
    {
     "name": "stderr",
     "output_type": "stream",
     "text": [
      "WARNING: You are using pip version 20.2; however, version 20.2.2 is available.\n",
      "You should consider upgrading via the 'C:\\ProgramData\\Anaconda3\\python.exe -m pip install --upgrade pip' command.\n"
     ]
    }
   ],
   "source": [
    "!pip install fontawesome --user"
   ]
  },
  {
   "cell_type": "code",
   "execution_count": 172,
   "metadata": {},
   "outputs": [
    {
     "name": "stdout",
     "output_type": "stream",
     "text": [
      "\n"
     ]
    }
   ],
   "source": [
    "import fontawesome as fa  \n",
    "print(fa.icons['thumbs-up'])"
   ]
  },
  {
   "cell_type": "code",
   "execution_count": 168,
   "metadata": {},
   "outputs": [
    {
     "data": {
      "text/plain": [
       "['반갑습니다',\n",
       " '이비에스여러분들여러분들과함께중학뉴런수학삼할을강의하기됨손성민입니다',\n",
       " '이학년이런을통해서도만났었는데여러분들이렇게다시만나게되어서정말반갑습니다',\n",
       " '앞으로삼과정어떻게진행되는지에대해서는여러분들께서오리엔테이션강의를통해서확인할수있을거구요오리엔테이션강의는반드시듣고오셔야여러분들이삼학년과정이하마종이접기어떻게수업되는지확인할수있을겁니다',\n",
       " '일단삼학년가정같은경우에는크게세개의대단원으로이루어져있는데요첫번째가삼각비라는단어이거두번째가원의성질세번째가통계이렇게이루어져있습니다',\n",
       " '우리가일학년하도마찬가지고이학년하도그래왔듯주로도형에대한이야기가삼화많이다루어지는구나라는걸생각하면될테구요오늘은그첫시간이니까삼각비삼각알아요알아요근데이제합쳐져있는삼각비라는새로운영화이개념은공부하기앞서서당연히삼각비의뜻부터시작하는것이첫시간입니다',\n",
       " '오늘도차시간함께시작해보도록할텐데요중학교삼학년수학거끝냈어오늘공부한내용은바로두가지개념인데요자오늘두가지그냥첫번째제목이굉장히길어요닮은집값삼각형에서대응변의길이의피나는것이있습니다',\n",
       " '직각삼각형에서주로다루어질텐데직각삼각형에서가는기본적인성질이있는데왜성질을알고가자나는어떤상각비를공부하기앞선징검다리내용이라고여러분들이받아들이셨습니다',\n",
       " '갑시다라고여러분들이받아들일되는겁니다',\n",
       " '자그렇다면닮은직각삼각형에서있으니까닮은직각삼각형그려봐야되겠죠닮은직각삼각형두개를편하게그릴수있는제일좋은방법은뭘까생각해보면우리는이렇게그러면될거같아요차이렇게한번그려보겠습니다',\n",
       " '이렇게이렇게여기서부터수선을이렇게커보겠습니다',\n",
       " '일단바깥쪽에직각삼각형않아보입니다',\n",
       " '그죠또다른직각삼각형하나를빗변이일점을잡아서이렇게수선을똑같이보여주면바로이차각성가평에이비에이디는서로어떤닮은에이닮음이된다',\n",
       " '이건우리가중학교이학년때가게가통이고그다음에둘다치과를갖고있으니까에이삶이될테고우리가주의때문에어떤닮음비일하는건뭐냐면대응하는변의길이의비왔어요그래서그래서만약에이게들을오라고해보고얘기를십일분삼각형의닮음비는오대십일대이겠죠자그렇다면우리가이길을사라고나보면이게된얼마나됩니까당연히그쵸오일팔일해야돼진짜이길을걷고우리가육이라고해보겠습니다',\n",
       " '일대이대일얼마삼일돼야된다는걸여러분들이할수있죠우리는닮은비라는건작은삼각형과큰삼각형의대응하는변의길이의비니까오대식삼대육사대팔이것이모두다일대일로갖고그것을닮음비라고한다',\n",
       " '이렇게공부했었는데이것말고도이런것들도성립할거라예를들어작은삼각형에서빗변분의높이얼마입니까큰삼각형에서빗변분의높이얼마죠숯불에유기적이들어때요오분의삼으로서로같다라는확인할수있고또마찬가지로자는삼각형에서예를들어서빗변분의밑변에봅시다',\n",
       " '오분의사적큰삼각형에서변분에밑변에보면얼마죠십분에반이죠근데이것도사러때같아요마찬가지로하나더해볼까요작은삼각형에서밑변불에높이는사분의삼이적큰삼각형에서미평그래도필요없대요팔분의육인데이들이모두다어때같다란걸려놈들이알수있단얘기야결국지금이둘의차이는같은거같아보이나요달라요작은삼각형과큰삼각형의두대는변의길이비를이야기한게닮음비고일삼각형에서어떤두병을뽑아서그들의비람큰삼각형둘레길이팔미터서로비가서로같은성질이있다라는게바로닮은직각삼각형에서성질입니다',\n",
       " '이제우리가요내용은당연히받아들일수있을테니이내용에대해서간단하게확인문자한번살펴보고가도록하겠습니다',\n",
       " '오른쪽그림과같은삼각형에이비씨안에있는작은단답형큰삼각형에이디가있습니다',\n",
       " '답을구하세요라고했는데저기큰삼각형에서지금길을알수가없어요그죠작은삼각형만주어져있는데구하라는건못가고갔더니에이디브이에이엔티에이쥐이이브레디얼굴큰삼각형에서빗변분의높이를구하라얘기네근데그건우리가결국눈물을구하는것과같다',\n",
       " '자는삼각형에서소피아서울어때같다라는이야기입니다',\n",
       " '왜두직각삼각형은서로닮은이니까결국이거뭐라고쓸수있어요바로가볼게요빗변분의높이였으니견본의높이이렇게해주면루트이의제곱유리가에서이분의루트이이렇게사람들이구할수있다는겁니다',\n",
       " '하나더두번째건뭘바라그랬으니까에이이마이너스팔잊어에이이분해분해에이티아하빗변분의밑변이래왜나와있지않지만우리는할수있다',\n",
       " '작은직각삼각형에서빗변분의밑변을해주면되니까루트이분의일이렇게계속구해서유리한가지만해주면바로답을구할수있다라는이야기해요어렵나요아직까지내용은전혀어렵지않죠자이제우리가삼각비뜻바로오늘핵심입니다',\n",
       " '오늘핵심개념삼각비뜻에대해서여러분들께서실행을문제집이나아니면다른여러가지학습방법을통해서공부를했을텐데뭐사인코사인탄젠트라는걸들어본친구들도있을거고요그걸삼각비라고한다라고되어있어요우리집에개념이그런데삼각비뜻은사실그것만의미하는게아닙니다',\n",
       " '선생님정확한개념을시작해볼테니까집중해서들어주시기바랍니다',\n",
       " '일단기본적으로삼각비앞으로쭉이야기할텐데가장전제조건은직각삼각형에서이야기를합니다',\n",
       " '직각삼각형에서상각비는이야기하는구나앞으로삼각비피타고라스정리때도직각삼각형에서우리가다른뜻직각삼각형에서상각비를이야기할거야그런데이직각삼각형을그려놓고우리가생각을해보면직각삼각형이렇게그려놓고자기를각각의꼭지점을에이비씨이렇게한번잡아보겠습니다',\n",
       " '형여러분들께서가게에서마주보이는변이소문자로표현된다라는걸알고계시죠길이가다이렇게우리가에이비씨를되고기본적으로비라는건두개사이에서의여기서보니잘아는사람이야삼일하는데가없잖아그죠모델이렇게둘사이에기준량을비교하는양있어야되는데좀이세계변의길이중에두개를뽑는방법은총여섯가지가있어요다쓰지않더라도이름들이경우의수를생각해보면에이비를가지고서만들수있는비분의에이와비가있겠죠비씨를가지고만들수있는게비부사시하고십분에비가있겠죠씨를가지고만들수있는게십분에팔시간우리는이런육가지를삼각비라고불러요근데그중에서중학교삼학년때배우는삼가지회비가있습니다',\n",
       " '꼭그기준을잡을건데어첫번째그내용이없어서그러면우리는이변을높이라고생각하고이별을지금이변이라고생각이별을편이라고생각합니다',\n",
       " '근데기준각일하는게앞으로등장을해요아일단기준각일하는게나오나보다',\n",
       " '어떤값을기준으로해서이야기하는구나그런데기준가게에서마주봄우리는높이라고약속했습니다',\n",
       " '예를들어서가게를지금가기라고나보면그럼일단수있는집가게에서마주보이는변이빗변일하는건알고있어요그죠근데한글로영어를좀정리해볼텐데이기준가겠어맛있어보이는별을우리는뭐라고했냐면높이라고이야기를한거고그럼나머지한번은자동으로뭐가늦어이변이됩니다',\n",
       " '자여기서여기서한가지약속선생님이거밑에있으니까밑변이건새로서있으니까높이아닌가요당연히그렇지않다',\n",
       " '직각삼각형이고만약에우리가이각을기준가기라고나보겠습니다',\n",
       " '여러분들이연습이먼저해야돼요기변은누구죠집가게에서마주보이는변이편이야중요한거가로로있으니까네편이고새로가족비가아니라기존가기주어지면기준가게에서마주보이는변이뭐가된다',\n",
       " '비가된다',\n",
       " '그리고나머지한변이뭐가된다',\n",
       " '밑변이된다',\n",
       " '밑변이된다이약속을여러분들이첫번째삼각비란걸공부하기안써서이약속을여러분들이이틀쉬어야됩니다',\n",
       " '직각삼각형이고만약에우리가이각을기준가기라고나보겠습니다',\n",
       " '아집가게에서마시고있는대변이백번이고기준가기주어지면거기서마주보이는별이높이고그럼나머지하면은저절로밑변이다른걸먼저약속으로받아들여야지그렇다면이제우리는요상태에서한번시작을해볼텐데육개입이중에세개를뽑았다라고했어나머지세개는고등학교가서배우는거예요첫번째는빛높이가있겠죠빗변분의높이우리는이비를갔다가뭐라그러냐면싸인이라고부릅니다',\n",
       " '이렇게부쳐주기로기호로약속을한거야아그러면사인기준각하고주어지면아그가게에대해서빗변분의높이의비를사인이라고하는거라니까한글로맨날빗변분의높이가얼마나이렇게묻는게아니라앞으로는이거얼마니이렇게물어보면그것이의미하는게빗변분의높이를먹는거구나라고생각하시면되는거예요그다음빗변분의밑변을우리는뭐라고부르면빗변분의밑변을이걸갖다가코사인이라고부릅니다',\n",
       " '그리고똑같이기준값을넣어주면돼결국이직각삼각형에서빗변분의변의길이가얼마나많은이긴한글을줄여서우리는코사인에이가얼마니이렇게묻는거야되나요제가세번째로밑변물의높이를갔다가미평물에높이에기대에비를이걸갖다',\n",
       " '내가그러니까앞으로직각삼각형에서기준각일대영구사높이가몇분의몇시니이긴문장을줄여서탄젠트에이가얼마니라고간단하게먹는날이야수학은우리가기로약속이저기서새로운용어가나오고새로운누가이렇게정이되는구나대한걸알았으면이제여러분들이좀암기가필요합니다',\n",
       " '아그러니까결국아세번중에두변의길이의비를뽑는방법육가지중사인코사인탄젠트세가지를우리가공부하는거구나쌓이는주변브래드핏쌓이는빗변분의밑변탄젠트는밑변물에높이다',\n",
       " '어떤값을기준으로해서이야기하는구나그런데기준가게에서마주봄우리는높이라고약속했습니다',\n",
       " '그리고나머지한변이뭐가된다',\n",
       " '밑변이된다',\n",
       " '여기까지여러분들이먼저좀새로운약속이니까지금이약속들을안길을함께가셔야됩니다',\n",
       " '나같이할게요내용에대해서한번예제를좀살펴보도록할텐데이렇게돼있어요저그림과같이각도가구십도인직각삼각형에이비씨에서네모안에알맞은것을써넣어라해놓고싸긴에이에스입니다',\n",
       " '차쌓이는모였습니까빗변분의높이약속이오셨다라고가져갈게요오늘수업끝날때쯤열려있을겁니다',\n",
       " '쌓이는질병들에높이높이기준가게에서마주보이는게높여써아그러면사일에일하고있으니까애기가계신가그래그러면마주보이는게우리가뭐라고요높이라고이건집가서마저보이는데편이죠나머지한별이자동으로먹어야된다',\n",
       " '빗변분의높이이다',\n",
       " '십분에근데일단집으로오면에이씨분에피곤한걸알수있고보내버리니까약불에서오분의사오분의사가가게에대한싸인갑시다',\n",
       " '빗변분의높이이다',\n",
       " '또는타인의이다라고여러분들이야기를해주시면되는겁니다',\n",
       " '두번째탄젠트얘기했습니다',\n",
       " '탄젠트이름뭐였어탄젠트밑변불에높였죠똑같이기준가게에이디때문에요변이및이변이높이니까에이비씨이렇게써주면되겠고에이비비비씨는육분의파리지역육백팔약불에서삼분의사다',\n",
       " '결국이가게대해서및뼈는육백이십구높이가팔리니까그들의비가삼분의사가된다는게바로이삼각형에대한탄젠트갑시다',\n",
       " '아그러니까결국아세번중에두변의길이의비를뽑는방법육가지중사인코사인탄젠트세가지를우리가공부하는거구나쌓이는주변브래드핏쌓이는빗변분의밑변탄젠트는밑변물에높이다',\n",
       " '여기까지얼음들이기억해두시면되는거야그럼이기본내용들을가지고우리가문제에선어떻게적용되는지봐야되겠다',\n",
       " '일일벌써부터망개뿌리시작해보도록할텐데요숙박비값구하기확인문자하고별로차이가없어보이기도합니다',\n",
       " '우리함께가보도록할게요작비구십도어여기가구십도인직각삼각형의있는데육백팔십있다가지금표현해있고요코사인수고하셨습니다',\n",
       " '우리함께가보도록할게요작비구십도어여기가구십도인직각삼각형의있는데육백팔십있다가지금표현해있고요코사인수고하셨습니다',\n",
       " '문제에서뭐라그랬냐직각삼각형에이비씨에서지금높이선생님높이라고했지만사실앞으로이제우리가관점을달리해서이게높이인지아닌지아직모르는거예요그죠우리가지금까지높이라고했고밑변이라고했지만비가기준각일하면높이가되는겁니다이생각에전화를먼저해야돼아저쪽그러면싸인비가십삼분에오라그랬습니다',\n",
       " '이렇게에이사백칠십오바뀌고있습니다',\n",
       " '기준각비에대해서싸이는뭐였죠빗변분의높이빗변분의높이가십삼분에온빗변분의높이저중간에서마시고있는데높이니결국싸인비라는건누구누구에이비분해빗변분의높이바로십사볼게요이게싸인근데그값이십삼분오더라고젖어있는거야여기서우리누굴구할수있죠할수있겠죠분수분수거같을땐대각선길이곱하면바로성기파니까오에이비는뭐가됩니까십삼곱하기십이달라는걸할수있고양변을오로나누어주면에이비비에이의값은얼마가된다',\n",
       " '바로십삼곱하기이가되는구나라는걸여러분들께서구할수있는거야아결국길이는얼마나돼이십육일된다라는있어근데그걸통해서비스를구하라무슨얘기입니까직각삼각형하면우리는항상머리속에기억해야돼그리고할거야피타고라스정리지금뒷편줘도있고담배는있으니까비스트의기린은어떻게구할수있습니까피타고라스정리여름도기억하셔야됩니다',\n",
       " '갑시다라고여러분들이받아들일되는겁니다',\n",
       " '루트이십육제곱마이너스십제곱이렇게들어가겠지그럼육백칠십육마이너스백이니까오백칠십육기되고오백칠십육은얼마에대로여러분들오백칠십육이십사의제곱을돼서이렇게빠져나올거예요결국비씨에이에스이만이십사니까선택지에서사번이렇게하는겁니다',\n",
       " '예지이번은타이틀이뭐라고돼있어삼각비를이용해서변의길이를구하는거야지금까지처음에어떤건변의길이가다젖어있을때삼각비를구하세요라는거있잖아이러한형태의문제는바로보다',\n",
       " '삼각비를알려줘대신에변증에모르는길이를구하라는거예요그죠순서가바뀌었구나난거생각할수있게아예일본보다는당연히이번에영태가나중에여러분들이학교앞에서보게될문제가있구나이렇게생각하시면되겠습니다',\n",
       " '다음으로얘들삼번문제들어가보도록하겠습니다',\n",
       " '자예삼번을여러분들이웨얼유할거야일단문제읽어볼게각도가구십도인직각삼각형의이비스에서싸인에이가삼분의일대탄젠트시에가기로그냥쭉읽었어어떻게해야되지나는걱정이되죠왜그런생각이드니까그림이없어요그래서뭘어떻게해야될지모르겠어그럼우리는그림을직접그리는거요문제도뭐라그랬어비가구십도인직각삼각형이렇게돼있잖아요그죠학비가구십도인직각삼각형뭐이렇게하나그려보는거예요비라고놓으면돼그저그래요길을애인하고놓고팔시라고나보는거예요근데쌓이네이가삼분의이라는조건이써져있네아기준가격오야에이에대해서그러면싸이는몇분에넣었습니까빗변분의높였어요아그럼기준가게에서마주보이는게높이네그럼쌓이네일하는건빗변분의높이네근데그게뭐예요삼분의이돼요아그러면이게카밀대이게아니란얘기구나여기까지갈수있겠죠우리는누굴구할수있어당연히팔일을누구통해서피타고라스정리를통해서에이미에게누를거야돼있고요에이비는루트빗변의제곱마이너스다른별의법이니까루트오가된다라는걸여러분들이구해놓고시작하는겁니다',\n",
       " '그런데구하라는모여탄젠트중요한게뭐야씨예요누구로바뀌었어바뀌었어이건무슨얘기야그럼기준과기수야그럼우리는다시한번정리를해야되겠죠어차피집가게에서마주보이는변비편이고기준가게에서맞아높였죠그리고이변이밑변이되는겁니다',\n",
       " '기준가기바뀌면높이가뒤바뀌는거예요근데탄젠트라는건뭐보내버렸어밑변불에눕혔다',\n",
       " '또는타인의이다라고여러분들이야기를해주시면되는겁니다',\n",
       " '이렇게할수있단얘기야다음으로사번문제한번들어가보도록할텐데요예절사번같은경우에는오늘처음봤던게뭐였지닮음인직각삼각형에서는뭐가갔다',\n",
       " '그랬어동영상길이삼각비가같다란이거여기까지이야기했는데이문제를위해서일번이나와있던겁니다이그림을문제읽기전에이그림딱보는순간여러분들은중이기때문에어떤직각삼각형에서의닮을기억하셔야되겠고무슨얘기냐면이가게되면요제일작은삼각형오른쪽에있는삼각형제일큰삼각형왼쪽에있는거랑오른쪽에있는거전체모두다보여다잘보내요그러면이가게에서제일삼각형에서똥이삼각형에서제일작은누구이것도똑같이엑스가된다',\n",
       " '이건우리가중학교이학년때계약서왜냐하면간단하게도쿄구십마이너스있습니다',\n",
       " '이십오도가된다',\n",
       " '그러면내가계약백팔십도가되기위해서는결국이갑이라는건삼각형외각의백팔십도에서나머지이렙을빼주면되죠구십마이너스엑스하고구십에빼주는거니까구십더하기구십백팔십빼서없어지고마이너스마이너스했으니까엑스가되서이가게엑스가그러면결국엑스일때인가객사라는것까지알수있죠왜이걸구할거냐결론부터본다면탄젠트엑스를구하는게문제예요근데이게엑스인걸모르잖아요그러면탄젠트엑스는요삼각형에서지금엑스가있으니보였어및높이왔었죠기준가게에서마주보이는이변이높이고네편이거든요뭐야둘다몰라그러니까값을구할수있어없어없어요그런데우리는어차피직각삼각형닮음일대길이의비가못갔다',\n",
       " '여기에서보세요엑셀에서마주보이는변이뭐야기준가게대해서마주보이는벽높이됐고이게있잖아요그죠집가게에서마시고이름변이변이지금이편입니다',\n",
       " '맞죠그럼탕정팩스로보내보니까밑변물에높이니까결국삼급그래삼이렇게돼서결국루트산불에일이니까삼분의이루트삼으로탄젠트엑스의값을구할수있다라는이야기입니다',\n",
       " '뭐냐면닮음인직각삼각형에서는어떤이년사이에길이가서울언제나갔기때문에이런그림에서테레비집값은같으니서로닮은일하면이렇게추워서있지않은기레기들다른삼각형으로옮겨어떤다른삼각형길이가주어져있는삼각형으로옮겨서그들의서밋병간호피디비와같이삼각비를구하면같은값이나온게결론이거야우리가오늘처음개념으로어떤게어디에쓰이는지여러분들께서확인할수있는그런내용이없습니다',\n",
       " '이렇게여러분들께서답을구하시는유형입니다',\n",
       " '제가이제이렇게예데까지살펴봤는데좀더다양한주제를한번봐야되겠죠유제풀이시작합니다',\n",
       " '테런느낌이려나부탁드리는데이유재예제와유제품은이사있죠인터넷으로듣고있다면반드시여러분들이직접풀고그리고강의를들어주시기바랍니다',\n",
       " '테런느낌이려나부탁드리는데이유재예제와유제품은이사있죠인터넷으로듣고있다면반드시여러분들이직접풀고그리고강의를들어주시기바랍니다',\n",
       " '탄젠트이름뭐였어탄젠트밑변불에높였죠똑같이기준가게에이디때문에요변이및이변이높이니까에이비씨이렇게써주면되겠고에이비비비씨는육분의파리지역육백팔약불에서삼분의사다',\n",
       " '이렇게여러분들이나중에좀해주시면편합니다',\n",
       " '다음으로얘들삼번문제들어가보도록하겠습니다',\n",
       " '지금가게좀왔다',\n",
       " '갔다',\n",
       " '하면서놈들이어려웠습니다',\n",
       " '그림에선비씨는뭐레지룸이에요원의지름아워내접하는삼각형이있구나그러니까당연히직각삼각형이잘하는건기본개념을알수있어야되겠고십이입니다',\n",
       " '이런건다음으로이번문제한번들어가보겠습니다',\n",
       " '결론부터볼게요구하라는게뭐야지금탄젠트빕니다',\n",
       " '탄젠트는뭐였더라윗변물에높이였었죠아기준가게누구야지금비맞을보이는게높이됐네그럼그러면여기편이니까아밑변이바로이기대가되는구나하는걸여러분들이알수있으니탄젠트비를구월일일은결국밑부분에높이십이분의하라얘기야그저누구만거하면돼있으면해결이되는거구나근데누구를통해서직각삼각형이니까피타고라스정리를똑같이이용하는거고반지를수빈이가지금은당연히이십일동안여기서그럼에이씨는어떻게구할수있단얘기야뒷편제곱마이너스다른별의그죠이십일제곱마이너스십이의제곱이니까루트이백오십이백오십육월십육일제국이다',\n",
       " '이렇게놈들이에이스자리에십육을대입해보면아결국및때문에높이가뭐가된다는데요삼분의사가되는구나정답은사번이구나이렇게이런데서입원을생일하시면되겠습니다',\n",
       " '다음으로유재삼번문제조금부지런히가도록하겠습니다',\n",
       " '다음으로유재삼번문제조금부지런히가도록하겠습니다',\n",
       " '답으로이제사번바로가보도록하겠습니다',\n",
       " '같으면되겠죠짝지어진문제니까자유제사번볼게요그림과같이이제조금중요하면서여러분들한번신경써서보도록합시다',\n",
       " '비가구십도인에이비씨가있습니다',\n",
       " '팔이고탄젠트에이가입은기준가게있어서있으니일단탄젠트일때문에높이기준가게에서마주보이는게높이자나그냥자동으로미비한뼈는지금따로신경안써도될거같아왜탄젠트라는건밑변보내도피니까그죠그러면결국팔분의씨가팔분의비씨가이게바로탄젠트애있잖아요그죠근데얘가뭐라고젖어있어이불에삼일하고있으니우리는여기서비씨를구할수있을겁니다',\n",
       " '일단비씨로구해보면양변에팔십에서이분의삼천구백팔십팔하면결과는십이까지나오전십이시십이분아근데문제는뭘로하라그랬어요씨미터이거네어렵지않다',\n",
       " '십일월둘로나눈것중에하니까결과는여기다',\n",
       " '이렇게놈들이이삼사번어렵지않게해결할수있죠좀어려워보이지만사실은해결이가능한내용이었습니다',\n",
       " '다음으로오번문제들어가보도록할텐데이유재오번여러분들께서제일어려워합니다',\n",
       " '알았지그림이없어서그림이없어서여러분들이직접직각삼각형을그리시네요그냥읽으면조건이안풀려애기가삼분의사더하기코사인의이거얼만데이런질문을하지그렇게큰문제가아니란얘기죠탄젠트에이삼분에서터치자기거야아삼각비탄젠트상각비는직각삼각형에서다줬어그리고탄젠트란건밑변분의높이와에이가주중가격아기준각하나잡아볼까이렇게시작하는거죠직각삼각형에서사람들다줬지기준가격을애인하고놓으면아밑변분의높이라는건이게이게되는데그게삼분의하브라이마리그림으로이렇게표현될수있어야되는거야되나요우리는변의길이는피타고라스정리해서오바나올거예요이성들이여러분들안산가능할겁니다',\n",
       " '이제구하고자는게쌓이네이더하기구사이사이죠기준가게이것만다시한번써볼까마주보이는변이높였고이변이몇번이고의견있으면불편하잖아사인이뭔데빗변분의높이오븐에서바로갈수있겠죠콜사인은뭔데빗변분의밑변오분의삼그러니까결과는먹어야된다',\n",
       " '오븐에칠선택지에서정답은몇번이렇게남들이볼수있으면되겠죠담으로육번더짧을일어서가니까아문제에서삼각비만도를쓰고그냥그림을그려야되겠구나라는생각을해야돼요이런식으로각비가구십도인카톡에서시작하니까악비가구십도인직각삼각형그려얘기고코사인회의가칠분의오콜사인은빗변분의밑변이없고그게칠분의우리가우리가그림을그려보자빗변분의밑변이칠분의오대략느낌이이런식으로여러분들이그려줄수있으면돼요비가노래이름이쪽에서볼까요이거이거자동으로씨가되겠죠일하고있으니까자코사이는기준가게돼서맞춰보이는게높이고이게및편인데콜사인은빗변분의및버리니까이게리브레이길이칠분의오란얘기해요칠분의오하는순간자동으로우리는비씨자동으로아니죠뭐해야돼피타고라스정리해야됩니다',\n",
       " '어차피씨는루트이의제곱사십구마이너스나머지한번더헤지혹루트이십사이루트여기다',\n",
       " '여기까지갈수있다면이제쌓이네일하는건뭐야싸인에이빗변분의피자나그죠아결국이렇게내려가보면칠분의이유이죠탕정택시여기서중요한거야기준가게바뀌었어씨로이게그건가그래그러면마주보이는게높이죠그리고이변이몇번이죠그러니까탄젠트씨는밑변브레노피하려면이루트육분의오가되는겁니다',\n",
       " '이렇게에이사백칠십오바뀌고있습니다',\n",
       " '결국정답은뭐가돼칠분의오한번쯤다시들었으면하는문제입니다',\n",
       " '뮤제오육번중에스케이육번다시한번봤으면좋겠네요유재칠번으로들어가보도록하겠습니다',\n",
       " '뮤제오육번중에스케이육번다시한번봤으면좋겠네요유재칠번으로들어가보도록하겠습니다',\n",
       " '이분의일이된다',\n",
       " '이분의일이된다',\n",
       " '이렇게여러분들께서답을구하시는유형입니다',\n",
       " '이덕희나이그림이죠직각삼각형에서집가게에서믿음의수서늙은중학교이학년때렸더니그림이계속나오게될거야이제우리마지막문자를이제팔번문제한번들어가보도록할텐데요이문제는조금다르네그저근데우리는그림딱보자마자문제는잠시해볼게요안에있는직각삼각형보이죠전체직각삼각형보이저서로뭡니까닮은왜삼각형에육점으로편해볼게점과구십도로이루어져있어밖에있는큰삼각형도점과구십도로이루어져있으니에이에이닮은그얘기는하면누가이겨삼각형에서이가게엑스란얘기해그리고사이넥스를구월인데작은삼각형에서사이렌하려면이걸알아야되잖아그죠하나도안나와있는데어떻게알아그러니까우리는바로어떤개념닮음인직각삼각형에서늘삼각비가서로갔기때문에결국이제는작은생각도말고이삼각형을보고구하라얘기해요피타고라스정리용암우리는누구누구할수있어비씨얘기를할수있겠죠비씨브이놓고보면루트이십오의제곱더하기팔이직업이니까이백이십오더하기팔곱하기육십사는팔십구이백팔십구는십칠제곱입니다',\n",
       " '비서에게너가십칠일나와서한번마지막복습으로써보겠습니다',\n",
       " '기준가격이있어요마주보이는명이모여높이빗변오면은밑변사마지막정리쌓이는보였어빗변분의높이빗변분의높이십칠분에십오바로그것이사인엑스의갑시다',\n",
       " '이렇게놈들이다보고하면되겠고만약에코사인엑스는뭐지코사인엑스나온다면빗변분의밑변이니까십칠분에팔탄젠텍스밑변분에도피니까팔분의제목여기까지여러분께서답을구할수있으면되는겁니다',\n",
       " '오늘굉장히여러번얘기했어이제여름도선생님조금아까얘기했지만좀외워졌나요줬으면좋겠는데자기종각에서마주보이는배는몇편이야높이높이왔습니다',\n",
       " '여기에서보세요엑셀에서마주보이는변이뭐야기준가게대해서마주보이는벽높이됐고이게있잖아요그죠집가게에서마시고이름변이변이지금이편입니다',\n",
       " '또는타인의이다라고여러분들이야기를해주시면되는겁니다',\n",
       " '함께하고마무리합니다',\n",
       " '여러분들사인코사인탄젠트다시한번정리합시다',\n",
       " '자각의사인일하는건바로뭐냐면빗변의기분에높이높이는즉각에서맞추고있는병급전기준가게더맛있어보이는건바로높였습니다',\n",
       " '밥으로불변의빗변의길이세번째탄젠트는어떻게됐습니까바로변의길이이쁘네높였다',\n",
       " '정을삼각비첫시간어땠나요오늘도좀많이어려웠죠왜냐면새로운약속들이계속나왔기때문에그약속은여러분들이받아들이시고좀암기해야되는부분도있습니다',\n",
       " '다음으로오번문제들어가보도록할텐데이유재오번여러분들께서제일어려워합니다',\n",
       " '어선생님이런문제안나온다',\n",
       " '하이닉스가되는구나라는걸여러분들이생각할수있으면되는겁니다',\n",
       " '자꾸그렇게약속지켜주시기바라며다음시간에또만나도록하겠습니다',\n",
       " '수고많으셨습니다',\n",
       " '반갑습니다',\n",
       " '이비스톰여러분들중학뉴런수학삼학년사회손성민입니다',\n",
       " '지난시간에우리가삼각비의뜻에관련돼서공부했습니다',\n",
       " '코사인탄젠트값이각각무엇을의미하는지즉빗변분의높이빗변분의밑변그냥빗변분의높이가갈까사인코사인탄젠트기준과기다란건알겠는데요오늘공부할주제를딱한가지입니다',\n",
       " '바로삼십도사십오도육십도우리는이값들을특수한강의잘하고있어요이가게에서의삼각비의값을알아볼거고어선생님원래는외우는수학을여러분들께별로이렇게그런강의를안하려고하는편인데이감여러분들이암기를하셔야돼서암기하기쉬운방법까지선생님이제드릴테니까오늘수업이끝날때쯤에는여러분들께서사인코사인탄젠트삼십사보도육십도의값이암기의있으면되겠습니다',\n",
       " '같이함께우리수업시작해보도록하겠습니다',\n",
       " '중삼수학끝내봅시다',\n",
       " '오늘함께공부할내용은일시까지요크기가삼십도사십오도육십도인가게삼각비얘가이렇게돼있죠어이내용을공부하기앞서서한가지이야기를지난시간에막사인코사인탄젠트기준가기어떻고빗변이뭐고이런얘기했잖아요근데아마배우면서그렇겠죠근데왜배워요여름더위생각할수있을거예요선생님왜변의길이의빈데그걸갖다가그로편해요싸인싸인싸인싸인가게있나요이런질문을여러분들이할수있을거같아요약속이야라고하고그냥넘어가게합니다만조금더살짝깊이있게우리가살펴볼게요우리는삼각형이어떤성질의기산데기본적으로하나정도느낌만보겠습니다',\n",
       " '여기에서여기에서차이가그래이라고해볼게요뭐이런걸얘기하고사는게아니에요짝기본적으로어떤도영이갖는성질이야삼각형직각삼각형만약에이어떤가기에이가기존가기퍼진다라는건무엇을위한하라는거야왜각하고변의길이가연결돼있지라는느낌을여러분들이가져야돼요야우리가여기있는주황색삼각형을보면하얀색삼각형가네뼈는변함이없어근데가기기준가기변환다른건어떤것들이변하나살펴봤더니강남변하는게아니라가변화시키면루피도하얀색보다',\n",
       " '주황색이변해요빗변의길이너어떻게되죠길어집니다',\n",
       " '결국변의길이는가게크게영향을받아안받아받아요됐죠그래도우리는삼각비싸인코사인탄젠트뒤에다들넣는거예요근데이렇게변함에따라서모터작은것도있고이렇게돼이렇게돼있을거야그죠응이렇게해도있을텐데그러면이가게변화에따라서밑변불에높이라던가빗변분의높이라든가빗변분의밑변의기계비드림아구별하다',\n",
       " '갔다',\n",
       " '하면서머릿속에서그려보세요그려보세요사이사이에있는걸막그려보면길이계속잘하고있어요근데이중에몇개이것들이의미있는숫자를갖는달라는거야비가내려서이거볼래이거했더니영점삼육천칠백팔십이야이런거말고요의미있는거주로무리수를이용해서표현이되는데그의미있는가글값을갖도록하는가기바로삼십사십오십육십배달하는이야기에요그래서우리는이걸갖다가수완가기잘하고이야기랍니다',\n",
       " '아일하는게되게특산이상한게아니라아의미있는길을우리에게교재비를제시해주는게바로특수한가지고우리는그의미에비를외워야되는겁니다',\n",
       " '그러면우리가개념을한번보도록하겠습니다',\n",
       " '아그래서삼각비란님께변의길이빈대왜각하고연결되어있나가게에변하면생각이전압에따라서변의길이가달라니까근데그중에의미있는가기의미있는가게믿는게아니라변의길이의비를의미있게하는가기삼십사십오도육십도달하는이야기해요아셨죠그럼우리는기준가기삼십도일대의세변의길이의피를먼저살펴보겠습니다',\n",
       " '야기준가게삼십도우리이렇게하면그림을나올게요처음에이렇게여러분들이이제어그래보겠죠여기서이걸삼십초다이렇게나오겠습니다',\n",
       " '그럼자연스럽게육십조선생님여기에서기준가게삼십대라고났을때저는싸인삼십도를구하고싶어요라고생각해본다면결국빗변분의높이저중간에서마주보이는괴롭히니까없음이라고이기의해피를어떻게알죠아무정보가없는데근데우리는그정보를만들어낼수가있습니다',\n",
       " '어떻게만들어낼때한번잘보시기바랍니다',\n",
       " '우리가유변엘에이다라고잡아볼게요그럼이거는뭐가될까아직은모르죠그런데뒤집어서날더붙여보는겁니다',\n",
       " '이렇게되나요이게일직선이되도록그러면선생님이걸뒤집어서저때문에이기가에인연이기를도에이어근데이가게육십도니까뒤집어져서육십도가지고오세요그러면육십도육십점은이것도육십도잖아요무슨삼각형해요정삼각형이됩니다',\n",
       " '그러면우리가개념을한번보도록하겠습니다',\n",
       " '아그러게때문에여기가이게이해가됩니다까지여러분들이생각할수있음되는거야아그렇다면이제그림을다시잘라서이렇게해보겠습니다',\n",
       " '아그러게때문에여기가이게이해가됩니다까지여러분들이생각할수있음되는거야아그렇다면이제그림을다시잘라서이렇게해보겠습니다',\n",
       " '나는이야기에요오늘일하는걸의미가처음에뭐라그랬어그냥각자자체가특수한게아니라변의길이의비가의미있는숫자로나오는게특수하기라고했어요삼십도같은경우에는싸인삼십도가뭐가돼일영점으로이렇게깔끔한수가나온다라는이야기야끝나요빗변분의높이가이분의일대이이대일의미있는숫자가나온다라는얘깁니다',\n",
       " '그렇다면우리는여기서코사인삼십도생각할수있겠죠코사인삼십도뭐가돼빗변분의밑변이겠죠기준가게도와주고있는데높였어요지난시간을빗변분의이편은이에이분의루트에이니까약분해보면에이에이약국에서이분의루트삼이것이바로코사인삼십도에같습니다',\n",
       " '마지막으로탄젠트삼십도의값은그럼뭐가되냐고살펴보면탄젠트삼십도는및피자나해보죠루트삼에이군의내리니까팔분하고나면루트삼/또는유료에서삼분의이삼일된다는거야오늘결론은뭐냐여러분들이싸인삼십도얼마그러면이분에나와야된다는얘기야코사인삼십도얼마예요이분의루트삼나와야되는거예요탄젠트삼십도얼마삼분의이루트삼이렇게바로바로나올수있게끔암기가되어있는게오늘의결론마지막회자그렇다면이제는이그림에서기준가를육십도로바꿔보겠습니다',\n",
       " '이렇게이렇게여기서부터수선을이렇게커보겠습니다',\n",
       " '그얘기는몰고하겠단얘기야싸인육십도코사인육십도탄젠트육십값을우리는알아보자나는이야기해보세요여기이쪽으로막히면마주보이는별이뭐가돼높이가되고이변은밑변이변이빗변지난시간되면그냥그렇다면하이닉스도라는건빗변분의높이빗변분의높이가뭐야이렇게되겠죠이씨삼에이니까에이약분하면이분의루트삼의바로싸인육십도에습니다',\n",
       " '암기하세요코사인육십도는그럼뭐가될까빗변분의네편이니까이에이분의메이저결국뭐가돼이분의일탄젠트육십도는높인에이브넷오투상회이렇게되겠죠에이사두사람의이는결국에이에이아프려면루트삼이구나탄젠트육십도가기준가격식초에대해서밑변불에높이를로또일대루트삼이렇게해서일대루트삼하고암기를해주셔야된다니까그렇다면사십오도아주빠졌잖아그저그럼사십오도에대해서한번알아볼게요좀있다',\n",
       " '다시한번보여드릴거니까지금은지우셔도상관없어요삼십도육십도구십대세변의길이의비는조금구하는게뒤집어서붙이고좀복잡해따면사십오도는조금춥습니다',\n",
       " '자직각삼각형인데한내가기사십오도달하는말해여기에서세변의길이를우리가공부하겠다는거예요근데이길이가다시보는일박자연스럽게몇도나사십오도나오잖아요그러면결국머리위에이등변삼각형이돈의같으니까그럼우리가이길을일이라고는또는이기도모가지당연히회의가되겠어그럼여기는피타고라스정리해서뭐가되냐면루트에이제곱더하기에이제곱입니다',\n",
       " '결국루트에이제곱와이제곱이니까내가빠져나와서루트이에이가된단얘기야아결국우리는여기에서직각이등변삼각형오는길에비에이디에이영이백이십팔일대일대로트이고그로인해서우리는삼각비세개싸인사십오도와코사인사십오도와탄젠트사십오도의값을생각해보면그러면사십오도에대해서싸인값이결국뭐가되냐빗변분의높이죠마주보이는괴롭히니까걸그룹애입니다',\n",
       " '결국루트에이제곱와이제곱이니까내가빠져나와서루트이에이가된단얘기야아결국우리는여기에서직각이등변삼각형오는길에비에이디에이영이백이십팔일대일대로트이고그로인해서우리는삼각비세개싸인사십오도와코사인사십오도와탄젠트사십오도의값을생각해보면그러면사십오도에대해서싸인값이결국뭐가되냐빗변분의높이죠마주보이는괴롭히니까걸그룹애입니다',\n",
       " '암기하는방법은어떻게되냐면다음시간에수영도하고라면이름되게좀더다시한번설명드릴텐데부모는다이해해요부모는다싸인같은경우에그다음분자는루트백이십삼됐나요루트백이십삼어렵지않지루트일은일이니까그냥우리가이분의일로쓰는거예요아이분의루트백이십삼삼십사십오십육십그렇다면코사인같은경우는어떻게된거냐거꾸로하면됩니다',\n",
       " '백이십삼갔으니까삼일이분의루트삼이분의일루트일은일위죠이렇게써주면돼결국사인을써줄수있다면콜사인은요렇게엇갈려서대각선으로내려놓으라라는걸여러분이생각하지근데있잖아탄젠트같은경우이래탄젠트사십오도에갔을때일이고이걸기준으로해서루트삼으로나누고루트삼으로곱해주면돼요결국일을노트삼으로나눈다는게뭐야루트삼분의일이겠죠이걸보통유리의삼분의이삼으로많이되어있는데선생님욕을쓰는경우가조금더많아요배달하다',\n",
       " '보면이게편할때가많아요그래서일반적으로우리가술을쓸때는무료해서쓰기때문에이렇게되어있지만루트삼분의일로기억해주시면더편하지왜루트삼일하는게이게좀더하다',\n",
       " '이따봐매운걸써요그리고서이제마음편안하게일번문제속도풀어나갑니다',\n",
       " '아그만큼여러분들께서이삼각비특수방에서의삼각비의값은반드시암기가되어있어야돼요배우는방법설명드렸으니까이분의루트백이십삼이분의루트삼일일을기준으로삼는다',\n",
       " '반갑습니다',\n",
       " '루트삼여기까지여러분들께서정리할수있으면됩니다',\n",
       " '이게그럼도대체문제가어떻게나온야너이거왜왜해야되는지여러분들이이렇게나오기때문에왜이걸왜이런문제를해결하고한번할말이없죠나와있는데어떡해유도하나요아니여기외워서푸는거야싸인삼십도얼마이분의얼마삼십사십육십이분의일이삼그쳐코사인사십오도얼마이분의루트사십오더가까운데인삼에서이겼네그래서이분의일플러스되나요탄젠트사십오도얼마인지제일마지막줄에가운데그걸그대로루트삼더하기코사인육십도육십도제일이쪽에있네아루트삼일이었어콜사인은싸인에이천삼백삼십일그래서여러분들께서이렇게외져서나와야되는거야알겠나요자개념확인일번문제없습니다',\n",
       " '여기까지해서간단하게오늘배웠던내용에대해서이런문제를우리가다른거야근데이것만잊지않겠죠왜가지고이것만풀지않을거야다양한문제들을살펴봐야되는데이제예제문제한번시작해보도록하겠습니다',\n",
       " '어그냥외워서쓰는거근데한번쯤은여러분들을여러분들께서왜왔는지다시한번확인하는그럼문제입니다',\n",
       " '그래가끔이런문제점을출제되기도합니다',\n",
       " '여러분의잘틀리지않아요성실히왜없다면같이함께삼일권을볼텐데탄젠트사십오도얼마했어요표를머릿속에그려봐여러분들의연상을해서배울게아편전쟁마지막드렸지사십오도는가운데어찌그럼뭐가떠올라가야돼가야돼루트삼나누기했던걸기억해야죠이런소리런드리표를구케이스닫았을수도있지만머리속에이미지를그려놓는연습도중요합니다',\n",
       " '그다음싸인육십도셔틀이뭐더라이분의없고루트일이삼인데육십도가제일끝이없으니까이분의일이삼이게떠이런식으로머릿속에뭔가생각을정리한아니에요두번째탄젠트삼십도마지막줄에서삼십도뭐였더라가운데가일이없고루트삼은뭐했었어나눴어루트삼분의일이없구나이렇게늦나요곱하기코사인육십도코사인중에제일큰거근데프사에있는노트삼이일거꾸로갔으니까와이분의이게이렇게가는거죠계산해보면이분의루트삼더하기사육이우리가유리해볼까루트삼의루트삼사작곡해볼게요삼구사루트삼이적삼분의이루트삼곱하기이분의일이니까육분의높은사람이돼서결국유튜브로통보해보면육분의일이삼더하기육구사루트삼이니까육분의일이삼사루트삼의약불에서삼분의이일부터삼십까지여러분들이답을써주면되니까삼번이다',\n",
       " '이렇게이제일번을하면됩니다',\n",
       " '사실여기뭔가복잡한일이있어서있지만실제로하는건뭐야사십오도육십도삼십배육십배대한사인코사인탄젠트값을넣어서써준다음에이게끝입니다',\n",
       " '이런문제가나올수있단얘기야왜안해그러니까여러분들께서외워야돼요아셨죠가능하면미안해요는싹을지향하지만좀암기할부분이있습니다',\n",
       " '이런건다음으로이번문제한번들어가보겠습니다',\n",
       " '그래요이거하고싶어요오늘배운게이거하려는거야그림과같은직각삼각형의엠비씨에서지금빗변의길이교육이고길이가삼일이야각의크기를구하세요있습니다',\n",
       " '자요렇게하면나올거야지금빗변의길이갖추어져있는거야우리둘이하는거야비를봐라이거어떻게하란얘기지문제에서이건뭐죠기준과기준으로봤을때마주보이는높이이분데가그림이우리애기알려주는건빗변과높이를알려주고있는거네기준가게대해서빗변과높이가뭐였더라아싸인이었어빗변분의높이가싸인싸인비가뭐보내보라고북변무네노피었어육분의삼이야육분에서하면뭐지이분의일딱써놓고보는거죠하는순간척하고지나가야돼꼭싸인뭐가이쁘냐이제딱떠올려야죠뭡니까쌓이는이분의루트이분의루트삼사일몇도가삼십도가이분의일이줘아여기서우리는뒤에값이얼마나많은걸할수있어삼십도라는걸알수있다',\n",
       " '자요렇게하면나올거야지금빗변의길이갖추어져있는거야우리둘이하는거야비를봐라이거어떻게하란얘기지문제에서이건뭐죠기준과기준으로봤을때마주보이는높이이분데가그림이우리애기알려주는건빗변과높이를알려주고있는거네기준가게대해서빗변과높이가뭐였더라아싸인이었어빗변분의높이가싸인싸인비가뭐보내보라고북변무네노피었어육분의삼이야육분에서하면뭐지이분의일딱써놓고보는거죠하는순간척하고지나가야돼꼭싸인뭐가이쁘냐이제딱떠올려야죠뭡니까쌓이는이분의루트이분의루트삼사일몇도가삼십도가이분의일이줘아여기서우리는뒤에값이얼마나많은걸할수있어삼십도라는걸알수있다',\n",
       " '자요렇게하면나올거야지금빗변의길이갖추어져있는거야우리둘이하는거야비를봐라이거어떻게하란얘기지문제에서이건뭐죠기준과기준으로봤을때마주보이는높이이분데가그림이우리애기알려주는건빗변과높이를알려주고있는거네기준가게대해서빗변과높이가뭐였더라아싸인이었어빗변분의높이가싸인싸인비가뭐보내보라고북변무네노피었어육분의삼이야육분에서하면뭐지이분의일딱써놓고보는거죠하는순간척하고지나가야돼꼭싸인뭐가이쁘냐이제딱떠올려야죠뭡니까쌓이는이분의루트이분의루트삼사일몇도가삼십도가이분의일이줘아여기서우리는뒤에값이얼마나많은걸할수있어삼십도라는걸알수있다',\n",
       " '나첫번째보겠습니다',\n",
       " '첫번째여러분들이건그냥대입하면되겠죠배가우리가이런분들가볍게풀고서가도록하겠습니다',\n",
       " '그런데단지분수로돼있어서조금번거롭지이럴때는그냥부모따로한번문자따로이렇게생각해보는건데저리분모를생각해볼게요등록십사분모레루트삼곱하기탄젠트삼십도얼마입니까그러셨죠루트삼부자로약불에서그대로부모가아이고너무좋다',\n",
       " '부모가일위는뭐가가능해생략이가능합니까그냥문자보면되는거야그래서그냥바로합시다',\n",
       " '사인사십오도이분의루트이더하기코사인사십오도이분의루트이거이제선생님이뭐가운데있는거이거안할거예요그러면안돼있어야돼요마이너스탄젠트육십도가루트삼였죠아이걸계산해보면결국이분의루트또는이거이렇게붐볐다',\n",
       " '첫번째로이렇게문자를이렇게마무리가되고요다음이번들어가보겠습니다',\n",
       " '자유재이번여러분들가나다에알맞은이거왜언니라고대놓고못문제죠어떻게됩니까사인코사인탄젠트사십오도육십도이분의일이삼이분의루트삼일삼루트이루트삼루트삼됐나요이거뭐따로설명할수없지뭐이런부담계셨다면바로해결이가능합니다',\n",
       " '자유재이번여러분들가나다에알맞은이거왜언니라고대놓고못문제죠어떻게됩니까사인코사인탄젠트사십오도육십도이분의일이삼이분의루트삼일삼루트이루트삼루트삼됐나요이거뭐따로설명할수없지뭐이런부담계셨다면바로해결이가능합니다',\n",
       " '아셨죠삼번문제삼번사번문제로들어가야되겠죠자유의사번들어가보겠습니다',\n",
       " '어려워보이죠굉장히간다네요우리는단순화시켜서싸인몇도가이분의루트삼인지만한게되어있어해결할수있어쌓이는순서대로이분의루트백이십삼이었어이분의루트삼은그러면결국까인육십도에값이이분의루트삼이어질아는것만여러분들이외워져있다면똑같고싸인싸인똑같으니까아익스플러스이십오도가육십도구나이것만알면끝나겠죠여기서엑스삼엑스가십오도이상에서사십오도니까양변삼으로나누면엑셀크기는몇도가된다',\n",
       " '이십오도가된다',\n",
       " '사이인지여러분들께서확인까지끝나는겁니다',\n",
       " '똑같이외우는거들면안유재삼번과사번중에서선생님은유재삼번이조금더그래도조금더생각할거리가있고좋은문제여이런일이복습하시더라도신경써서이제삼번봐주셨으면좋겠습니다',\n",
       " '이제마지막내용에대해서두개유지가남아있는데이두개유제는오늘선생님이강조하고자는모든내용오늘의어떤핵심이것만하면끝나이렇게생각하시면돼요오번서부터한번소리를들어가보도록하겠습니다',\n",
       " '오늘의어떤모든내용이이제요번에들어가있다',\n",
       " '바라보고오른쪽그림과같은직각삼각형에이비씨에서각비가육십도비씨가오일을구하라그냥비씨에이비이렇게생각하는게아니에요이게되잖아요삼각비를그랬잖아기준가게육십도가낮춰도있는거예요그러면마주보이는게높이잖아요이게몇번이죠이건뭐야빗변잊어그럼우리는뭘생각하는얘기야아에이비를구하라는그래변을구하는얘기고주어져있는건기준가게대해서밑변이적어져있어그럼내머릿속에선민병갑빗변사이의관계가뭐였지를떠올리게되는거야김병각있던코사인코사인이코사인몇호특히여기중간에육십도가코사인육십도감원에뭐예요노래밑변이었어빗변분의및편이었어팔분의모여비씨그러면이거어떻게되지이거하는거야일단그저이게문자요숫자자나코사인육십도뭐였더라코사인육십도이거왜그랬어요이분의일입니다',\n",
       " '그러면끝나자왜아여기에서이거하면돼이렇게보면애비가결국뭘한얘기에요십이입니다',\n",
       " '갑시다라고여러분들이받아들일되는겁니다',\n",
       " '그러면이제오번나올수있겠죠자유재육번여기서조금더올려보도록하겠습니다',\n",
       " '먼저그림이좀복잡해여기서잘게보도록할게요제가그림의삼각형에이비씨에서에이치하고비치가서로삼에이에이치하고비씨팔백오십칠여기가구십도인거몰라요지난시간에배웠던직각삼각형에서의닮은아니에요구십도란말없습니다',\n",
       " '육십도사십오분이면그리고당연히이거구십도아닌것처럼줄알수있죠이그림을여러분들이바라볼때어떻게바라봐야되냐면삼각형에이비씨가보입니다',\n",
       " '나가면안되는거야이도영문제잘푸는그래아이그림은삼각형에이비에이치하고에이에이치씨가에이칠공통으로해서붙어있는겁니다',\n",
       " '해석해야돼되나요그러면문제수고하고자는게지금씨에이치에이우리는생각해보는거지내가어디까지가야지이십칠일구할수있지시리즈를구하고싶다',\n",
       " '난거이거오늘잘보세요위치를구하고싶다라는건일을잠깐하고나올게요이걸관련뭐라해야되지일단이쪽에있는삼각형에서이번일은이번일은알면돼맞죠그래야뭐코사인사십오도를쓰던할거거든근데입원보다는누가먼저구해줘이변이구했죠왜이러니구했죠이쪽삼각형을이용해야되니까맞죠이쪽에서올거니까요게공통이잖아요지금에이치에이치를통해서씨칠백십구할건데이문재인그래도좀쉬운게여기사십오드리고여기구십도맨여기도몇도사십오도무슨삼각형에이에이치씨는이등변삼각형에이스도따라서뭐가돼엑스가돼아하되네그럼남자엑스로갈거야어떻게이제왼쪽으로넘어서보는겁니다',\n",
       " '아이쪽에있는위치에서보니까지금요가육십도나와있네마주보이는게뭐야높이높이가져와서있는거래높일구하고자하는거네그죠그밑변이주변에있는거야아밑변하고높이아그래아어떻게생각하면돼탄젠트육십도가밑변불에높이는데그게사브레의싸라는이야기죠그냥여기서우리는엑셀구할수있고탄젠트육십도가루트삼이니까이렇게써주면내배에서엑스의값은하루이삼그게지금에이에이치인데에이치씨하고캐리가갔겠죠이등변삼각형이없습니다',\n",
       " '따라서사루트삼씨미터이렇게여러분들께서답을구해주시면됩니다',\n",
       " '이렇게오늘교재있는전체문제는마무리가되었습니다',\n",
       " '영숙씨이학년때선생님이그런친구들을선생님수고한국에서제일많이여러분들이좋아했던게중계역보통은수업자꾸만이런거좋아하는데우리제자들훌륭한선생님이막그있죠선택천문대체험이제막이런거어려운문제굉장히여러분들이습관위에좋은글많이써주셔서삼학년들이의사선생님이준비를했습니다',\n",
       " '궁금하시죠함께오늘의문제시작해보겠습니다',\n",
       " '자손이때문에쉬면돼첫번째문제함께보도록하겠는데요이첩번째문제는조금전에풀었던이제마지막문제하고유사한형태입니다',\n",
       " '함께문제해결해보도록하겠습니다',\n",
       " '그림을딱그느낌이전혀다르지그림만조금바꾸면우리는다른문제라고생각하기쉬어요그런데문제흐름이같아요느껴봅시다',\n",
       " '육이고지금이그림을보고여러분들해야되는거야이거구십도구십도사십오도알겠어중요한게뭐죠이그림을여기있는삼각형에이비씨하고또하나의삼각형여기는디씨비가누구를비씨를공통으로해서있는거야그러니이이삼각형을연결하는누구야비씨가포인트야이걸여러분들이생각해야돼그니까나는이쪽에서이렇게넘어가려면다리를건널때비씨를구해봐야지넘어갈수있다',\n",
       " '그래야빗변을구하겠어그럼당연히이걸구하라아니죠비씨를왜하얀색써넘어가야되니까그러면보는거야아기준각육십도잖아요그럼지금마주보이는게높이죠하얀색이상그죠이거밑에편의점아그럼이별의높이는모였어탄젠트니다',\n",
       " '빗변분의높이이다',\n",
       " '아그럼탄젠트육십도가오분의뭡니까육분의비씨다여기서우리좀비씨를구할거고루트삼이니까육대주면비씨는결국뭐가돼노트삼의될거야이렇게비씨를구하는단계가들어가야죠그러면이제그다음오른쪽으로넘어올수있겠네다리건너목사비리바라겠습니다',\n",
       " '두번째탄젠트얘기했습니다',\n",
       " '어그러면기준각사십오돼서이제그만보세요빗변을구하라기준각에서마주보이는뭐가젖어있어높이가있는거야됐나요아그러면빗변과높이는뭐였더라빗변과높이높이아싸인이었구나싸인사십오도가오븐에보여백변비디피높이가누구예요지금노트삼있잖아그래서거기서비닐을가면되는거야아그러면싸인사십오이가이분의루트이적요거왜또오늘별로이렇게해보면투입위치는이렇게곱하면삼이적여기서양변루트이로나누고연습쌍계사아니니까여러분들이쭉쭉해나갈수있으면됩니다',\n",
       " '그래서대답이이는결국뭐가될거냐면이분의약품되면은이삼일은이렇게답을구하시면끝나는거예요이건할수있겠죠네오늘이문제이하잖아요그러면학교시험끝난거예요일단학교에서나올수있는일이삼각비아파트에대한문제는이문제하나로다끝난다',\n",
       " '가보겠습니다',\n",
       " '비가구십도인에이비씨가있습니다',\n",
       " '삼각형에이비씨에서에이비가육이고구미다비에이치가삼십도일대탄젠트엑셀값결론이나와있어탄젠트엑스를우리는당연히직각삼각형여기에서탐정팩스를구할거고몰고하란얘기야별로써보자탄젠트엑스기준가기거야마주보이는게높이이게밑변인덱스는노래소피에이에이치분에뭘바라냐씨에이치십구하라는거야라고결론을정해놓고그럼어떻게구해어렵지않네요선생님이삼각형에서오면돼맞아요그럼이게중요한거아니에요계세요제가좀어렵습니다',\n",
       " '그러면우리는에이치는어떻게하면되냐기준각삼십도에대해서빗변을알고있고밑변을구하고자는거좀가지고있는괴롭히니까결국육분의에이에이치가뭐예요코사인삼십도입니다',\n",
       " '그러니까아양변에여섯대주면에이에이치는육코사인삼십도가야돼서결국뭐가돼삼루트삼시까지올수있어요아에이에이치가나는분모는해결했어이제분자씨칠십구하는게목적이야근데우리는스위치를어떻게구할수있느냐스위치를선생님여기서피타고라스적있으면되나요예피타고라스정리써도돼요구해볼까요어어떻게구할수있어루트제곱마이너스다른변의제곱구백팔십일마이너스삼루트삼의제곱은이십칠이니까루트오십사가돼서오십사는구백오십사살루트육가지갈수있는거잖아스위치끝났네씨에이치뭐라고요삼루트육결과를루트이이렇게여러분들께서답을구하는겁니다',\n",
       " '저는없더라고공부했던내용중에핵심은당연히사인코사인탄젠트삼십오도육십도에값을메우는거였고마지막유형있죠그리고오늘최문제까지선생님이여기까지어떻게할수있다면여러분께서학교시험에대해서는일단오늘확실하게끝냈다라고자신있게말씀드립니다',\n",
       " '공소외일내용함께정리하고마무리합니다',\n",
       " '오늘함께정리할게요싸인삼십사십오십육십각각이분의루트십삼올라갔으면됐어코사인거꾸로내려왔죠이분의일로이겼습니다',\n",
       " '자판제임스는삼분의이는위례에서삼분의부산에서루트삼십회나간다',\n",
       " '반드시부탁드릴게요자스민조금아까숙제로여러분들께내드린다라고말씀드렸던문제기억하시나요이따마지막유세문제여러분들반드시체기를구하는순서까지한번어떻게풀어나답이아니고요흐름을남겨주시면여름휴가선생님이소풍에굉장히되겠네요오늘수고많이하셨고요다음시간에또열심히준비하도록하겠습니다',\n",
       " '다음주에뵐게요반갑습니다',\n",
       " '오늘뉴논스톱세번째시간이되겠습니다',\n",
       " '함께공부하고있는데용산각뒤져오늘공부한내용은크게두가지전데요첫번째제가바로뭐냐면이예가게에서일삼각비의일하는것을사분원일하는것을통해서알아보도록할겁니다',\n",
       " '어려운말들이많이나가는데요조금이따개념이해가굉장히중요한파트가되겠고요야그다음에두번째로공부한내용은바로영도와구십도에서의삼각비의갑입니다',\n",
       " '역시사분오늘통해서우리가설명을할텐데이내용은이해도중요하고여러분들께서우리그가기떴죠삼십사십오십육십처럼영도와구십도의삼각비의값도암기를해주시는것이좋습니다',\n",
       " '이렇게두가지주제함께오늘공부하도록오늘함께선생님하고수학끝내보도록하겠습니다',\n",
       " '오늘함께모바일그냥첫번째내용바로얘가게삼각비갚습니다',\n",
       " '사이에가게삼각비의값예각이란권영도보다',\n",
       " '크고오십보다',\n",
       " '작은가겠죠근데우리는삼십사십오십육십또말고다른일방적인값들에대한삼각비의값을계산할건데조금더편리한방법을취하는방법그걸알아보는게바로오늘공부할주제가되겠습니다',\n",
       " '애가하나우리그려놓고생각을해볼게요얘가이렇게그려놓고생각을해보겠습니다',\n",
       " '빗변분의높이이다',\n",
       " '사이가기그냥엑스도다이렇게한번잡아보도록할게요우리가만약에이삼각형에서이엑스를포함하는직각삼각형을갔다가몇개만들수있냐면이런식으로무수히많이만들어나갈수있을거예요그런데첫시간에공부했던이름이뭐냐면우리가쌓이는빗변분의높여서엑소에대해서또빗변분의높이피피뿌리도피이값들이모두다어떻죠닮음인직각삼각형에서의빅스비가언제나같다라고이야기했다고코사인으로빗변분의이편빗변분의밑변모두다때그값이같다라고이야기했습니다',\n",
       " '딱탄젠트같은경우에도빗변분의높이몇분에높이는언제나같다라고했는데그렇다면우리가이길이들중에서인기많은삼각형둘중에서가장그비를편하게편할수있는게어떤걸까한번생각해보자내가예를들어서욕이라고이게네가그냥예입니다',\n",
       " '영점팔/영점오이렇게되어있으면코사인같은경우사경험의영점팔/영점이정도느낌까지근데그거보다는예를들어서요기가일이뭐만약에이게내가얼마나라고나와있다면요금비를일을생각해서여러분들이또할수있을텐데그렇다면우리는아여기서코사인영점팔/영점오보다는삼각형을가지고이야기를일분외모가될테니까바로분모가일이면생략대선미터오이길이가의미하는게그대로뭐가되냐면코사인엑스가될거다라는걸알수있습니다',\n",
       " '근데이거보다',\n",
       " '만약에커져서요미가에레일점이부분에네가만약에세모달똑같이코사인엑스며칠거아니야그래서조금번거롭죠생각해보니까우리는어떠한분수가가장단단해지는게모양이간단해쓰는게분모가얼마가되면이리되면생략해서바로군자가들어올테니까분모가일이되면굉장히그피를간단하게표현할수있구나라는걸여러분들이느낄수있을거란얘기야그러면결국사인하고코사인같은경우에는이분모의들어올값이빗변이잖아요싸인이뭐였죠빗변분의코사인빗변분의밑변결국빗변분의이변이부모의들어오기때문에그분모빗변을일이되도록하는삼각형을만들어준다면그비를간단하게표현할수있다라는게오늘주세요그래서우리는뭘생각하는거니하면이렇게반지름의길이가일인뭐를생각하게됩니다',\n",
       " '한번끓여놓고볼텐데일단사분원일하는게뭐냐면원에사브레일이겠죠중심각이렇게구십도의부채꼴을생각하면될텐데차있대우리가반지름의길이를일번이라고나볼거고여기에서이십사분의위의한점을딱잡아보도록하겠습니다',\n",
       " '그래서우리가요중심에서부터이렇게연결했을때이루는각을엑스보다라고한번생각을해볼게요그러면이렇게오면우리는요길이도일이고요길이는똑같이뭐가되냐면일이되겠죠그러면요길이도얼마나되죠일이되겠죠그러면이점에서이점에서붙어요가로축에이렇게수선을하나그어놓고보도록할게요자그러면우리는이점을갔다가이렇게왔다갔다',\n",
       " '갔다',\n",
       " '이동식그래서요개념좀개념이어려운데중요하니까잘보세요점을이동시키면이점이이쪽으로오면요렇게그래도되고이성이있죠그러면이렇게돼저기옮겨다니면서이미예각을우리가만들어줄수있겠죠만약에점이이쪽으로오게되면삼각형이이렇게생긴생각중이라고되니까또가기이렇게될테니까값들을쭉내가안에서변화시킬수있을텐데이래도변하지않는것이바로뭐냐면각각의삼각형에서무슨길이빗변의길이는반지름일로변하지않습니다',\n",
       " '필요하고놓고오라고놓고이점을팔월갔다가뭔비라고잡아보도록하겠습니다',\n",
       " '이렇게잡으면첫번째우리는그들을어떻게변할수있을까하고바라보면사이넥스는다이렉트는빗변분의높으니까오피블랙피해가되겠죠오피피에이그런데여기서오피비가얼마갑니까오피에길이가일위죠일이니까별곡일분에프티에이가돼결국은길이가길이가의미하는것이그대로뭐가된다',\n",
       " '하이닉스가되는구나라는걸여러분들이생각할수있으면되는겁니다',\n",
       " '일단요흐름을쭉따라오셔야돼요그러면코사인엑스같은경우에는어떻게되는지한번노란색으로볼텐데코사인엑스같은경우에는똑같이직각삼각형피오에이에서바로빗변분의네편이니까오피분의뭐가늦어밑변오이가되겠죠근데오피에길이가마찬가지로일위죠그러니까바로군자오에이길이가의미하는것이의미하는것이바로코사인엑셀값이지구나라는걸여러분들이알수있단얘기야빗변의길이를왔더니이렇게간단하게어떤선분의길이의결국사이넥스코사인엑스삼각비를의미하게되는구나라고간단히바뀐거라는이야기입니다',\n",
       " '마지막으로탄젠트엑스를보도록하는데탄젠트같은경우에는보세요탄젠트이층삼각형에서탄젠트엑스를생각하려고봤더니밑변분의높이요맞죠근데오후에길이가대략얼마일까느낌만보세요듣기만영점팔정도되겠지길이가여기가일이니까영점팔/육일영구일영점오삼이라고해볼까그럼영점팔/영점삼계산이어떻게되요굉장히힘들죠영점팔곱하기영점삼번거롭지만말해야죠계속이래마찬가지로분모가일이되게할수있는방법이뭐가있을까생각해서봤더니탄젠트는밑변분의높으니까밑변이부모고그밑변을일로만들수있으면좋겠다',\n",
       " '뷰이렇게나오면아그렇다면만약에이값을우리가알수만있다면탄젠트엑스는결국뭐가되냐면및일부네그럼일분에높이추가되는거야이거또문제제출하고우리가낫다라고한다면보내시길이렇게되겠죠이런식으로탄생팩스를편할수있고오씨엔일이기때문에일분의식주는결국그대로추가돼서길이가결국먹어야된다',\n",
       " '그냥갑자기사백원이있어라고이제설명하는그런강의들이여러분들많이인터넷통해서봤을텐데이반지름의길이가왜나왔는지맨왔다',\n",
       " '우리가결론적으로알아야되는건싸인이나코사인을구할때바로분모의길이를분모를일로만들어서생략해서간단히한성부의그리로사이넥스코사인엑스불편하게해서반지름의길이가일인샵은언니필요한거있고그반지름이바로뭐가되냐면빗변의길이가됐어따라하는거죠근데탄젠트같은경우에는어떻게된다',\n",
       " '아그래높이는데이별을다른삼각형에서보면아여기일이아니라번거로워일로만들기에서설국반지름이일이니까여기까지가밑변이직각삼각형을만들어냈다라는이야기입니다',\n",
       " '그럴때는이바깥쪽에는큰삼각형에서뭐가바로높이가탄생엑스가된다',\n",
       " '여기까지여러분들이정리를해주시면돼요다시한번최종적으로사이렌선생님이렇게설명을해요현장에서학생들이이거너무어려워요사인하고코사인작은삼각형사각형뭐라고요사이라고쌓이는작은삼각형탄젠트는큰삼각형이걸기억하시면되고쌓이는잘보세요기준가격이있을때사이라고콜사인은여자는삼각형에서우리가이야기를할거고탄젠트는큰삼각형에서이야기를한다라는걸기억하시면된단얘기야그다음에싸인같은경우에싸이렉스는바로이삼각형의높이사이렉스고밑변의길이가코사인엑스다시한번기준각이렇게쌓이는높이가사이렉스고쿠사이는몇변의길이가바로코사인엑스가된다',\n",
       " '맞는얘기야대접사번사이넥스마이너스코사인엑스영보다',\n",
       " '이렇게여러분들이나중에좀해주시면편합니다',\n",
       " '근데이해를해야되고프린트같은경우에는직각삼각형에서뭐가된다',\n",
       " '높이가된다',\n",
       " '정리할수있나요사일에복사있는작은직각삼각형에서쌓이는높이콜사인은및그다음에탄젠트는큰직각삼각형에서바로뭐가높이가탄젠트엑셀값이된다',\n",
       " '기준가기여기있을때다같이함께이게문제로적용되는지함께가보도록하겠습니다',\n",
       " '기준가기여기있을때다같이함께이게문제로적용되는지함께가보도록하겠습니다',\n",
       " '다음두번째그럼어떻게될거라고생각해보면코사인이제바로가볼게요작은직각삼각형에서우리가따지지하라고했잖아그럼코사인사십육돈을에이오븐에오피쥐에이오브이오피그럼그럼에이오오비에서결국부모의이유가일이된다는건알수있습니까반지름이더결국오비엘비리가코사인사십육조의값에되고코사인삼십도는백오브이에이길이얼마입니까영점육구사십이사십육마이너스값이나이렇게여러분들이보내주시면된단얘기야정지되나요데이이미예가게에서일삼각비내용자체가좀쉽지는않습니다',\n",
       " '여기까지내용을여러분들이일단결론이지어서왜반지름이일인샵은오늘생각했는지이런개념들이다만약에이해가안된다면최소한최소한우리가이만큼기억해야된다니까요화분을중심으로해서자는직각삼각형과큰직각삼각형중사인코사인작은직각삼각형에서탄젠트는큰직각삼각형에서살펴봐야되는구나라는그시작점을여러분들이가놓고이문제를바라볼수있어야된다는이야기해요다음으로우리가생각하는개념은바로영도와구십도인가게삼각비의갚습니다',\n",
       " '여름도기본적으로한내각의영부인삼각형삼각형을그렸어근데한내각의영도인삼각형이있을까없을까한내각의영도가되면삼각형이아니전부터버리니까그러면선생님삼각비로어떻게삼각비직각삼각형에서살펴보는데직각삼각형중에한내각의영도인직각삼각형일하는건말이안되잖아요그러니까우리는어디에서살펴볼거냐면바로이사분원에서다시한번이야기를할겁니다',\n",
       " '반지름이오늘그려놓고이야기를해볼텐데먼저우리가여기다가요렇게한번각하나를잡아보도록하겠습니다',\n",
       " '조금전에이야기했듯이이길이가의미하는게뭐였죠주황색의의미하는게사이넥스였어요왜염분에높이에서빗변이일이니까일분의주황색길이그게사이넥스죠그래서바로이높이가사이넥스없고그다음에분홍색으로보겠습니다',\n",
       " '목요일이라정리하는게뭐였냐면일분에바로코사인엑스적일분에서일생각하니까요길이가바로뭐가되냐면코사인엑스가된다라는걸알수있었습니다',\n",
       " '일단연구하고속도에서의삼각비의같이자는건사이넥스코사인엑스탄젠트엑스의값을우리가구할거야이걸키워놓겠다니근데첫번째는싸인영도라는건우리가어떻게생각하면되냐면이더하기영도가되고싶다',\n",
       " '그래서코사인영도는일이다',\n",
       " '보면이길이가사이렉스겠죠비가점점어떻게될까파란색보단주황색주황색보단노란색으로수록점점줄어든다',\n",
       " '보면이길이가사이렉스겠죠비가점점어떻게될까파란색보단주황색주황색보단노란색으로수록점점줄어든다',\n",
       " '그래서코사인영도는일이다',\n",
       " '이렇게놈들이에이스자리에십육을대입해보면아결국및때문에높이가뭐가된다는데요삼분의사가되는구나정답은사번이구나이렇게이런데서입원을생일하시면되겠습니다',\n",
       " '탄젠트영도는뭐가될까는잠시후에볼거고싸인구십도에값을생각해보고잘보세요이제는거꾸로구십도엑스가이가게점점커져서여기와야구십도좀잘보세요이게이게이게이게네가점점늦어지고있습니다이가기좀더커져서여기쯤왔어그러면이제이길이가거의뭐해가까워져일에가까워진다는걸확인할수있겠죠만약에이가기딱구십도가되는순간결국기기가뭐가돼일에다다를거다라는걸알수있고삼각형이안되잖아구십도까지오면삼각형이안되잖아그래서이렇게삼각형에안만들어지죠그래서우리는원래정확히어떻게하냐아사이렌사이렌이전에무슨잡히니까욕이란얘기는와이좌표를위한거야이점에와이좌표이점에와이좌표읽는순간이점에와이즈폰그대로일이니까싸인구십또는일이다',\n",
       " '이렇게가는거야자마지막으로코사인구십도를생각해보면코사인의욕한마디로이점에엑스자엑셀표이점에엑스좌표엑스좌표어떻게되요커질수록엑셀표값이어디에가까워지고있어가까워진다라는걸알수있겠죠그러기때문에결국이점이여기오는순간코사인영도에값은부과되나코사인구십도이가수가된다',\n",
       " '바로영이된다라는걸여러분들이확인할수있어요다시한번아네변의길이변의길이가점점어떻게되고있어줄어든다',\n",
       " '가기커질수록네변의길이가줄어든다',\n",
       " '가기더커지면네변의길이가더줄어든다',\n",
       " '가게되는순간네가없어져영희때문이죠이렇게생각해주시면된단얘기에요이제탄젠트에대해서보겠습니다',\n",
       " '이개념하나만여러분들이오늘알아도이화면을여러분이워낙좀어려워하기때문에한가지이것만여러분들이정확히오늘알고끝내시면되는겁니다',\n",
       " '딱탄젠트같은경우는어떤삼각형부자라고있었냐면이바깥쪽에요렇게올라갔죠바깥쪽에큰삼각형으로우리가탄젠트이야기했는데탄젠트는요괴기가지금탄생시켰습니다',\n",
       " '그죠근데왜이길이니까됐죠그러면탄젠트영도는뭐가될거라고생각해보면아이가기점점영도에가까워서그러면결국길이가어떻게되요점점이렇게내려가보면점점작아지고높이가점점큰삼각형에서작아지다가영도가되는순간이기는영이될거다라는걸알수있는데중요한건보세요만약에엑스가구십도로가까이가잖아요계속커지겠죠어쨌든이직선이연장돼서이이엑스이개수선이이성과만나는점을찾았을때길이가한진택순대구십도가돼버리면이선하고만날수있을까없을까만날수없겠지요되나요그래서학교에값은우리가뭐라고하냐면정할수없다라고이야기를합니다',\n",
       " '됐나요최종적으로우리교재에나와있지는않은데선생님요거하나만딱정리해드리고마무리를할게요아이제대소관계를공부하기위해서우리가알아야되는데근데바로뭐냐면지난시간에쓰던표가사이넥스코사인탄젠트엑스에서삼십도사십오도육십구회값을지난공부했었고오늘영도하고고속도로대응거잖아요그죠그러면싸인영도는영이고지난시간에했던거이분의일이이이이이이삼그다음에이게다코사인어떻게했냐면일이분의일이삼이이이이분의일그다음에여기는영이없고요지난시간에배운거오늘배운걸양쪽에지금추가한겁니다',\n",
       " '탄젠트삼십육도똑같이이렇게탄젠트줄에서읽어주시면되니까영점뭐가된다',\n",
       " '나탄젠트를사십오도가일이었죠루트삼으로날아왔어얼마했습니까루트삼분의일또는선물해노트삼랑여기는루트삼이게친한시간까지내용이고탄젠트영도는영이고인정할수없다이열다섯개의수를여러분들이적힌십사계절이예요건아니니까어쨌든이수를여러분들이암기를해주시는게최종목적이고매우는방법은잘보세요요걸이분의영어로붙여보세요이브네요요걸이분의사라고쳐봐일이니까이불에근데이번에일하는건네가로드사니까이렇게적으면여러분들이한눈에싹들어오게외울수가있습니다',\n",
       " '일인자란이야기해요그다음에콜사인은대각선으로엇갈려서이렇게내려오면된다라는거탄젠트는그럼요건우리가내옆에때문에지난시간에탄젠트영도에값이영희달라는것만여러분들이추가로왜요주시면되는겁니다',\n",
       " '내일까지정도됐나요이걸이용해서우리는그럼못느낄수있냐면사이렌잘보세요영도에서구십도로갈수록영에서일까지의증가합니다',\n",
       " '코사인엔영에서구십도로갈수록일에서영으로감소합니다',\n",
       " '됐나요탈렌트같으면어떻게될까영도에서구십도로갈수록같이증가합니다',\n",
       " '중일때반비례그래프보면요와이축과만나자면서끝없이올라가잖아그것처럼탄젠트의값은구십도가되는순간만나지않고끝없이올라가서존재하지않는다라는느낌많이있잖아치면되고할수없다라는것이의미가무엇인지요렇게만나야지우리가정할수있는데만나지않는하라는것만이반비례그래프여러분들이생각하면서떠올리면서기억을해주시면되는거예요여기까지열다섯개숫자를여러분들께서반드시매우보석그리고서예제를함께풀어봐야되겠고요일단개념확인문제삼번삼번삼번시작해보도록하겠습니다',\n",
       " '보세요바로외워서그냥다쓰면형태가일단개념하기는나와있는데싸인구십도얼마였죠영광오십도가좀헷갈립니다',\n",
       " '쌓이는영에서고속도로커져요성적값이커지니까구일이되는구나다크싸인일일에서영어로줄어들었죠영도일때과일이고구십일대가영애야싸워서코사인영도에값은얼마다일일이다됐죠딱탄젠트영도는모였습니까탄젠트영도를그대로였다',\n",
       " '갔다',\n",
       " '그래서코사인영도는일이다',\n",
       " '여러분들께서이걸갖다가표를매운것도중요하지만사분원에서아머리속에서어떻게풀어야된다면요탄젠트하는게바깥쪽이어찌이거이거이렇게생각하는데여기서일부네요길이가길이가탄젠트엑스이값이영도가전달한얘기는이길이가점점짧아져서영도가될수가없구나여기구나이내용과그다음에아까그십사길숫자있었죠그숫자가함께머릿속에서돌아가완벽하게이부분이이해가됐다라는이야기입니다',\n",
       " '정리할수있겠죠함께이제예제문제들어가보도록하겠습니다',\n",
       " '예제문제함께보도록하시는데요사번입니다',\n",
       " '저희가배웠던피우는데그림인데조금다른게뭐가있죠이강만엑스가아니라여기와이쥐나는가게에있습니다',\n",
       " '먼저여기있는내용을복이없어서우리가생각할수있는건와이오쥐에이크기를어떻습니까같다라는거일단알고가야되겠죠그러니까작은삼각형을만약에과일을구하라해도탄젠트값들고와라가면큰삼각형을이용해서할거고우리가큰삼각형을이용해서사인이나코사인을구하라고해라결국컸다',\n",
       " '아이디어를가지고문제를시작해보도록하겠습니다',\n",
       " '그러면일번에사이넥스같은경우에는잘보세요무슨얘기냐오늘우리가배운게얘기야아이맥스선생님이삼각형에서이야기해보면빗변분의높이니까오후일분에잖아요맞죠근데선생님만약에큰삼가총가지고엑스사십이뉴스를이야기해보면빗변분의루피니까선생님오실분있잖아요이렇게얘기할수있겠죠두가지얘기할수있다고그런데누굴쓰겠다는우리는위의것은다얘기해왜왜이길이가얼마야반지를일이거든분모가일이라생각가능하니까그대로에이비이렇게간단하게나타낼수있다라는이야기해요내아래건어때오십가지를더이상오십칠분이거모르잖아요그죠이기도다르게줄여서간단하게편할수가없으니까이것도되고이것도되지만누가편리하다',\n",
       " '위에께편리하다',\n",
       " '그래서일번은옳다라는이야기입니다',\n",
       " '마찬가지로이번에코사인엑스그럼어떻게됩니까코사인엑스네선생님빗변분의밑변이잖아요아그러니까일분오비니까그대로오비가됩니다',\n",
       " '이제바로갈수있겠나요그다음세번째선생님기준가기싸인와인돼요일로왔어요그래도똑같아왜아여기서만괴롭히잖아이거죠사일빗변분의높이죠일불에되나요일을생각하고나면그대로오비에길이가사이다',\n",
       " '자각의사인일하는건바로뭐냐면빗변의기분에높이높이는즉각에서맞추고있는병급전기준가게더맛있어보이는건바로높였습니다',\n",
       " '지금그럴때코사인엑스문제도얘기하는게뭐야코사인엑스당연히직각삼각형에서코사인엑스를부활하니그래빗변분의밑변이팔일이다',\n",
       " '이렇게여러분들이얘기할수있어이게틀렸다는게아니야그런데이거보다는누가좋다네요아지하고마이가같으니선생님이콜사인은쌓이는작은집같은사람이붙어있으니까여기서생각해보면코사인주인은코사인와이와똑같다는걸알수있고결국일불에에이비오에이에이비니까부모의있는일이라생략되고에이비이렇게깔끔하게나타낼수있다라는이야기입니다',\n",
       " '그래서오번이올탈아니에요제가같으니까사모님왜틀렸는지이제사번이답이겠죠사번한번보도록할게근데탄젠트와있습니다',\n",
       " '탄젠트잘보세요우리가이직각삼각형에서만약에탄젠트버리면높이죠결국팔분의누굽니까팔분의이게지금탄젠트파이여기서더이상간단하게정리할수가없어요그런데큰직각삼각형에서이야기해보자결국와이가누구랑같아질거같아아그러니까탄젠트와일에관한얘기를하면되는거야근데탄젠트는높이하면씨디불에누구예요어디예요근데어디가얼마나어디가반지름일이잖아그러니까우리는분자에있어서씨디일이이렇게간단하게편할수있다라는여기서그래서결국시리가아니라십이분의일을해야되니까사번이울지않고이렇게놈들이답을구하는건다됐나요다음오번문제보도록하겠습니다',\n",
       " '끝나요다음으로팔번문제들어가도록하겠습니다',\n",
       " '오늘개념이조금질어서이름들문제풀이는부지런히갈테니까나중에다시한번인터넷통해서천천히좀들어보시기바랍니다',\n",
       " '일번에쌓이네들은영의정탄젠트영도는영의정싸인영도이영일영이이영맞다',\n",
       " '싸인삼십도이분의일코사인육십도이건지난시간거예요그러면싸인이분의루트이코사인사십오도이분의루트이역시성립하고사인용저는요코사인구십도도영역시성립합니다',\n",
       " '오늘외워써야되는내용이죠싸인구십일입니다',\n",
       " '구십도얼마죠값을알수없어정말수없었습니다',\n",
       " '그래서이게같아시려면여기뭐가나와야돼탄젠트사십오도의값이일이겠죠이렇게되어있었다면맞지만울지않고이렇게입고있어야되겠죠함께바로이내용에대한유제풀이시작해보겠습니다',\n",
       " '자이제첫번째칠번서부터보도록하겠습니다',\n",
       " '좌표평면이일점오를중심으로반지름의길이가일인샵은오늘그렸고코사인삼십도얘가부탁한가지기억하면돼오늘사인코사인은작은직사각형의그러면코사인삼십도는이작은직각삼각형에서볼거야큰거말고그리고코사인사십오도는빗변분의밑변인데빗변이일본의오비오비길이가코사인삼십도됩니다',\n",
       " '근데이길이가얼마인가하고봤더니영점일구이라고돼있죠바로코사인삼십오도의값을구했네요스타다음으로이제팔번문제들어가보도록하겠습니다',\n",
       " '어떨때어떻게이용해야되는지요놈들이사블로네관련된한번잘보시면됩니다',\n",
       " '좌표평면이일점오를중심으로하고반지름의길이가일인사분원에서비엑스잡초를나타내는것이문제여러분들이시험에서굉장히많이실수에서오는이용한전문점이다',\n",
       " '잘되겠죠약속문젠데보면첫번째반지름의길이가일인샤브로맨스비해무슨좌표엑스좌표라는건비엑스자두를여름도이그림을이렇게해드려요시험때그저그저그래놓고비에이알길이를앞이라고생각해실수를많이하는얘기야비엑스누구얘기를하란얘기야길이를의미한다',\n",
       " '아비에그잡히는건길이를나타내는것아니에요그럼첫번째우리가할수있는건바로모여작은삼각형에서아왜이래코사인에이가일분에오니까코사인일분에온아오이가된다라고답을쓸수있겠는데또하나가잘안보이죠근데어차피작은삼각형에서싸인아니면코사일이니까우리이각을기준으로보면저가게되면치겠죠그러면아여기서변하고마주보이는높이니까싸인비가일부네오비젼밀피결국이렇게이번과삼번을골라줄수있으면됩니다',\n",
       " '자오늘숙제는여러분들삼각비표에서선생님이하나출처를해봤는데요한번문제읽어보시기바랍니다',\n",
       " '자이제여기중요한데대소관계요엑셀값이구십일대싸인엑셀값이구십일만싸인구십돈얼마있어일이죠코사인구십도얼마였죠그러니까일이다크다',\n",
       " '싸인삼십도이분의일코사인삼십도이분의일이삼싸인사십오도는이분의루트이바로탄젠트사십오도일이겠죠코싸인이십도는결국정답은사번이렇게이제구분을암기에따면충분히맞출수있는문제입니다',\n",
       " '다음으로이제오번문제보도록하세오번문제네항상나와요거의항상출제되고모여놈들이잘마칠수있지만그래도항상주위에되는선생님천안은문제가되겠습니다',\n",
       " '지금그럴때코사인엑스문제도얘기하는게뭐야코사인엑스당연히직각삼각형에서코사인엑스를부활하니그래빗변분의밑변이팔일이다',\n",
       " '이렇게이제일번을하면됩니다',\n",
       " '이런문제는가볍게쭉쭉가도록할게요이따다음으로이제일번문제보도록하겠습니다',\n",
       " '자이제여기중요한데대소관계요엑셀값이구십일대싸인엑셀값이구십일만싸인구십돈얼마있어일이죠코사인구십도얼마였죠그러니까일이다크다',\n",
       " '세번째싸인엑셀값은일보다',\n",
       " '작거나같다',\n",
       " '사이렌사이렌영이일대영이고구십도일대일이어쩌나뭐진영과일사이에있으니까결국다일보다',\n",
       " '작거나같아지고같아지는순간에구십대역시만능입니다',\n",
       " '물론여기가코사인엑스라고되어있어서코사인엑스의값은일보다',\n",
       " '작거나같다',\n",
       " '맞는얘기야대접사번사이넥스마이너스코사인엑스영보다',\n",
       " '큰야라고물어봤는데그얘기는물음에불을빼서영보다',\n",
       " '내기는항상사이넥스코사인엑스보다',\n",
       " '크니까라고묻는건데그렇지않죠들어서영도같은경우에는싸인영도는영이고코사인영도는일이니까영마이너스일은음식도충분히나올수있어요그러기때문에일보다',\n",
       " '크다라는건옳지않다',\n",
       " '이렇게놈들이엑셀크기가구십도에가까워질수록코사인엑스의값은어떻게됩니까쌓이는점점증가했고영에서부시도록콜사인은점점감소액쪽에서구십도에가까워지면서코사인엑스가슴작아지는잘하는거역시옳다라는걸알수있습니다',\n",
       " '마지막으로우리이번문제보도록할텐데요요건이제여러분들이조금신경써야돼요저한개입니다',\n",
       " '영도에서사십오도사일때누가크니나는거죠싸이낙원싸이근데요거는여러분들이그래프를그려서하는일단이게교육과정을아니기때문에선생님그냥간단하게여러분들이풀수있는방법은영도삼십도사십오도이렇게있잖아요그죠여기육십도구십도가있을거고여러분께서싸인사십오코사인사십오도가입은혜로뒤로갔다라는건매워서이점영이대영이영오사이사영이일대일싸인삼십도이분의일이분의일이삼있다면보세요가탈이죠영에서증가하면서같아자꾸이래서줄어들면서같아서그게뭐냐면거꾸로영도에서사십오도사이에는이분의일과이분의루트사월비교해보면이분의루트삼의코사인큰값에서줄어들다가쌓이는자는값에서늘어나자가니까같아지는거니까결국코사인의값이크다는걸여러분들이알수있습니다',\n",
       " '크고구십도이하일대는사인코사인중에누가그냥이런거이런헷갈리면육십도에것같은거하나를지금우리가대입해보셔도되는거야이분의루트삼하고이분의일을비교해보면이분의루트삼이더크잖아그저이렇게여러분들이확인할수있게꼭갖다',\n",
       " '사분후를통한설명도가능한데여러분들이빠르게맞출수있는방법으로오늘은설명을드렸습니다',\n",
       " '자여기까지오늘내용굉장히좀바쁘게지내되는데오늘이미예각이상각비를사부너를통해서갔었죠그다음에영도하고구십도에서이싸인코사인탄젠트값까지알아봤는데요내용한번정리해보고마무리합니다',\n",
       " '오늘끝내는수학입니다',\n",
       " '편의점잘해서일생각하고나면에이비측이중간엑셀에서에이비결국이길이가사인이없어두번째로코사인엑스어떻게됐습니까똑같이일로오내생각대로하면오비에길이가그대로코사인엑스가겠습니다',\n",
       " '마지막세번째거뭐가있을까탄젠트가있겠죠탄젠트같은경우에는큰직각삼각형오디씨를가지고우리가이야기했고여기서오디의길이가바로지리적그러니까쥐티에이같은애로탄젠트엑셀값이된다',\n",
       " '반드시부탁드리겠습니다',\n",
       " '오늘여러분들숙제얼른메시지쓰면돼요차안에한번읽어봅시다',\n",
       " '이메일가격대에서엑스가증가할수록사인코사인탄젠트같이갈까증가또는감수부분에채워서부탁드리겠습니다',\n",
       " '자이렇게해서이러면내일오늘수업마무리가되었습니다',\n",
       " '이예가게에서이상갈비사부는다시한번철저히부탁드리고요다음주에뵙겠습니다',\n",
       " '수고하셨습니다',\n",
       " '반갑습니다',\n",
       " '오늘뉴런수학여러분들네번째시간입니다',\n",
       " '지난시간에이어서예가게삼각지에갑투이렇게돼있는데요지난시간을다시개념이굉장히알았어요여러분들께서그사분원가지고서예가의삼각비하나의변의길이더편한거있었죠예바로빗변을일로놓고우리가반지로놓고기준가기우리둘이만나는지점이계속하기때는바로세로의길이가그것이사이넥스없고가로엑스높이우리가높이가싸인밑변이코사인그다음에큰직각삼각형에서의우리가탄젠트값생각할수있었다',\n",
       " '밑변의가이드되기때문에이런내용들에대한개념이굉장히좀어렵고영동고속도로까지알맞습니다',\n",
       " '근데오늘선생님이앞에지난시간에용주골퍼드림이유가굉장히오늘내용은짧아요사실개념을하나바로삼각비의표를공부할거예요근데여러분들그과정에서묶음추가셨나요제품좀보고읽어주면됐어요이상갈비포도마찬가지로보고읽어주기만하면되기때문에내용이굉장히가볍습니다',\n",
       " '그래서오늘은이개념하나에다가우리형평가있죠형성평가전체문제풀이를오늘함께하도록할거예요저수업듣기전에형성평가문제를여름쪽에서미리풀어보시고그리고선생님과함께답을맞추면서확인그런시간을가졌으면좋겠고절대로형성평가풀이강의를먼저듣고나중에다시드시면안됩니다',\n",
       " '반드시먼저풀고서선생님의강의를들어주셔야되겠습니다',\n",
       " '오늘수학한번끝내도록하겠습니다',\n",
       " '오늘개념딱한가지그랬어요근데그개념또한굉장히춥다',\n",
       " '바로삼각비표나는거예요삼각비표하는거보내면지금여기보이는이게삼각비표대표의일분입니다',\n",
       " '일부분어원래이상각대표는영도에서구시사이에가기로했죠제일처음에영도에서부터시작해서쩜쩜쩜쩜가서지금삼십사삼십오삼십육마이너스사이렇게가서구십도까지나와있어요뭐가사인코사인탄젠트의값이죽하고나와있는거고요일도간격으로나누어서삼각비의값을봐요정리한표고말해넷째자리까지편해있습니다',\n",
       " '유재석삼번서부터시작하는데요이천십삼하고싶다는여러분들이보고싶지만하면되는거니까어렵지않으면돼요이번에는그런데문제가이렇게되어있네요코사인사십이도의값이엑스이거탄젠트값이영점구삼여기다',\n",
       " '탄젠트삼십육도똑같이이렇게탄젠트줄에서읽어주시면되니까영점뭐가된다',\n",
       " '영점팔십구엑스십구이라고물어볼게요코사인몇도가영점팔구있냐나가면코사일에서영점팔일부위가되는값을찾는거죠아영점팔일오뮌헨가보니까몇도야삼십오도가따라서엑스의값은삼십오도이렇게거꾸로물어보는경우도종종출제가됩니다',\n",
       " '그래서여러분들께서여기까지생각비트를읽어줄수만있으면되기때문에오늘배우는개념은전혀어렵지가나요같이함께아래쪽에있는확인문제살펴보도록할텐데이거보고삼십초만풀것같습니다',\n",
       " '같이먹게요밤삼각비값을위에삼각비표를이용하여구하시고했는데선생님이밑에부쳐놨어요자보겠습니다',\n",
       " '싸인삼십육도내가먼저누굴찾아사인코사인탄젠트중에싸인찾고삼십육도여기있죠영점오팔백칠십팔아그러니까영점오팔칠팔이렇게써주신하면돼요코사인삼십도코사인줄에서삼십육도얼마입니까영점팔영구영이렇게되겠죠그다음세번째보겠습니다',\n",
       " '탄젠트삼십육도똑같이이렇게탄젠트줄에서읽어주시면되니까영점뭐가된다',\n",
       " '물론다른것들에대해서는충분히구할수있으니까이정도맨끝내도록하고요이제그럼이런문제들이도대체시험있어어떤식으로해야되는지궁금하시죠같이함께개념에대해살펴보도록하겠습니다',\n",
       " '자예제문제안불편해요칠번입니다',\n",
       " '내일학교수업이라고해도그렇게크게어렵게나오진않아요그저기기본적으로개념이너무단숨에어디서간단하게여러분들이덧셈뺄셈은실수안하시면틀니일은없습니다',\n",
       " '다음삼각비표를이용하여탄젠트이십이마이너스싸인이십도의값을구하시오라고했어요자그러면우리는다이쪽으로가져와볼게요탄젠트이십이도의값이얼마인가거같더니탄젠트이십이돈은제일아래줄이죠영점사영사용이렇게돼있습니다',\n",
       " '그래서코사인영도는일이다',\n",
       " '사용사용그다음에싸인이십도아래쪽에서한번구해보면싸인이십분은싸인에서이십도영점삼사이영락이렇게사람들알겠죠왜혼자서먹고가래빼야돼요그러니까이렇게우리가빼보면되겠죠자그러면결국탄젠트이십이마이너스이십얼마가될거냐빼보면영대곡이대고육백오하나내려와서영되니까결국영점영육이여기다',\n",
       " '이렇게해서실수하지않으신다는거야어렵지않지같이함께다음기회에팔번문제로들어가보도록하겠습니다',\n",
       " '팔번은이정도문제가이제나와요그러면앞에나와서이제칠번은그냥둘이서빼면되니까사실도멀미가좀적적다들읽을수있고그래서보통이러한형태의문제로시험출제과되는데예십팔번한번보도록하겠습니다',\n",
       " '팔번은이정도문제가이제나와요그러면앞에나와서이제칠번은그냥둘이서빼면되니까사실도멀미가좀적적다들읽을수있고그래서보통이러한형태의문제로시험출제과되는데예십팔번한번보도록하겠습니다',\n",
       " '만나요백분의에이씨여기서에이스를거기에서양변에백을곱해주면에이스는뭐가되어백곱하기백곱하기사인사십도가되고우리는싸인사십육도자리에다가이제삼각비표를읽어서써주면돼요싸인사십육또는영점칠구점영택배하니까뭐가된다',\n",
       " '답지가그저따로일없으니까여기까지여러분들이구해줄수있겠죠만약에이문제같은경우에다른길을구하라고물어본다면만약에이길을봐라고물어본다며그때는뭘이용해야돼싸인삼십팔도가십분에육일이다',\n",
       " '이것도한번우리가생각해본다면십분에여기가바로싸인삼십팔도영점육칠오치니까만약에한다면뭐있었는데영점육백오십칠이렇게해서육점일오칠하고사인을물어볼수도있고탄젠트물어볼수도있으니까해서두가지문제로한번확인해보셨으면좋겠습니다',\n",
       " '자여기까지서울이가예상문제는마무리를하고어이제다음주에는유저들이남아있죠이제한번시작해보도록하겠습니다',\n",
       " '자첫번째이문제에시작해보겠습니다',\n",
       " '유재석삼번서부터시작하는데요이천십삼하고싶다는여러분들이보고싶지만하면되는거니까어렵지않으면돼요이번에는그런데문제가이렇게되어있네요코사인사십이도의값이엑스이거탄젠트값이영점구삼여기다',\n",
       " '거꾸로되어있는건에서엑셀값을우리가어떻게하면되는거야코사인사십오도읽어주면되니까코사인사십오가만나는줄은영점칠사밀리죠그래서영점칠사삼일후면자이번에와인을뭐냐면이각도를구하고싶어요대신에탄젠트값이주어져있습니다',\n",
       " '부산이오늘여기있네영점삼이오작은탄젠트겁니까사십삼도니까와이값은그대로몇도가된다',\n",
       " '사십삼이된다라는걸여러분들이알수있습니다',\n",
       " '그렇게문제도뭐하라는건엑스더하기와이줘더한거굉장히왜냐면이게자리가영희때문에엑스더하기와이네그대로보관을사삼점칠사백삼십일여기까지답을구해주시면끝나겠죠되었고요다음은이제사번으로들어가보겠습니다',\n",
       " '앞에두문제는그냥편안하게쭉쭉갈수있을거예요저역시같은생각질투를이용해서이번에는싸이렉스가영점육육육데에서우리는엄청비싸여기서누굴구할수있어엑스트라몇도인지알수있습니다',\n",
       " '여기까지여름속에서답을구할수있겠습니다',\n",
       " '사일에서영점육오육일영점육있네몇도사십일도있는게엑스가사십일도문화라는걸알수있겠고근데답은뭐라고했냐면탄젠트엑셀값을봐라그랬으니까결국탄젠트엑스라는건엑셀이누구사십일도탄젠트사십일값이얼마냐이걸묶는거네그러니까탄젠트사십일도를찾아보면영점뭐가되어팔백육십구아니구나이렇게해서이제십사번에답을구해주시면끝나는거예요유재숙삼십사번보다는당연히유재십오번이잘나온다라고했으니까유재십오번문제로들어가보도록하겠습니다',\n",
       " '자이제십오번입니다',\n",
       " '이렇게살이좀편리한데배기고비해크기가사십육길때아래삼각비표을이용해서다음을구하라구하라첫번째보세요이길이부활이요나와있는건뭐죠이길이에요백이라고주어진건모조각이이가게요작으면사십육도를기준으로봤을때빗변이꺼져있고마주보이는높이를구하라얘기네빗변분의높이가뭐예요싸인이래아그러면싸인사십육돈은누구보내는거야지금기변백분의에이씨가되겠다',\n",
       " '만나요백분의에이씨여기서에이스를거기에서양변에백을곱해주면에이스는뭐가되어백곱하기백곱하기사인사십도가되고우리는싸인사십육도자리에다가이제삼각비표를읽어서써주면돼요싸인사십육또는영점칠구점영택배하니까뭐가된다',\n",
       " '바로실습일점구삼이된다',\n",
       " '이게바로에이스에게다른거알수있고답이없으니까그대로답이되겠죠두번째로이제비씨얘기를구하러갑니다',\n",
       " '그래서코사인영도는일이다',\n",
       " '이렇게답을구할수있으면됩니다',\n",
       " '복잡해지지그래서우리는당연히누굴이용해서욕을이용해서구할거예요아결국빗변을이용해서누구하고싶단얘기야네변의길이를가고싶다니까싸인사십육도달라는거생각할수있겠죠자이번에는일본에이브이끝났으니까여기서부터다',\n",
       " '높이가된다',\n",
       " '이번프리랜서볼텐데아결국코사인사십육또는코사인십육누구네누구나에이비씨다백분의비씨이렇게되겠죠그러니까여기서양변에백을곱해주면비서에게뒤로우리는편할수있을거고했으니까백곱하기누구코사인사십육도코사인사십육도읽어주면영점육구사실이죠백배하니까뭐가됩니까바로육십구점사칠바로이번에답이다이렇게여러분들께서이제십오번문제를해결해주시면되겠습니다',\n",
       " '이렇게여러분들이나중에좀해주시면편합니다',\n",
       " '이렇게해서삼각비표를위해서꼭수박이아니더라도이미예가게대해서변의길이를구하는연습해봤습니다',\n",
       " '여기까지해서우리가첫번째단원에서공부할내용은다마무리가되었어요그래서여기까지제일처음에했던거있죠내빗변분의높이기대비가모두갔다',\n",
       " '그래서우리는삼각비라는것이각각세가지가있다',\n",
       " '그래서특수강은없겠다',\n",
       " '그다음에사분원의해서는어떻게이메일가글구할수있는지영도하부식도이런내용들까지쭉살펴봤었죠이모든내용에대해서이제형성평가조금난이도가있습니다',\n",
       " '선생님이프리차근차근할테니까함께반드시먼저풀고시작해봅시다',\n",
       " '야첫번째문제한번시작해보도록하겠습니다',\n",
       " '벌써여러분들께서딱봤을때그냥그림놓여진상태로플래시않습니다',\n",
       " '그래서일단그림과같은삼각형엠비씨에서에이디디아이씨칠이디씨가삼십인중요한포인트뭘까이등변삼각형이다',\n",
       " '그럴때싸인기회가되었습니다',\n",
       " '우리가떠올려야되면개념이썼죠사인코사인탄젠트무슨삼각형직각삼각형해야돼요근데지금직각삼각형이아니야직각삼각형을만들어야돼뭘먹어야돼세글자보조선을거야됩니다',\n",
       " '딱비를그럼기준각으로하기위해서일을두고직각삼각형을만들수있는방법을에이에서수선듣는게제일편합니다',\n",
       " '왜이등변삼각형의서울이가배웠던내용중이하에서아옥집가게에서밑변에수선을그냥뭐하더라밑변이되더라이걸여러분들이알고있어야돼요아그러니삼십일절반인일이뭐가대여점을안보더라고에이치&에이치라고나보면아여기가네가시리보다',\n",
       " '어차피직각삼각형에서모두다위기대비들이닥칠거기때문에삼각비가그러면우리는요괴의숲할수있겠죠그냥간단하게이렇게나오겠습니다',\n",
       " '길이가얼마루트이십일이다',\n",
       " '이게핵심이겠죠아그러니까이제싸인비요직각삼각형에서싸인미래를볼수있게그사람이아니고삼각형에이브이에이치에스이렇게시작하겠죠아그러면싸인일하는것은누구네누구나팔분의에이에이치다팔분의에이에이치인데이게답인숫자로바꿔주면그게틀린거아니까끝났어요선생님에이에이치했어요근데안나와있잖아요구해줄수있죠왜이게있으니까순정이피타고라스정리를위해서우리는에이에이치를구해주면되는거죠아그러면이쪽으로와서에이에이치애기는어떻게구할수있다',\n",
       " '이곱하기십칠제곱마이너스다른벤치의자십칠일세곱배기십오의제곱이니까십일제곱은얼마야백팔십구마이너스이백이십오관에서루트육십사하니까육십사제곱여기까지착착갈수있어야돼요요자리에그대로팔만써주면정답을십칠분의팔은이렇게여러분들께서답을구할수있는거죠이문제같은경우기본적으로이문제보다',\n",
       " '이렇게여러분들께서나일할수있어야되는겁니다',\n",
       " '쉽게나온다면당연히누구의물어볼거예요코사인비를물어보겠지코사인비코사인비를물어본다면바로십칠분에시보그냥끝나는데여기서높이를사고나서한단계더쓰는문제이기때문에바로시험외출제가충분히될수있다는얘기야있던데요답을이제두번째이번문제들어가보도록하겠습니다',\n",
       " '이번문제도이렇게됐네요그림과같이뭔오후에내접하는직각삼각형의이비스에서비씨길이가육이고코사인오분의삼일때원의반지름의길이를바라겠습니다',\n",
       " '사부하라는게보여원의반지름의길이가원의반지름일하는건비오나오늘구하면되겠네그죠근데결국에이비가뭐야지름이줘그러니까우리는반지름을쉽게얘기해서지름이네이비길이의절반을보여주면되는거야이렇게갈게요왜뒤로바라보니하면삼각형다니잖아특히집가게에서마주보이는빗변이니까아불편해길이만도할수있으면그거에절반해주면반지름이야이렇게가겠다는이야기고우리는잎이변의길이를그럼어떻게구할거야바로이조건을위법하게코사인비가오븐에서코사인기준가격있어요아그러면코사인빗변분의밑변이였죠결국에이비비디씨코사인일하는것은에이피피엘이의비씨이거가바로코사인디고우리는우리가구하고하는거고비실이는육일하고있구나그런데코사인비해값이문제에서비가젖어있어요오분의삼이라고해적우리는여기에서에이비에이들을보여주면끝나양변에오배줌예비를곱하면대각선길이곱하면삼에이피는어떻게돼말할수있냐면유호삼십일일여기서에이피에이그리는삼분의삼십이식이렇게말할수있잖아그러니까문제에서구하고자하는반지름지름이십일지금그죠반지름은따라서이분의집이니까오가된다',\n",
       " '다니는따로없으니까여기까지놈들이끝납니다',\n",
       " '괜찮죠이번은오히려일번보다',\n",
       " '이번일은죽지않았을까하는생각이듭니다',\n",
       " '다음문제삼번으로바로들어가보도록할텐데요삼번은선생님이있었던거예요앞에서우리가첫째첫째시간이없을것같아요둘째시간은아니고찾아시간이었던것같은데제가여러분들이어려운이유는뭐라그랬어그때도똑같이했는데십칠분에파리야애기가몇도지삼십분간사십온도가이십도가아니잖아요지금그죠매워요그림이없어서그림만그리면끝내야자싸인비가십칠분에팔일때아싸일에이가십칠십팔일때이백팔십구에이값을봐라당연히그림그려쌓이는빗변분의높이자하니까그림을그리더라도아십칠분의팔은분별하고높이가십칠분해파리되게끔여름을비슷하게그릴수있는연습이되어있어야돼요네가그래일하고있을게빗변분의높이가바로사일인데십칠분의팔은뭐야원래는오십칠케이팔케이이런식으로써야되지만우리가이렇게십칠살이라고나도상관없습니다',\n",
       " '어차피직각삼각형에서모두다위기대비들이닥칠거기때문에삼각비가그러면우리는요괴의숲할수있겠죠그냥간단하게이렇게나오겠습니다',\n",
       " '우리길이어떻게할까팔일이타올라스정있어주면되겠죠에이씨는루트백이다른데사제곱십칠제곱마이너스팔의제곱의이렇게될테니까십칠의제곱은이백팔십구고팔의제곱은육십사가돼서루트이백이십오가되겠죠얼마에제곱이십오의제곱미터여기까지여러분들이갈수있습니다',\n",
       " '여기까지여름속에서답을구할수있겠습니다',\n",
       " '이제할일은뭘까코사인탄젠트구해서데이트해야되겠죠따로한번구해보면자꾸쌓이는빗변분의밑변이기준가격있어요빗변분의밑변결국십칠분에십오일되고그다음에탄젠트애인은뭡니까집연결해아니죠뭐야밑변문의도피적탄젠트일을밑변의높이십오분의팔이주어진시키다가우리가대인말해주면될때잘고주원인식에서계산해보면이백팔십구곱하기코사인이어디있어여기십칠분에십오곱하기십오/팔약국말이돼여기서이렇게둘이아픈데되고십칠분에이백팔십구않습니다',\n",
       " '사야돼서나머지일이니까칠곱하기팔은계산하면칠팔오십육팔일은팔백삼십육이구나여기까지여러분들께서답을보여주시면끝나는거예요괜찮아요삼번문제우리가삼각비가하나주워서있고다른삼각비값을구하는유령이야이말이어떤내용이야삼각비하나주워서있고다른상각비를구하라되죠근데그림이좋아서있지않다면우리는직각삼각형을직접육분달하는포인트를여러분들이기억해주시면되는겁니다',\n",
       " '사번문제사번문제로바로들어가보도록하겠습니다',\n",
       " '직각삼각형이서로닮은일하는상각비는서로같다',\n",
       " '기억하시죠바로그것에관련된문제네요그림과같은직각삼각형에이비씨가있습니다',\n",
       " '요한의지금또에이디이가보이죠근데이삼각형둘은서로뭡니까닮은미죠무슨날입니까왜큰삼각형구십점있어짜증삼각형에서구십사점있어두뇌가기같으니까에이닮음입니다',\n",
       " '그렇다면우리결론부터보면코스비의값을구하라라는말은뭐하고똑같아네가카고이야기똑같잖아큰삼각형에서한마디로점과구십이아닌가요작은상가통해서구십이아닌가둘은서로같을테니까결국코사인길을구하라얘기를코사인누굴구하라는말하고같아에이이디에이크기를구하라는말하고갔구나이걸여러분들이생각하시면되는거예요아그러면에이이쥐의값은결국코사인이잖아요이각을기준으로봤을때콜사인은빗변분의누구밑변해주면되는거잖아그죠결국파일불에타이렇게될테니까얼마가된다',\n",
       " '이분의일이다라고답을하면끝나는겁니다',\n",
       " '그냥쭉듣다',\n",
       " '보니까좀정신없을것같아요다시한번코사인비를괄호원래큰삼각형에서코사인비니까빗변분의밑변이비칠에이빌을보내야되는데하나도구할수가없잖아그래서어떻게하겠다는거야아같은가게대해서는직각삼각형에서닮음삼각비거같으니까비하고이가같으므로결국가기에대한삼각비를보면되는거예요삼각형에서결국비를구하라내기는코사인팔위를바라는마라도갖고빗변분의네편이니까팔분의다조금더복잡하게나온다면싸인비늘과라고물어봐그렇다면빗변분의높으니까요길을피타고라스정리있어서구한후사람들이팔브이팔일을통해서답을구해주는형태요정도가이제조금더복잡할수있었겠다이정도생각을여러분들이할수있으면되겠습니다',\n",
       " '이렇게답을구할수있으면됩니다',\n",
       " '다음으로이제오번문제보도록하세오번문제네항상나와요거의항상출제되고모여놈들이잘마칠수있지만그래도항상주위에되는선생님천안은문제가되겠습니다',\n",
       " '함께가볼게요문제가좀길게써져있는데딴얘기가아니라둘다직각삼각형일하는걸지금써주고있는거고가게가있던곳사십오도있대자비가이루트여기다',\n",
       " '응그리고여기이렇게말하는게문제야중요한포인트는둘사이를연결짓는다리를찾는게제일중요하죠결론부터그리고거꾸로생각해볼필요가있습니다',\n",
       " '구하는게뭐야그럼잘보세요가게하나적어져있어직각삼각형에서에이비씨에서빗변을얘기해요기준가게여기있어그럼우리는에이비씨된구해야코사인을이용하든사인을이용하든해서에이스를구할수있는거야그러니나는이얘기야머릿속에서에이비씨동부하고싶어이거든이거거든구해야삼각필요해서입술을구하지그런데이제는정말바라봐맵보면결국누구를통해서비씨를통해서에이스를봐야되겠구나나는걸생각할수있어야되겠죠누구통해서오른쪽비씨디를통해서올겁니다',\n",
       " '그러면이오른쪽에있는삼각형에서비씨로구해볼텐데기준각사십오도로봤을때빗변이젖어있고마주보이니까뭐야높이를결국기변하고높이싸인사십오더구나싸인사십오도는오분의보구나이루트육분의비씨구나여기까지갈수있으면되겠죠처럼양변에이루트곱해주면비씨이루트육곱하기싸인사십오도는이분의루트이적요렇게약분해보면루트십이이니까이루트삼까지갈수있어요이일부터삼이야자그럼이제다왔어요그저어이제는다시이노란색삼각형에이비씨로와서보는거죠제가생각하는누구에서에이비씨에서나를에이스를구할보자고기준가게에서마주보이는높이가나와있어집병과높이바로싸인입니다',\n",
       " '즙이십분의입니다',\n",
       " '루트이다',\n",
       " '까인육십도가누구보내는구나이분의루트삼의다에이칠미터삼여기서우리는하면되고싸인속도가이분의루트삼이적이렇게한번구해볼게요루트삼이렇게급해사루트삼이니까양변루트삼으로나눠주면바로에이스의길이는얼마나된다',\n",
       " '사가야된다는걸확인할수있겠죠그러니까선택지에서팔파이널찾아보시면정답은몇번일번이다',\n",
       " '이렇게놈들이다들고하면됩니다',\n",
       " '다시한번얘기하지만구하고자하는삼각형의변의길이를구하기위해서는그삼각형에서어느구해야되냐당연히다른삼각형과공통으로있는변디씨를통해서반다이징검다리역할을하는비씨를찾아낼수있는것이바로이문제를푸는키가되겠습니다',\n",
       " '다음문제로우리육번문제바로이어서들어가겠습니다',\n",
       " '해적다음으로이제우리육번문제로한번들어가보도록하겠습니다',\n",
       " '자육번문제볼게요육번은사실여름드림웨어따면바로갈수있는거죠나탄젠트영도얼마입니까했는데이러면안돼얼마영싸인사십오도는일인가요아니에요싸인사십오도는이분의루트입니다',\n",
       " '곱하기코사인구십도코사인구십도일이있나아니야싸인구십도가일이없어영에서일로증가했어요콜사인은영도일때일이고구십도일대영이었어요앞에하고전혀상관없네뭐이다연곱하면그대로뭐가됩니까결과네그렇습니다',\n",
       " '그래서일번은옳다라는이야기입니다',\n",
       " '직접다음으로이제칠번문제로들어가보도록하겠습니다',\n",
       " '칠번해보겠습니다',\n",
       " '없이영도이상영보다크면구십도가작을때사인코사인값은영도에서백사십이있죠그죠그러면어차피근호벗기기형텐데우리재고파악을루트만나면없어지면서뭘로바뀌어절대값으로바뀌어이런상해서이런들공부했죠따라서주어진식은코사인에이더하기일의절댓값마이너스코사인에이마이너스일의절댓값여기까지여러분들이갈수있을거고중요한건이절대까만이영보다',\n",
       " '큰일다녀근데얘가영도에서구십도영도보다',\n",
       " '영점며칠안에기내식에서그럼그럼영점팔더하기일이니까이부분은양수정일이니까뭐가돼음수가되겠죠없으면우리는그대로거아니잖아그죠양승현그대로코사인에이더하기일로나올테고뒤쪽되기까지쓴다음에볼까요절댓값아니음수이면부호로바꿔꺼내져부호가퀸다른얘기는플러스코사인이름마이너스코사인으로마이너스일은플러스로바뀐다',\n",
       " '이렇게놈들이봐주시면되는겁니다',\n",
       " '끝나요다음으로팔번문제들어가도록하겠습니다',\n",
       " '마지막문제적없는데보도록하겠습니다',\n",
       " '자이삼각비표갖고하는거는여러분들오늘했던내미니까어렵지않을것같아요직각삼각형각의같이못옵니다',\n",
       " '에이비에이디편이죠오십이렇게젖어있고비추이기를구하라나는게문젠데칠십오도네그러면이렇게그림만봄이라서빗변좋아졌고민병구하는얘기니까기변하고있던모여서코사인코사인칠십도를찾아야지이상하잖아칠십오도가없어그게아닌가보다',\n",
       " '그러면저주어져있는십사십오십육돈은어느쪽이있을까이가길십사십오십육저쪽에결국이다들중낙으로풀지말고일로옮겨서풀어봐라고문자했어요가는겁니다',\n",
       " '그러면일더하기칠십오더하기구십더하기몇도야십오도거든요사이즈를갖고하나님을아는걸느낄수있어야되겠고그럼그림이이제기준가게이쪽으로돌아가잖아요그죠그러면빗변이주어져있는거고비씨를구하라내기는기준가게에서마주보이는몰고하란얘기야높이를구하는얘기죠빗변과높이사이의관계뭡니까바로싸인입니다',\n",
       " '싸이닉그럼여기다',\n",
       " '써놓을게요싸인뭐가십오도가집연결해높이오십분에루피비씨구하고자하는거의거잖아그죠그럼양변에오십팔주면비씨에이디는결국오십곱하기사이언스보도보도가얼마니싸인십오도싸인십오도영점이오팔영점이오팔이건여러분들께서곱셈만해주시면돼요복잡하지만하나씩설정옮겨볼까오곱하기이점오곱하기팔점오곱하기이점오곱하기팔곱하기오계산해보면오팔사십오곱하기사십오이십구일이점구사고선택해서정답은몇번이나하면삼번이다',\n",
       " '이렇게답을구할수있으면됩니다',\n",
       " '늦어오늘일단형성평가문제를살펴봤는데어떤가요선생님생각이실제로는오번이시험에좀출제가잘된다라고말씀드렸고오번다시한번여러분도꼭풀어보셔야되겠고요특히일번문제있었죠이등변삼각형에서이번에추석연휴이등분된다라는그성질도가지고와야되는문제이기때문에일번문제도종출제가잘될거같습니다',\n",
       " '오늘은다른문제들도마찬가지지만이두번째는반드시오늘끝났을때여러분들이정복되어있어야되겠죠많이기다리셨죠예뭐가많이기다렸네하면시간이남아있잖아요그죠선생님딱준비해야죠뭘선생님의문제없습니다',\n",
       " '함께시작해보겠습니다',\n",
       " '자첫번째이일문제입니다',\n",
       " '여러분도한번같이읽어볼게요어렵지는않아요막어려운건아닌데선생님좋아하는문제진짜예이따가구십도인직각삼각형에이비씨에서비디오하고시댁이리갔다',\n",
       " '와뒤가결국피씨중점이다',\n",
       " '얘기죠이십대삼십대에이디에이치디를구하라나는게문제입니다',\n",
       " '야그럼우리는첫번째생각할수있는거아이해를구하라네그래똑같은게없잖아따르죠그럼당연히요삼각형에이씨디선물쓰라는얘기야일을써서팔일을부활하는거구나나는첫번째생각을할수있어야돼요결국하는얘기는낚시도구하고그래야돼이생각을갖고가지아니에요근데시리는어떻게구할때아무생각해봤더니재생무슨얘기야길이가같아비씨를구할수있으면그거에절반을주면되네아결국에이스돔하고변신도구하란얘기야이렇게바꿔생각할수있어야되겠고그러면빗변이젖어있고높이를관한얘기잘삼십초에대해서그죠결국싸인삼십도가눈물의누굽니까빗변분의십이분의있습니다',\n",
       " '지금보면기준각삼십도에서왔을때빛일하는건집가게에서마주보이는빗변을구하고자밑변의길이가젖어있어요앞이병갑이거는뭐야그렇지않고사인이전화해줘아그러니까코사인삼십도누구네누가된다',\n",
       " '즙이십분의입니다',\n",
       " '그러니까여기서십일월양변에뷔페주면에이씨는십이곱하기사인삼십도관해서육일된다라는걸알수있죠에이스에게뉴욕써놓을게요그냥두번째피씨무료해서코사인삼십도를이용해되겠죠코사인삼십도가눈물의누구나십이분의비씨다여기서양변에십일월곱해주면결국비씨엘이엘십이코사인삼십도얼마이분의루트삼이적해서약분해보면결국육루트삼의달라는거까지갈수있는거예요비씨가육루트십이는뭐야우리씨디구하려고했었잖아요절반인삼루트삼의달라는걸여러분들이생각할수있죠그러기때문에이제마지막단계팔일을보라네그래여기서피타고라스정리를한얘기니까삼각형에이비씨에서예바로어디로갈까요에이지는빗변루트나머지두변의제곱의합입니다',\n",
       " '삼루트삼의제곱해보면구삼이십칠이고육의제곱은루트육십사미적구천칠백육십삼삼의제곱삼노트칠여기까지여러분들께서에이치이에이디쥐를보여주시는끝나는거예요첫번째채용되었습니다',\n",
       " '괜찮아요정도좀새로운가요다음문제한번두번째문제선생님오늘그냥예아이거아주좋아요선생님이되고또뭔가좀이동근데있잖아내이름은돼있는형태로좀단계가여러단계돼문제에서뭐라그러냐면요기가삼천이백구십육일이에요그래놓고요가아래쪽에뒤에비가있습니다',\n",
       " '괜찮아요정도좀새로운가요다음문제한번두번째문제선생님오늘그냥예아이거아주좋아요선생님이되고또뭔가좀이동근데있잖아내이름은돼있는형태로좀단계가여러단계돼문제에서뭐라그러냐면요기가삼천이백구십육일이에요그래놓고요가아래쪽에뒤에비가있습니다',\n",
       " '여기까지여름속에서답을구할수있겠습니다',\n",
       " '형성평가함께풀어봤는데사실앞에개념하나없지만삼각비표를이용해서구하는거좀단순했었죠형성평가쪽에아무래도이런데좀포인트주고오늘복습을하셔야될것같습니다',\n",
       " '내용정리하고마무리합니다',\n",
       " '나오늘끝내는수학함께볼텐데요대소관계지난시간에보고있던거다시한번해볼게요이따첫번째엑스트라영도에서사십오도미만일때를싸인이컸으니까코싸인이거따라해드렸고요사십오도일때는어때싸인코싸인둘다뒤로같았지만탄젠트사십오도는일이라서팔백값이저희피었습니다',\n",
       " '자를때는세개의순서가어떻게되나생각해보면제일작은게뭡니까바로코사인엑스사이렌쓰고한진택스님이일보다',\n",
       " '때문에가장큰나라는여러분들께서생각해주셔야되겠습니다',\n",
       " '자오늘숙제는여러분들삼각비표에서선생님이하나출처를해봤는데요한번문제읽어보시기바랍니다',\n",
       " '사이넥스와이에이값이주어서있을때각각의값이얼마인지위에떼놈들올려주시면서출석체크한번해보도록하겠습니다',\n",
       " '오늘여러분들함께공부했던형성평가다시한번말씀드리지만시작도문제반드시여름조건으로주셔야되겠습니다',\n",
       " '수고하셨고요다음시간에뵙겠습니다',\n",
       " '야우리가오늘함께공부할내용은바로중단원마무리입니다',\n",
       " '어떤나라입니까그래서삼각비에대한내용있겠죠그런데삼각비중단원이제마무리되는단계이기때문에어떤내용을배웠는지머릿속에서딱딱딱딱치면서진아가야됩니다',\n",
       " '첫번째삼각비란것이무엇인지싸인코사인탄젠트뜻에관한내용서부터시작을했었고요그다음에십사시부터육십도의삼각비란둘중에한포인트있었죠당연히암기돼있으셔야됩니다',\n",
       " '그다음에이미예가게삼각비누구를통해서타블로오늘통해서우리가생각하는거있었고요여기서대소관계까지중심중요한포인트는잡을수있어야되겠습니다',\n",
       " '그럼영동고속도로까지포함해서이제영도삼십사십오십육십구십도표열다섯개이숙자경기대있으셔야되겠구요삼각비표자체를이름들이어렵지않게때문에아마해결할수있을겁니다',\n",
       " '짜증나는마무리는총레벨난이도별로삼개의레벨로돼있고요오늘은이기때문에레벨원조금쉬운내용에서부터시작해서레벨이에일부문제까지함께진행하도록할거예요여러분들께당부드리는건반드시여러분들께서이강의를듣기에앞서미리풀어보셔야됩니다',\n",
       " '그리고나서틀린문제를채점을직접하세요틀린문제가있으면다시한번직접해보세요그래도안될때선생님과학강의를봐주시는것이제일좋습니다',\n",
       " '그래서강의를듣고내가됐다면마지막으로여러분들이오답노트정리라던가여러분들정보화를해서반드시여기있는중단원마무리문제만확실하게정복하자쓰면좋겠습니다',\n",
       " '우리그게시작해봐야되겠죠선생님께정도갑시다',\n",
       " '첫번째레벨일번써보겠습니다',\n",
       " '레벨업문제가총여덟문제로되어있고요이팔문제같은놈이네여러분들이직접풀때사실한오분정도자꾸풀어야돼요한문제해결할수있어요실제빗썸에서이제쉬운문제같은경우좀빠르게풀어야어려운문제를풀때시간여유가생기죠이런좀어떤강약을조절하는연습도할수있어야되니까혼자공부할때검색해서이렇게시간을좀분배해서하는연습도하셨으면좋겠습니다',\n",
       " '우리첫번째문제한번가보도록할게요물론선생님은조금차근차근설명하고죠그림과같이각시가직각삼각형에서에이에이비비씨씨길이갖추어져있고코사인의값너무솔직하다',\n",
       " '중요한건기준가기코사인비가아니라그사이에이다',\n",
       " '이거예요그럼코사인이모부내보였어빗변분의및이것만하면우리는해결됐고짜높이는기준가게높였죠우리첫시간에삼일거연습많이했습니다',\n",
       " '집가게되면입이편이고이변이뭐야그러면밑변입니다',\n",
       " '코사인빗변분의이편입니다',\n",
       " '물론사인코사인탄젠트비는좀더싶죠싸인비코사인탄젠트피여러분들께서그림돌아가있고어느가기준가그냥막모양이바뀌어있더라도자유자재로구할수있는그런연습이되어있어야되겠습니다',\n",
       " '두번째문제함께들어가보도록하겠습니다',\n",
       " '사이버문제입니다',\n",
       " '그림과같은직각삼각형의엠비씨에서지금뭐빗변이자기편이노트북이고코사인비가삼분의이틀기때에이스얘기를구하라일본의상당연히난이도가조금은있어요하지만여름속에서어렵잖게해결가능합니다',\n",
       " '왜코사인비가삼분을부추기다',\n",
       " '첫번째요조건이모름이하는지어디로갈텐데기준이가기비면아마주보이는별이높이죠이변이그러면밑변입니다',\n",
       " '빗변분의밑변이잖아아결국루트육분에이비씨루프육분의비씨가코사인비형근데그포사인비가삼분의루트육이달라고그래서물이오싹빼고서보면양변에노트북곱하면비씨얘기가나오겠죠그저비씨는그러면루트육곱하기삼분의이렇게될테니까삼분의이육육육육삼분일분바로얼마다',\n",
       " '이다라는걸할수있겠니이렇게작은데마지막으로구하라는근데누구야에이스에게당연히해야되겠다는생각비가없기때문에타블라스정리를이용해야되는구나피타고라스정리해서에이씨길이는바로갈수있나요이제곱마이너스다른데를제곱이겠죠루트이의제곱마이너스루트육의제곱마이너스이의제곱이니까루트육마이너스사가돼서얼마가든다',\n",
       " '루트이가되냐아여기는얼마이다',\n",
       " '루트이다',\n",
       " '여기까지다리가따로없으니까그대로에이스얘기는루트이이렇게여러분들께서답을구해주시면되는겁니다',\n",
       " '어렵지않은척다음은우리삼번문제로바로이어서들어가보겠습니다',\n",
       " '레벨보는노편안하게수신부연설좀할게많지않아여기서자보겠습니다',\n",
       " '자직각삼각형에이비씨에서사보에이스얘기가이루트삼이순간우리는누구누구하고싶어요그서비스를막토하고싶어져요그죠근데이문제는일단문제를끝까지읽어보면그렇게급하게가지않아도돼가게크기를뭐라그랬죠자잘들어요삼각비를구하라는게아니라가게크기를구하는이래특수각으로나올수밖에없다라는이야기해요그래서우리는지금현재기준으로해서주어져있는면이뭐냐면빗변의길이가져있죠그럼마주보이는대변이높이고이변은뭐야밑변이그러니한마디로빗변의길이갖추어져있고빗변의길이갖추어져있어그러면가게를제생각을했을때빗변과밑변빗변과밑변빗변분의빗변을뭐예요아그러니까코사인사분의이루트삼있다',\n",
       " '이거쓰면되는거예요그랬으니까코사인얘가뭐라고사분의뭐라고요이루트삼근데이거약프레임연희로약분해보면뭐가되냐면이분의루트삼이잖아그저이영이사람이라는걸퍼쓸때여러분들이익숙한그분살아야되겠죠야뭐가이분의루트삼익가구쌀몇도가삼십도가이분의루트곱하기구역에서자기는또다삼십도다른거구할수있어야돼만약에이분의루트사십오이분의일이얼마애인을이분의육십도자유자재로여러분들이생각할수있어야되는내용입니다',\n",
       " '탄젠트육십도는밑변이분의높이에이씨에이씨네이탄젠트육십탄젠트육십도가루피에이스얘기는이루트삼이요좀복잡합니다',\n",
       " '삼번문제정답삼십도가되겠고요다음주에사번으로들어가보도록하겠습니다',\n",
       " '이건뭐하라고얘기해왜오면바로구할수있는거죠그죠사번문제사인코사인사십오도삼십도육십도영도구십도까지담게되셨죠사이렌이분의루트이영일이삼사이것만기억하시면되고콜사인은노트이분의루트삼루트이루트루트사십오두들게임은싸인하고코사인값이같았죠얼마를받았습니까이분의루트이로같았습니다',\n",
       " '그러니까싸인사십오도뭐예요싸인사십오도이분의루트잊어플러스일곱하기뒤쪽은코사인사십오도역시이분의루트예요예요이러면딱써보니까합차공식입니다',\n",
       " '더위를꽃뱀에이더하기비곱하기마이너스비니까에이제곱마이너스비제곱알고있죠상해서그렸었던곱셈공식에서그러기때문에이분의루트이의제곱카프리이니까이분의일의제곱은일이니까결국마이너스이분의일정답은몇번이번이구나이렇게구할수있으면된다니까이문제는외우기만하면가볍게넘어가도록하겠습니다',\n",
       " '직접다음으로이제칠번문제로들어가보도록하겠습니다',\n",
       " '다음으로이제레벨을원에오번문제보도록하겠습니다이정도현재까지내문제를어떤가요만약에합의했을제가됐어마실수있겠죠맞출수있어야되는형태입니다',\n",
       " '오반문제입니다',\n",
       " '이것도여러분들이왜켜져있어야돼요탄젠트복잡하게사이즈가근데탄젠트몇시한마디로뭐라고돼있어노트삼이라고되어있어그럼소개탕정에서몇도가루트삼의쥐육십딱들어있어야되는거예요아결국탄젠트몇도가루트삼을만족하는엑스에프게있는데결국은우리는탄젠트이가육십도가노트삼이니까아결국삼엑스마이너스십오도가뭐라고요육십도가되도록하는엑스를이야기입니다',\n",
       " '마이너스십오도먼저삼엑스는육십더하기칠십모두가될테고양변삼으로나눠주면엑스의값은삼천백육십삼오십오엑스의값은이십오도다이정도면충분히할수있을겁니다',\n",
       " '오늘뉴런수학여러분들네번째시간입니다',\n",
       " '다음문제로우리육번문제바로이어서들어가겠습니다',\n",
       " '타블로나네요사분후줘사분논리에서는선생님이색종이강의가내용이많았죠선생님조금빠르게진행했기때문에여러분들반복해서여러번반복해서된다고말씀드렸습니다',\n",
       " '차근차근한번해결해볼게요저좌표평면이일점오를중심으로하고반지름의길이가일인요게지금반지름의길이가일인사분원이렇게있는거야그래서결국그얘기는여기오비에도얼마나얘기야당연히반지름일이겠죠그래서그길이가빗변이되는삼각기둥사인하고콜사인은이막은직각삼각형에서생각하는것이편하다라고선생님이얘기했던그내용을기억하시면되겠습니다',\n",
       " '다음중옳지않은것같습니다',\n",
       " '첫번째일번에싸인사십이도사이렌사십이도기준가격있으니까오비분의비에이비에이비에이비가얼마예요일본어결국그대로피에이가될테고비행기가모자피리가영점칠사아니에요여기는여기는이점에와이좌표알면되니까영점육칠이렇게되게일번은옳다',\n",
       " '이번같은경우에싸인사십팔도있어선생님사십팔도없는데요사십팔도이거아닌데누가사십팔곱하기이더하기바로사십팔도아주중가게일로옮겨오는구나그러면싸인사십팔도라는걸이제빗변분의기준가게에서대변인도피니까빗변분의높이오에프에프네오에이이렇게되겠죠옆이사등삼각형에서이편은언제나일이기때문에다른사람중에서빗변분의일일분의영점칠사요일분에영점칠사이렇게바로가주시면끝나는겁니다',\n",
       " '나오겠죠삼번에이제코사인사십오도있습니다',\n",
       " '코사인빗변분의이편입니다',\n",
       " '다바로가서일분의누구오에이오에이가얼마야영점칠사맞다',\n",
       " '이렇게가면되는거예요그다음사번코사인사십오도각도코사인의빗변분의밑변이적일불에요일이뭐야영점칠아니야다시한번요기를영점육칠다됐죠이거이런돈많이쓴다고얘기했어요이렇게해놓고영점칠사라고많이씁니다',\n",
       " '조심하셔야돼요오번탄젠트는어떤삼각형큰삼각형이것만여러분들이기억하셔서돼요다할수있어요탄젠트사십팔이큰삼각형에서바라보면사십팔돈은누가여기가사십팔떠요그러면탄젠트는밑변분의높이되잖아맞지비씨브이육비씨디씨피일길이가얼마입니까라는말은이점에와이자표를보면영점구영점구구일이건십배시켜보면구분했습니다',\n",
       " '그런부분에서는여러분들께서기본적으로영점구구아니죠일정때라는할수있으니까결국오번이옳지않구나이렇게여러분들이답을줘야돼요사분원의관련된문제는레벨일이하선생님이좀차근차근했는데이게됐나여러분들반드시있어야됩니다',\n",
       " '사번문제는항상출제가됩니다',\n",
       " '다음에우리칠번문제로들어가보도록하겠습니다',\n",
       " '여긴또가볍게갈수있는데삼각비의값을큰것부터나열하세요오라고했어요다시한번얘기합니다',\n",
       " '사인하고코사인엔자영도삼십도사십오도육십도구십도가있을때이쁘네루트영이니까영희야이분의루트일이니까일이고이분의루트이삼루트사루트삼코사인거꾸로써주면되잖아일이삼이브이이만십일까지커지고콜사인은일에서영어로줄어들어요되나요그리고사인코사인은무조건영화구일까지있어요값이싼가스일점오이런게없다는얘기야근데탄젠트를생각해보면탄젠트사십오도이태임일위죠육십이면루트삼이일점몇이야일보다',\n",
       " '꺼져버려그리고여기는루트삼의루트삼분의일을일보다',\n",
       " '큰수는알았으니까이제한마디로영점영이구급격하게된다는걸여러분들이확인할수있습니다',\n",
       " '그렇기때문에이미탄젠트사십오도가이드란얘기는사인코사인영도에서구십도사이에서는그저영동슈퍼끝이배불러서본다면다영해서일사이니까이게제일크지무조건일이이건불다',\n",
       " '자를이렇게사십도를대래싸인값이영에서부터출발해서이분의루트이러다가고쿠사이사일에서줄어들고있으니까당연히코사인의값이좀더큰딸안걸려서확인할수있어요그래서니은이들어오고지역이제일작다',\n",
       " '이렇게여러분들께서나일할수있어야되는겁니다',\n",
       " '됐습니까다음문제로팔번문제들어가보도록하겠습니다',\n",
       " '이거대소관계를여름도꼭좀그런데또실수많이하는파트입니다',\n",
       " '좀어려워하고그다음에팔번문제볼게요오늘여름도절대안들립니다',\n",
       " '그저이십일더하기코사인이십이도에값을구하세요탄젠트어디있어탄젠트이십일도내려와보세요영점삼팔백삼십구영점삼팔삼구더하기새로스퀘어코사인이십이도코사인이십이도어디있습니까영점구육칠이적구천이백칠십이덧셈말실수하지않으면됩니다',\n",
       " '그래서나일되고요하나올라가서일되고일되고또하나올라가서삼대고일올라가서일점사미터엘쓰는선생님좀빠르게했는데여러분들이사실갔으면더빨리옵니다',\n",
       " '생각보다',\n",
       " '있으면하지않도록조심하시면되겠습니다',\n",
       " '레벨온술에문제는지금이렇습니다',\n",
       " '어떻게자신감이좀생기나요선생님생각이중요한문제라고잡을수있는건당연히육번문제선생님은생각하고있고또칠번대소관계도다시한번여러분들하셔야됩니다',\n",
       " '이젠안해서조금높여봐야되겠죠네이버에서함께끝내러가보겠습니다',\n",
       " '자선생님이타이틀을내신끝이렇게놨습니다',\n",
       " '그저레벨이문제를여러분들이백퍼센트해결할수있으면일단구십점까지는나와요근데이제백점까지가는게제대로쓰립니다',\n",
       " '그죠내벨트문제일단정보그래야또내벨소리로갈수있겠죠첫번째문제구번문제보도록하겠습니다',\n",
       " '그림과같이에이디오비이씨가돼요그럼일단사다리꼴이다',\n",
       " '밑변에아랫변이향숙가게크기거같다',\n",
       " '당연히등변사다리꼴잊어그러니까또에이비하고디씨까지등변사다리꼴의성질같다라는것까지주어져있습니다',\n",
       " '그리고길이가삼백오십칠등이추워져있고요싸인비더하기비의값은여러분들이이런분들보면이거읽다가이미뭐어떻게복잡해보여근데싸인하고탄젠트비예가스어떻게구해가시면돼요뭐해요뭐만들어야돼직각삼각형이게끝인거야됐나요아직각삼각형을만들어야돼여기서이거사다리꼴에서학비가비에대해서니까각비를포함하는직각삼각형을맞는다',\n",
       " '이게그냥핵심이에요그러면각비를포함하는삼각형은당연히이렇게만들어야지이거잖아그저여기에서도똑같이그저기이거이름들이푸린워낙유명한왜아등변사다리꼴이면양쪽있는지삼각형의합동테니까그리고가운데요사각형은수선그러면직사각형일테니까이거유명하잖아그죠요일이얼마삼차칠에서삼을빼면사과남쪽그살을양쪽둘이똑같이나눠가실겁니다',\n",
       " '살을둘이나눠갖는달리기를요점을에이칠십오났을때요길이가얼마야이다라는것까지할수있어여기도당연히인가되고이런다고한거야이제삼각형에이비에이치보는거죠누굴구할수있습니까우리는에이에이치에이들을구할수있습니다',\n",
       " '뭘이용해서피타고라스정리를이용해서팔층높이루트나머지두번오후에제곱마이너스이제나오지이십오마이너스이는사니까루트이십일이다',\n",
       " '길이가얼마루트이십일이다',\n",
       " '길이가얼마루트이십일이다',\n",
       " '여기까지고하면이제세번다구했어직각삼각형에서그러면삼각비갈수있겠죠다섯번째싸인비했습니다',\n",
       " '자사이미우리가따로구해볼게요싸인비를아기중가빗변분의높이오분의이이십일피했습니다',\n",
       " '탐존슨우편번호피겠네그죠자밑변이얼마이분의높이루트이십일그들을뭐하래더하려따라서사인비더탄젠트비해값이라는건누구하고누굴좋아한다',\n",
       " '오분의이루트이십이라고이분의루트이십일일더하라당연히뭐할거야루트인식을똑같으니까통보해야되면서십으로통분해보면십분자는건두배있으니까이루트이십일뒤쪽은십분에라는건오되니까오르트이십일그러기때문에결국십분의이더하기오신루트이십일여기까지여러분들이구해주시면끝나는거야되나요첫번째예비단계문제아저레벨이문제이렇게사번문제가담배를피고다시한번강조하지만등변사다리꼴의나오던어떤다각형이나오든마지막에삼각비를구하라네그래그가게를기준값으로안에직각삼각형을그릴수있는보조선이것만그어주시면끝나는거야아셨죠그것을포함하는직각삼각형을그토록연습을해야된단얘기야알겠습니까다음문제들어가보겠습니다',\n",
       " '다음문제를번입니다',\n",
       " '십분갈게요삼점을꼭짓점을하는삼각형에이비씨에서싸이의값을구하여라나는게문제야이거왜어렵게느껴지죠윤한아그림이없어그림만그리면근데그냥풀려그래요그림한번그려볼까요전문점들이일사분면에있는점이좀크니까일사분면쪽으로조금넓직하게이렇게그려보도록하겠습니다',\n",
       " '삼십분마칠한번찍어볼까요삼십분마칠삼일하고해보고칠일삼십분마칠이점이지금여기서한곳만제일잘단비점은마이너스칠마이너스일이니까마이너스칠마이너스일요점입니다',\n",
       " '이렇게하면찍어보겠습니다',\n",
       " '점수이름뭐라고뭐라고되어있나요삼콤마마이너스이엑스좌표가삼백이십아이고이거래상품안해놨어요저이렇게그래야지간단하게해결되는왜지금그러고보니까에이씨는와이축의평이에요그다음에비쓰는엑스축에평이에요그러기때문에엑스축와이축의수직으로만나니까당연히이에이씨에이치오피스도수직으로만나는그럼누구만연결하면돼비겁격이렇게무슨삼각형직각삼각형바로보이죠그러면싸인값을구하라는건지금요구해요만나요쌓이는누구네누구예요애인이까팔분의빚습니다',\n",
       " '이번문제도이렇게됐네요그림과같이뭔오후에내접하는직각삼각형의이비스에서비씨길이가육이고코사인오분의삼일때원의반지름의길이를바라겠습니다',\n",
       " '아정답은누구누구야에프아이엔에이엘값이라는결국누굴구하라에이비분의비씨를봐라근데우리는여기서조금조금고민되죠당연히고민되지만누구있을것같아걸할수있을거야그죠비씨로알아요왜마이너스일에서삼까지자나얼마나사아그래아분자가사역을하는거네직각삼각형에서의빗변이니가피타고라스정리쓸거야여기서하니까에이스를구할수있으면돼왜붙어마이너스일까지의거리니까파리거든아결국두변이사백구십팔마이너스이빗변을구하는겁니다',\n",
       " '일단여기서에이비에이길이는루트나머지두변의제곱의합사이즈육십육더하기팔이지금육십사하니까루트팔십이내서십육곱하기오니까사르트옷까지여러분들이길을갈수있어야돼요애비가뭐라고오븐에서이게답이네그저약보내주시고요루프오브레일이니까유지하기위해서노트오분해도톰한곱해주면오분의이구나이렇게여러분들이답을구하면끝나는거야자오분내로투어그대로십번문제없고요다음문제십일번문제로들어가보도록하겠습니다',\n",
       " '십오말한다',\n",
       " '좌표평면주어지면그래프만그리면직각삼각형의나오게끔되는문제가둘째가된단얘기야가셨죠꼭그래프그려보시면해결됩니다',\n",
       " '야첫번째문제한번시작해보도록하겠습니다',\n",
       " '사십일번중요하고돼있고선생님이왜지난시간에한번다로드렸죠비슷한형팀이나어떤편애중전까지연결해서생기는삼각형의삼각비의관련된그런유명해요워낙유명하니까선생님이또최음제로단어드렸으니까같이함께시작해보겠습니다',\n",
       " '오른쪽그림과같이길이가맞대요에이비씨에이비씨야이건말이아니라이것도길이가같아아이것도길이가같아요직각이등변삼각형있어요그런데거기에서비가또에이스의중점인그리고비비씨가있대탄젠트엑스의값을부활한얘기를해당연히직각삼각형찾았죠그런소리도피니까결론부터항상보시는게편해요선생님이경험적으로보니까도영문제는대부분결론이뭐야뭘가래저걸좀표를언어를바꿔보는거탄생텍스트를위아래울리게하는거야그래도피비칠에스아이엘브이이알이렇게언어로좀다른표현한번해보는겁니다',\n",
       " '오른쪽그림과같이길이가맞대요에이비씨에이비씨야이건말이아니라이것도길이가같아아이것도길이가같아요직각이등변삼각형있어요그런데거기에서비가또에이스의중점인그리고비비씨가있대탄젠트엑스의값을부활한얘기를해당연히직각삼각형찾았죠그런소리도피니까결론부터항상보시는게편해요선생님이경험적으로보니까도영문제는대부분결론이뭐야뭘가래저걸좀표를언어를바꿔보는거탄생텍스트를위아래울리게하는거야그래도피비칠에스아이엘브이이알이렇게언어로좀다른표현한번해보는겁니다',\n",
       " '아셨죠나이도갈수있겠죠십일번그대로이번이없고요괜찮네요그니까다음문제우리십삼번문제볼텐데십삼번문제도정말정말문제가통장을했습니다',\n",
       " '그리고지금유에스십이번이죠십이번십일번에좀전에십이번문제먼저하나하고갈게요십이번은유명한문제이긴한데충분히맞출수있어요왜선생님이너무나강조해서써이문제없다',\n",
       " '이제알아그림이없어서우리는뭐해야된다',\n",
       " '그림을그리면끝난다',\n",
       " '탄젠트탄젠트가뭡니까밑변물에높이밑변보네높이의비가삼일한얘기는식객에서밑변이일대높이가삼이적그러니까여러분들이이거집갈생각좀걸리더라도이제좀공부가됐다면이렇게그리고있으면안돼요아셨죠미평그래높이가삼일분의이상하잖아그림이게일이고이게어떻게사냐그래서여러분들이공부가좀됐다는건이제탄젠트회의가삼일아니면밑변분의높이가이렇게새로벌써높은그림을그려내야우리가부가대따라내기해요아셨죠그러면요게일분에서이렇게써보면끝나는거예요금요일이얼마입니까피타고라스정리루트이의제곱더하기삼의제곱와이제곱더하기삼의제곱루프십일이렇게딱떠놓고그러면아쌓이네일하는건뭡니까바로가보게쌓이네빗변분의피어루트삼이영구사이사이는뭐야변해요루트일이에요그러니까십분의삼여기까지여러분들이갈수있으면됐다',\n",
       " '아이제비가내리고다른생각들고와라직각삼각형직접끓여봐라이제는우리가공부좀했기때문에그삼각비를보면그림을어느정도비슷하게그려낼수있어야됩니다',\n",
       " '아셨죠다음들어가보겠습니다',\n",
       " '다음문제로십육번문제한번가보도록할게텐데요십육번분들은좀가렵습니다',\n",
       " '그러면선생님이정말어떻게설명해야되지좀막막합니다',\n",
       " '다직각삼각형에이비씨에서에이디오비이갔대요얼마로노트이로써볼까노트에그리고요가기사십오도그래요그럴때비해값을그래서항상뭐라고결론부터생각해봐봐요놨잖아탄젠트비를구하라뭐뭐를하라그래그피를하나비씨분의에이스를구하라아이게비씨분의에이스를구할한말이야아비씨브이오에이치근데이제우리는이결론을딱떠놓고나서보니까정말미안합니다',\n",
       " '선생님여기있는에이비씨는요직각삼각형인데요가기사십오도면요이것도사십오도직각이등변삼각형이다',\n",
       " '선생님여기있는에이비씨는요직각삼각형인데요가기사십오도면요이것도사십오도직각이등변삼각형이다',\n",
       " '집가게되면입이편이고이변이뭐야그러면밑변입니다',\n",
       " '탄젠트육십도는밑변이분의높이에이씨에이씨네이탄젠트육십탄젠트육십도가루피에이스얘기는이루트삼이요좀복잡합니다',\n",
       " '그래서그러니까이분의일더하기일은이분의이적이분의일더하기이분의일이분의삼이다',\n",
       " '길이가얼마루트이십일이다',\n",
       " '분모는뭐야합차공식해서루트이의제곱마이너스일의제곱은마이너스일이니까일이라생략바로분자의루트이마이너스일이답이이렇게여름비답을구할수있겠죠뒈져이문제하고똑같은데잘보세요일단되나요그러면오케이가보도록할텐데이문제하고똑같이어떻게나오냐면제일어려운형태부터보여드리면답은똑같아요구하는과정도똑같은데이걸뭐라고물어봐야탄젠트이이점오데가그럼여러분들은첫번째뭐라그러죠이이점오특수가게아니니까배운적이없어요라고얘기하자몰라요안가르쳐줬어요라고이야기랍니다',\n",
       " '이십삼십사십오십육십동안배웠는데우리가배운적이없죠이걸이그림을통해서만들어낼수있어야돼요무슨얘기냐면지금이그림을찾아보잖아요그러면이게이등변삼각형이면이각하고이야기어때갔죠맞죠근데이삼각형에이디비의일외곽이사십오도예요하늘가든이웃하지않는두내각의합이자나이렇게이더해서사십오도란이그래사십구둘로나눈거니까이거하나가이이점오도시이야기해요그래서탄젠트이이점오돈에이제밑변불에높이자나만나요그럼똑같은결과를얻을수있다는거예요그러니까가끔문제에서탄젠트이이점오의값을구하라라는말은이렇게그림이주어지는구나라는걸여러분들생각할수있으면돼제일어려운문제는그림이당연히없어요그럼여러분들은어떤생각을해야되냐면아이게지금이등변삼각형직각이등변사십오도그려놓으면사십오도가왜가기되도록하는삼각형을있는데아일회가게되도록근데나머지두내각의크기가갖도록이렇게대리가갖도록그러면이게이이점오도식이되겠구나라고그림을생각할수있어야돼요그리고여기서또한가지시각이몇호죠사십오도적가끔가끔난이도있다면육칠점오값을물어볼수도있어요되나요설정보자가끔유림이똑같이주어져놓고탄젠트육칠점오수고하세요이렇게물어보면일분에몇분에높이자나이제기준가게이거는그죠그때는담배한번제가지금선생님너무좀깊이이야기를했는데그만큼이그림이여러분들이많이좀어려워하고다양한표현방법으로시험에서물어보기때문에선생님이좀설명을길게드렸습니다',\n",
       " '십삼번문제꼭잘들어주시기바랍니다',\n",
       " '다시한번들어고생하셨죠이번반복하셔야됩니다',\n",
       " '다음에우리십사번문제로들어가보도록하겠습니다',\n",
       " '다시이거더할게더있는데선생님다른문제도좀해야되니까요정도까지만오늘십삼번하고나중에혹시중단원마무리다풀었는데선생님시간여유가된다면한번좀다른각도들이대서유명한그림이라정리를좀해드리도록하겠습니다',\n",
       " '사십사번입니다',\n",
       " '오른쪽그림과같은직각삼각형에이비씨에서코사인엑스의값을구하라고있습니다',\n",
       " '차우리이문제는직각삼각형에서의닮은믿어중일때배웠던자기가게에계시면누가이거갖고안가져그게첫번째이러면이렇게해야되는거야이그림에서직각삼각형에서직장에서빗변의수성도면세계의삼각형의닮음알고있고이가게있으면누가엑스엑스이거까지가잖아요그죠그래서우리는삼각형가지고서코사인엑스하려면이루트삼케이쥐인데이거어떻게해야돼그러니까그렇게아니다',\n",
       " '즙이십분의입니다',\n",
       " '이게답인고요비씨만숫자로바꿔주면끝어떻게무슨정리피타고라스정리아그럼비씨사루트나머지두변의제거해야되겠지요이의제곱더하기이백십삼의제곱입니다',\n",
       " '그래서그러니까이분의일더하기일은이분의이적이분의일더하기이분의일이분의삼이다',\n",
       " '이렇게여러분에게오늘주제곡오늘것만이아니더라지금까지어떤걸차례차례화면별로보여드릴테니까이름도각각의중단원마무리마다',\n",
       " '나오는게마지막정리단계를반드시이단원전체가끝났을때기억하셔야되게작은함께오늘수업마무리하겠습니다',\n",
       " '함께시작해보겠습니다',\n",
       " '이렇게여러분들께서나일할수있어야되는겁니다',\n",
       " '글구하시면되는거야이거왜오라는게아니라아칠십오는이거고스포조이거니까탄젠트물어보면빗변분의높이또는십오도물어보면밑부분에높이이두가지를여러분들이구분해서기억한다면십오도탄젠트값다해결할수있습니다',\n",
       " '구십도는거꾸로됐었죠구십도일대싸인구십거꾸로일이없고코사인구십도됐습니다',\n",
       " '정할수없었다는수없을때기억해보시면어떻게됐어됐어됐어이그림을여러분들이기억하신다면정할수없었는데이런개념들이정리가되어드리겠습니다',\n",
       " '오늘마지막회보여드렸던영도하고구십도의삼각비의값도중요하지만우리사이에삼십사십오도육십도까지선생님이굉장히여러분감사합니다',\n",
       " '선생님중삼때외부에서어려웠던기억이나요예하지마여러분들께수영배우는방법설명드렸으니까반드시총십오개입자적마지막은행싶으니까십사개입니다',\n",
       " '오늘은여기서마무리하고다음시간에도우리내베프헤어질거예요릴리프로오시는거잊지마시기바랍니다',\n",
       " '수고많으셨습니다',\n",
       " '반갑습니다',\n",
       " '우리는지금삼각비에대한중단원마무리함께하고있습니다',\n",
       " '지난시간은레벨일에서부터시작해서내벨트일분까지있습니다',\n",
       " '레벨온문제같은경우에는여러분들이앞에서근무했었던예진아유재춘가비새끼때문에아마큰무리없이따라왔을거고요레벨이같은경우에는여러분들이학교시험에서가장많은분포를차지하는남이돈문제에드리기때문에여러분들께서레벨이부터조금신경써서아마강의를들었을겁니다',\n",
       " '오늘도레벨이나머지문제들이이어질거기때문에선생님이다시한번강조하지만중단원마무리만큼은반드시여러분들께서먼저직접풀고그다음에드려야되겠죠아닙니다',\n",
       " '먼저풀고그다음에채점하세요답지있잖아요그죠만남의여러분스스로먼저붙여보셔야합니다',\n",
       " '근데잘안고쳐져그럴때선생님하고만나야되겠고요그다음에맞은문제를하더라도약간좀긴가민가한데대충이런배고픈문제들도있을거고아니면지금문제근데맞은거들수있겠죠당연히그런문제들도함께선생님하고틀어주셔야됩니다',\n",
       " '그리고확실하게맞았다',\n",
       " '하더라도특히도연같은경우에는다양한피가존재하기때문에선생님이가끔교재이메일풀이도좋은부리는소개해드리죠그러기때문에여러분들께서그럼우리도함께다결국다들어야되는거야틀린건신경써서맞은건혹시다른프리가있나이런것들을신경써서여러분들이중단원마무리함께해주시면되겠고요이학년때부터여러분들께서참수감기에좋게만있어주셨던게바로최문자우리교재왜선생님이또추천하는문제오늘여러분들과함께하도록할겁니다',\n",
       " '한번기대해주시면서수업시작해보도록할거고요중삼수학선생님하고끝냈어첫번째홍대십오번부터시작해보도록하겠습니다',\n",
       " '두번째문제함께들어가보도록하겠습니다',\n",
       " '자십오번째우리교재비는풀이는먼저이렇게돼있어요선생님교재이름풀이를먼저보여드릴게요오른쪽그림과같이모든모서리의길이가사인정사각뿔있습니다',\n",
       " '모든모서리의길이가다살아내가그얘기는각각의용현면은정삼각형이란얘기죠그리고밀면사천사백사십사뭘까요당연히마름모는아니요정사각형이될겁니다',\n",
       " '그래서오케이옆면이모두다합동이고그런데모서리비씨와뒤에중점을얼마고애인이라고해서비스일동점앤그리고에이미터에이크기에이미터엔크기를팔월하고있습니다',\n",
       " '그럴때코사인값을구하는게문제야일단우리는뭘고아라삼각비를구하라네그래삼각비를구하라아니거든기본적으로아욕하게이를포함하는뭘만들어야돼당연히삼각형을만들어야죠상각비는어디서이용해쓰니까직각삼각형에서그렇기때문에일단합의를무슨낙으로기준값으로하는직각삼각형을이렇게만들어볼게그얘기는에이에서밑면에수서늙었다라는이야기입니다',\n",
       " '너수선의발을에이치이렇게딱잡아오면이제이그림을우리갔다',\n",
       " '와서옆으로살짝돌려서이렇게한번알아보도록하겠습니자유의꼭짓점이지금에이고여기가애니고역곡지점을에이치이렇게잡으면될테고요자그다음에구할수있는길을생각해보면일단엠에이치엘에이가슴요가게아니잖아요에이엔분의엠에이치가다빈거야그죠아담은뭐라고요에이미터푸네그다음에엠에이치가다비다',\n",
       " '집가게되면입이편이고이변이뭐야그러면밑변입니다',\n",
       " '우리가이길이사겠죠그리고요기린얼마입니까사회절반이이가될거야그리고이등변삼각형의성질내서꼭집가게에서빗변의중점에까지연결하면수성이되겠죠수직으로만나요그럼우리는피타고라스정리에서에이미터애기를구할수있다는얘깁니다',\n",
       " '뭘이용해서피타고라스정리를이용해서팔층높이루트나머지두번오후에제곱마이너스이제나오지이십오마이너스이는사니까루트이십일이다',\n",
       " '여기까지여름속에서답을구할수있겠습니다',\n",
       " '루트이다',\n",
       " '루트이다',\n",
       " '바로얘기를구하라차뭐라고요이게정삼각형이래이것도정삼각형이래이것도정삼각형이다',\n",
       " '지금보면기준각삼십도에서왔을때빛일하는건집가게에서마주보이는빗변을구하고자밑변의길이가젖어있어요앞이병갑이거는뭐야그렇지않고사인이전화해줘아그러니까코사인삼십도누구네누가된다',\n",
       " '네가된다',\n",
       " '꺼져버려그리고여기는루트삼의루트삼분의일을일보다',\n",
       " '루트이가되냐아여기는얼마이다',\n",
       " '여기까지여름속에서답을구할수있겠습니다',\n",
       " '이렇게깔수있겠죠그러기때문에에이엔분의이루트삼불에미터에이치이다결국약불에보면유리해서삼분의루트삼의다여기까지여러분들께서답을구해주시면되는겁니다이문제를선생님이다르게풀수있는방법하늘간단하게소개시켜드리면요렇게도풀수있어요무슨얘기냐면요즘전까지어차피그런건똑같아코사인관련어차피이거걷는건똑같은데그래야직각삼각형이나오잖아중요한건채우리가구할수도있지만또요렇게나오는문제도있으니까지금풀고자는건이문제풀이가아니더라도그림이이렇게주어지는경우도있습니다',\n",
       " '아셨죠좋아지는경우에는우리가결국요가기애인하고나오는문제들이있거든요그럴때는빗변분의밑변이어떻게되는지타요길이는결국밑면정사각형에서의대각선의중점이다',\n",
       " '중에때렸죠정사각형대각선의서류를이등분하기때문에대각선의길이는피타고라스정리해서구하고그것에절반을해줘서요삼각형에서삼각비를구해주면되는이유영도우리가기회가되면선생님이함께다시한번바로드리도록하겠습니다',\n",
       " '다음문제로십육번문제한번가보도록할게텐데요십육번분들은좀가렵습니다',\n",
       " '얘기죠이십대삼십대에이디에이치디를구하라나는게문제입니다',\n",
       " '지금그럴때코사인엑스문제도얘기하는게뭐야코사인엑스당연히직각삼각형에서코사인엑스를부활하니그래빗변분의밑변이팔일이다',\n",
       " '이렇게답을구할수있으면됩니다',\n",
       " '잠깐엑스도다이렇게한번잡아볼게요요가엑소다이렇게잡으면코사인엑스가뭐라는걸알수있냐면육분의오루트이다른걸알수있어요근데올해는약불에서이분의일이니까이분의루트이거많이보냈잖아코사인사십오도아이씨크기는몇도사십오더구나그러기때문에결국에이씨피에이크게늘면서사십오도다이렇게사람들이다들고와도되는겁니다',\n",
       " '이렇게답을구하는유형입니다',\n",
       " '어렵지않아떨어져다음으로바로이어서들어가보도록하겠습니다',\n",
       " '얘기죠이십대삼십대에이디에이치디를구하라나는게문제입니다',\n",
       " '얘기죠이십대삼십대에이디에이치디를구하라나는게문제입니다',\n",
       " '걸알수있죠그러면이제뒤꿈치묘삼가격디브이에이치바라보겠습니다',\n",
       " '지금보면기준각삼십도에서왔을때빛일하는건집가게에서마주보이는빗변을구하고자밑변의길이가젖어있어요앞이병갑이거는뭐야그렇지않고사인이전화해줘아그러니까코사인삼십도누구네누가된다',\n",
       " '변비디비삼십이된다라는줍니다',\n",
       " '응그럼여기에서코사인삼십도는이분의루트삼의적자분수분수갔을때대각선길이곱하면계산편리하죠루트삼비지가얼마가돼삼이사육이니까비티랩루트삼육이구나루트삼은유아기에서루트삼의루트삼보면삼분의유빈이가이가남아서이의루트삼의다여기까지십칠번의답을구하시면되는거이게여러분들이교재에서볼수있는프리가되는겁니다',\n",
       " '여기까지여름속에서답을구할수있겠습니다',\n",
       " '끝나요근데우리말고다른프리로이런것도있어요나중에때봤던건데주일때요거한내가여기서한내각의이등분선이나와있죠그럼중인데여러분들하트법칙이라고아마기억나나요하트법칙내각의이등분선있으면이렇게부를게대리랑이렇게둘레길이갔다',\n",
       " '그래서우리는어떻게풀수있냐면아여기에서상각비용하든뭘하든구할수있죠근데왜싸인삼십도가육분의에이스야한번써볼까요두번째불이싸인삼십도가육분의에이씨그러면양변에여섯대주면돼에이씨길이는싸인삼십도적사인삼십도가입을해야되니까육곱하기이분의일은삼여기까지여러분들이구할수있어요그러면비씨피타고라스정리를해서보내도되고코사인삼십도해서보내도됩니다',\n",
       " '그러면피타고라스정리이용하면육백삼십육마이너스삼은구니까그저육백이삼의제곱루트이십칠일삼삼삼루트삼그런데중인데뭐라고요이렇게두레기계필은이렇게둘레길갔다',\n",
       " '육대삼이돼그러면비데십이도몇대몇이대일삼루트이대일로남단얘기가뭐야이게이대일이겠죠바로이렇게비를갈수도있다는겁니다',\n",
       " '상관없어요상각비를한번쯤은이용해서여러분들이계산하면되니까허수경의교재없는풀입니다',\n",
       " '참고해서기억해주시면두가지부지중에편리한여러분들이이용해주시면되겠습니다',\n",
       " '다음문제십구번문제로들어가보도록하겠습니다',\n",
       " '다음으로이제십팔번문제로들어가보도록할텐데요언제보겠습니다이문제는선생님앞에서한번달아드리고싶었는데사실이문제로시간이없어서못해드렸던거예요근데뒤에있어요다행히같이함께보도록하겠습니다',\n",
       " '직각삼각형에이비씨에서각시가구십도인직각삼각형이있는데지금요렇게네가유피엘오에이디이디갖도록하는점이라고돼있고각에이비씨가육십돌을일하고있대요그리고비씨이십일때우와뭘말해탄젠트칠십오도이숫자를딱보는순간칠십오도배운적없죠왜특수감금삼십사십오십육십칠십어떻게하지그림에칠십억어디인지를살아야되겠네맞죠칠십오도가어디있는지찾아근데우리는요가기육십초면삼각형에이비씨내각의합이백팔십도가되기위해서이각은삼십똥이다',\n",
       " '내려면요번에기대하고유플레이가같아둘다직각삼각형이야그럼어떻게됩니까요게육십도조금요가기삼십도이박스왜또삼십도그러면삼각형을해서한변의길이가양끝각한변의길이양파까기같으니까에이에스에이합동입니다',\n",
       " '크고사십오도사십오도보다',\n",
       " '크고사십오도사십오도보다',\n",
       " '걸알수있죠그러면이제뒤꿈치묘삼가격디브이에이치바라보겠습니다',\n",
       " '결국다왔다',\n",
       " '탄젠트칠십오대값이라는건탄젠트칠십오도밑변불에높이니까비씨분의비씨디씨이거통채로이호구하라는거야이씨이문제는되나요기린은어떻게할까디씨여기서부터여기까지는잘보세요일단우리에이스에게비교할수있나요구할수있죠만큼만지어볼게여기육십도라고써있었어아그러면선생님밑변이인걸알고높이를구하고자하는거니까탄젠트육십되겠네요맞습니다',\n",
       " '탄젠트육십도는밑변이분의높이에이씨에이씨네이탄젠트육십탄젠트육십도가루피에이스얘기는이루트삼이요좀복잡합니다',\n",
       " '그저그럼우리는피타고라스정리또는코사인을이용해서물론상관없는데어쨌든에이비에스마이너스백이십구할수있어없어구할수있죠아여기이거여기에이루트삼이야그러면이의제곱사회자가이렇게가볼게요사우루스전기루트이의제곱사이다가이루트삼의일을더하니까루트십육에대해서사과돼요요길이가얼마타요것도얼마야길이같다',\n",
       " '그랬잖아그래서산에그죠그러면정답은이분의뭐라고써져근데디씨니까사더하기이루트삼이대로두면안되고약분할수있겠죠이렇게이렇게나쁜해보면이플러스루트삼이적이것이바로탄젠트칠십오회갑시다',\n",
       " '길이가얼마루트이십일이다',\n",
       " '이렇게답을구하면되며이러한문제를통해서두가지문제가축제를수있겠죠탄젠트칠십오들을물어볼수도있고탄젠트포도를물어보기도합니다',\n",
       " '십오도좋은것자주물어보는데탄젠트사십오도그럼어디있어참고로지금십오도에맞죠그러니까아탄젠트이십오도빗변분의높이그땐답이뭐가돼사더하기이루트삼/만약에탄젠트이십오도써놓으세요이런들사더하기이루트삼구사이더하기이루트삼/이로약분해보면그죠요거유리야해주시면여러분들이마이너스루트삼여기까지다',\n",
       " '글구하시면되는거야이거왜오라는게아니라아칠십오는이거고스포조이거니까탄젠트물어보면빗변분의높이또는십오도물어보면밑부분에높이이두가지를여러분들이구분해서기억한다면십오도탄젠트값다해결할수있습니다',\n",
       " '다음문제십구번문제로들어가보도록하겠습니다',\n",
       " '생각보다',\n",
       " '레벨이문제가쉽지않습니다',\n",
       " '지금그죠대표요건설명할게좀있어요우리교재개념의따로없었어개념이따로없는데알고있어야할개념이라선생님이이문제풀이를통해서하나추가로설명드릴테니까교재앞에기념파티에서놓으시는게좋아요문자옆에써놓으면이문제풀이같으니까개념쪽에다가지금부터이야기하는걸잘써놓으시기바랍니다',\n",
       " '그림과같이일차방정식루트삼엑스마이너스와이더하기유부녀의그래프가엑스축과이루는예가게크기를에이라고할때사인에이에이결론은나왔어요여기직각삼각형보이잖아왜엑스축와이축은서로수지기미까지끄라니까알고있잖아요그죠결국쌓이네일하는건어그러면빗변분의높이네빗변의길이구하라내리고높이구하는얘기네그죠자그럼우리는당연히누굴알아야돼엑스절편와이절편을알아야됩니다',\n",
       " '필기하는부분이있어요거기서부터하시면되고지금은보세요그럼우리가어떻게돼있어중일때와이가영이되니까영비파면루트삼엑스더하기육은영에서여기서루트삼엑스가마이너스육십일되고엑스는결국마이너스삼분의이루트삼/육이니까요거유리의주기에서루트삼의루트삼보면삼분의욕은나쁜데서마이너스이루트삼일까지여러분들이구할수있습니다',\n",
       " '왜엑스이십대입하면이만큼이없어져마이너스와이더하기육이없으니까와인은그대로이백육십이나와요그러기때문에한마디로요길이가얼마야밑변이마이너스이루트삼이서영까지니까이루트삼이야높이는얼마야영에스유까지니까유비야좀비뼈는어떻게봤는데피타고라스정리를쓰면된다는얘기다',\n",
       " '그래서그러니까이분의일더하기일은이분의이적이분의일더하기이분의일이분의삼이다',\n",
       " '여기까지해서이문제의답은일단여러분들이해결할수있다는거예요그런데이일차함수의그래프에서개념하나로추가되는건뭐냐면이걸여러분들이필기해주셨으면좋겠습니다',\n",
       " '나지금보면자일단이문제풀이좀끝났으니까요렇게찍어서볼게요우리가이렇게어떤일차함수그래프가엑스축과이루는가게크기엘쥐라고돼있잖아요근데곰곰히보니까우리는이일차함수측에서와이에대해서정리해보면루트삼엑스더하기육예여기서요건정리할수있죠대해서이렇게욕을어디로뭐라그랬어중일때그랬어요맞죠이거지울게아그랬어근데기울기루트삼의미가뭔가그봤더니기울기의뜻이뭐야이게엑스에스가격문의간단하게쓸게요와이티엔가장갔어요지금보니까한마디로어떤직선이있을때우리는흙이라는걸엑스가얼마만큼증가와이가얼마만큼증가해이걸기울기라고했어그죠근데곰곰이보니까여기서아그럼요렇게왔을때이미이렇게갑니다',\n",
       " '뭐야근데이게이길이가이가기준으로해서보니까밑변분해높이인거야탄젠트놉시다',\n",
       " '자어떤일차함수의그래프다엑스축과양의방향으로이루는가게크기를알고있으면내리라고하면그때탄젠트에이엘값을구할수있으며그것이무엇을의미한다',\n",
       " '기울기를의미한다',\n",
       " '교대안나와있어요그래서이내용은화면잠깐멈추고인터넷으로든다면멈춰놓고필기하고다음으로따라오자되겠습니다',\n",
       " '정리하세요이런걸해야우리백점맞고중산에서끝냅니다',\n",
       " '아셨죠다음문제로들어가보도록하겠습니다',\n",
       " '이십번문제보도록할게요우리이십번문제보시면요일단사부는등장하죠이문제에여러분들중요한문제없고선생님오늘최문제에서도따로드릴겁니다',\n",
       " '오늘중심으로해서반지름의길이가일인사분원이있고아반지름의길이가일이구나특이하게여기는또노선도커졌어직사각형모양의등장했네요어쨌든이미애한예각을이렇게커서안쪽에작은직각삼각형만들고바깥쪽에큰삼각형만들면우리머릿속에기억해야될건싸인코싸인작은직각삼각형탄젠트는큰직각삼각형아이거뭡니까이러면바로약종류여기서여러분들께서반드시기억해야되네시험에백퍼센트출제되고오담률높은바로그엽니다함께시작해보도록할텐데옳지않은거됐어요일번보겠습니다',\n",
       " '다음중옳지않은것같습니다',\n",
       " '사이넥스코사인엑스일단사이넥스작은삼각형에서빗변오십이분에비스정오비가근데반지를일이니까일분에비슨은그대로비맞고입원도맞겠죠코사인엑스일분에오시죠오시니까일생략해서오씨맞아요이런건틀린대로잘안나옵니다',\n",
       " '탄젠트엑스를우리큰직각삼각형과따지는게편하다',\n",
       " '그랬어요그래서결국밑변분의높이에이에프니까에이에프가되는거맞아본중에답이나올텐데여기가조금이상하게생겼다',\n",
       " '자꾸스마일라텍스우리는처음거지만사실이십구씨미터쓰라는게어디있냐살펴보면여기집가지고여기가엑스단어에서백팔십대라면이가게구십마이너스있습니다',\n",
       " '얘기구나이것도똑같이구십마이너스되겠죠아이거말고각삼각형에서이쪽으로그생각을옮겨서봤을때탄젠트구십마이너스엑스를만약에작은삼각형에서보면밑변불에높이요비칠마이너스에이치오그죠이게틀린건아니지만구하기번거롭다',\n",
       " '그랬어요근데큰직각삼각형에서보면밑변물에높이는에프에이백이십팔불의에이오물론같은값이야그런데여기서에이오에이길이가반지름일위죠그러니까에프에이브이뭐라고써주는데이게깔끔하잖아요그럼이건같은거같지만그러기때문에잘못되었다는걸여러분들이확인할수있는겁니다',\n",
       " '같은경우에코사인구십마이너스엑스라는건아이가게대해서코사인값쓰니까일본의밑변이이쪽으로옮겨일분의비치니까비씨가다돼요그래서이거하고생각할수있는데어디에길이보니까어때빅스비라고같죠그래직사각형걸려있으니까아이거살짝헷갈리게함정이네요그죠요금만주시면되겠네요정답은따라서옳지않은사번이렇게하시면됩니다',\n",
       " '반드시출제됩니다',\n",
       " '다음주로이십일번문제한번들어가보겠습니다',\n",
       " '그냥뭐여기다',\n",
       " '얼마코사인구십도얼마영이일일더하기이분의얼마일분십초이상있으면안됩니다',\n",
       " '예다음문제바로이어서들어가보도록하겠습니다',\n",
       " '다음문제를번입니다',\n",
       " '마찬가지요건삼십초한번볼게요몇도가이분의루트야박하고지나가야지사십오도아그러니까엑스더하기칠보도가뭐돌려야돼요그럼여기서엑셀크기는몇도삼십똥이다',\n",
       " '바로가야돼요첫번째끝났죠구하고자하는게바로엑스와이지삼십분대입하면되겠죠그러면코스피이백곱하기삼십이니까육십도이분의삼십더하기삼십더하기삼십은십오도니까삼곱하기십오도가돼서얼마사십오도가되고있어왜보셨죠코사인육십도는일이고탄젠트사십오도얼마입니까일입니다',\n",
       " '코사인빗변분의이편입니다',\n",
       " '그래서그러니까이분의일더하기일은이분의이적이분의일더하기이분의일이분의삼이다',\n",
       " '여기까지여러분들께서답을구할수있겠죠다들수박이삼각비반드시감기가돼있어야되고요다음문제보겠습니다',\n",
       " '이십삼번보겠습니다',\n",
       " '에이씨팔비씨팔길이가갔대요에이씨이오에프비에이에스이갔다',\n",
       " '무슨삼각형이등변삼각형이다',\n",
       " '크고백팔십보다',\n",
       " '그리고여기들어와있는에이나비같은것들이나와있는걸보니에이와비의크기가일단은첫번째뭐야이둘은뭐야아이로바꿔놓고봐도된단얘기야또는비로바꿔놓고봐도돼요근데그각이어디쯤입니까포인트했죠진짜우리는이렇게이를더하고이것까지더해서내가계약백팔십도인데이게구십도보다크다니기는다머리속에서가볼게요이거들으면서구십보다',\n",
       " '아니야그죠그다음에시간등각일해요구십도보다',\n",
       " '작아야돼맞죠이렇게색도에서구십인데이게구십보다',\n",
       " '커그럼이건구십보다',\n",
       " '찾겠죠누구요각설하고잠깐다묶여엑스두개를더하는것이구십도보다',\n",
       " '밑변에아랫변이향숙가게크기거같다',\n",
       " '크기가사십오도보다',\n",
       " '잡아야돼물론연구단크게당연히그저그저이걸여러분들이뽑아낼수있어야지이문제해결이가능해요이게지금비나다똑같은거야그죠응그러니까한마디로여기들어오는각시영도보다',\n",
       " '크기가사십오도보다',\n",
       " '작아삼십분정도로쭉넣어봐도돼요좀풀리는실전에서싸인삼십도하고코사인삼십도중에누가더커코사인이거왜싸인탑삼분의일코사인삼십도는이분의루트삼싸인삼십도하고코사인삼십도같아아니죠사십오도일대가같아안돼삼번같지않아이렇게해서먹여살린다고비는뭐지신경쓰지마세요그냥얘가영도에서어떻게사십오도보다',\n",
       " '크고사십오도사십오도보다',\n",
       " '작은그저그럼누가크다고싸인보다',\n",
       " '사쌍이크다',\n",
       " '그랬어아까요거기억하시죠코사인쪽이컸어여기서삼번이올탈안갈수있어요이사람없다고에이비갔다',\n",
       " '그랬어아까요거기억하시죠코사인쪽이컸어여기서삼번이올탈안갈수있어요이사람없다고에이비갔다',\n",
       " '이제바로이어서선생님이다음문제로들어가보도록할게요다음죄를우리이렇게사다리꼴이주어져있습니다',\n",
       " '다음문제십구번문제로들어가보도록하겠습니다',\n",
       " '자이십사번문제중단원마무리이게마지막문제죠함께보도록하겠습니다',\n",
       " '네가일인부채꼴의서비스에길이가주어졌어요중에하면돼요선생님이막자막을따로넣지는않겠지만어선생님지금눈살짝부른떴어중요한지라네개요우유신기하다',\n",
       " '네가일인부채꼴의서비스에길이가주어졌어요중에하면돼요선생님이막자막을따로넣지는않겠지만어선생님지금눈살짝부른떴어중요한지라네개요우유신기하다',\n",
       " '이십사번을이렇게풀어주시는유형입니다',\n",
       " '선생님우리이런곳에찍고있으니까선생님막자랑좀해야되겠죠원래안하고그냥했는데어이문제는아주새로운이용입니다',\n",
       " '이런데보통이상박대표가나오는형태의중에서이정도면되는실력이야해서다시한번정도는학교에서나올수있을것같아나는마음을가지고우리속닥속닥하면서우리볼까요아니죠주의친구들한테도이문제풀어봐미러링과한번보여주세요여러분들이그러면잘모를때친구를위해서해설도해줄수있을겁니다',\n",
       " '여기까지해서우리교재는몽땅다마무리가되었고선생님이앞에인사드릴때말씀드렸던것처럼오늘은최엠제함께시작해보도록하겠습니다',\n",
       " '자체에있는데에들어가볼텐데요오늘초미세먼지는다양한내용을막보는게아니라이사부놈의관련된이용이걸여러분들이두부두부삼백에서부터지금까지어렵기때문에사분원집중탐구이렇게선생님이주제를잡았거든요함께첫번째유형서부터보도록하겠습니다',\n",
       " '반지름의길이가이거보면너무나많이해왔던말이다음주옳지않은것같습니다',\n",
       " '사번삼십오도가어디있습니까사업삼십오도무슨마이너스엑스엑스이가기바로삼십오도요자그렇다면우리는싸인삼십오도기준가게이쪽으로바뀌어서빗변분의높이이길이왜여기일이니까영점오칠백삼십육맞습니다',\n",
       " '사번삼십오도가어디있습니까사업삼십오도무슨마이너스엑스엑스이가기바로삼십오도요자그렇다면우리는싸인삼십오도기준가게이쪽으로바뀌어서빗변분의높이이길이왜여기일이니까영점오칠백삼십육맞습니다',\n",
       " '사번삼십오도가어디있습니까사업삼십오도무슨마이너스엑스엑스이가기바로삼십오도요자그렇다면우리는싸인삼십오도기준가게이쪽으로바뀌어서빗변분의높이이길이왜여기일이니까영점오칠백삼십육맞습니다',\n",
       " '얼마코사인구십도얼마영이일일더하기이분의얼마일분십초이상있으면안됩니다',\n",
       " '이십사번을이렇게풀어주시는유형입니다',\n",
       " '그랬으니까요길이가얼마죠집이에요똑같이십십이길이가얼마야짖어가로수길이십팔일인가십팔일레벨팔오케이주교리얼마직사각형에이치큐식이니까육천백이십팔그러면집에서팔티에이치얼마쉬었다',\n",
       " '갈게요일일까지일단오셨죠됐나요요기까지꿇어서일단여름도이해를해놓으세요아그래서피에이치가있구나그렇다면이제우리는필요가주면되는거죠어디서삼각형티큐에이치에서이제보는겁니다',\n",
       " '선생님이사인코사인탄젠트큰생각중이라고했죠백퍼센트는아니었어요바로예외가되는문제가여러분들이이문제어렵습니다',\n",
       " '선생님이사인코사인탄젠트큰생각중이라고했죠백퍼센트는아니었어요바로예외가되는문제가여러분들이이문제어렵습니다',\n",
       " '이러면서반드시기억을해주셔야되겠습니다',\n",
       " '다음문제한번보도록하지근데진짜그림같이반지름의길이가일인샵은오늘좌표평면의나타낼때뒤에좌표를나타나는거좌표로데있으면여러분들도생소하지만어차피고등학교가면사실은이걸많이보게되어여러분들이좌표로편한거그래서수술하고이제또배우게될텐데비행기표를나타내는것에비해차표를나타낸다는말이뭐야뒤에엑스좌표아비의와이좌표이거잖아근데엑스좌표이길이에요이대리가뭐였죠반지를일대코사인엑스였습니다',\n",
       " '에이그래여기서사이넥스가이거죠일분의에이비에이비가싸인야여기네가뭐라고싸인에이에이그러면이점을좌표는엑스와이좌표가사인코사인에이콤마몇번이번이렇게답이나오는거고요또하나는어디서나오냐면이각이비면이각도비져평행하니까동의가그러면이번에는이길이가일일때비에대해서뒤를중갑으로바뀌면싸인비는일분에오니까웨이가사인비저일본에비해이니까비행기가코사인비가되는거야그래서이점에엑스맨싸인비와이좌표는코사인비싸인비콘마크사인비도여러분들께서찾아줄수있어야되겠습니다',\n",
       " '정답은따라서이번가오번이렇게기뻐하시는유형입니다',\n",
       " '오늘함께뵈었네요그래도중요한있었죠교재없는개념있었습니다',\n",
       " '함께정리하고마무리할게요오늘선생님이중요하게교재없지만걔는꼭기억해달라고했던거쓰레기유리야삼각비의마쳤습니다',\n",
       " '와인은미터에이엑스더하기일그래프가내각의크기의일하고있을때직각삼각형에서우리삼각비표날수있었고요탄젠트에이구에이오픈앱비오기때문에바로그것은무엇을했어기울기를의미에따라한거반드시기억해주시기바랍니다',\n",
       " '십삼번문제꼭잘들어주시기바랍니다',\n",
       " '자선생님이대소관계좀중요하게생각합니다',\n",
       " '오늘여러분들께수고하고숙제로내드리는문제바로아래나오시죠나옵니다',\n",
       " '크기가사십오도보다',\n",
       " '크고오십보다',\n",
       " '작은때사인코사인탄젠트에이값에대소관계작은것부터한번나열해서정답올려주시기바랍니다',\n",
       " '자여기까지손을중단원마무리레벨이까지마무리했습니다',\n",
       " '다음시간에함께만나도록할게요수고많이했습니다',\n",
       " '반갑습니다',\n",
       " '우리는지금삼각비뜻에대한중단원마무리함께하고있습니다',\n",
       " '오늘은그세번째시간중단원마무리세번째시간에이제점점난이도가올라갑니다',\n",
       " '오늘함께공부할내용바로레벨삼입니다',\n",
       " '선생님이조금전에이강의를시작하기전에혼자중얼중얼책을보면서이야기한게있는데요이런수학많이어려워져서이런얘기를했어요자우리문제가조금일난이도있어요오늘다른문제가그리고여러분들께서이문제를정도해결할수있다면학교시험에서백점을맞을수있지않아굉장히어렵게나오늘학교라면좀다르지만일반적으로대부분의학교를이레벨삼일을해결할수있는여러분들의실력이라면학교시험을쉽게해결할수있지않을까하는생각이그리고이레벨삼가더불어서서술형으로중단원마무리까지오늘함께보도록할건데요이서수정같은경우에는특히수행평가로여러분들이많이보게되죠그러기때문에아따라하는거보다',\n",
       " '자이십사번문제중단원마무리이게마지막문제죠함께보도록하겠습니다',\n",
       " '수학같은경우는이서술형대비문제선생님과함께풀이방법더나가는방법중요하게적어야포인트등등에대해서알아보면서한번선생님하고중삼수학끝냈어자첫번째문제부터시작해보도록하겠습니다',\n",
       " '함께시작해보도록하겠습니다',\n",
       " '선생님이항상중단원마무리때는좀잔소리를해요원래여러분도반드시내면삼문제혼자처음에도전하기어렵습니다',\n",
       " '총이십오번서부터삼십번까지육문제가있죠이육문제를일문제당오분오르게삼십삼십분정도잡고여러분들께서한번해보세요그냥슥봤는데당연히안풀리죠보고안풀리고쓰고안풀리니까별표별표별표해놓고그냥강의봐야지이런마인드말고요한문제오분이상여러분들이신경써봤음하겠습니다',\n",
       " '왜냐하면그냥학생이니까그래야되는게아니라이한문제를만들어낸분들이분명히있겠죠출제하시고만들고이분들은여러분들처럼오분오분만에문제만들었을까그건아니에요훨씬더긴시간을투자해서한문제를만들고그문제에수학적오류가엄마또검토하는여러분들이계시고이렇게귀하게한문제만들어진겁니다',\n",
       " '여러분들이한오분생각했으니까최선을다했어요건최선희아니에요원래는십분이십분도생각해야되지만우리가지금바쁘잖아여러가먹고공부해야되고그래최소한오븐을선생님이이야기하는겁니다',\n",
       " '이렇게저렇게보조선들도그거보고이렇게그림을책을한번돌려서줘봐보세요보일겁니다',\n",
       " '그래서이여서중에최소한절반이상은해결을하고그리고선생님을만났으면하는게선생님의바램입니다',\n",
       " '일단그런노력도여러분들에게좀필요한파트고요그리고강의를한번듣고나서위에안돼뭐이렇게복잡해선생님훈련이너무어려워요이십오번문자하나도몰라요질문올리면하나도모른다',\n",
       " '그래서선생님이설명중에어느둘이잘이해가안됩니다',\n",
       " '몇분몇초에삼정이해가안가요거기서왜그렇게돼요저는요기까지는이해했습니다',\n",
       " '이렇게여러분들이정확하게질문선생님이더친절하게더부연설명해서답변을드리도록할게요이게우리가함께공부하는방법입니다',\n",
       " '저쪽자첫번째이제시작해보겠습니다',\n",
       " '그림과같은직사각형모양의에이비씨디를갔다가직사각형모양의종이가있었는데네가사접어서비우도록요기피클을접는선으로해서요렇게잡았단얘기야충분히잡았습니다',\n",
       " '그렇게접었을때이가게크기를엑스도라고했어요응그럴때사이넥스사이넥스삼각비구하리네상각비는우리가아는딱하나기억하면되죠무슨삼각형직각삼각형을직각삼각형의엑스이삼각형이아니에요조금공부한친구들이랑이거이등변삼각형이이건기억나요할수있다',\n",
       " '요기까지가일반적으로여러분들이할수있는거죠중요한건저엑스를기준값으로놀수있는직각삼각형을만들어야돼요그얘긴안보이잖아우리가직접만들어야돼뭘거야돼보조선뭘만드는데직각삼각형을만드는보조선을긋는다가포인트에요그러면어디있을까뭐이렇게해놓으면되겠다',\n",
       " '한번이렇게커보도록할게요이렇게요점을에이치라고잡아보겠습니다',\n",
       " '자그러면여름도눈크게뜨고보세요삼가형티큐에이치는무슨상가평직각삼각형등장을했죠오케이그러면선생님이제사이넥스라는거기종각에서마주보이는별이높이고이게편이니까피큐브네차는답이요오케이피큐보내피오피큐브메이트이거해주면되는거야그리고하면돼근데굉장히신나죠해결이돼왜이리모여유기질디씨하고같이유비야그러니까이문제는선생님결국피카츄를구하는게핵심입니다',\n",
       " '나하고여러분들이설명을옮겨갈수있으면되겠죠최초로좀도대체어떻게할거냐봤더니요직각삼각형에서의빗변이네그러면우리는나머지두번을알면돼이게뭐라고유비네그러니까누구랑있는데아피클을구하라내게는되고씨가우리의다시좀더하나더들어간핵심이되는구나선동비씨마이너스칠십구하란얘기구나용기를선생님이잠깐가게쓰라고되어있으니까요기를소문자에이다이렇게한번잡아볼게요나저기하면돼이것만하면해결될거같아그냥피타고라스정리쓸수있어한번생각해보자이제여기까지가고서그림은살짝지역에서보도록할게그럼우리는요괴를어떻게할거야여기를일단은여기아니면좋겠네그저그럼피에이치또갈수있어갖고일단구할수있는거가봅시다',\n",
       " '피디가얼마십그럼저거쓰니까피비가똑같이뭐가되고싶니되겠죠그리고요길이가육이니까육일이가요그러면피타고라스정리해서이게할수있습니다',\n",
       " '얼마예요습하고유빈이가루트십이마이너스육마이너스삼십육십사루트육십사달용돈은우리레벨쓰니까살짝암산으로가겠습니다',\n",
       " '얼마예요습하고유빈이가루트십이마이너스육마이너스삼십육십사루트육십사달용돈은우리레벨쓰니까살짝암산으로가겠습니다',\n",
       " '스케이트에서타올라스정이피큐에기린빗변이니까루트이곱하기사제곱엑스제곱더하기육칠이영사육십육에삼십육을루트사십오루트사십을사곱하기십십이다나았습니다',\n",
       " '반갑습니다',\n",
       " '앞유리가이루트집이니까이루트삼/육은약불에서루트삼의답인데유리십까지해주시면루트삼분의이에이이일부터심리적십분의삼노트식십분의삼루트십이렇게여러분들께서사이넥스의값을구하시면되는문제야보세요선생님여러분들께강의를하기위해서순수풀어나가죠그래도오분걸려요오분생각해서이문제가답까지나오지도않아요처음에내가그만큼시간투자를하셔야되겠습니다',\n",
       " '자이제다영이십육번문제보도록할게요근데사실오늘내뱃속에서이게제일어려워나머지는괜찮아요한번보도록할게요오른쪽그림과같이보물섬아이는마이너스엑스제곱플러스사회복지점을팔이라고했고그다음에에이엑스이십오점을닭갈비야것이라고했습니다',\n",
       " '삼각형에이비씨에대해서싸인싸인비이비아이요거요거요거그러면당연히첫번째그가글게생각을할수있는직각삼각형을만든올거야돼고조선과해줘에이에스업체이렇게쓰던거같습니다',\n",
       " '역시수선의발에이치이렇게놓고시작해볼게요아나는여기에서따질거야그러니까싸인탄젠트구하겠다는이래기변도알아야돼에이오에이지도알아야돼에이에이치또알아야돼이말이있네그죠근데여기선생님이강조하고싶은건여러분들께서지금선생님추가우빈아질문답변오면상을들으면서동시하루는친구들이있다',\n",
       " '보니까루트가뭔지도잘모르는친구들이있고여기서영도이차함수자나이거지금상황에마지막다니기때문에이차함수의대한걸여러분께서지금이문제를풀어야따라올수있습니다',\n",
       " '일단가볼게요사인비구탄젠트비니까아이들이이기리이기리다필요해그럼그러면이폰안에서우리는먼저몰고갈거야에이의자표꼭짓점을자필요하겠죠꼭지점에좌표구하기위해서는와인은마이너스엑스제곱플러스사이클을완전제곱식상수항이붙어있는형태로우리가고쳐이창진사람들공부를돼있어야된다는얘기야밑줄친세계일위얼마이제곱연애하면엑스마이너스이의제곱이없고그다음에마이너스사는곳펼쳐서플러스사로나오기때문에결국꼭지점의좌표를이천사달라는거알수있습니다',\n",
       " '그러면순식간에사시끝나요이건방구할수있으면끝나왜아영에서일까지의거리니까결국오에이치길이가이란얘기고에일치기는영에서사까지니까요기가사부다',\n",
       " '이십이번입니다',\n",
       " '저쪽자첫번째이제시작해보겠습니다',\n",
       " '그러면요가그레잇오라고했으니까싸인루트오분의일바로갈게요이따더하기코사인에이는루트오분의기적결국계산하면루트오븐에뭐가된단얘기야루트오분의삼이된다',\n",
       " '여기까지여러분들께서답을구해주시면되는겁니다',\n",
       " '요금제는이차함수의꼭짓점은여러분들이구할수있으면주황색부분만공부가되어있으면나머지어렵지않은유용했습니다',\n",
       " '이제다문제이십칠번문제로들어가볼텐데이십칠번문제도오늘선생님이딱어려운데두개를뽑아라그러면첫번째이십오분같이문제입니다',\n",
       " '이문세가어려운일을일단읽고서설명을드리고풀이를하기에전에우리가꼭짚고넘어가야될때문자한번생각을해볼게요각시가구십도인직각삼각형은맨날나오는말이야근데여기서에이씨비디씨요렇게세개의길이가갔다는얘기야사로그다음에욕하게크기를내쓰라고해서이게무슨사각형삼각형의산내가그래쓰라고했는데그것을삼각비를봐라내가탄젠트엑스를클났다',\n",
       " '왜둔각삼각형에서사각뿔구하는방법몰라뭘만들어야돼직각삼각형을만들어야되나뭐라고요직각삼각형을만들어야돼직각삼각형그러네직각삼각형을만들기위해서우리는어떻게할거냐첫번째이렇게그는방법도있겠죠이렇게그저탄젠트있으니기분이이일이야이거굉장히어렵습니다',\n",
       " '선생님보고지금하라고해서좀어려워우리는이방법말고이엑스를한내각으로하는직각삼각형을만들수있는또다른방법은이생각을못해서안풀려요이문제가되나요첫번째는탄젠트엑셀버렸으니까엑스에대한엑스가바로한내가김현석이중가긴직각삼각형을만들기위해서이걸뽑아낼수있어이문제에출발점이되는거야이걸못그래서우리가못풀어아셨죠한번받으시면됩니다',\n",
       " '하면된다',\n",
       " '하면된다',\n",
       " '저가게쓰는기준과그러면직각삼각형을뽑아내는되나요이렇게안걸려서저걸여러분들이한두번만약에내가시험때좀공부해보고싶어삼각비잘하고싶어요거두번만찾아보세요다풀어보시면더좋고최소한아이들이너무이렇게보던거썼지라는걸어떻게기억해야지어디가그저오케이이렇게해주시면되겠습니다이문제여러분들과함께지금살펴보니문제바로오늘약속문제였어요아셨죠반드시여러분들다시한번이십오번가그다음에이십칠번문제꼭확인부탁드리겠습니다',\n",
       " '여기까지여러분들께서답을구할수있겠죠다들수박이삼각비반드시감기가돼있어야되고요다음문제보겠습니다',\n",
       " '다음으로이십팔번문제들어가보도록할텐데요이것도처음에그림보면좀무섭죠중삼때이거봤던기억이나면안지났기때문에이문제를딱봤을때선생님도못풀었어요여러분들날때는못풀었는데지금풀수있는이유는뭘까여러번풀어마세요보겠습니다',\n",
       " '세로의길이가육인직사각형에이비씨디정삼각형의들어있습니다',\n",
       " '여러분들이헷갈리지말아야되는건이세정삼각형이합동은아니누구하고누구만합동양끝에있는둘만합동해야되나요보세요욕을한병엔육만이천육백육십육정사각형이다육이야근데이게아니라고좀좀헷갈릴수있어요그림에서봤을때하지만이게생각해보면이길이가욕을아니야왜이게유일한이게이게유일한얘기잖아근데어떻게표를육보다',\n",
       " '당연히그러니까삼각형의합동이아니기때문에여러분들이절대로첫번째삼시합동이다낫고놓고시작하면이문제를맞출수가없습니다',\n",
       " '이직사각형의가로와애기는어떻게갈거냐그럼우산가져와볼게요이렇게누른당연히뭐가될까당연히합동되겠죠합동될겁니다',\n",
       " '내려면요번에기대하고유플레이가같아둘다직각삼각형이야그럼어떻게됩니까요게육십도조금요가기삼십도이박스왜또삼십도그러면삼각형을해서한변의길이가양끝각한변의길이양파까기같으니까에이에스에이합동입니다',\n",
       " '결국이측사각형의가루의길이라는것을이리와이길이가같을것이기때문에팔기를구해서이배주면된다라고이문제서부하고자는걸이거정리할수있어야된다니까두배어떻게할거야왜이게얼마입니까유비야몇도자직각삼각형나왔고기준가게대해서밑변주어졌고빗변을구하는이야기니까삼각비코사인삼십도끝됐나요자꾸싸인삼십도문의보여팔분의밑변코사인삼십도이분의루트삼루트팔기가육이십이곱하기루트삼으로나누겠습니다',\n",
       " '루트삼분의집이니까유리하게해서루트삼의루트삼곱해보면삼분의이십이는사적오케이사루트삼끝답은뭐야에이지가그거두배의주면된다',\n",
       " '무슨삼각형이등변삼각형이다',\n",
       " '그랬죠정답은팔루트삼단위까지여러분들이붙여주시면되겠습니다이문제에사람들이제일싼거뭐라고요첫번째세개정삼각형의합동이다로출발하면절대로안된다는거그다음에우리가에이치하고지내길이가같다라는걸이주삼각형의합동님을위해서보이스있어야되겠고결국직사각형의가로는삼각형의빗변의늙어서이배줌안된다는거그리고여기는삼각형에서피타고라스정리를써준다',\n",
       " '다음문제십구번문제로들어가보도록하겠습니다',\n",
       " '자기이십구번문제또한굉장히유명한문제여여러분들이아마저지금마지막문제를요리를보면사각형으로보라색사각형의넓이를구한아니거든이게무슨사랑사다리꼴이네이분의일곱하기아랫변더하기있던곱하기높이또래삼각형이비에스삼각형치히로빼면됩니다이정도느낌을가질수있을거예요맞죠뭘해도상관없어방법이이걸굳이두가지가있다라고말하지않겠습니다',\n",
       " '걸알수있죠그러면이제뒤꿈치묘삼가격디브이에이치바라보겠습니다',\n",
       " '삼십번대한변의길이가정사각형에이비씨디에서전비를중심으로하여반지름의길이가일인샵은원있습니다',\n",
       " '삼십번대한변의길이가정사각형에이비씨디에서전비를중심으로하여반지름의길이가일인샵은원있습니다',\n",
       " '여기까지여러분들이가면이제누구만거하면돼요요기하면끝나는거요거어떻게갈거냐이거우리가안에있는삼각형하고밖에있는삼각형의닮음이라그랬잖아그래서아그러니까결국야우리요괴기가육대사니까닮은비는육대몇대십이내죠금요일이야비육백십이비육백십이일해야돼아뭐라고요육백십은누구누구나팔때뒷아그러니까지금삼대오잖아그럼그럼외도상대이가예약칠오팔사디이에이디는뭐가된다',\n",
       " '사쌍이크다',\n",
       " '그래서그러니까이분의일더하기일은이분의이적이분의일더하기이분의일이분의삼이다',\n",
       " '바로삼분의사십이단걸여러분들이구해주시면이문제는끝나는겁니다',\n",
       " '바보있어요이제우리넓이바로가보겠습니다',\n",
       " '이분의일곱하기아랫변더하기윗변삼분의사십더하기팔곱하기높이높이얼마차있으면끝난다',\n",
       " '여기까지여러분들께서답을구해주시면되는겁니다',\n",
       " '요금은이것만이쪽으로오면어렵지않았습니다',\n",
       " '처음그림만보면헷갈리고이십오일다시한번강조하지만이주문제가좀어려운형태입니다',\n",
       " '저이제우리내뱃속에마지막문제상습범대로들어가보도록하겠습니다',\n",
       " '삼십번대한변의길이가정사각형에이비씨디에서전비를중심으로하여반지름의길이가일인샵은원있습니다',\n",
       " '그리고요렇게삼십오도만큼올라갔어에스아이알아이랑같은거아기가막히는데나왔어요길이필요할어떻게할까당연해요누구야이아래서깊이를뺏겼다는비알마이너스피아뭐라고요비알마이너스깊이를할거야이거밖에방법이없어이리편할수있는건그게지금누구예요구하고자하는피알입니다',\n",
       " '됐죠근데기피는또기가막히지얼마예요길이반지름일이잖아이문제는결국뭘구하라내기로바뀌는거야비아래길이를구하는거뭐나비아래글이그걸로바뀌는거죠비에이길이는근데뭐지아그런데잘보세요선생님시간은요욕인데요길이는요요길이가지금일이니까큰삼각형에서따져야될거같아요이생각을먼저해야지그러면비알분의일이집염분에네편이니까잘보세요이거미리받아쓰지마세요코사인삼십오도가비알비알일입니다',\n",
       " '그래나는비아리뭔지알고싶어양변에비알코사인삼십도는않으면결국피아를뭐가되냐면코사인삼십오도블랙일이다',\n",
       " '여기까지좀생성해줘이러면돼그러기때문에요자리에대입해보면결국뭐가된다',\n",
       " '코사인삼십오도분의일마이너스일위죠일이라는거같으면되니까코사인삼십오도분의코사인삼십오도이렇게해주는거야이게뜨잖아그럼보통분데스리가하나로서지금코사인삼십오도분의일마이너스구찾아보세요몇번에있습니까바로사번에있다',\n",
       " '이렇게답을구하는유형입니다',\n",
       " '이분데도예랩에스디선생님이계속문제풀때마다이문제가어렵다',\n",
       " '있는지어렵더라고말해서조금미안하긴하지만다른문제에대해서는지금삼십문제좀난이도가있고요왜냐하면우리는지금사인코사인항상작은거탄젠트같은거이렇게배웠잖아그래서하나의변의길이가삼십일나타내는방법으로근데이렇게역수로표현될수있는상태를큰삼각형에서주로나오기때문에여러분들께서일반적인문제는작은삼각동갖고따지지만이런형태로좀예외잖아요그럼이런형태로여러분들이기억을해주셔야되겠습니다',\n",
       " '내벨소리를이제마무리를하고요우리서술형중단원마무리시작해보겠습니다',\n",
       " '자기서술형풀이를여러분들께서직접섬에사는연습반드시하실수있어야되기이것이수행평가에도움이된다고말씀드렸습니다',\n",
       " '제가서술형중단원마무리첫번째예제같은경우에는교재를보면이렇게내못박스로되어있어요가볍게한번가보도록할게근데인도에서삼각근에이비씨넓이를구하는게최종나머지문제조건은다그림의편이되어있습니다',\n",
       " '차례대로내일층에서따라가도되지만구하고자하는게뭘까생각해보면삼각형넓이이분의일곱하기육영영영곱하기높이가낮아서나는비씨브이오에이치구하고싶은거야그죠아여기서할거래비씨를구하고싶은데피에이치가있으니까스위치를뭐야되겠구나여기있네그래서해결하는거구나이렇게얘기해서래느낌을일단알고풀이를쐬러가야되겠죠탄젠트육십도는삼각형에서왜에이치피하고싶으니까알고있는게아니잖아높이를구하고싶어그러니까탄젠트육십도가됐나요디에이치에이치에이치에이치에이치영칠백일어떻게돼탄젠트육십도가근데얼마루트삼이잖아그저양변에이루트삼배수연에이에이치는루트삼곱하기이루트얼마가되니까이루트삼곱하기이삼월에주면요게사회자가해서육이다',\n",
       " '이렇게구할수있는거야그다음에여기에서이제씨칠백십구할거죠우리사십오도를기준으로보면밑변을알고싶고높이가나와있어밑변불에높이탄젠트사십오도씨에이치그래요근데탄젠트사십오도일분문자같으면되네얼마사실요즘있죠요즘같은경우는사십오도구십도면이것도사십오돌아서직각이등변이니까이게육일하는일이또바로육일돼요캐리같으니까요즘은생략하셔도상관없습니다',\n",
       " '그래서그러니까이분의일더하기일은이분의이적이분의일더하기이분의일이분의삼이다',\n",
       " '그래서결국삼각형의넓이는이분의일곱하기피니까미변의길이가이루트삼더하기육그저높이가얼마나높이가육써준거죠그래서이번에휴가끝나면상대고여기에서이걸붐벼서싹다풀어서육루트삼더하기육삼십팔이렇게있어도되고요아니면여기서육월빼내서루트삼더하기삼이렇게이거열어줘공부하셧죠상해서그러면충분히여기까지여러분들이뽑아낼수있을겁니다',\n",
       " '이제바로이어서선생님이다음문제로들어가보도록할게요다음죄를우리이렇게사다리꼴이주어져있습니다',\n",
       " '자보겠습니다',\n",
       " '선물에이디오비이씨씨가평일해요이렇게둘이사다리꼴에서삼십도삼십도뭐야등변사다리꼴의하셔이등변사다리꼴에서사각형에이비씨디넓이를구하시오라는게지금문제입니다',\n",
       " '뭘하란얘기야사다리꼴변의길이그다음누구높이이거봐라내가그러면우리는알아요선생님등변사다리꼴풀이는나중에때도있었지만이렇게그거보면결국여기가어디예요욕이라는건예약을내가같으니까결국하나구해서전체식노트삼에서이번빼주면예나와요그저기이렇게풀어야겠다라는느낌을입적요정을갔다가요점을에이비씨디이에프이렇게한번잡아볼게요그럼첫번째로우리뭐할거야사다리꼴의넓이그리고누구누구할거야할거야빗변을알고있고밑변을고높이를보고싶으니까첫번째는코사인삼십도가야되겠죠알아볼게요코사인삼십도는팔분의비이적팔분의비오니까팔일이면비이길이는결국팔곱하기코사인삼십도가되니까사루트삼이달라는걸구할수있습니다',\n",
       " '비가얼마나고요이쪽바로봅시다',\n",
       " '얼마똑같이사이삼에이는누굴이용하자탄젠트를이용해서되고싸인을이용해서되겠죠부평있었으니까싸인삼십도가팔분의에이잊어그러니까팔일주면에이이사팔싸인삼십도싸인삼십도이불에일이니까결국사나오겠죠요리사에이디디하는게이제피엘디어떻게돼사백삼십삼두번째빼니까십육마이너스팔은어떻게됩니까넓이밑에가서볼게요이분의일곱하기아랫변더하기윗변루트삼더하기이루트삼은얼마바로합시다',\n",
       " '십일일사미자십더하기니까높이얼마사계산해주시면끝나서육사이십사루트삼제곱씨미터다여기까지여러분들께서답을구해주시면되는겁니다',\n",
       " '여기까지여러분들께서답을구해주시면되는겁니다',\n",
       " '이렇게여기사다리꼴까지한번넓이구하는거같고요일번문제없어오른쪽에서시작해보도록하겠습니다',\n",
       " '사실은지금부터프로문제보다',\n",
       " '예지하고지금유재있었더니두문제있죠앞에거하고이문제두개가더중요해요그런데많이출제됩니다',\n",
       " '이제보니일번문제는사실어렵지않지뭐예요한마디로다섯글자그대로벗기기세상에서하나공부했을거예요루트없어지면뭘로바뀌어절대값으로갈게요맞죠이렇게갈거고그다음뒤쪽도제곱루트없어지면서절대값으로갈게요저이제할일은두번째절댓값알이십보다',\n",
       " '크거나같으면그대로나고영보다',\n",
       " '작으면음식그얘기를해탄젠트엑스의값을범위가어떻게되냐알아야되는데엑스가이렇게돼때문에자이걸써줘야죠탄젠트엑스의범인은영보다',\n",
       " '큰태고사십오도일대얼마일이게들어가야서울역에서아셨죠이조건이들어가있어그얘기를해요게또일이잖아탄젠트사십오도일잘보세요그럼중요한포인트는뭐야얘는영보다',\n",
       " '크고일보다',\n",
       " '작은값에서일을더있으니까양수야이게뭐야얘는뭐좀하나줄게영점오라고해보자그냥영점오마이너스일이뭐야마이너스야은수야라는게포인트에요그러면절대아니야그냥나온다',\n",
       " '그랬어그냥그대로쓸거야요카이써볼게요절댓값아니음수이면불을바꿔버린다',\n",
       " '플러스마이너스탄젠트엑스마이너스일은플러스이렇게됐지탕정이엑스더하기마이너스탄젠택스는없어질되고일더하기일이니까이문제의답은이가된다',\n",
       " '이렇게답을구하시면되는겁니다',\n",
       " '이제다음문제로이번문제들어가보도록할텐데요직선딱하고나와있는이식에서우리는삼십도사십오도영도사인코사인탄젠트바로숫자로바꿔보면마이너스이분의일엑스되겠죠더하기탄젠트사십오도이러니까그대로코사인영이일이겁니다',\n",
       " '그럼여기서마일은뭐라는걸할수있어이분의일엑스더하기일자여러분들기억하실겁니다',\n",
       " '아마이린니블리렉스플러스이래그래어떻게생겼냐하면와이절편이주기때문에왔죠일이고엑스절편이얼마마이너스이부그러면결국요직각삼각형에서밑변이이고높이가일이면빗변을피타고라스정리해서옵니다',\n",
       " '그러면요가그레잇오라고했으니까싸인루트오분의일바로갈게요이따더하기코사인에이는루트오분의기적결국계산하면루트오븐에뭐가된단얘기야루트오분의삼이된다',\n",
       " '유리의주시면오분의삼루트오다',\n",
       " '여기까지여러분들께서답을구해주시면되는겁니다',\n",
       " '이제다음대로우리삼번문제한번들어가보도록하겠습니다',\n",
       " '함께시작해보도록하겠습니다',\n",
       " '그림이지금무슨생각하고계십니까둔각삼각형부인에게여기서에이비에이길이를구하는게문제입니다',\n",
       " '그림이지금무슨생각하고계십니까둔각삼각형부인에게여기서에이비에이길이를구하는게문제입니다',\n",
       " '우리마지막문제로사번문제한번들어가보겠습니다',\n",
       " '요금은이것만이쪽으로오면어렵지않았습니다',\n",
       " '사범대그림과같은직각삼각형에이비씨디에서빗변이십이억악비가십칠도요다음이벤트를이용해서삼각형둘레길이뭐하란얘기야요가알고있으니까비씨브이오에이치봐라내가맞죠그래야둘레를구할수있습니다',\n",
       " '자비스를구하고싶어어떻게하면돼혹시십칠도를이용하면돼그리고삼각비표를봤어요십칠도있어없어없어요뭐해요지금칠십이뭐야이거왜이렇게돼요이게십칠동이게십삼도가야지백팔십도나오니까그러면이거를기준으로봤을때비씨는높이니까싸인칠십삼도가오분의모란얘기요첫번째십분에비씨오케이그러니까비치는양변에십퍼센트해주면십사일칠십삼도싸인칠십삼도영점구오육백삼십이결국구점오육십삼이렇게할수있다는기사두번째이제끝났고에이씨의그리고하고싶어칠십삼도룡할래빗변알고있어코사인칠십삼도두번째코사인칠십삼도네똑같아요십분에누가내십분의양변에십배주면에이스는결국먹어야된다',\n",
       " '십코사인칠십삼길십삼영점이구사그러니까십배에서이점구이사여기까지갈수있다는점그러니까결국둘레길이는세개나더해주면되네누구하고싫다고습하고비싸고에이스구점오육삼가이점구이사를모두더해주면됩니다',\n",
       " '요것만좀귀찮긴한데이거선생님이계산을해보면이이점사팔십칠이렇게검색에서답까지가주시면되겠습니다',\n",
       " '이렇게서울이삼각비의뜻에대해서이제다마무리가되었습니다',\n",
       " '삼각형넓이하고그다음에사다리꼴의넓이구하는이문제가페이지에서는핵심이될거고요그다음에삼번문제좀있었던사분원에서옮겨서보는거요거필요하겠고내벨소리는사실어느한문제도소리하고싶지않습니다',\n",
       " '레벨십이상세미차근차근설명했어요다시한번꼭여러분들삼번은반복해보자되겠습니다',\n",
       " '수업용정리하고마무리합니다',\n",
       " '선생님오늘큰애눈썹입니다',\n",
       " '사분원에서생각되는데요집화처리있네안쪽으로옮기는누구랑같이가고팔이랑갔죠그러기때문에우리는오에이분에오비오이길이가일이니까오비가됩니다',\n",
       " '자꾸생일도마찬가지로쪽으로오시면똑같이오에이비옮겨서결국코사인엔오팔십팔이니까바로베이비가된다',\n",
       " '오늘숙제밑에보있어반드시또함께선생님하고통화하고있으면서만나도록합시다',\n",
       " '다음시간새로운단원에서여러분들찾아뵙겠습니다',\n",
       " '수고많이반갑습니다',\n",
       " '반갑습니다',\n",
       " '우리는지금삼각비의대해서함께공부하고있는데요지난시간까지우리삼각비뜻을관련돼서중단원마무리까지몽땅다마무리를했습니다',\n",
       " '이번시간부터는굳이우리가말로하자면삼각비활용이라고불리우는작은중다음에또다른시작점에여러분들은지금서있고요인시작점에서바르게출발하려면당연히앞에뵈었던삼각비의뜻파트를정확히알고계셔야됩니다',\n",
       " '오늘우리다음시간까지여서길이구하기라는것을공부할거예요그럼당연히뭐이길까삼각형에서변액백십구하겠다',\n",
       " '오늘공부한내용은특히직각삼각형에서의변의길이를구하기함께보도록할텐데요선생님이개인적으로이런설문을조사해본적이있어요어머님들께사십대대신어머님들께수학을언제부터손님오셨어요라고할때굉장히많은분들이이사인코사인탄젠트나오면서부터하면서수학을손오셨다고부모님들이그렇게말씀들을많이하셨어요특히어느부분서부터라면사인이빗변분의높이다',\n",
       " '코사인의빗변분의이별이다',\n",
       " '여기는다들잘따라오셔네바로오늘부터공부할삼각비활용파트에서다들사길하십니다',\n",
       " '예전에그러셔왔고여러분들의선배들도이부분에서부터더많은수확을학생들이생겼습니다',\n",
       " '여러분들은지금선생님을만나서강의를듣고있죠선생님이강의를엄청잘해서가아니라여러분들이어떻게하면잘할수있는지선배들내실패했는지를정확히알고있기때문에여러분들은그슬패기로빠지지않게할거예요선생님안믿고오늘따라오시면되겠습니다',\n",
       " '앞으로몇시간에걸쳐그래요외우지만버려하는것도사막에버리셔도됩니다',\n",
       " '아셨죠중삼삼삼갚기특히천재인가않게끝냅시다',\n",
       " '자오늘은개념이특히나딱한가지입니다',\n",
       " '잘보세요선생님큰삼각형에서쌓이고쌓이다',\n",
       " '여름좀확실하게끝낼거야오늘직각삼각형에서의변의길이민아직각삼각형에변이몇개있습니까세개있죠값도세개가있죠그중에집값빼고나머지둘중에하나가기준각입니다',\n",
       " '여기까지여러분들이슬슬얘기할수있을거예요그럼우리가오늘날주제가뭐냐면위삼각형에서어떤조건은주어져있고무언가는안줘도있어예를들어보면가격이랑비는줘되어있는데그걸갖고씨하고애인을구하려면가게가씨가좋아서있고비아그라일을말해가게에하고요길이가젖어있고시은아뒤를구하래이거하겠단얘기야직각삼각형세변의길이를단각하고다른변화는주어져있다',\n",
       " '그얘기야근데왜여러분들이이걸수학을여기서부터어려워하냐면선생님도매운거굉장히못했거든요공식암기이런거굉장히못해서무작정나오거든요머리쪽에한개가있죠막많이들어가있으면나중에헷갈리잖아그죠책읽으면이게깨알같이써져있어요놈들책한번보세요교과서도마찬가지고우리유령배도부르고마찬가지입니다',\n",
       " '신청인은문제집도에이는비싸인에이고씨는비콘가격이랑비를할때이거랑빗변을하면높이는빗변곱하기사인기준가기고밑변은뭐야빗변곱하기이거어이거뭐야떠듬떠듬이걸그래서간신히머리속에넣는데시험때이게딱걸리지않죠책에보시면여러분들다음에이렇게입고이렇게있어여기선생님지금비와왜냐하면매우지아나도이거채울수있어샘하고같이그래서이해하는파트입니다',\n",
       " '이걸왜오려고하니까우리가싸가지없는거야그냥문제도뭐라그러냐면내용은이거요일일가게그게변의길이를알면하녜가게크게하고비든슬레이든알면나머지구할수있단얘기야나머지두변의길이를구할수있다',\n",
       " '이문제있어이렇게돼서첫번째개념은이렇게되어있어요가게일을알고있고빗변의길이를알고있대근데생각해보니까우리이거몰라요지금잘봐요내가애인을구하고싶다',\n",
       " '이문제있어이렇게돼서첫번째개념은이렇게되어있어요가게일을알고있고빗변의길이를알고있대근데생각해보니까우리이거몰라요지금잘봐요내가애인을구하고싶다',\n",
       " '이분의일이삼이적그럼이건얘네들자리바꿔서성립하지회의는삼분에만나요이는삼분해요됐나요똑같은거야얘기가아니라양면이부삼부로나눠서아니근데그게복잡하니까분수하고어떤정숙아같아이영필때둘이바꿔버리면돼마찬가지로이를바꿔버리면비는코사인의보내시고자주쓰는겁니다',\n",
       " '이분의일이삼이적그럼이건얘네들자리바꿔서성립하지회의는삼분에만나요이는삼분해요됐나요똑같은거야얘기가아니라양면이부삼부로나눠서아니근데그게복잡하니까분수하고어떤정숙아같아이영필때둘이바꿔버리면돼마찬가지로이를바꿔버리면비는코사인의보내시고자주쓰는겁니다',\n",
       " '근데이부분을여러분들이하니까자꾸포기하게돼요아셨죠외우지않고이에서따라오시는겁니다',\n",
       " '여기까지내용에대해서개념확인문제바로한번들어가보도록하겠습니다',\n",
       " '여기까지내용에대해서개념확인문제바로한번들어가보도록하겠습니다',\n",
       " '여기까지내용에대해서개념확인문제바로한번들어가보도록하겠습니다',\n",
       " '여기까지내용에대해서개념확인문제바로한번들어가보도록하겠습니다',\n",
       " '선선하고직접확인해보러가야되겠죠자우리기본적으로예제먼저시작해보도록하겠습니다',\n",
       " '나진짜로학교시험수술해예제문제애들도요새문제들도우리가진짜안해보고덮을수있는함께같이가보도록할게텐데요특히이런건왜왔을때못풀어요공식을왜왔을때얘를했다면우린해결할수있습니다',\n",
       " '직각삼각형에이비씨에서삼십이도주워돼있고여기가쉴때다옳은것같습니다',\n",
       " '직각삼각형에이비씨에서삼십이도주워돼있고여기가쉴때다옳은것같습니다',\n",
       " '갔다',\n",
       " '그랬으니까에이미는싸인삼십이도보내실혹시이게선택제있나요한번찾아보세요에이비는싸인삼십이도분해식여기있죠일단정답일번나오는거예요되나요그럼또다른거봐볼게요선생님만약에여기서지금에이비씨도있으니까한번봐주세요비씨삼십이도를받고표현한다면밑변무네노피니까타이젠그죠탄젠트삼십이도감오분에모여비씨분해분해십선비씨를구하려면어떻게하면돼둘이바꾸면탄젠트삼십이도보내시라고되어있는걸찾으면돼요나와있지않다',\n",
       " '탄젠트오십팔돈은뭐분에볼까밑변무네노피니까십분의기적비씨는어떻게편대양변에옆에있으면십판젠트오십팔이렇게편할수도있어요그죠비씨는십아이고야오십팔삼십이도라고돼있죠이상택제가중요한게아니라이렇게여러분들이다양한변의길이를이각을준다',\n",
       " '다음주에우리이번문제이제실질적으로시험에서좀자주보게되네나무가이렇게번개벼락맞아가지고이렇게뚝떨어진그림이거많이나와여기서연속있대요오늘은지면에수직으로서있던그때월내리이렇게올라가있을때이만큼있었던게여기에이가뚝떨어져서우드닷컴떨어졌는데지점에서부터일칠점이지점에뒤끝저위에있던게떨어서떨어졌대올려다보는가기삼십일도를일하고있대그럴때문제에서바라는게부러지기전에기대에높입니다',\n",
       " '누구하란얘기야여기서부터차위에까지무슨얘기저위로갈거니까똑바로서있을때결국에이스에게이리와봐라내가이거세어보면그저아길이와에이비에이케이에이디에이불고하나로우리는문제를일단생각할수있어야되겠습니다',\n",
       " '그뭐냐삼십일도를중갑으로봤을때밑변을알고있는거고요금모여빗변을구하고싶어요뭐야네편보여코사인삼십일수도있죠아삼십일도가누구야누구야팔분의일칠점이잖아요그럼코사인삼십일얼마죠영점팔육팔십육만나요그러면요렇게이렇게뷔페보면팔십육에이씨가백칠십이곱하기백을해보면천칠백이십이렇게되겠죠그래서양변을팔십육으로나르면에이스얘기를팔십육분에천칠백이십천칠백이십/팔십육계산해보면이들어가면유에스비십육쥐비딱떨어집니다',\n",
       " ...]"
      ]
     },
     "execution_count": 168,
     "metadata": {},
     "output_type": "execute_result"
    }
   ],
   "source": [
    "data"
   ]
  },
  {
   "cell_type": "code",
   "execution_count": null,
   "metadata": {},
   "outputs": [],
   "source": []
  },
  {
   "cell_type": "code",
   "execution_count": null,
   "metadata": {},
   "outputs": [],
   "source": []
  },
  {
   "cell_type": "code",
   "execution_count": null,
   "metadata": {},
   "outputs": [],
   "source": []
  },
  {
   "cell_type": "code",
   "execution_count": null,
   "metadata": {},
   "outputs": [],
   "source": [
    "print(ws_removed_EBS.index(''))\n",
    "print(ws_removed_GOOGLE.index(''))"
   ]
  },
  {
   "cell_type": "code",
   "execution_count": null,
   "metadata": {},
   "outputs": [],
   "source": [
    "print(ws_removed_EBS.index(''))\n",
    "print(ws_removed_GOOGLE.index(''))"
   ]
  },
  {
   "cell_type": "code",
   "execution_count": null,
   "metadata": {},
   "outputs": [],
   "source": [
    "print(ws_removed_EBS.index(''))\n",
    "print(ws_removed_GOOGLE.index(''))"
   ]
  },
  {
   "cell_type": "code",
   "execution_count": null,
   "metadata": {},
   "outputs": [],
   "source": [
    "print(ws_removed_EBS.index(''))\n",
    "print(ws_removed_GOOGLE.index(''))"
   ]
  },
  {
   "cell_type": "code",
   "execution_count": null,
   "metadata": {},
   "outputs": [],
   "source": [
    "print(ws_removed_EBS.index(''))\n",
    "print(ws_removed_GOOGLE.index(''))"
   ]
  },
  {
   "cell_type": "code",
   "execution_count": null,
   "metadata": {},
   "outputs": [],
   "source": [
    "print(ws_removed_EBS.index(''))\n",
    "print(ws_removed_GOOGLE.index(''))"
   ]
  },
  {
   "cell_type": "code",
   "execution_count": null,
   "metadata": {},
   "outputs": [],
   "source": [
    "print(ws_removed_EBS.index(''))\n",
    "print(ws_removed_GOOGLE.index(''))"
   ]
  },
  {
   "cell_type": "code",
   "execution_count": null,
   "metadata": {},
   "outputs": [],
   "source": [
    "print(ws_removed_EBS.index(''))\n",
    "print(ws_removed_GOOGLE.index(''))"
   ]
  },
  {
   "cell_type": "code",
   "execution_count": null,
   "metadata": {},
   "outputs": [],
   "source": [
    "print(ws_removed_EBS.index(''))\n",
    "print(ws_removed_GOOGLE.index(''))"
   ]
  },
  {
   "cell_type": "code",
   "execution_count": null,
   "metadata": {},
   "outputs": [],
   "source": [
    "print(ws_removed_EBS.index(''))\n",
    "print(ws_removed_GOOGLE.index(''))"
   ]
  },
  {
   "cell_type": "code",
   "execution_count": null,
   "metadata": {},
   "outputs": [],
   "source": [
    "print(ws_removed_EBS.index(''))\n",
    "print(ws_removed_GOOGLE.index(''))"
   ]
  },
  {
   "cell_type": "code",
   "execution_count": null,
   "metadata": {},
   "outputs": [],
   "source": [
    "print(ws_removed_EBS.index(''))\n",
    "print(ws_removed_GOOGLE.index(''))"
   ]
  },
  {
   "cell_type": "code",
   "execution_count": null,
   "metadata": {},
   "outputs": [],
   "source": [
    "print(ws_removed_EBS.index(''))\n",
    "print(ws_removed_GOOGLE.index(''))"
   ]
  },
  {
   "cell_type": "code",
   "execution_count": null,
   "metadata": {},
   "outputs": [],
   "source": [
    "print(ws_removed_EBS.index(''))\n",
    "print(ws_removed_GOOGLE.index(''))"
   ]
  },
  {
   "cell_type": "code",
   "execution_count": null,
   "metadata": {},
   "outputs": [],
   "source": [
    "print(ws_removed_EBS.index(''))\n",
    "print(ws_removed_GOOGLE.index(''))"
   ]
  },
  {
   "cell_type": "code",
   "execution_count": null,
   "metadata": {},
   "outputs": [],
   "source": [
    "print(ws_removed_EBS.index(''))\n",
    "print(ws_removed_GOOGLE.index(''))"
   ]
  },
  {
   "cell_type": "code",
   "execution_count": null,
   "metadata": {},
   "outputs": [],
   "source": [
    "print(ws_removed_EBS.index(''))\n",
    "print(ws_removed_GOOGLE.index(''))"
   ]
  },
  {
   "cell_type": "code",
   "execution_count": null,
   "metadata": {},
   "outputs": [],
   "source": [
    "print(ws_removed_EBS.index(''))\n",
    "print(ws_removed_GOOGLE.index(''))"
   ]
  },
  {
   "cell_type": "code",
   "execution_count": null,
   "metadata": {},
   "outputs": [],
   "source": [
    "print(ws_removed_EBS.index(''))\n",
    "print(ws_removed_GOOGLE.index(''))"
   ]
  },
  {
   "cell_type": "code",
   "execution_count": null,
   "metadata": {},
   "outputs": [],
   "source": [
    "print(ws_removed_EBS.index(''))\n",
    "print(ws_removed_GOOGLE.index(''))"
   ]
  },
  {
   "cell_type": "code",
   "execution_count": null,
   "metadata": {},
   "outputs": [],
   "source": [
    "print(ws_removed_EBS.index(''))\n",
    "print(ws_removed_GOOGLE.index(''))"
   ]
  },
  {
   "cell_type": "code",
   "execution_count": null,
   "metadata": {},
   "outputs": [],
   "source": [
    "print(ws_removed_EBS.index(''))\n",
    "print(ws_removed_GOOGLE.index(''))"
   ]
  },
  {
   "cell_type": "code",
   "execution_count": null,
   "metadata": {},
   "outputs": [],
   "source": []
  }
 ],
 "metadata": {
  "kernelspec": {
   "display_name": "Python 3",
   "language": "python",
   "name": "python3"
  },
  "language_info": {
   "codemirror_mode": {
    "name": "ipython",
    "version": 3
   },
   "file_extension": ".py",
   "mimetype": "text/x-python",
   "name": "python",
   "nbconvert_exporter": "python",
   "pygments_lexer": "ipython3",
   "version": "3.7.6"
  }
 },
 "nbformat": 4,
 "nbformat_minor": 4
}
