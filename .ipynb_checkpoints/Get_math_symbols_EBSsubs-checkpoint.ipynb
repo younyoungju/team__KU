{
 "cells": [
  {
   "cell_type": "code",
   "execution_count": 16,
   "metadata": {},
   "outputs": [],
   "source": [
    "import re"
   ]
  },
  {
   "cell_type": "code",
   "execution_count": 17,
   "metadata": {},
   "outputs": [],
   "source": [
    "def EBS_dict(s, e):\n",
    "    pattern1 = re.compile(r'\\s{2,}') \n",
    "    pattern2 = re.compile(r'[가-힣.?,‘’]') \n",
    "#     pattern3 = re.compile(r'[ㄱ-ㅎa-z]{1}') # ㄱ,ㄴ ....a,b,c....\n",
    "    \n",
    "    dic = []\n",
    "    for i in range(s, e+1):\n",
    "        n = '{0:05d}'.format(i)\n",
    "        lec = 'lec' + n + '_EBS.txt'\n",
    "        dic.append(lec)\n",
    "        \n",
    "    texts = ''\n",
    "        \n",
    "    for _ in dic:\n",
    "        # 로컬 경로\n",
    "        with open('data/'+ _ ,'r',encoding='utf-8') as r:\n",
    "            texts += r.read()\n",
    "\n",
    "    texts = pattern1.sub(' ', texts) ## o\n",
    "    texts = pattern2.sub(' ', texts) ## o\n",
    "#     texts = pattern3.sub(' ', texts) ## o\n",
    "#     EBSDic = texts.split()\n",
    "    EBSDic = texts\n",
    "    return list(set(EBSDic.split()))\n",
    "#     return ' '.join(EBSDic.split())\n",
    "    \n",
    "#     return [_ for _ in set(EBSDic) if len(_) == 1] + ['sin','cos','tan']"
   ]
  },
  {
   "cell_type": "code",
   "execution_count": 18,
   "metadata": {},
   "outputs": [],
   "source": [
    "pat1 = re.compile(r'\\D+')\n",
    "pat2 = re.compile(r'[^0-9a-zA-Z]')\n",
    "pat3 = re.compile(r'[a-zA-Z]+')"
   ]
  },
  {
   "cell_type": "code",
   "execution_count": 22,
   "metadata": {},
   "outputs": [],
   "source": [
    "result = EBS_dict(1, 26)\n",
    "i=0\n",
    "for _ in range(0,len(result)):\n",
    "    got_symbols = pat2.findall(result[0])\n",
    "    got_alphabets = pat3.findall(result[0])\n",
    "    result.pop(0)\n",
    "    if got_symbols:\n",
    "        result += got_symbols\n",
    "    if got_alphabets:\n",
    "        result += got_alphabets\n",
    "    i+=1"
   ]
  },
  {
   "cell_type": "code",
   "execution_count": 23,
   "metadata": {},
   "outputs": [
    {
     "name": "stdout",
     "output_type": "stream",
     "text": [
      "{'A', 'BMN', 'ADC', 'OC', 'COD', 'MN', \"'\", '∠', 'OH', 'AHC', 'ABD', 'CBH', 'FA', 'DCB', '⅔', 'ba', 'D', 'AB', '⑵', 'cm', 'BHC', 'p', 'EDC', 's', 'POA', 'tan', '＜', 'X', 'AF', 'DC', 'HB', '⅓', 'K', 'cos', 'I', 'OMR', '⑴', 'ACH', 'AED', 'ABQ', '˚', 'AH', 'AA', '%', 'sin', 'QH', 'BD', '＋', 'n', 'BCH', 'BM', 'cosB', '√', 'EC', 'con', 'PD', 'r', 'O', '!', '-', 'ABH', 'CA', '×', 'P', '|', 'CQ', 'EBS', 'AM', 'CAD', 'B', 'w', 'h', 'ED', 'CBN', 'z', 'MBN', 'CH', 'DH', 'a', 'AMC', 'ADB', 'CAB', 'BHF', 'BIC', 'AOB', 'RSH', 'BAC', 'S', 'DE', 'EB', 'AO', 'k', 'x', 'CB', 'tna', 'L', 'PQH', 'BC', 'ABCD', 'C', 'PH', 'ACB', '…', '□', 'PS', 'ㄱ', 'MH', 'ACD', 'ab', '①', 'OB', '¼', 'DB', 'BH', 'ABM', 'km', 'BDH', 'sim', 'DBH', 'v', 'GD', 'b', '㎠', 'π', 'm', 'IBC', 'ASA', 'F', 'DAB', '⑤', 'EAD', 'AE', 'G', 'SAS', 'PB', 'BOA', 'RHS', 'AMH', 'HQCD', ':', 'BAH', '－', 'E', ')', 'BR', 'M', 'H', 'y', '≤', 'd', 'AD', 'ㄷ', 'CO', '＝', 'DCH', 'PR', 'BP', '㎝', 'OP', 'DMN', 'BA', 'AMN', '~', '²', 'BO', 'c', 'AG', '=', '㈎', 'BAD', '(', 'CD', 'BQP', 'PA', 'DAC', 'BE', 'AOC', 'DBC', 'CAH', 'sinA', 'GBC', 'ㅁ', 'xx', '+', '㈐', 'BF', 'tanA', 'CM', '③', 'PQRS', '′', '¾', 'OD', 'ㄴ', 'QnA', 'ABE', '△', 'Q', 'OA', '÷', 'ADE', 'N', 'BQ', 'ABC', 'OEF', '＞', 'OAB', 'AC', '½', '②', 'AQ', 'mx', 'ODC', 'BCD', '④', '㈏', 'AHB', 'HC', 'PQ', '㎞'}\n"
     ]
    }
   ],
   "source": [
    "result = set(result)\n",
    "print(result)"
   ]
  },
  {
   "cell_type": "code",
   "execution_count": 21,
   "metadata": {},
   "outputs": [],
   "source": [
    "result_ = ' '.join(result)\n",
    "result_"
   ]
  },
  {
   "cell_type": "code",
   "execution_count": null,
   "metadata": {},
   "outputs": [],
   "source": [
    "p = re.compile(r'[a-zA-Zㄱ-ㅎ]+')\n",
    "result_ = p.sub(' ', result_)"
   ]
  },
  {
   "cell_type": "code",
   "execution_count": 13,
   "metadata": {},
   "outputs": [
    {
     "data": {
      "text/plain": [
       "\"            ' ∠             ⅔       ⑵               ＜         ⅓         ⑴       ˚     %       ＋         √           ! -     ×   |                                                                           … □           ①   ¼                     ㎠ π           ⑤                   :   －   )         ≤         ＝       ㎝         ~ ²       = ㈎   (                         + ㈐       ③   ′ ¾         △     ÷           ＞     ½ ②         ④ ㈏       ㎞\""
      ]
     },
     "execution_count": 13,
     "metadata": {},
     "output_type": "execute_result"
    }
   ],
   "source": [
    "result_"
   ]
  },
  {
   "cell_type": "code",
   "execution_count": 14,
   "metadata": {},
   "outputs": [
    {
     "data": {
      "text/plain": [
       "46"
      ]
     },
     "execution_count": 14,
     "metadata": {},
     "output_type": "execute_result"
    }
   ],
   "source": [
    "len(result_.split())"
   ]
  },
  {
   "cell_type": "code",
   "execution_count": 15,
   "metadata": {},
   "outputs": [
    {
     "name": "stdout",
     "output_type": "stream",
     "text": [
      "{'A', 'BMN', 'ADC', 'OC', 'COD', 'MN', \"'\", '∠', 'OH', 'AHC', 'ABD', 'CBH', 'FA', 'DCB', '⅔', 'ba', 'D', 'AB', '⑵', 'cm', 'BHC', 'p', 'EDC', 's', 'POA', 'tan', '＜', 'X', 'AF', 'DC', 'HB', '⅓', 'K', 'cos', 'I', 'OMR', '⑴', 'ACH', 'AED', 'ABQ', '˚', 'AH', 'AA', '%', 'sin', 'QH', 'BD', '＋', 'n', 'BCH', 'BM', 'cosB', '√', 'EC', 'con', 'PD', 'r', 'O', '!', '-', 'ABH', 'CA', '×', 'P', '|', 'CQ', 'EBS', 'AM', 'CAD', 'B', 'w', 'h', 'ED', 'CBN', 'z', 'MBN', 'CH', 'DH', 'a', 'AMC', 'ADB', 'CAB', 'BHF', 'BIC', 'AOB', 'RSH', 'BAC', 'S', 'DE', 'EB', 'AO', 'k', 'x', 'CB', 'tna', 'L', 'PQH', 'BC', 'ABCD', 'C', 'PH', 'ACB', '…', '□', 'PS', 'ㄱ', 'MH', 'ACD', 'ab', '①', 'OB', '¼', 'DB', 'BH', 'ABM', 'km', 'BDH', 'sim', 'DBH', 'v', 'GD', 'b', '㎠', 'π', 'm', 'IBC', 'ASA', 'F', 'DAB', '⑤', 'EAD', 'AE', 'G', 'SAS', 'PB', 'BOA', 'RHS', 'AMH', 'HQCD', ':', 'BAH', '－', 'E', ')', 'BR', 'M', 'H', 'y', '≤', 'd', 'AD', 'ㄷ', 'CO', '＝', 'DCH', 'PR', 'BP', '㎝', 'OP', 'DMN', 'BA', 'AMN', '~', '²', 'BO', 'c', 'AG', '=', '㈎', 'BAD', '(', 'CD', 'BQP', 'PA', 'DAC', 'BE', 'AOC', 'DBC', 'CAH', 'sinA', 'GBC', 'ㅁ', 'xx', '+', '㈐', 'BF', 'tanA', 'CM', '③', 'PQRS', '′', '¾', 'OD', 'ㄴ', 'QnA', 'ABE', '△', 'Q', 'OA', '÷', 'ADE', 'N', 'BQ', 'ABC', 'OEF', '＞', 'OAB', 'AC', '½', '②', 'AQ', 'mx', 'ODC', 'BCD', '④', '㈏', 'AHB', 'HC', 'PQ', '㎞'}\n"
     ]
    }
   ],
   "source": [
    "print(result)"
   ]
  },
  {
   "cell_type": "code",
   "execution_count": null,
   "metadata": {},
   "outputs": [],
   "source": []
  }
 ],
 "metadata": {
  "kernelspec": {
   "display_name": "Python 3",
   "language": "python",
   "name": "python3"
  },
  "language_info": {
   "codemirror_mode": {
    "name": "ipython",
    "version": 3
   },
   "file_extension": ".py",
   "mimetype": "text/x-python",
   "name": "python",
   "nbconvert_exporter": "python",
   "pygments_lexer": "ipython3",
   "version": "3.7.6"
  }
 },
 "nbformat": 4,
 "nbformat_minor": 4
}
