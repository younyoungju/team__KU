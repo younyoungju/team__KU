{
 "cells": [
  {
   "cell_type": "code",
   "execution_count": 51,
   "metadata": {},
   "outputs": [],
   "source": [
    "import os"
   ]
  },
  {
   "cell_type": "code",
   "execution_count": 52,
   "metadata": {},
   "outputs": [],
   "source": [
    "#구글 Storage API Key 환경변수 설정\n",
    "# https://console.cloud.google.com/apis/credentials?project=stt200804-1596547266650 --> 서비스 계정 관리\n",
    "#구글버킷 : https://console.cloud.google.com/storage/browser\n",
    "os.environ['GOOGLE_APPLICATION_CREDENTIALS'] = str(r'C:\\Users\\KYEONGCHAN LEE\\Downloads\\stt200804-1596547266650-a461d4cadd0b.json')"
   ]
  },
  {
   "cell_type": "code",
   "execution_count": 53,
   "metadata": {},
   "outputs": [],
   "source": [
    "def transcribe_gcs(gcs_uri):\n",
    "    from google.cloud import speech\n",
    "    from google.cloud.speech import enums\n",
    "    from google.cloud.speech import types\n",
    "\n",
    "    client = speech.SpeechClient()\n",
    "    audio = types.RecognitionAudio(uri=gcs_uri)\n",
    "    config = types.RecognitionConfig(\n",
    "        encoding=enums.RecognitionConfig.AudioEncoding.LINEAR16,\n",
    "        sample_rate_hertz=44100,\n",
    "        audio_channel_count=2,\n",
    "        language_code='ko-KR')\n",
    "\n",
    "    operation = client.long_running_recognize(config, audio)\n",
    "    response = operation.result()\n",
    "\n",
    "    return response"
   ]
  },
  {
   "cell_type": "code",
   "execution_count": 58,
   "metadata": {},
   "outputs": [],
   "source": [
    "def save_file(s, e):\n",
    "    \n",
    "    #파일 gs 경로 제작\n",
    "    file_gs_url = []\n",
    "    for i in range(s, e+1):\n",
    "        n = '{0:05d}'.format(i)\n",
    "        lec = 'gs://stt_0806/'+'lec' + n + '.wav'\n",
    "        file_gs_url.append(lec)\n",
    "        print(lec)\n",
    "        \n",
    "    #저장 이름 제작\n",
    "    file_sv_names = [] #file_save_names\n",
    "    for _ in range(s, e+1):\n",
    "        nb = '{0:05d}'.format(_)\n",
    "        slec = 'lec' + nb + '_STT1_Google.txt'\n",
    "        file_sv_names.append(slec)\n",
    "        print(slec)\n",
    "    \n",
    "    #하나씩 돌리고 저장\n",
    "    for i, j in zip(file_gs_url, file_sv_names):\n",
    "        response = transcribe_gcs(i)\n",
    "        with open(j, \"w\") as script:\n",
    "            for result in response.results:\n",
    "                script.write(u'{}'.format(result.alternatives[0].transcript)+\"\\n\")"
   ]
  },
  {
   "cell_type": "code",
   "execution_count": 59,
   "metadata": {},
   "outputs": [
    {
     "name": "stdout",
     "output_type": "stream",
     "text": [
      "gs://stt_0806/lec00001.wav\n",
      "gs://stt_0806/lec00002.wav\n",
      "gs://stt_0806/lec00003.wav\n",
      "lec00001_STT1_Google.txt\n",
      "lec00002_STT1_Google.txt\n",
      "lec00003_STT1_Google.txt\n"
     ]
    }
   ],
   "source": [
    "save_file(1, 3)\n",
    "#1시 46분 - \n",
    "#39분짜리 3개"
   ]
  },
  {
   "cell_type": "code",
   "execution_count": null,
   "metadata": {},
   "outputs": [],
   "source": []
  }
 ],
 "metadata": {
  "kernelspec": {
   "display_name": "Python 3",
   "language": "python",
   "name": "python3"
  },
  "language_info": {
   "codemirror_mode": {
    "name": "ipython",
    "version": 3
   },
   "file_extension": ".py",
   "mimetype": "text/x-python",
   "name": "python",
   "nbconvert_exporter": "python",
   "pygments_lexer": "ipython3",
   "version": "3.7.6"
  }
 },
 "nbformat": 4,
 "nbformat_minor": 4
}
