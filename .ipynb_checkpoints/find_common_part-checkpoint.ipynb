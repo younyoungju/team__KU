{
 "cells": [
  {
   "cell_type": "code",
   "execution_count": 1,
   "metadata": {},
   "outputs": [],
   "source": [
    "# 한 문장 2음절 경우의 수 구하기\n",
    "# input : sentence\n",
    "# output : 모든 길이의 단어 리스트\n",
    "def get_words_of_two_length(s):\n",
    "    answer = []\n",
    "    MIN_LEN = 2\n",
    "    MAX_LEN =2\n",
    "    for l in range(MIN_LEN, MAX_LEN+1):\n",
    "        for i in range(len(s)-l+1):\n",
    "            answer.append(s[i:i+l])\n",
    "    \n",
    "    return answer    "
   ]
  },
  {
   "cell_type": "code",
   "execution_count": 2,
   "metadata": {},
   "outputs": [],
   "source": [
    "# input = (띄어쓰기없는 s1, 띄어쓰기없는 s2)\n",
    "def find_common_part(s1, s2):\n",
    "    answer = []\n",
    "    s1 = ''.join(s1.split())\n",
    "    s2 = ''.join(s2.split())\n",
    "    \n",
    "    s1_token_in_s2 = [_ for _ in get_words_of_two_length(s1) if _ in s2]\n",
    "    \n",
    "    for i, _ in enumerate(s1_token_in_s2):\n",
    "        if i == 0:\n",
    "            answer.append(_)\n",
    "        else:\n",
    "            if answer[-1][1:] in _ or answer[-1][-1] in _:\n",
    "                answer.append(answer.pop()+_[-1])\n",
    "            elif _ in answer[-1]:\n",
    "                continue\n",
    "            else:\n",
    "                answer.append(_)\n",
    "                \n",
    "    return answer    "
   ]
  }
 ],
 "metadata": {
  "kernelspec": {
   "display_name": "Python 3",
   "language": "python",
   "name": "python3"
  },
  "language_info": {
   "codemirror_mode": {
    "name": "ipython",
    "version": 3
   },
   "file_extension": ".py",
   "mimetype": "text/x-python",
   "name": "python",
   "nbconvert_exporter": "python",
   "pygments_lexer": "ipython3",
   "version": "3.7.6"
  }
 },
 "nbformat": 4,
 "nbformat_minor": 4
}
