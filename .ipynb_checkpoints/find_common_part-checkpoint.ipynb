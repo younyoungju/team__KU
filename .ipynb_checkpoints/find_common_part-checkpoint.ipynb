{
 "cells": [
  {
   "cell_type": "code",
   "execution_count": 4,
   "metadata": {},
   "outputs": [],
   "source": [
    "# 한 문장 2음절 경우의 수 구하기\n",
    "# input : sentence\n",
    "# output : 모든 길이의 단어 리스트\n",
    "def get_words_of_two_length(s):\n",
    "    answer = []\n",
    "    MIN_LEN = 2\n",
    "    MAX_LEN =2\n",
    "    for l in range(MIN_LEN, MAX_LEN+1):\n",
    "        for i in range(len(s)-l+1):\n",
    "            answer.append(s[i:i+l])\n",
    "    \n",
    "    return answer    "
   ]
  },
  {
   "cell_type": "code",
   "execution_count": 5,
   "metadata": {},
   "outputs": [],
   "source": [
    "# input = (띄어쓰기없는 s1, 띄어쓰기없는 s2)\n",
    "def find_common_part(s1, s2):\n",
    "    answer = []\n",
    "    s1 = ''.join(s1.split())\n",
    "    s2 = ''.join(s2.split())\n",
    "    \n",
    "    s1_token_in_s2 = [_ for _ in get_words_of_two_length(s1) if _ in s2]\n",
    "    \n",
    "    for i, _ in enumerate(s1_token_in_s2):\n",
    "        if i == 0:\n",
    "            answer.append(_)\n",
    "        else:\n",
    "            if answer[-1][1:] in _ or answer[-1][-1] in _:\n",
    "                answer.append(answer.pop()+_[-1])\n",
    "            elif _ in answer[-1]:\n",
    "                continue\n",
    "            else:\n",
    "                answer.append(_)\n",
    "                \n",
    "    return answer    "
   ]
  },
  {
   "cell_type": "code",
   "execution_count": 10,
   "metadata": {},
   "outputs": [],
   "source": [
    "s1 = '오분의사죠큰삼각형에서빗변분의밑변해보면얼마죠십분의팔이죠근데이것도서로어때같아요마찬가지로하나더해볼까요작은삼각형에서밑변분의높이는사분의삼이죠큰삼각형에서밑변분의높이는어때요팔분의육인데이들이모두다어때같다는걸여러분들이알수있단얘기예요결국지금이둘의차이는같은거같아보이나요조금달라요작은삼각형과큰삼각형의두대응변의길이의비를이야기하는게닮음비고한삼각형에서어떤두변을뽑아서그둘의비랑큰삼각형에서그둘의길이의비는비가서로같은성질이있다는게바로닮은직각삼각형에서갖는성질입니다'"
   ]
  },
  {
   "cell_type": "code",
   "execution_count": 11,
   "metadata": {},
   "outputs": [],
   "source": [
    "s2 = '오분의사적큰삼각형에서변분에밑변에보면얼마죠십분에반이죠근데이것도사러때같아요마찬가지로하나더해볼까요작은삼각형에서밑변불에높이는사분의삼이적큰삼각형에서미평그래도필요없대요팔분의육인데이들이모두다어때같다란걸려놈들이알수있단얘기야결국지금이둘의차이는같은거같아보이나요달라요작은삼각형과큰삼각형의두대는변의길이비를이야기한게닮음비고일삼각형에서어떤두병을뽑아서그들의비람큰삼각형둘레길이팔미터서로비가서로같은성질이있다라는게바로닮은직각삼각형에서성질입니다'"
   ]
  },
  {
   "cell_type": "code",
   "execution_count": 12,
   "metadata": {},
   "outputs": [
    {
     "data": {
      "text/plain": [
       "['오분의사',\n",
       " '큰삼각형에서',\n",
       " '변분의',\n",
       " '밑변',\n",
       " '보면얼마죠십분의',\n",
       " '이죠근데이것도',\n",
       " '서로',\n",
       " '어때같아요마찬가지로하나더해볼까요작은삼각형에서밑변분의',\n",
       " '높이는사분의삼이죠',\n",
       " '큰삼각형에서밑변분의',\n",
       " '높이는',\n",
       " '어때',\n",
       " '요팔분의육인데이들이모두다어때같다',\n",
       " '이알수있단얘기',\n",
       " '결국지금이둘의차이는같은거같아보이나요',\n",
       " '달라요작은삼각형과큰삼각형의두대',\n",
       " '변의길이',\n",
       " '의비를이야기',\n",
       " '는게닮음비고',\n",
       " '삼각형에서어떤두',\n",
       " '을뽑아서그',\n",
       " '둘의비',\n",
       " '큰삼각형에서그',\n",
       " '둘의길이',\n",
       " '의비가서로같은성질이있다',\n",
       " '는게바로닮은직각삼각형에서',\n",
       " '성질입니다']"
      ]
     },
     "execution_count": 12,
     "metadata": {},
     "output_type": "execute_result"
    }
   ],
   "source": [
    "find_common_part(s1, s2)"
   ]
  },
  {
   "cell_type": "code",
   "execution_count": null,
   "metadata": {},
   "outputs": [],
   "source": []
  }
 ],
 "metadata": {
  "kernelspec": {
   "display_name": "Python 3",
   "language": "python",
   "name": "python3"
  },
  "language_info": {
   "codemirror_mode": {
    "name": "ipython",
    "version": 3
   },
   "file_extension": ".py",
   "mimetype": "text/x-python",
   "name": "python",
   "nbconvert_exporter": "python",
   "pygments_lexer": "ipython3",
   "version": "3.7.6"
  }
 },
 "nbformat": 4,
 "nbformat_minor": 4
}
