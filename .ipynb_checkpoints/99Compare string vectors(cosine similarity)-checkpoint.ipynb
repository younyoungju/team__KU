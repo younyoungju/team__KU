{
 "cells": [
  {
   "cell_type": "code",
   "execution_count": null,
   "metadata": {},
   "outputs": [],
   "source": [
    "# 불러올때\n",
    "with open('data/result.txt', 'rb') as f:\n",
    "    result = pickle.load(f)"
   ]
  },
  {
   "cell_type": "markdown",
   "metadata": {},
   "source": [
    "# ---(박사님 같이) 코사인유사도 구하기 연습------"
   ]
  },
  {
   "cell_type": "code",
   "execution_count": null,
   "metadata": {},
   "outputs": [],
   "source": [
    "test_m = np.array([1,2, 3, 4, 5])\n",
    "test_m"
   ]
  },
  {
   "cell_type": "code",
   "execution_count": null,
   "metadata": {},
   "outputs": [],
   "source": [
    "test_m = np.diag(test_m)\n",
    "test_m"
   ]
  },
  {
   "cell_type": "code",
   "execution_count": null,
   "metadata": {},
   "outputs": [],
   "source": [
    "Q = np.array([1,0,0,0, 0])\n",
    "Q"
   ]
  },
  {
   "cell_type": "code",
   "execution_count": null,
   "metadata": {},
   "outputs": [],
   "source": [
    "Q.reshape(5, -1)"
   ]
  },
  {
   "cell_type": "code",
   "execution_count": null,
   "metadata": {},
   "outputs": [],
   "source": [
    "dot_pro.shape"
   ]
  },
  {
   "cell_type": "code",
   "execution_count": null,
   "metadata": {},
   "outputs": [],
   "source": [
    "dot_pro"
   ]
  },
  {
   "cell_type": "code",
   "execution_count": null,
   "metadata": {},
   "outputs": [],
   "source": [
    "Q.shape"
   ]
  },
  {
   "cell_type": "code",
   "execution_count": null,
   "metadata": {},
   "outputs": [],
   "source": [
    "Q"
   ]
  },
  {
   "cell_type": "code",
   "execution_count": null,
   "metadata": {},
   "outputs": [],
   "source": [
    "dot_pro = test_m.dot(Q)"
   ]
  },
  {
   "cell_type": "code",
   "execution_count": null,
   "metadata": {},
   "outputs": [],
   "source": [
    "np.linalg.norm(test_m, axis=1)#길이"
   ]
  },
  {
   "cell_type": "code",
   "execution_count": null,
   "metadata": {},
   "outputs": [],
   "source": [
    "np.linalg.norm(Q) #길이"
   ]
  },
  {
   "cell_type": "code",
   "execution_count": null,
   "metadata": {},
   "outputs": [],
   "source": [
    "np.linalg.norm(test_m, axis=1) * np.linalg.norm(Q) #길"
   ]
  },
  {
   "cell_type": "code",
   "execution_count": null,
   "metadata": {},
   "outputs": [],
   "source": [
    "sim = dot_pro / np.linalg.norm(test_m, axis=1) * np.linalg.norm(Q) #길"
   ]
  },
  {
   "cell_type": "code",
   "execution_count": null,
   "metadata": {},
   "outputs": [],
   "source": [
    "sim.argmax()"
   ]
  },
  {
   "cell_type": "markdown",
   "metadata": {},
   "source": [
    "# --------------"
   ]
  },
  {
   "cell_type": "markdown",
   "metadata": {},
   "source": [
    "### -----문장간 코사인유사도 찾기(좋은 임베딩 파라미터 찾기------"
   ]
  },
  {
   "cell_type": "code",
   "execution_count": null,
   "metadata": {},
   "outputs": [],
   "source": [
    "result[:10]"
   ]
  },
  {
   "cell_type": "code",
   "execution_count": null,
   "metadata": {},
   "outputs": [],
   "source": [
    "#ebs, google 문장들 쪼개서\n",
    "result_gensim_input = [_.split() for _ in result if _ != '']\n",
    "print(len(result_gensim_input))\n",
    "print(result_gensim_input[:3])"
   ]
  },
  {
   "cell_type": "code",
   "execution_count": null,
   "metadata": {},
   "outputs": [],
   "source": [
    "#ebs 문장들 안쪼개서\n",
    "result_tokenizer_input = [v for i, v in enumerate(result) if i%2 == 0 and v != '']\n",
    "print(len(result_tokenizer_input))\n",
    "print(result_tokenizer_input[:3])"
   ]
  },
  {
   "cell_type": "code",
   "execution_count": null,
   "metadata": {},
   "outputs": [],
   "source": [
    "#ebs 문장들 쪼개서\n",
    "ebs_in_result_for_getting_max_len = [v for i, v in enumerate(result_gensim_input) if i%2 == 0 and v != []]\n",
    "print(len(ebs_in_result_for_getting_max_len))\n",
    "print(ebs_in_result_for_getting_max_len[:3])"
   ]
  },
  {
   "cell_type": "code",
   "execution_count": null,
   "metadata": {},
   "outputs": [],
   "source": [
    "ebs_in_result_gensim_input = [v for i, v in enumerate(result_gensim_input) if i%2 == 0 and v != [] ]\n",
    "print(len(ebs_in_result_gensim_input))\n",
    "print(ebs_in_result_gensim_input[:3])"
   ]
  },
  {
   "cell_type": "code",
   "execution_count": null,
   "metadata": {},
   "outputs": [],
   "source": [
    "google_in_result_gensim_input = [v for i, v in enumerate(result_gensim_input) if i%2 == 1 and v != []]"
   ]
  },
  {
   "cell_type": "code",
   "execution_count": null,
   "metadata": {},
   "outputs": [],
   "source": [
    "embedding_size = 10\n",
    "window_size = 2\n",
    "\n",
    "model = Word2Vec(\n",
    "                result_gensim_input, \n",
    "                window = window_size,\n",
    "                size =embedding_size,\n",
    "                min_count=1,\n",
    "                workers = 10\n",
    "                )\n",
    "\n",
    "def get_s_vec(s_list, embedding_size):\n",
    "    s_vec = np.zeros(embedding_size)\n",
    "    for t in s_list:\n",
    "        s_vec += model[t]\n",
    "    s_vec /= len(s_list)\n",
    "    return s_vec"
   ]
  },
  {
   "cell_type": "code",
   "execution_count": null,
   "metadata": {},
   "outputs": [],
   "source": [
    "# Generate EBS string vectors matrix\n",
    "ebs_str_arr = np.zeros((len(ebs_in_result_gensim_input), embedding_size))\n",
    "for i, s_list in enumerate(ebs_in_result_gensim_input):\n",
    "    ebs_str_arr[i] = get_s_vec(s_list)\n",
    "ebs_vec_norms = np.linalg.norm(ebs_str_arr, axis=1)"
   ]
  },
  {
   "cell_type": "code",
   "execution_count": null,
   "metadata": {},
   "outputs": [],
   "source": [
    "#Query comparison\n",
    "cos_sims_bool = np.zeros(len(google_in_result_gensim_input))\n",
    "for g_idx, Q_str in enumerate(google_in_result_gensim_input):\n",
    "    Q_vec = get_s_vec(Q_str)\n",
    "#     Q_vec = Q_vec.reshape(embedding_size, -1)\n",
    "    dot_products = ebs_str_arr.dot(Q_vec)\n",
    "\n",
    "    Q_vec_norm = np.linalg.norm(Q_vec)\n",
    "    norm_productions = ebs_vec_norms * Q_vec_norm\n",
    "    cos_sims = dot_products / norm_productions\n",
    "    \n",
    "#     print(g_idx, '   ', cos_sims.argmax())\n",
    "    \n",
    "    if g_idx == cos_sims.argmax():\n",
    "        cos_sims_bool[g_idx] = 1\n",
    "        \n",
    "diff_num = np.unique(cos_sims_bool, return_counts=True)[1][0]\n",
    "same_num = np.unique(cos_sims_bool, return_counts=True)[1][1]\n",
    "print(same_num/(diff_num+same_num) * 100)"
   ]
  }
 ],
 "metadata": {
  "kernelspec": {
   "display_name": "Python 3",
   "language": "python",
   "name": "python3"
  },
  "language_info": {
   "codemirror_mode": {
    "name": "ipython",
    "version": 3
   },
   "file_extension": ".py",
   "mimetype": "text/x-python",
   "name": "python",
   "nbconvert_exporter": "python",
   "pygments_lexer": "ipython3",
   "version": "3.7.6"
  }
 },
 "nbformat": 4,
 "nbformat_minor": 4
}
