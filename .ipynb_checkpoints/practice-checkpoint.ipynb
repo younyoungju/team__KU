{
 "cells": [
  {
   "cell_type": "code",
   "execution_count": 163,
   "metadata": {},
   "outputs": [],
   "source": [
    "import re"
   ]
  },
  {
   "cell_type": "code",
   "execution_count": 84,
   "metadata": {},
   "outputs": [],
   "source": [
    "from soynlp.hangle import levenshtein, jamo_levenshtein\n",
    "from konlpy.tag import Kkma, Mecab, Okt, Komoran, Hannanum\n",
    "from jamo import h2j, j2hcj, j2h"
   ]
  },
  {
   "cell_type": "code",
   "execution_count": 79,
   "metadata": {},
   "outputs": [
    {
     "name": "stdout",
     "output_type": "stream",
     "text": [
      "0\n",
      "0\n",
      "0\n",
      "1\n",
      "2\n",
      "5\n",
      "4\n",
      "8\n"
     ]
    }
   ],
   "source": [
    "from PreProcessing.find_common_part import find_common_part\n",
    "from PreProcessing.Dictionary import sd, ad, kopro\n",
    "from PreProcessing.Opentext import get_EBS, get_EBS_entered, get_STT1_Google_entered, get_STT1_Google, get_STT1_Transcribe_entered"
   ]
  },
  {
   "cell_type": "code",
   "execution_count": 80,
   "metadata": {},
   "outputs": [
    {
     "name": "stdout",
     "output_type": "stream",
     "text": [
      "['lec00001_EBS.txt', 'lec00002_EBS.txt', 'lec00003_EBS.txt', 'lec00004_EBS.txt', 'lec00005_EBS.txt', 'lec00006_EBS.txt', 'lec00007_EBS.txt', 'lec00008_EBS.txt', 'lec00009_EBS.txt', 'lec00010_EBS.txt', 'lec00011_EBS.txt', 'lec00012_EBS.txt', 'lec00013_EBS.txt', 'lec00014_EBS.txt', 'lec00015_EBS.txt', 'lec00016_EBS.txt', 'lec00017_EBS.txt', 'lec00018_EBS.txt', 'lec00019_EBS.txt', 'lec00020_EBS.txt', 'lec00021_EBS.txt', 'lec00022_EBS.txt', 'lec00023_EBS.txt', 'lec00024_EBS.txt', 'lec00025_EBS.txt', 'lec00026_EBS.txt']\n"
     ]
    }
   ],
   "source": [
    "EBS = get_EBS(1, 26)"
   ]
  },
  {
   "cell_type": "code",
   "execution_count": 81,
   "metadata": {},
   "outputs": [
    {
     "name": "stdout",
     "output_type": "stream",
     "text": [
      "['lec00001_STT1_Google.txt', 'lec00002_STT1_Google.txt', 'lec00003_STT1_Google.txt', 'lec00004_STT1_Google.txt', 'lec00005_STT1_Google.txt', 'lec00006_STT1_Google.txt', 'lec00007_STT1_Google.txt', 'lec00008_STT1_Google.txt', 'lec00009_STT1_Google.txt', 'lec00010_STT1_Google.txt', 'lec00011_STT1_Google.txt', 'lec00012_STT1_Google.txt', 'lec00013_STT1_Google.txt', 'lec00014_STT1_Google.txt', 'lec00015_STT1_Google.txt', 'lec00016_STT1_Google.txt', 'lec00017_STT1_Google.txt', 'lec00018_STT1_Google.txt', 'lec00019_STT1_Google.txt', 'lec00020_STT1_Google.txt', 'lec00021_STT1_Google.txt', 'lec00022_STT1_Google.txt', 'lec00023_STT1_Google.txt', 'lec00024_STT1_Google.txt', 'lec00025_STT1_Google.txt', 'lec00026_STT1_Google.txt']\n"
     ]
    }
   ],
   "source": [
    "GOOGLE = get_STT1_Google(1, 26)"
   ]
  },
  {
   "cell_type": "code",
   "execution_count": 82,
   "metadata": {},
   "outputs": [],
   "source": [
    "def decimalnumber_to_korean(m):\n",
    "    answer = ''\n",
    "    for _ in m.group(1):\n",
    "        answer += kopro[int(_)]\n",
    "    answer += '점'\n",
    "    for _ in m.group(3):\n",
    "        answer += kopro[int(_)]\n",
    "    return answer\n",
    "\n",
    "def number_to_korean(s):\n",
    "    #소수점 한국어로\n",
    "    s = re.sub(r'(\\d+)(\\.)(\\d+)', decimalnumber_to_korean, s)\n",
    "    \n",
    "    #정수 한국어로\n",
    "    fl = re.findall(r'\\d+', s)\n",
    "    fl = set(fl)\n",
    "    fl = [int(_) for _ in fl]\n",
    "    fl.sort(reverse=True)\n",
    "    fl = [str(_) for _ in fl]\n",
    "    for n in fl:\n",
    "        s = s.replace(n, kopro[int(n)])\n",
    "    return s\n",
    "\n",
    "def mathsymbol_to_korean(s):\n",
    "    for ms in sd.keys():\n",
    "        if ms in s:\n",
    "            s = s.replace(ms, sd[ms])\n",
    "    return s\n",
    "\n",
    "def alphabet_to_korean(s):\n",
    "    for a in ad.keys():\n",
    "        if a in s:\n",
    "            s = s.replace(a, ad[a])\n",
    "    return s\n",
    "\n",
    "def remove_newlines(s):\n",
    "    \n",
    "    return re.sub(r'[\\n]+', ' ', s)\n",
    "\n",
    "def remove_puncuations(s):\n",
    "    \n",
    "    return re.sub(r'[\\.?,‘’]+', ' ', s)\n",
    "\n",
    "def insert_dot(text, dot):\n",
    "    pattern1 = re.compile(r'\\S(ㄷㅏ)$')   #다\n",
    "#     pattern2 = re.compile(r'(.ㅔ|ㅏ|ㅓ|ㅐ|ㅗ|ㅜ)(ㅇㅛ)$') # ㅔ요, ㅏ요, ㅓ요\n",
    "#     pattern3 = re.compile(r'(ㅆ)(ㅈ|ㅊ)(ㅛ)$') \n",
    "#     pattern4 = re.compile(r'(ㅂ|ㅣ)(ㄴㅣㄲㅏ)$')  #ㅂ니까\n",
    "#     pattern5 = re.compile(r'(ㄴㄷㅔ)$')\n",
    "    text_list = []\n",
    "    _1 = 0\n",
    "    _2 = 0\n",
    "    _3 = 0\n",
    "    _4 = 0\n",
    "    _5 = 0\n",
    "    _6 = 0\n",
    "    for _ in text.split(' '):         \n",
    "        new_ = j2hcj(h2j(_))\n",
    "        if pattern1.findall(new_):\n",
    "            text_list.append(_.replace(_, _+dot))\n",
    "            _1 += 1\n",
    "#         elif pattern2.findall(new_):\n",
    "#             text_list.append(_.replace(_, _+dot))\n",
    "#             _2 += 1\n",
    "#             list2.append(_)\n",
    "#         elif pattern3.findall(new_):\n",
    "#             text_list.append(_.replace(_, _+dot))\n",
    "#             _3 += 1\n",
    "#             list3.append(_)\n",
    "#         elif pattern4.findall(new_):\n",
    "#             text_list.append(_.replace(_, _+dot))\n",
    "#             _4 += 1\n",
    "#         elif pattern5.findall(new_):\n",
    "#             text_list.append(_.replace(_,_+dot))\n",
    "#             _5 += 1\n",
    "        else:\n",
    "            text_list.append(_)\n",
    "            _6 += 1\n",
    "#     print('pattern1 = {}, pattern2= {}, pattern3 = {}, pattern5 = {}, pattern6 = {}'.format(_1,_2,_3,_4,_5,_6)) \n",
    "    #print('pattern2 = ',list2)#'\\n','list5 = ',list5)\n",
    "    return text_list    \n",
    "\n",
    "# EBS 전처리\n",
    "def EBS_preprocessing(EBS):\n",
    "    \n",
    "#     수학기호 한국어로 변환(EBS)\n",
    "    ebs_math_conversion = mathsymbol_to_korean(EBS)\n",
    "        \n",
    "#     숫자 한국어로 변환(EBS)\n",
    "    ebs_number_conversion = number_to_korean(ebs_math_conversion)\n",
    "        \n",
    "#     알파벳 한국어로 변환(EBS)\n",
    "    ebs_alphabet_conversion = alphabet_to_korean(ebs_number_conversion)\n",
    "    \n",
    "#     특수문자 제거\n",
    "    ebs_punc_removed = remove_puncuations(ebs_alphabet_conversion)\n",
    "    \n",
    "#     점 집어넣기\n",
    "#     ebs_dot_inserted = ' '.join(insert_dot(ebs_punc_removed,'.'))\n",
    "\n",
    "#     띄어쓰기 제거\n",
    "#     ebs_whitespace_removed = re.sub('[\\s]+', '', ebs_punc_removed)\n",
    "\n",
    "    return ebs_punc_removed\n",
    "\n",
    "# GOOGLE 전처리\n",
    "def GOOGLE_preprocessing(GOOGLE):\n",
    "        \n",
    "#     개행 삭제\n",
    "    google_newline_removed = remove_newlines(GOOGLE)\n",
    "    \n",
    "#     수학기호 한국어로 변환\n",
    "    google_math_conversion = mathsymbol_to_korean(google_newline_removed)\n",
    "    \n",
    "#     숫자 한국어로 변환(GOOGLE)\n",
    "    google_number_conversion = number_to_korean(google_math_conversion)\n",
    "        \n",
    "#     알파벳 한국어로 변환(GOOGLE)\n",
    "    google_alphabet_conversion = alphabet_to_korean(google_number_conversion)\n",
    "    \n",
    "#     특수문자 제거\n",
    "    google_punc_removed = remove_puncuations(google_alphabet_conversion)\n",
    "    \n",
    "#     점 집어넣기\n",
    "#     google_dot_inserted = ' '.join(insert_dot(google_punc_removed,'.'))\n",
    "    \n",
    "#     띄어쓰기 제거\n",
    "#     google_whitespace_removed = re.sub('[\\s]+', '', google_punc_removed)\n",
    "\n",
    "    return google_punc_removed"
   ]
  },
  {
   "cell_type": "code",
   "execution_count": 85,
   "metadata": {},
   "outputs": [],
   "source": [
    "ko_pre_EBS = EBS_preprocessing(EBS) #한글로 치환\n",
    "ko_pre_GOOGLE = GOOGLE_preprocessing(GOOGLE) #한글로 치환\n",
    "dot_inserted_EBS = ' '.join(insert_dot(ko_pre_EBS,'.')).split('.')\n",
    "dot_inserted_GOOGLE = ' '.join(insert_dot(ko_pre_GOOGLE,'.')).split('.')"
   ]
  },
  {
   "cell_type": "code",
   "execution_count": 86,
   "metadata": {},
   "outputs": [],
   "source": [
    "ws_removed_EBS = [''.join(_.split()) for _ in dot_inserted_EBS]\n",
    "ws_removed_GOOGLE = [''.join(_.split()) for _ in dot_inserted_GOOGLE]"
   ]
  },
  {
   "cell_type": "code",
   "execution_count": 89,
   "metadata": {
    "scrolled": true
   },
   "outputs": [
    {
     "data": {
      "text/plain": [
       "1368"
      ]
     },
     "execution_count": 89,
     "metadata": {},
     "output_type": "execute_result"
    }
   ],
   "source": [
    "ws_removed_EBS.index('그러니까여기에서소문자에이치를곱해주면비에이치는결국에이치탄젠트오십칠도이고같은방법으로탄젠트누구는노란색으로볼까요이삼각형에서탄젠트누구이십삼도는에이치분의씨에이치다')"
   ]
  },
  {
   "cell_type": "code",
   "execution_count": 90,
   "metadata": {},
   "outputs": [
    {
     "data": {
      "text/plain": [
       "1342"
      ]
     },
     "execution_count": 90,
     "metadata": {},
     "output_type": "execute_result"
    }
   ],
   "source": [
    "ws_removed_GOOGLE.index('삼각형에이비씨가있습니다')"
   ]
  },
  {
   "cell_type": "code",
   "execution_count": 93,
   "metadata": {},
   "outputs": [],
   "source": [
    "idx = ws_removed_GOOGLE.index('삼각형의넓이어저기선생님조금아까이분의일곱하기육영영영곱하기높이이거말고삼각형의넓이를삼각비중에서뭐가아직굉장히새롭게하나요그렇진않아요오늘삼각형의넓이또한우리가이미알고있는이분의일곱하기높이를통해서구할겁니다')"
   ]
  },
  {
   "cell_type": "code",
   "execution_count": 96,
   "metadata": {},
   "outputs": [
    {
     "data": {
      "text/plain": [
       "1339"
      ]
     },
     "execution_count": 96,
     "metadata": {},
     "output_type": "execute_result"
    }
   ],
   "source": [
    "idx"
   ]
  },
  {
   "cell_type": "code",
   "execution_count": 94,
   "metadata": {},
   "outputs": [
    {
     "data": {
      "text/plain": [
       "['괄호안에고객의삼분후에그다음마지막알파벳하나가좋을텐데요무엇인지오늘수업포인트안나면다보일수있을겁니다',\n",
       " '저는수고많이하셨고요다음시간에도철저한복습하고오시는거잊지마시기바랍니다',\n",
       " '수고하셨습니다',\n",
       " '오늘제목이삼각형의넓이져우리춤삼각형의넓이어이건우리두살때부터그랬다',\n",
       " '이분의일곱하기곱하기곱하기다들알고있어요그죠근데뭘갑자기삼각형의넓이를또그않아우리가지금되고있는나는바로뭡니까삼각비입니다이삼각비의활용을배우고있는데이삼각비를이용해서도삼각형넓이를구할수있어요오늘공부할주제는딱이거하나요삼각형의넓이를구할겁니다',\n",
       " '물이용해서삼각비를이용해서오늘은늦게공식이안길을좀부탁드릴게요그때그봉식이어렵지않습니다',\n",
       " '그대로쪽에서충분히외울수있고그리고오늘앞부분에개념설명은그공유기왜나오는지유도과정보여드리는걸개념을할겁니다',\n",
       " '그러기때문에유도과정을쪽보고나서마지막에는결론은여러분들이암기를하셔야된다는거지금까지는선생님시간지난시간안해도돼라고했는데오늘은물론암기를안해도풀수는있지만암기를했을때와안했을때의시간차이가많이나기때문에암기를권하는겁니다',\n",
       " '오늘뭐공부하겠다고요삼각형의넓이끝냅시다',\n",
       " '자대전한번보도록하겠습니다',\n",
       " '삼각형의넓이어저기선생님조금아까이분의일곱하기육영영영곱하기높이이거말고삼각형의넓이를삼각비중에서뭐가아직굉장히새롭게하나요그렇진않아요오늘삼각형의넓이또한우리가이미알고있는이분의일곱하기높이를통해서구할겁니다',\n",
       " '그런데닉변하고높이가다주어지는게아니라이런조건으로되어있어요첫번째바로두변의길이가주어져요그다음에끼인각이들었습니다',\n",
       " '그런데우리는삼각형의넓이를구할수있다는얘기야무슨얘긴지그림을단단하게그려보도록하겠습니다',\n",
       " '삼각형에이비씨가있습니다',\n",
       " '우리는뭐용변을갔다가가기대문자이면벼는소문자에이적자가기소문자대문자쉬면변은이렇게쓰겠죠내용이뭐냐면지금이렇게세개가좋아요주어지는걸선생님이분홍색으로동그라미쳐볼게육일이육일이뭐라고요두변의길이그다음에그이년사이에낀가기주어서있을때우리는이삼각형의넓이구할수있다라는얘기죠예전같으면상상도못했죠어떻게해도넓이를거예요이거높이높이높이곱하기이분의일해야되는데맞죠근데그걸로할거야잘봐요아이것만하면끝나겠네이거이거요거그럼답은놀까답이삼각형의넓이로맨스라고나보면넓이를이분의일곱하기육영영영곱하기높이뛰어거잖아그죠에이치를구해주면되는거야근데이건선생님이지금잡은문자고하고씨하고삐요세개가있으니에이칠그걸이용해서표현으로자금어떻게할거냐지금여기왼쪽에보면삼각형에이비에이치는무슨삼각형직각삼각형그러면당연히못쓸수있어삼각비쓸수있어요에이치를주어진것들을가지고표현을해볼거면다쓸수도있고없을수도있는데당연히어떻게할거야직각삼각형이니까아빗변이있고높이를알고싶은거니까싸인비가되겠구나라는걸생각할수있으면되는겁니다',\n",
       " '아선생님이싸인비가와요빗변분의높이잖아요맞죠그러니까에이치는하려면씨를양변에보태주면돼요결국씨싸인비가높이입니다',\n",
       " '씨하고학비는추워져있으니이거숫자로바꾸기그죠그러면우리가구하고자하는넓이에서에이치자리에다가씨싸인비를대입하면이것이바로삼각형의넓이구하는공식이된다는이야기요자결과만놓고본다면제외되어삼각형에서두변의길이가핀가기젖어있으면이분의일곱하기밑변곱하기그다음에요번달은앞면곱하기사인기인가이렇게하면좀복잡하죠문제어떻게되냐면주어진두변의길이곱하기사인게임다시한번이분의일곱하기두변의길이의추워졌어요두변의길이곱하기사인기인가됐나요이분의일곱하기두변의길이곱하기네오세요알았죠남겨드립니다',\n",
       " '근데이게완전새로운공식게아니라뭘통해서나왔다',\n",
       " '아바로루피를구해서이분의일곱하기사곱하기높이초등학교때부터이방법으로푼건데단높이에이칠바로삼각비리움에서유병각비를의미표현했다라는요아이디어만새롭게추가가된다는얘기야그책에보면두번째볼수도있습니다',\n",
       " '두번째두번째도마찬가지로두변의길이가긴가기전에있는데그게임가게이제게임가기그냥간단하게이렇게게임가기등각있대요어떤느낌인지보겠습니다',\n",
       " '이렇게생겼어요어떤병인가어떤병이주어서있냐면입원하고간단하게그냥문자로쓰겠습니다요면이주어서있고이사이에가기주어져있는데그각이입니다이삼각형의넓이를편해볼거야새로운거없었어삼각형넓이어떻게이분의일곱하기윗변곱하기높였고이등변삼각형의넓이는밑변을에이라고했을때높이어떻게하더라우리높이어떻게썼죠그쳐당연히밑변에연장선긋고맞죠나머지꼭짓점에서밑변에수선연장선에서늙은요길이가높이이거에이치지금선생님이문제있는건연두색세개요맞죠그럼우리는답이뭐죠넓이어떻게구해면되지이분의일곱하기밑변곱하기소피아둔각삼각형에서넓이구하는거어차피밑변이오고높이는요거곡이거야뭘로바꿀거야우리가알고있네소문자에이씨비로바꾸겠다는이야기입니다',\n",
       " '그런데요거바꿀건데여보세요아요삼각형에서쓰면되겠구나삼각비로응그러면요가글알면싸인비싸인요거는여선생싸인요거는십에이치에이그걸이용하겠다고근데우리아들어떻게변할수있어백팔십도에서주어진비를빼는겁니다요게뭐라고백팔십도에서갖기를뺀거잖아맞죠아그러니까이거삼각형에서우리는싸인백팔십마이너스비가제사이게복잡한개를이거싸이닉씨에이치니까결국양변에씨를곱해주면이렇게올라갈테니에이치가시사인백팔십마이너스비니까에이치자리에그대로대입해보면씨스타엔백에스피이게바로넓이를구하는공식이된다라는이야긴데이게뭔가되게어렵고복잡한게아니라여러분들단숨에우리다인이레이저백이거뭘로사인백이십도알아요모르잖아싸인백이십백오십몰라요어떻게하란얘기야바깥쪽은내가이기겠지안쪽에생각이면바깥쪽으로바꾸어서우리는이각을바로매입하면된단얘기야됐으니까이가카고카고이곳이간단음식처럼보이지만실제로는계속해보세요이분의일곱하기두변의길이의이분의일곱하기두변의길이있잖아곱하기사임진각하려고했는데그게중간이라모르니까바깥쪽으로타자연습필요하겠죠같이함께아래쪽에있는그얘기개념확인문제한번살펴보도록하겠습니다',\n",
       " '문자로돼있어서굉장히여러분들이좀어렵게느껴지고이렇게실제로구해보면전혀어렵지않아요보겠습니다',\n",
       " '제가삼각형에이비씨넓이를구하는식은보세요두변의길이젖어있고게임닥터돼있죠어떻게하자는의견이이분의일곱하기이곱하기사곱하기사인게임각어렵습니까이분의일곱하기이분의일곱하기사인게임가자그러면이것만계산해주면이분의칠십곱하기싸인사십오도가이분의루트있잖아그래서그럼요거삼십오이렇게아픈데테니이분의삼십오분이제곱센티미터다이렇게구해주시면끝나는거야선생님두변의길이하고게임각젖어있어요이분의일곱하기두변의길이의싸인근데백삼십오도사인백산수모르잖아모르면어떻게하려고바깥쪽내가몇도사십오도요걸그냥데이트해주면된다니까결과적으로이렇게적용시키면되고웨이바깥쪽가글쓰는지는조금아까유도과정에서보여드렸습니다',\n",
       " '그러기때문에우리가이걸정리해보면이분의칠십이분해볼까삼십육곱하기싸인사십오도가이분의루트이니까팔루트제곱씨미터다이렇게구해주시면끝이야어렵습니까오늘되는거다시한번정리합니다',\n",
       " '두변의길이가긴가기전에있어그럼이분의일곱하기두변의길이곱하기이분의일곱하기일곱하기일곱하기이곱하기삼곱하기사이긴가겠습니다',\n",
       " '바깥쪽에가글대입한다',\n",
       " '내가됐어이렇게놈들이정리하시면되는거야함께예제로조금더연습해보도록하겠습니다',\n",
       " '자이제한번보도록하지근데오늘여러분들지금은아주잘안헤어졌어요하는데오늘강의가끝날때쯤에약간죽여이제왔습니다',\n",
       " '선생님이렇게다다함께같이시작해보도록할게요지금뭐하고팔두변의길이주어졌고두면사이에낀가기주어진상태에서널미구하라그대로공식적으로하면되겠죠어떻게됩니까칠곱하기구별의별싸인기인가이게끝이냐고들어오나요이분의일곱하기두변의길이곱하기웹처럼그럼이분의오백팔십사십월이십이적싸인육십돈이분의루트삼이적그러니까약돈에서루트삼선택지에서정답은일번이렇게여러분들이구하시면된단얘기야이거를만약에선생님이진짜진짜열심히공부해서내가왜왔었는데요시험지를받으니까세상이하얘지면서공식을잊어버렸어요개념을쪽에서풀면되잖아아삼각형넓이를이분의일곱하기곱하기높이야나이걸로밑변으로블랙높이는여기서이렇게경기도피겠죠구일하는거잖아그죠이삼각형에서우리가싸인육십도가뭐부네보석싸인육십도가오분의빗변분의높으니까에이치는결국사인육십도이분의루트삼이니까이분의루트삼의높이자그러니까삼각형넓이네이분의일곱하기사곱하기오곱하기육곱하기칠곱하기높이높이가여기서구해놨어요이렇게대입해도사천이백팔십일십루트삼정답은일번하고구할수있는데매번이렇게유도에서풀지않을거야하는게빠르니까이백칠안개하자라고말씀드린겁니다']"
      ]
     },
     "execution_count": 94,
     "metadata": {},
     "output_type": "execute_result"
    }
   ],
   "source": [
    "ws_removed_GOOGLE[idx-10:idx+20]"
   ]
  },
  {
   "cell_type": "code",
   "execution_count": null,
   "metadata": {},
   "outputs": [],
   "source": []
  },
  {
   "cell_type": "code",
   "execution_count": 95,
   "metadata": {},
   "outputs": [
    {
     "data": {
      "text/plain": [
       "1400"
      ]
     },
     "execution_count": 95,
     "metadata": {},
     "output_type": "execute_result"
    }
   ],
   "source": [
    "ws_removed_EBS.index('문제에주어져있는건연두색삼개예요맞죠그럼우리는답이뭐죠넓이어떻게구하면되지이분의일곱하기밑변곱하기높이야이것도배웠죠둔각삼각형에서넓이구하는거어차피밑변이이거고높이는이거고어이거야근데에이치를뭐로바꿀거야우리가알고있는소문자에이씨각비로바꾸겠다는이야기입니다')"
   ]
  },
  {
   "cell_type": "markdown",
   "metadata": {},
   "source": [
    "ebs :  문제에주어져있는건연두색삼개예요맞죠그럼우리는답이뭐죠넓이어떻게구하면되지이분의일곱하기밑변곱하기높이야이것도배웠죠둔각삼각형에서넓이구하는거어차피밑변이이거고높이는이거고어이거야근데에이치를뭐로바꿀거야우리가알고있는소문자에이씨각비로바꾸겠다는이야기입니다\n",
    "1400\n",
    "\n",
    "(잘못찾아짐)\n",
    "google :  삼각형의넓이어저기선생님조금아까이분의일곱하기육영영영곱하기높이이거말고삼각형의넓이를삼각비중에서뭐가아직굉장히새롭게하나요그렇진않아요오늘삼각형의넓이또한우리가이미알고있는이분의일곱하기높이를통해서구할겁니다\n"
   ]
  },
  {
   "cell_type": "markdown",
   "metadata": {},
   "source": [
    "ebs :  이게지금문자로되어있어서굉장히여러분들이좀어렵게느껴지고이렇게실제로구해보면전혀어렵지않아요보겠습니다\n",
    "1403\n",
    "\n",
    "google :  문자로돼있어서굉장히여러분들이좀어렵게느껴지고이렇게실제로구해보면전혀어렵지않아요보겠습니다\n",
    "1351"
   ]
  },
  {
   "cell_type": "code",
   "execution_count": 106,
   "metadata": {},
   "outputs": [
    {
     "data": {
      "text/plain": [
       "'이게지금문자로되어있어서굉장히여러분들이좀어렵게느껴지고이렇게실제로구해보면전혀어렵지않아요보겠습니다'"
      ]
     },
     "execution_count": 106,
     "metadata": {},
     "output_type": "execute_result"
    }
   ],
   "source": [
    "ws_removed_EBS[1403]"
   ]
  },
  {
   "cell_type": "code",
   "execution_count": 107,
   "metadata": {},
   "outputs": [
    {
     "data": {
      "text/plain": [
       "'문자로돼있어서굉장히여러분들이좀어렵게느껴지고이렇게실제로구해보면전혀어렵지않아요보겠습니다'"
      ]
     },
     "execution_count": 107,
     "metadata": {},
     "output_type": "execute_result"
    }
   ],
   "source": [
    "ws_removed_GOOGLE[1351]"
   ]
  },
  {
   "cell_type": "code",
   "execution_count": 117,
   "metadata": {},
   "outputs": [
    {
     "data": {
      "text/plain": [
       "['두번째도마찬가지로두변의길이와끼인각이주어져있는데그끼인각이그냥간단하게이렇게해볼게요끼인각이둔각일때예요어떤느낌인지보겠습니다',\n",
       " '이렇게생겼어요어떤변과어떤변이주어져있냐면이변하고간단하게그냥문자로쓰겠습니다',\n",
       " '이변이주어져있고이사이의각이주어져있는데그각이둔각입니다',\n",
       " '이삼각형의넓이를표현을해볼거예요새로운거없었어삼각형넓이어떻게이분의일곱하기밑변곱하기높이였고이둔각삼각형의넓이를밑변을에이라고했을때높이어떻게하더라우리높이어떻게했었죠그렇죠당연히밑변의연장선긋고맞죠나머지꼭짓점에서밑변의수선연장선에수선을그은이길이가높이예요이거에이치지금선생님이쓴겁니다',\n",
       " '문제에주어져있는건연두색삼개예요맞죠그럼우리는답이뭐죠넓이어떻게구하면되지이분의일곱하기밑변곱하기높이야이것도배웠죠둔각삼각형에서넓이구하는거어차피밑변이이거고높이는이거고어이거야근데에이치를뭐로바꿀거야우리가알고있는소문자에이씨각비로바꾸겠다는이야기입니다',\n",
       " '그런데이거바꿀건데잘보세요이삼각형에서쓰면되겠구나삼각비를그렇죠그러면이각을알면사인이거는씨분의에이치예요그걸이용하겠죠근데우리이각을어떻게표현할수있어백팔십도에서주어진비를빼는겁니다',\n",
       " '이게뭐라고백팔십도에서각비를뺀거잖아맞죠그러니까이삼각형에서우리는사인백팔십도마이너스각비가이게복잡한게아니라이거됐죠사인이각이씨분의에이치니까결국양변에씨를곱해주면이렇게올라갈테니에이치가씨사인백팔십도마이너스각비이니까에이치자리에그대로대입해보면씨사인백팔십도마이너스각비이게바로넓이를구하는공식이된다는이야기인데이게뭔가되게어렵고복잡한게아니라요여러분들단순해이거우리사인예를들어백이십도사인백이십도알아요모르잖아사인백이십도백오십도몰라요어떻게하자는얘기야이바깥쪽은예각이겠죠안쪽이둔각이면바깥쪽으로바꾸어서우리는이각을바로대입하면된다는얘기야됐습니까이공식하고이공식은다른공식처럼보이지만실제로는이공식해석해보세요이분의일곱하기두변의길이의곱이분의일곱하기두변의길이의곱주어져있잖아곱하기사인끼인각하려고했는데그게둔각이라모르니까바깥쪽을대입하자연습필요하겠죠같이함께아래쪽에있는개념확인문제한번살펴보도록하겠습니다',\n",
       " '이게지금문자로되어있어서굉장히여러분들이좀어렵게느껴지고이렇게실제로구해보면전혀어렵지않아요보겠습니다']"
      ]
     },
     "execution_count": 117,
     "metadata": {},
     "output_type": "execute_result"
    }
   ],
   "source": [
    "ws_removed_EBS[1396:1404]"
   ]
  },
  {
   "cell_type": "code",
   "execution_count": 116,
   "metadata": {},
   "outputs": [
    {
     "data": {
      "text/plain": [
       "['근데이게완전새로운공식게아니라뭘통해서나왔다',\n",
       " '아바로루피를구해서이분의일곱하기사곱하기높이초등학교때부터이방법으로푼건데단높이에이칠바로삼각비리움에서유병각비를의미표현했다라는요아이디어만새롭게추가가된다는얘기야그책에보면두번째볼수도있습니다',\n",
       " '두번째두번째도마찬가지로두변의길이가긴가기전에있는데그게임가게이제게임가기그냥간단하게이렇게게임가기등각있대요어떤느낌인지보겠습니다',\n",
       " '이렇게생겼어요어떤병인가어떤병이주어서있냐면입원하고간단하게그냥문자로쓰겠습니다요면이주어서있고이사이에가기주어져있는데그각이입니다이삼각형의넓이를편해볼거야새로운거없었어삼각형넓이어떻게이분의일곱하기윗변곱하기높였고이등변삼각형의넓이는밑변을에이라고했을때높이어떻게하더라우리높이어떻게썼죠그쳐당연히밑변에연장선긋고맞죠나머지꼭짓점에서밑변에수선연장선에서늙은요길이가높이이거에이치지금선생님이문제있는건연두색세개요맞죠그럼우리는답이뭐죠넓이어떻게구해면되지이분의일곱하기밑변곱하기소피아둔각삼각형에서넓이구하는거어차피밑변이오고높이는요거곡이거야뭘로바꿀거야우리가알고있네소문자에이씨비로바꾸겠다는이야기입니다',\n",
       " '그런데요거바꿀건데여보세요아요삼각형에서쓰면되겠구나삼각비로응그러면요가글알면싸인비싸인요거는여선생싸인요거는십에이치에이그걸이용하겠다고근데우리아들어떻게변할수있어백팔십도에서주어진비를빼는겁니다요게뭐라고백팔십도에서갖기를뺀거잖아맞죠아그러니까이거삼각형에서우리는싸인백팔십마이너스비가제사이게복잡한개를이거싸이닉씨에이치니까결국양변에씨를곱해주면이렇게올라갈테니에이치가시사인백팔십마이너스비니까에이치자리에그대로대입해보면씨스타엔백에스피이게바로넓이를구하는공식이된다라는이야긴데이게뭔가되게어렵고복잡한게아니라여러분들단숨에우리다인이레이저백이거뭘로사인백이십도알아요모르잖아싸인백이십백오십몰라요어떻게하란얘기야바깥쪽은내가이기겠지안쪽에생각이면바깥쪽으로바꾸어서우리는이각을바로매입하면된단얘기야됐으니까이가카고카고이곳이간단음식처럼보이지만실제로는계속해보세요이분의일곱하기두변의길이의이분의일곱하기두변의길이있잖아곱하기사임진각하려고했는데그게중간이라모르니까바깥쪽으로타자연습필요하겠죠같이함께아래쪽에있는그얘기개념확인문제한번살펴보도록하겠습니다',\n",
       " '문자로돼있어서굉장히여러분들이좀어렵게느껴지고이렇게실제로구해보면전혀어렵지않아요보겠습니다']"
      ]
     },
     "execution_count": 116,
     "metadata": {},
     "output_type": "execute_result"
    }
   ],
   "source": [
    "ws_removed_GOOGLE[1346:1352]"
   ]
  },
  {
   "cell_type": "code",
   "execution_count": 122,
   "metadata": {},
   "outputs": [],
   "source": [
    "s1 = '이렇게생겼어요어떤변과어떤변이주어져있냐면이변하고간단하게그냥문자로쓰겠습니다이삼각형의넓이를표현을해볼거예요새로운거없었어삼각형넓이어떻게이분의일곱하기밑변곱하기높이였고이둔각삼각형의넓이를밑변을에이라고했을때높이어떻게하더라우리높이어떻게했었죠그렇죠당연히밑변의연장선긋고맞죠나머지꼭짓점에서밑변의수선연장선에수선을그은이길이가높이예요이거에이치지금선생님이쓴겁니다문제에주어져있는건연두색삼개예요맞죠그럼우리는답이뭐죠넓이어떻게구하면되지이분의일곱하기밑변곱하기높이야이것도배웠죠둔각삼각형에서넓이구하는거어차피밑변이이거고높이는이거고어이거야근데에이치를뭐로바꿀거야우리가알고있는소문자에이씨각비로바꾸겠다는이야기입니다'"
   ]
  },
  {
   "cell_type": "code",
   "execution_count": 123,
   "metadata": {},
   "outputs": [],
   "source": [
    "s2 = '이렇게생겼어요어떤병인가어떤병이주어서있냐면입원하고간단하게그냥문자로쓰겠습니다요면이주어서있고이사이에가기주어져있는데그각이입니다이삼각형의넓이를편해볼거야새로운거없었어삼각형넓이어떻게이분의일곱하기윗변곱하기높였고이등변삼각형의넓이는밑변을에이라고했을때높이어떻게하더라우리높이어떻게썼죠그쳐당연히밑변에연장선긋고맞죠나머지꼭짓점에서밑변에수선연장선에서늙은요길이가높이이거에이치지금선생님이문제있는건연두색세개요맞죠그럼우리는답이뭐죠넓이어떻게구해면되지이분의일곱하기밑변곱하기소피아둔각삼각형에서넓이구하는거어차피밑변이오고높이는요거곡이거야뭘로바꿀거야우리가알고있네소문자에이씨비로바꾸겠다는이야기입니다'"
   ]
  },
  {
   "cell_type": "code",
   "execution_count": 124,
   "metadata": {},
   "outputs": [
    {
     "data": {
      "text/plain": [
       "90"
      ]
     },
     "execution_count": 124,
     "metadata": {},
     "output_type": "execute_result"
    }
   ],
   "source": [
    "levenshtein(s1, s2)"
   ]
  },
  {
   "cell_type": "code",
   "execution_count": null,
   "metadata": {},
   "outputs": [],
   "source": []
  },
  {
   "cell_type": "code",
   "execution_count": null,
   "metadata": {},
   "outputs": [],
   "source": []
  },
  {
   "cell_type": "code",
   "execution_count": null,
   "metadata": {},
   "outputs": [],
   "source": []
  },
  {
   "cell_type": "code",
   "execution_count": null,
   "metadata": {},
   "outputs": [],
   "source": []
  },
  {
   "cell_type": "code",
   "execution_count": 98,
   "metadata": {},
   "outputs": [
    {
     "data": {
      "text/plain": [
       "1403"
      ]
     },
     "execution_count": 98,
     "metadata": {},
     "output_type": "execute_result"
    }
   ],
   "source": [
    "ws_removed_EBS.index('이게지금문자로되어있어서굉장히여러분들이좀어렵게느껴지고이렇게실제로구해보면전혀어렵지않아요보겠습니다')"
   ]
  },
  {
   "cell_type": "code",
   "execution_count": null,
   "metadata": {},
   "outputs": [],
   "source": []
  },
  {
   "cell_type": "code",
   "execution_count": null,
   "metadata": {},
   "outputs": [],
   "source": []
  },
  {
   "cell_type": "code",
   "execution_count": null,
   "metadata": {},
   "outputs": [],
   "source": []
  },
  {
   "cell_type": "code",
   "execution_count": null,
   "metadata": {},
   "outputs": [],
   "source": []
  },
  {
   "cell_type": "code",
   "execution_count": null,
   "metadata": {},
   "outputs": [],
   "source": []
  },
  {
   "cell_type": "markdown",
   "metadata": {},
   "source": [
    "# case1"
   ]
  },
  {
   "cell_type": "markdown",
   "metadata": {},
   "source": [
    "#### 잘 맞는애들"
   ]
  },
  {
   "cell_type": "code",
   "execution_count": 132,
   "metadata": {},
   "outputs": [
    {
     "name": "stdout",
     "output_type": "stream",
     "text": [
      "1617\n",
      "1539\n"
     ]
    }
   ],
   "source": [
    "print(ws_re#### 잘 맞는애들moved_EBS.index('구하고자하는건이제둘레의길이죠간단하게둘레라고만쓰겠습니다'))\n",
    "print(ws_removed_GOOGLE.index('야구하고자는건이제둘레길이줘그냥간단하게부르라고쓰겠습니다'))"
   ]
  },
  {
   "cell_type": "markdown",
   "metadata": {},
   "source": [
    "#### XXX 잘 안맞는애들"
   ]
  },
  {
   "cell_type": "code",
   "execution_count": 133,
   "metadata": {},
   "outputs": [
    {
     "name": "stdout",
     "output_type": "stream",
     "text": [
      "1618\n",
      "1433\n"
     ]
    }
   ],
   "source": [
    "print(ws_removed_EBS.index('둘레의길이는그럼팔이이개있고그다음에누가십오가이개있어이얘기네그렇죠그러니까한마디로십오이개더하면삼십팔이개더하면십육이렇게가도되겠죠십육더하기삼십이렇게해주면결국사십육센치미터다'))\n",
    "print(ws_removed_GOOGLE.index('그럼잘보세요여기에서정리해보자나이렇게나쁜데서이의제곱더하기이분의일이에이제곱더하기이분의일에이제곱더하기삼각형비미터엔이모터사이제법이다'))"
   ]
  },
  {
   "cell_type": "markdown",
   "metadata": {},
   "source": [
    "#### XXX 잘 안맞는애들"
   ]
  },
  {
   "cell_type": "code",
   "execution_count": 134,
   "metadata": {},
   "outputs": [
    {
     "name": "stdout",
     "output_type": "stream",
     "text": [
      "1619\n",
      "1532\n"
     ]
    }
   ],
   "source": [
    "print(ws_removed_EBS.index('센티미터맞죠이렇게여러분들께서답을구해주시면끝나는거예요됐죠결국문제가좀복잡할때는구하고자하는것이무엇인가를먼저봤는데그게굉장히복잡해보이지만실제로어떤거하나만구하면되는지그포인트를잡아내는것이여러분들이이런문제를푸는데어떤핵심이되겠습니다'))\n",
    "print(ws_removed_GOOGLE.index('이렇게여러분들이생각을바꿀수있어야되겠고그빗이애기는어떻게구할거야당연히넓이구하는공식을이용한다는이야기입니다#### XXX 잘 안맞는애들'))"
   ]
  },
  {
   "cell_type": "markdown",
   "metadata": {},
   "source": [
    "#### XXX 잘 안맞는애들"
   ]
  },
  {
   "cell_type": "code",
   "execution_count": 130,
   "metadata": {},
   "outputs": [
    {
     "name": "stdout",
     "output_type": "stream",
     "text": [
      "1620\n",
      "1541\n"
     ]
    }
   ],
   "source": [
    "print(ws_removed_EBS.index('다음문제로유제칠번문제들어가보도록할텐데요유제칠번을이제평행사변형쪽은끝났으니까대각선의길이주어진거나오겠죠그렇죠문제보도록할게요이문제는사실그냥그대로예요우리가아는거땅의넓이구하래이거땅이야지금대각선주어져있고교각주어져있어뭐하라는얘기예요그렇죠넓이는이분의일곱하기두대각선의길이의곱곱하기사인육십도이거하라는얘기잖아사인육십도뭐로고칠까이분의루트삼고쳐놓고시작해보도록하겠습니다'))\n",
    "print(ws_removed_GOOGLE.index('그저문제보도록할게요이문제는사실그냥그대로왜요우리가아는거땅의넓이구할해이거짱이야지금대각선주제곡음악들어있어뭐하란얘기예요그렇죠넓이를이분의일곱하기두대각선의길이곱하기육십이거하는얘기잖아그럼뭘로지을까이분의루트삼고쳐놓고시작해보도록하겠습니다'))"
   ]
  },
  {
   "cell_type": "markdown",
   "metadata": {},
   "source": [
    "#### 잘 맞는애들"
   ]
  },
  {
   "cell_type": "code",
   "execution_count": 131,
   "metadata": {},
   "outputs": [
    {
     "name": "stdout",
     "output_type": "stream",
     "text": [
      "1621\n",
      "1542\n"
     ]
    }
   ],
   "source": [
    "print(ws_removed_EBS.index('그러면이분의십오될테고요이분의오곱하기칠는삼십오죠이분의삼십오루트삼단위는제곱미터선택지에서몇번이다'))\n",
    "print(ws_removed_GOOGLE.index('이분의십오될테구요이분의오십칠길삼십오삼십오루트삼의제곱미터선택지에서몇번이다이번이다'))"
   ]
  },
  {
   "cell_type": "code",
   "execution_count": 161,
   "metadata": {},
   "outputs": [
    {
     "name": "stdout",
     "output_type": "stream",
     "text": [
      "둘레의길이는그럼팔이이개있고그다음에누가십오가이개있어이얘기네그렇죠그러니까한마디로십오이개더하면삼십팔이개더하면십육이렇게가도되겠죠십육더하기삼십이렇게해주면결국사십육센치미터다센티미터맞죠이렇게여러분들께서답을구해주시면끝나는거예요됐죠결국문제가좀복잡할때는구하고자하는것이무엇인가를먼저봤는데그게굉장히복잡해보이지만실제로어떤거하나만구하면되는지그포인트를잡아내는것이여러분들이이런문제를푸는데어떤핵심이되겠습니다다음문제로유제칠번문제들어가보도록할텐데요유제칠번을이제평행사변형쪽은끝났으니까대각선의길이주어진거나오겠죠그렇죠문제보도록할게요이문제는사실그냥그대로예요우리가아는거땅의넓이구하래이거땅이야지금대각선주어져있고교각주어져있어뭐하라는얘기예요그렇죠넓이는이분의일곱하기두대각선의길이의곱곱하기사인육십도이거하라는얘기잖아사인육십도뭐로고칠까이분의루트삼고쳐놓고시작해보도록하겠습니다\n"
     ]
    }
   ],
   "source": [
    "print(''.join(ws_removed_EBS[1617+1: 1621]))"
   ]
  },
  {
   "cell_type": "code",
   "execution_count": 162,
   "metadata": {},
   "outputs": [
    {
     "name": "stdout",
     "output_type": "stream",
     "text": [
      "블레이디는금파리두개있고그다음에누가십오가두개있어이얘기네그죠그러니까한마디로치고두개다하면삼십팔두개다음에십육이렇게가도되겠지뭐십육더하기삼십이이렇게해주면결국사십얼마죠육씨미터다일씨미터왔죠이렇게해서답을보여주시면끝나는거야내가좀복잡할텐데구하고자는것이무엇인가먼저봤는데그게굉장히복잡해보이지만실제로어떤거하나만구하면되는데그포인트를잡아내는것이여러분들이이런문제를푸는데어떤학생이진짜다음지도이제칠번문제들어가보도록할텐데요이제칠번은이제평행사변형조금끝났으니까대각선의길이좋아진거나오겠다그저문제보도록할게요이문제는사실그냥그대로왜요우리가아는거땅의넓이구할해이거짱이야지금대각선주제곡음악들어있어뭐하란얘기예요그렇죠넓이를이분의일곱하기두대각선의길이곱하기육십이거하는얘기잖아그럼뭘로지을까이분의루트삼고쳐놓고시작해보도록하겠습니다\n"
     ]
    }
   ],
   "source": [
    "print(''.join(ws_removed_GOOGLE[1539+1: 1542]))"
   ]
  },
  {
   "cell_type": "markdown",
   "metadata": {},
   "source": [
    "# case2"
   ]
  },
  {
   "cell_type": "markdown",
   "metadata": {},
   "source": [
    "#### 잘 맞는애들"
   ]
  },
  {
   "cell_type": "code",
   "execution_count": 138,
   "metadata": {},
   "outputs": [
    {
     "name": "stdout",
     "output_type": "stream",
     "text": [
      "2276\n",
      "2128\n"
     ]
    }
   ],
   "source": [
    "print(ws_removed_EBS.index('문제가이렇게되어있다는얘기야사인이주어져있어요그리고코사인하고탄젠트를구하래조금아까는사인이주어져있었고삼각형주어진다음에하나변주어져있었고나머지두변구하는거였고지금은사인에이가얼마라고알려주고나머지코사인에이하고탄젠트에이를구하라고했습니다'))\n",
    "print(ws_removed_GOOGLE.index('문제가있다는거야싸인이주어져있어요그리고코사인탄젠트를구하라조금아까는싸인이주어도있었고삼각형주어진다음에일번주어질수없고나머지두명구하는거같고지금은싸인에이가얼마사라고알려주고나머지코사인탄젠트일을구하라그랬습니다'))"
   ]
  },
  {
   "cell_type": "markdown",
   "metadata": {},
   "source": [
    "#### XXX 잘 안맞는애들"
   ]
  },
  {
   "cell_type": "code",
   "execution_count": 139,
   "metadata": {},
   "outputs": [
    {
     "name": "stdout",
     "output_type": "stream",
     "text": [
      "2277\n",
      "2129\n"
     ]
    }
   ],
   "source": [
    "print(ws_removed_EBS.index('이유형이왜어려울까딱하나예요어려운이유는그림이없어서뭐라고요그림이없어서그럼해결방법은뭘까그림을그리면돼요단순하죠그림을그려삼각비는무슨삼각형직각삼각형에서한다고했잖아직각삼각형을그리면끝나요그런데그시작그리는게귀찮아아니면어떻게그려야할지몰라서머뭇머뭇그래서이유형을모르는거예요그림을그리기만하면됩니다'))\n",
    "print(ws_removed_GOOGLE.index('왜어려울것딱하나예요어려운이유는그림이없어서뭐라고요그림이없어서그래방법은뭘까그림을그리면돼요단순하죠그림을그려삼각비무슨삼각형직각삼각형에서한다'))"
   ]
  },
  {
   "cell_type": "markdown",
   "metadata": {},
   "source": [
    "#### 잘 맞는애들"
   ]
  },
  {
   "cell_type": "code",
   "execution_count": 141,
   "metadata": {},
   "outputs": [
    {
     "name": "stdout",
     "output_type": "stream",
     "text": [
      "2278\n",
      "2131\n"
     ]
    }
   ],
   "source": [
    "print(ws_removed_EBS.index('개념은이렇게되어있어요삼각비중어느하나의값을알때다른삼각비의값은어떻게한다고요첫번째가포인트예요직각삼각형그리세요그릴수있습니다'))\n",
    "print(ws_removed_GOOGLE.index('개념은이렇게돼있어요삼각비중어느하나의값을할때다른생각의값은어떻게한다고첫번째가프린트직각삼각형그리세요그릴수있습니다'))"
   ]
  },
  {
   "cell_type": "code",
   "execution_count": 157,
   "metadata": {},
   "outputs": [
    {
     "name": "stdout",
     "output_type": "stream",
     "text": [
      "이유형이왜어려울까딱하나예요어려운이유는그림이없어서뭐라고요그림이없어서그럼해결방법은뭘까그림을그리면돼요단순하죠그림을그려삼각비는무슨삼각형직각삼각형에서한다고했잖아직각삼각형을그리면끝나요그런데그시작그리는게귀찮아아니면어떻게그려야할지몰라서머뭇머뭇그래서이유형을모르는거예요그림을그리기만하면됩니다\n",
      "\n",
      "왜어려울것딱하나예요어려운이유는그림이없어서뭐라고요그림이없어서그래방법은뭘까그림을그리면돼요단순하죠그림을그려삼각비무슨삼각형직각삼각형에서한다그랬잖아직각삼각형을그리면끝나요근데그시작드리는게귀찮아아니면어떻게그려야될지몰라서머뭇머뭇그래서유형을모르는거예요그림을그리기만하면됩니다\n"
     ]
    }
   ],
   "source": [
    "print(''.join(ws_removed_EBS[2276+1:2278]))\n",
    "print()\n",
    "print(''.join(ws_removed_GOOGLE[2128+1:2131]))"
   ]
  },
  {
   "cell_type": "markdown",
   "metadata": {},
   "source": [
    "# case3"
   ]
  },
  {
   "cell_type": "markdown",
   "metadata": {},
   "source": [
    "#### 잘 맞는애들"
   ]
  },
  {
   "cell_type": "code",
   "execution_count": 144,
   "metadata": {},
   "outputs": [
    {
     "name": "stdout",
     "output_type": "stream",
     "text": [
      "2393\n",
      "2245\n"
     ]
    }
   ],
   "source": [
    "print(ws_removed_EBS.index('따라서사십오도가기준각이면사인코사인탄젠트생각할수있을겁니다'))\n",
    "print(ws_removed_GOOGLE.index('따라서사십오도바퀴중간이면싸인코사인탄젠트생각할수있을겁니다'))"
   ]
  },
  {
   "cell_type": "markdown",
   "metadata": {},
   "source": [
    "#### XXX 잘 안맞는애들"
   ]
  },
  {
   "cell_type": "code",
   "execution_count": 145,
   "metadata": {},
   "outputs": [
    {
     "name": "stdout",
     "output_type": "stream",
     "text": [
      "2394\n",
      "2269\n"
     ]
    }
   ],
   "source": [
    "print(ws_removed_EBS.index('사인코사인탄젠트사십오도가머릿속을스쳐지나가야해그다음오른쪽에있는삼각형에이씨디에서도보겠습니다'))\n",
    "print(ws_removed_GOOGLE.index('사인코사인안에있는작은사각형탄젠트는밖에있는삼각형에서생각한다'))"
   ]
  },
  {
   "cell_type": "markdown",
   "metadata": {},
   "source": [
    "#### XXX 잘 안맞는애들"
   ]
  },
  {
   "cell_type": "code",
   "execution_count": 146,
   "metadata": {},
   "outputs": [
    {
     "name": "stdout",
     "output_type": "stream",
     "text": [
      "2395\n",
      "2269\n"
     ]
    }
   ],
   "source": [
    "print(ws_removed_EBS.index('이삼각형은선생님직각삼각형인데기준각육십도로보거나아니면이각이삼십도니까그걸갖고어쨌든할거예요여기서포인트는에이디가왼쪽에있는삼각형의한변이면서오른쪽에있는삼각형의한변이야즉에이디를매개삼아우리는구할거야이생각을해야하는거예요그러면첫번째에이디의길이구하라고하잖아이걸구해야시작한다고포인트예요그러면에이디는어떻게구해당연히여기서는하나도변을모르니까오른쪽에서구하는거겠죠분홍색삼각형에서즉이건어디서구해삼각형에이디씨에서구해볼거예요에이디씨에서어떻게됩니까아높이를구하라는얘기네육십도에서바라봤을때의높이빗변이사고높이즉사분의에이디가바로빗변분의높이사인육십도구나그러니까사인육십도는이분의루트삼이잖아그렇죠그러니까양변에사배해주면에이디는결국뭐가돼사곱하기이분의루트삼이돼서이루트삼이다'))\n",
    "print(ws_removed_GOOGLE.index('사인코사인안에있는작은사각형탄젠트는밖에있는삼각형에서생각한다#### XXX 잘 안맞는애들'))"
   ]
  },
  {
   "cell_type": "markdown",
   "metadata": {},
   "source": [
    "#### XXX 잘 안맞는애들"
   ]
  },
  {
   "cell_type": "code",
   "execution_count": 147,
   "metadata": {},
   "outputs": [
    {
     "name": "stdout",
     "output_type": "stream",
     "text": [
      "2396\n",
      "2269\n"
     ]
    }
   ],
   "source": [
    "print(ws_removed_EBS.index('여기까지여러분들이구할수있는거예요아이길이가이루트삼이구나그렇다면두번째에이비의길이는어떻게구할수있을까에이비는이거네아선생님이걸기준각으로봤을때빗변을알고싶은거예요그런데기준각에서마주보이는높이가주어져있어요그러면우리머릿속에빡스쳐지나가는거야빗변하고높이네뭐야사인이네됐죠두번째거는사인사십오도를이용해야겠네사인사십오도가뭐분의뭐야에이비분의이루트삼이라는거예요에이비분의이루트삼그런데사인사십오도외웠죠몇이에요이분의루트이입니다'))\n",
    "print(ws_removed_GOOGLE.index('사인코사인안에있는#### XXX 잘 안맞는애들작은사각형탄젠트는밖에있는삼각형에서생각한다'))"
   ]
  },
  {
   "cell_type": "markdown",
   "metadata": {},
   "source": [
    "#### 잘 맞는애들"
   ]
  },
  {
   "cell_type": "code",
   "execution_count": 148,
   "metadata": {},
   "outputs": [
    {
     "name": "stdout",
     "output_type": "stream",
     "text": [
      "2397\n",
      "2247\n"
     ]
    }
   ],
   "source": [
    "print(ws_removed_EBS.index('됐죠그럼여기서우리는에이비를구할거고대각선끼리곱하면같다고이야기했어요루트이에이비가몇루트삼사루트삼이니까이렇게곱하면양변을루트이로나누면에이비는루트이분의사루트삼이고유리화해서루트이분의루트이를곱해주면잘보세요분모얼마예요이죠분자얼마예요사루트육이죠그러니까이분의사만약분해주면결국이루트육까지여러분들이에이비의길이를구할수있습니다'))\n",
    "print(ws_removed_GOOGLE.index('됐어그럼여기서우리레이블을할거고대각선길이곱하면같다라고이야기했어요비가몇노트삼사루트삼의이렇게곱하면양변을일어나면에이비는루트이분의루트삼의유리하게해서루트이의루트일을보태주면잘보세요부모얼마예요이적분자얼마예요사루트유기적그러니까이분의사만약분해주면결국이루트육가지여러분들이에이브이에이지일을할수있습니다'))"
   ]
  },
  {
   "cell_type": "code",
   "execution_count": 151,
   "metadata": {},
   "outputs": [
    {
     "data": {
      "text/plain": [
       "'사인코사인탄젠트사십오도가머릿속을스쳐지나가야해그다음오른쪽에있는삼각형에이씨디에서도보겠습니다이삼각형은선생님직각삼각형인데기준각육십도로보거나아니면이각이삼십도니까그걸갖고어쨌든할거예요여기서포인트는에이디가왼쪽에있는삼각형의한변이면서오른쪽에있는삼각형의한변이야즉에이디를매개삼아우리는구할거야이생각을해야하는거예요그러면첫번째에이디의길이구하라고하잖아이걸구해야시작한다고포인트예요그러면에이디는어떻게구해당연히여기서는하나도변을모르니까오른쪽에서구하는거겠죠분홍색삼각형에서즉이건어디서구해삼각형에이디씨에서구해볼거예요에이디씨에서어떻게됩니까아높이를구하라는얘기네육십도에서바라봤을때의높이빗변이사고높이즉사분의에이디가바로빗변분의높이사인육십도구나그러니까사인육십도는이분의루트삼이잖아그렇죠그러니까양변에사배해주면에이디는결국뭐가돼사곱하기이분의루트삼이돼서이루트삼이다여기까지여러분들이구할수있는거예요아이길이가이루트삼이구나그렇다면두번째에이비의길이는어떻게구할수있을까에이비는이거네아선생님이걸기준각으로봤을때빗변을알고싶은거예요그런데기준각에서마주보이는높이가주어져있어요그러면우리머릿속에빡스쳐지나가는거야빗변하고높이네뭐야사인이네됐죠두번째거는사인사십오도를이용해야겠네사인사십오도가뭐분의뭐야에이비분의이루트삼이라는거예요에이비분의이루트삼그런데사인사십오도외웠죠몇이에요이분의루트이입니다'"
      ]
     },
     "execution_count": 151,
     "metadata": {},
     "output_type": "execute_result"
    }
   ],
   "source": [
    "''.join(ws_removed_EBS[2393+1:2397])"
   ]
  },
  {
   "cell_type": "code",
   "execution_count": 152,
   "metadata": {},
   "outputs": [
    {
     "data": {
      "text/plain": [
       "'사인코사인탄젠트사십오도가머릿속으로스쳐지나가야돼그다음오른쪽에있는삼각형에이씨뒤에서도보겠습니다요삼각형은선생님직각삼각형인데기준각육십도로육가길삼십주니까그걸갖고어쨌든할거예요여기서포인트는팔위가왼쪽에있는삼각형의한별이면서오른쪽에있는삼각형에한별이한테팔일을매개사마귀는구할이생각을해야되는거야그러면첫번째애인구하려고하잖아이걸구일시작한다고포인트에요그러면애들어떻게당연히여기서는하나도변을모르니까오른쪽에서부터하는거겠지분홍색삼각형에서요건어디서해삼각형에이비씨에서구해볼거예요에이비씨에서어떻게됩니까높이를관한얘기네육십도에서바라봤을때높이아빗변이사고높이사분의에이피가바로빗변분의높이사인육십도구나그러니까싸인육십돌을이분의루트삼이잖아그죠그러니까양변에내비에주면에이디는결국뭐가돼사곱하기이분의루트삼의돼서이의루트삼의다여기까지여러분들이구할수있는거야아여기가이일부터자그렇다면이엔디에이브이이기린은어떻게갈수있을까이거네아선생님요거기준값으로봤을때빗변을알고싶은거예요근데기준과리스마스보이는높이가저하됐을우리말을빠빠빠나는변하고높이이래뭐야쌓이네됐죠아두번째거를싸인사십오들을이용해야되겠네싸인사십오도감오분의뭐야에이비에스삼십이원하는거예요이분의루트삼근데싸인사십오내세요이분의루트입니다'"
      ]
     },
     "execution_count": 152,
     "metadata": {},
     "output_type": "execute_result"
    }
   ],
   "source": [
    "''.join(ws_removed_GOOGLE[2245+1:2247])"
   ]
  },
  {
   "cell_type": "code",
   "execution_count": null,
   "metadata": {},
   "outputs": [],
   "source": []
  },
  {
   "cell_type": "code",
   "execution_count": null,
   "metadata": {},
   "outputs": [],
   "source": []
  },
  {
   "cell_type": "code",
   "execution_count": null,
   "metadata": {},
   "outputs": [],
   "source": []
  },
  {
   "cell_type": "code",
   "execution_count": null,
   "metadata": {},
   "outputs": [],
   "source": []
  },
  {
   "cell_type": "code",
   "execution_count": null,
   "metadata": {},
   "outputs": [],
   "source": []
  },
  {
   "cell_type": "code",
   "execution_count": null,
   "metadata": {},
   "outputs": [],
   "source": []
  },
  {
   "cell_type": "code",
   "execution_count": null,
   "metadata": {},
   "outputs": [],
   "source": [
    "print(ws_removed_EBS.index(''))\n",
    "print(ws_removed_GOOGLE.index(''))"
   ]
  },
  {
   "cell_type": "code",
   "execution_count": null,
   "metadata": {},
   "outputs": [],
   "source": [
    "print(ws_removed_EBS.index(''))\n",
    "print(ws_removed_GOOGLE.index(''))"
   ]
  },
  {
   "cell_type": "code",
   "execution_count": null,
   "metadata": {},
   "outputs": [],
   "source": [
    "print(ws_removed_EBS.index(''))\n",
    "print(ws_removed_GOOGLE.index(''))"
   ]
  },
  {
   "cell_type": "code",
   "execution_count": null,
   "metadata": {},
   "outputs": [],
   "source": [
    "print(ws_removed_EBS.index(''))\n",
    "print(ws_removed_GOOGLE.index(''))"
   ]
  },
  {
   "cell_type": "code",
   "execution_count": null,
   "metadata": {},
   "outputs": [],
   "source": [
    "print(ws_removed_EBS.index(''))\n",
    "print(ws_removed_GOOGLE.index(''))"
   ]
  },
  {
   "cell_type": "code",
   "execution_count": null,
   "metadata": {},
   "outputs": [],
   "source": [
    "print(ws_removed_EBS.index(''))\n",
    "print(ws_removed_GOOGLE.index(''))"
   ]
  },
  {
   "cell_type": "code",
   "execution_count": null,
   "metadata": {},
   "outputs": [],
   "source": [
    "print(ws_removed_EBS.index(''))\n",
    "print(ws_removed_GOOGLE.index(''))"
   ]
  },
  {
   "cell_type": "code",
   "execution_count": null,
   "metadata": {},
   "outputs": [],
   "source": [
    "print(ws_removed_EBS.index(''))\n",
    "print(ws_removed_GOOGLE.index(''))"
   ]
  },
  {
   "cell_type": "code",
   "execution_count": null,
   "metadata": {},
   "outputs": [],
   "source": [
    "print(ws_removed_EBS.index(''))\n",
    "print(ws_removed_GOOGLE.index(''))"
   ]
  },
  {
   "cell_type": "code",
   "execution_count": null,
   "metadata": {},
   "outputs": [],
   "source": [
    "print(ws_removed_EBS.index(''))\n",
    "print(ws_removed_GOOGLE.index(''))"
   ]
  },
  {
   "cell_type": "code",
   "execution_count": null,
   "metadata": {},
   "outputs": [],
   "source": [
    "print(ws_removed_EBS.index(''))\n",
    "print(ws_removed_GOOGLE.index(''))"
   ]
  },
  {
   "cell_type": "code",
   "execution_count": null,
   "metadata": {},
   "outputs": [],
   "source": [
    "print(ws_removed_EBS.index(''))\n",
    "print(ws_removed_GOOGLE.index(''))"
   ]
  },
  {
   "cell_type": "code",
   "execution_count": null,
   "metadata": {},
   "outputs": [],
   "source": [
    "print(ws_removed_EBS.index(''))\n",
    "print(ws_removed_GOOGLE.index(''))"
   ]
  },
  {
   "cell_type": "code",
   "execution_count": null,
   "metadata": {},
   "outputs": [],
   "source": [
    "print(ws_removed_EBS.index(''))\n",
    "print(ws_removed_GOOGLE.index(''))"
   ]
  },
  {
   "cell_type": "code",
   "execution_count": null,
   "metadata": {},
   "outputs": [],
   "source": [
    "print(ws_removed_EBS.index(''))\n",
    "print(ws_removed_GOOGLE.index(''))"
   ]
  },
  {
   "cell_type": "code",
   "execution_count": null,
   "metadata": {},
   "outputs": [],
   "source": [
    "print(ws_removed_EBS.index(''))\n",
    "print(ws_removed_GOOGLE.index(''))"
   ]
  },
  {
   "cell_type": "code",
   "execution_count": null,
   "metadata": {},
   "outputs": [],
   "source": [
    "print(ws_removed_EBS.index(''))\n",
    "print(ws_removed_GOOGLE.index(''))"
   ]
  },
  {
   "cell_type": "code",
   "execution_count": null,
   "metadata": {},
   "outputs": [],
   "source": [
    "print(ws_removed_EBS.index(''))\n",
    "print(ws_removed_GOOGLE.index(''))"
   ]
  },
  {
   "cell_type": "code",
   "execution_count": null,
   "metadata": {},
   "outputs": [],
   "source": [
    "print(ws_removed_EBS.index(''))\n",
    "print(ws_removed_GOOGLE.index(''))"
   ]
  },
  {
   "cell_type": "code",
   "execution_count": null,
   "metadata": {},
   "outputs": [],
   "source": [
    "print(ws_removed_EBS.index(''))\n",
    "print(ws_removed_GOOGLE.index(''))"
   ]
  },
  {
   "cell_type": "code",
   "execution_count": null,
   "metadata": {},
   "outputs": [],
   "source": [
    "print(ws_removed_EBS.index(''))\n",
    "print(ws_removed_GOOGLE.index(''))"
   ]
  },
  {
   "cell_type": "code",
   "execution_count": null,
   "metadata": {},
   "outputs": [],
   "source": [
    "print(ws_removed_EBS.index(''))\n",
    "print(ws_removed_GOOGLE.index(''))"
   ]
  },
  {
   "cell_type": "code",
   "execution_count": null,
   "metadata": {},
   "outputs": [],
   "source": []
  }
 ],
 "metadata": {
  "kernelspec": {
   "display_name": "Python 3",
   "language": "python",
   "name": "python3"
  },
  "language_info": {
   "codemirror_mode": {
    "name": "ipython",
    "version": 3
   },
   "file_extension": ".py",
   "mimetype": "text/x-python",
   "name": "python",
   "nbconvert_exporter": "python",
   "pygments_lexer": "ipython3",
   "version": "3.7.6"
  }
 },
 "nbformat": 4,
 "nbformat_minor": 4
}
