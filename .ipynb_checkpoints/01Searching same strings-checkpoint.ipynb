{
 "cells": [
  {
   "cell_type": "code",
   "execution_count": 1,
   "metadata": {},
   "outputs": [],
   "source": [
    "import re\n",
    "import pickle\n",
    "from soynlp.hangle import levenshtein\n",
    "from konlpy.tag import Kkma\n",
    "from PreProcessing import find_common_part"
   ]
  },
  {
   "cell_type": "code",
   "execution_count": 2,
   "metadata": {},
   "outputs": [],
   "source": [
    "from soynlp.hangle import levenshtein, jamo_levenshtein\n",
    "from konlpy.tag import Kkma, Mecab, Okt, Komoran, Hannanum\n",
    "from jamo import h2j, j2hcj, j2h"
   ]
  },
  {
   "cell_type": "code",
   "execution_count": 3,
   "metadata": {},
   "outputs": [],
   "source": [
    "from PreProcessing.find_common_part import find_common_part\n",
    "from PreProcessing.Dictionary import sd, ad, kopro\n",
    "from PreProcessing.Opentext import get_EBS, get_EBS_entered, get_STT1_Google_entered, get_STT1_Google, get_STT1_Transcribe_entered"
   ]
  },
  {
   "cell_type": "code",
   "execution_count": 4,
   "metadata": {},
   "outputs": [
    {
     "name": "stdout",
     "output_type": "stream",
     "text": [
      "['lec00001_EBS.txt', 'lec00002_EBS.txt', 'lec00003_EBS.txt', 'lec00004_EBS.txt', 'lec00005_EBS.txt', 'lec00006_EBS.txt', 'lec00007_EBS.txt', 'lec00008_EBS.txt', 'lec00009_EBS.txt', 'lec00010_EBS.txt', 'lec00011_EBS.txt', 'lec00012_EBS.txt', 'lec00013_EBS.txt', 'lec00014_EBS.txt', 'lec00015_EBS.txt', 'lec00016_EBS.txt', 'lec00017_EBS.txt', 'lec00018_EBS.txt', 'lec00019_EBS.txt', 'lec00020_EBS.txt', 'lec00021_EBS.txt', 'lec00022_EBS.txt', 'lec00023_EBS.txt', 'lec00024_EBS.txt', 'lec00025_EBS.txt', 'lec00026_EBS.txt']\n"
     ]
    }
   ],
   "source": [
    "EBS = get_EBS(1, 26)"
   ]
  },
  {
   "cell_type": "code",
   "execution_count": 5,
   "metadata": {},
   "outputs": [
    {
     "name": "stdout",
     "output_type": "stream",
     "text": [
      "['lec00001_STT1_Google.txt', 'lec00002_STT1_Google.txt', 'lec00003_STT1_Google.txt', 'lec00004_STT1_Google.txt', 'lec00005_STT1_Google.txt', 'lec00006_STT1_Google.txt', 'lec00007_STT1_Google.txt', 'lec00008_STT1_Google.txt', 'lec00009_STT1_Google.txt', 'lec00010_STT1_Google.txt', 'lec00011_STT1_Google.txt', 'lec00012_STT1_Google.txt', 'lec00013_STT1_Google.txt', 'lec00014_STT1_Google.txt', 'lec00015_STT1_Google.txt', 'lec00016_STT1_Google.txt', 'lec00017_STT1_Google.txt', 'lec00018_STT1_Google.txt', 'lec00019_STT1_Google.txt', 'lec00020_STT1_Google.txt', 'lec00021_STT1_Google.txt', 'lec00022_STT1_Google.txt', 'lec00023_STT1_Google.txt', 'lec00024_STT1_Google.txt', 'lec00025_STT1_Google.txt', 'lec00026_STT1_Google.txt']\n"
     ]
    }
   ],
   "source": [
    "GOOGLE = get_STT1_Google(1, 26)"
   ]
  },
  {
   "cell_type": "code",
   "execution_count": 6,
   "metadata": {},
   "outputs": [
    {
     "data": {
      "text/plain": [
       "'게 수선을 똑같이 그어 주면 바로 두 직각삼각형 ABC하고, ADE는 서로 어떤 닮음?AA닮음이 된다. 이건 우리가 중학교 2학년 때 배웠죠, 그렇죠? ∠A가 공통이고, 그다음에 둘 다 직각을 갖고 있으니까 AA닮음이 될 테고.우리가 중2 때 배웠던 닮음비라는 건 뭐였냐 하면 대응하는 변의 길이의 비였어요, 그렇죠? 그래서 만약에 이 길이를 5라고 해 보고, 이 길이를 10이라고 해 보면.두 삼각형의 닮음비는 5:10. 1:2겠죠. 그렇다면 우리가 이 길이를 4라고 놔 보면, 이 길이는 얼마가 됩니까, 당연히? 그렇죠. 4의 두 배인 8이 돼야 돼.이 길이를 거꾸로 우리가 6이라고 해 보겠습니다. 그럼 거꾸로 이 작은 쪽은 얼마가 될까? 1:2, 2:1. 얼마? 3이 돼야 된다는 걸 여러분들이 알 수 있죠.그래서 우리는 닮음비라는 건 ‘작은 삼각형과 큰 삼각형의 대응하는 변의 길이의 비’이니까 5:10, 3:6, 4:8. 이것이 모두 다 1:2로 같고 그것을 닮음비라고 한다.이렇게 공부를 했었는데 이것 말고도 이러한 것들도 성립할 거란 얘기예요. 예를 들어 작은 삼각형에서 빗변 분의 높이 얼마입니까? 5분의3이죠?큰 삼각형에서 빗변 분의 높이 얼마죠? 10분의6이죠. 이 둘 어때요? 5분의3으로 서로 같다는 거 확인할 수 있고.또 마찬가지로 작은 삼각형에서 예를 들어서 빗변 분의 밑변 해 봅시다. 5분의4죠. 큰 삼각형에서 빗변 분의 밑변 해 보면 얼마죠?10분의8이죠. 근데 이것도 서로 어때? 같아요. 마찬가지로 하나 더 해 볼까요? 작은 삼각형에서 밑변 분의 높이는 4분의3이죠.큰 삼각형에서 밑변 분의 높이는 어때요? 8분의6인데, 이들이 모두 다 어때? 같다는 걸 여러분들이 알 수 있단 얘기예요. 결국 지금 이 둘의 차이는, 같은 거 같아 보이나요? 조금 달라요.작은 삼각형과 큰 삼각형의 두 대응변의 길이의 비를 이야기하는 게 닮음비고, 한 삼각형에서 어떤 두 변을 뽑아서 그 둘의 비랑 큰 삼각형에서 그 둘의 길이의 비는비가 서로 같은 성질이 있다는 게 바로 닮은 직각삼각형에서 갖는 성질입니다. 그렇다면 이제 우리가 이 내용은 당연히 받아들일 수 있을 테니이 내용에 대해서 간단하게 확인 문제 한번 살펴보고 가도록 하겠습니다. ‘오른쪽 그림과 같은 △ABC, 안에 있는 작은 삼각형. 큰 삼각형 ADE가 있습니다. 다음을 구하세요.’ 라고 했는데우리 큰 삼각형에선 지금 길이를 알 수 가 없어요, 그렇죠? 작은 삼각형만 주어져 있는데 구하라는 건 뭔가 봤더니 AE분의DE. 그려 볼까요? AE분의DE가 뭘까?AE분의DE? 큰 삼각형에서의 빗변 분의 높이를 구하라는 얘기네. 근데 그건 우리가 결국 누구를 구하는 것과 같다?\\u3000작은 삼각형에서의 빗변 분의 높이와 서로 어때? 같다는 이야기입니다.왜? 두 직각삼각형은 서로 닮음이니까. 그럼 결국 이건 뭐라고 쓸 수 있어요? 바로 가 볼게요. 빗변 분의 높이였으니, 빗변 분의 높이 이렇게 해 주면 √2분의1이 될 테고. 유리화해서 2분의√2.이렇게 여러분들이 구할 수 있다는 얘기입니다. 하나 더. 두 번째 거. 뭘 구하라고 했습니까? AE분의AD이죠. AE분의AD. 빗변 분의 밑변이네? 나와 있진 않지만 우린 구할 수 있다.작은 직각삼각형에서 빗변 분의 밑변을 해 주면 되니까 √2분의1이구나. 이렇게 여러분들께서 구해서 유리화까지만 해 주면 바로 답을 구할 수 있다는 이야기예요.어렵나요? 아직까지 내용은 전혀 어렵지 않죠? 이제 우리가 삼각비의 뜻. 바로 오늘 핵심입니다, 오늘 핵심 개념.삼각비의 뜻에 대해서는 여러분들께서 시중에 있는 문제집이나 아니면 다른 여러 가지 학습 방법을 통해서 공부를 했을 텐데. 뭐 사인, 코사인, 탄젠트라는 걸 들어본 친구들도 있을 거고요.그걸 삼각비라고 한다고 되어 있어요, 보통 문제집에 개념이. 그런데 삼각비의 뜻은 사실 그것만 의미하는 게 아닙니다. 선생님이 정확한 개념을 시작해 볼 테니까 집중해서 들어 주시기 바랍니'"
      ]
     },
     "execution_count": 6,
     "metadata": {},
     "output_type": "execute_result"
    }
   ],
   "source": [
    "EBS[1070:3000]\n",
    "# EBS"
   ]
  },
  {
   "cell_type": "code",
   "execution_count": 7,
   "metadata": {},
   "outputs": [
    {
     "data": {
      "text/plain": [
       "' 수선을 똑같이 보여 주면 바로 2차각성 가평 a b a d는 서로 어떤 닮은 a 닮음이 된다 이건 우리가 중학교 2학년 때 가게가 통이고 그다음에 둘 다 치과를 갖고 있으니까 a 삶이 될 테고 우리가 주의 때문에 어떤 닮음비 일하는 건 뭐냐면 대응하는 변의 길이의 비 왔어요 그래서 그래서 만약에 이게들을 오라고 해 보고 얘기를 11분 삼각형의 닮음 비는 5대 11대 이겠죠 자 그렇다면 우리가이 길을 사라고 나 보면 이게 된 얼마나 됩니까 당연히 그쵸 5일 8일 해야 돼 진짜이 길을 걷고 우리가 6이라고 해보겠습니다 그럼 거꾸로 작은 쪽은 얼마나 됐다 1대 2대 1 얼마 3일 돼야 된다는 걸 여러분들이 할 수 있죠\\n 우리는 닮은 비라는 건 작은 삼각형과 큰 삼각형의 대응하는 변의 길이의 비니까 오대식 3대 6\\n 4대 8 이것이 모두 다 일대일로 갖고 그것을 닮음비라고 한다 이렇게 공부했었는데 이것 말고도 이런 것들도 성립할 거라 예를 들어 작은 삼각형에서 빗변분의 높이 얼마입니까 큰 삼각형에서 빗변분의 높이 얼마죠 숯불에 유기적 이들 어때요 5분의 3으로 서로 같다라는 확인할 수 있고 또 마찬가지로 자는 삼각형에서 예를 들어서 빗변분의 밑변에 봅시다 5분의 4 적 큰 삼각형에서 변 분에 밑변에 보면 얼마죠 10분에 반이죠 근데 이것도 사러 때 같아요 마찬가지로 하나 더 해 볼까요 작은 삼각형에서 밑변 불에 높이는 4분의 3 이적 큰 삼각형에서 미평 그래도 필요 없대요 8분의 6인데 이들이 모두 다 어때 같다란 걸려 놈들이 알 수 있단 얘기야 결국 지금이 둘의 차이는 같은 거 같아 보이나요\\n 달라요 작은 삼각형과 큰 삼각형의 두 대는 변의길이 비를 이야기 한게 닮음비고 1 삼각형에서 어떤 두 병을 뽑아서 그들의 비람 큰 삼각형 둘레 길이 8m 서로 비가 서로 같은 성질이 있다라는게 바로 닮은 직각삼각형에서 성질입니다 이제 우리 가요 내용은 당연히 받아들일 수 있을 테니이 내용에 대해서 간단하게 확인 문자 한번 살펴보고 가도록 하겠습니다 오른쪽 그림과 같은 삼각형 abc 안에 있는 작은 단답형 큰 삼각형 AD가 있습니다 답을 구하세요라고 했는데 저기 큰 삼각형에서 지금 길을 알 수가 없어요 그죠 작은 삼각형 만 주어져 있는데 구하라는 건 못 가고 갔더니 advantage2 브레디 얼굴 큰 삼각형에서 빗변분의 높이를 구하라 얘기네 근데 그건 우리가 결국 눈물을 구하는 것과 같다 자는 삼각형에서\\n 소피아 서울 어때 같다라는 이야기입니다 왜 두 직각삼각형은 서로 닮은 이니까 결국 이거 뭐라고 쓸 수 있어요 바로가 볼게요 빗변분의 높이 였으니 견본의 높이 이렇게 해주면 루트 2의 제곱 유리가에서 2분의 루트 2 이렇게 사람들이 구할 수 있다는 겁니다 하나 더 두 번째 건 뭘 바라 그랬으니까 ae-8 잊어 ae 분해 분해 at 아하 빗변분의 밑변 이래 왜 나와 있지 않지만 우리는 할 수 있다 작은 직각삼각형에서 빗변분의 밑변을 해 주면 되니까 루트 2분의 1 이렇게 계속 구해서 유리 한 가지만 해 주면 바로 답을 구할 수 있다라는 이야기해요 어렵나요 아직까지 내용은 전혀 어렵지 않죠 자 이제 우리가 삼각비 뜻 바로 오늘 핵심입니다 오늘 핵심개념 삼각비 뜻에 대해서\\n 여러분들께서 실행을 문제집이나 아니면 다른 여러 가지 학습 방법을 통해서 공부를 했을 텐데 뭐 사인 코사인 탄젠트라는 걸 들어본 친구들도 있을거고요 그걸 삼각비라고 한다라고 되어 있어요 우리집에 개념이 그런데 삼각비 뜻은 사실 그것만 의미 하는게 아닙니다 선생님 정확한 개념을 시작해 볼테니까 집중해서 들어 주시기 바랍니다 일단 기본적으로 삼각비 앞으로 쭉 이야기 할 텐데 가장 전제 조건은 직각삼각형에서 이야기를 합니다 직각 삼각형에서 상각비는 이야기 하는구나 앞으로 삼각비 피타고라스 정리 때도 직각삼각형에서 우리가 다른 뜻 직각삼각형에서 상각비를 이야기할 거야 그런데이 직각삼각형을 그려 놓고 우리가 생각을 해 보면 직각삼각형 이렇게 그려 놓고 자기를 각각의 꼭지점을 abc 이렇게 한번 잡아 보겠습니다 형 여러분들께서 가게에서 마주보이는 변이 소문자로 표현된다라는 걸'"
      ]
     },
     "execution_count": 7,
     "metadata": {},
     "output_type": "execute_result"
    }
   ],
   "source": [
    "GOOGLE[1000:3000]\n",
    "# GOOGLE"
   ]
  },
  {
   "cell_type": "code",
   "execution_count": 8,
   "metadata": {},
   "outputs": [],
   "source": [
    "def decimalnumber_to_korean(m):\n",
    "    answer = ''\n",
    "    for _ in m.group(1):\n",
    "        answer += kopro[int(_)]\n",
    "    answer += '점'\n",
    "    for _ in m.group(3):\n",
    "        answer += kopro[int(_)]\n",
    "    return answer\n",
    "\n",
    "def number_to_korean(s):\n",
    "    #소수점 한국어로\n",
    "    s = re.sub(r'(\\d+)(\\.)(\\d+)', decimalnumber_to_korean, s)\n",
    "    \n",
    "    #정수 한국어로\n",
    "    fl = re.findall(r'\\d+', s)\n",
    "    fl = set(fl)\n",
    "    fl = [int(_) for _ in fl]\n",
    "    fl.sort(reverse=True)\n",
    "    fl = [str(_) for _ in fl]\n",
    "    for n in fl:\n",
    "        s = s.replace(n, kopro[int(n)])\n",
    "    return s\n",
    "\n",
    "def mathsymbol_to_korean(s):\n",
    "    for ms in sd.keys():\n",
    "        if ms in s:\n",
    "            s = s.replace(ms, sd[ms])\n",
    "    return s\n",
    "\n",
    "def alphabet_to_korean(s):\n",
    "    for a in ad.keys():\n",
    "        if a in s:\n",
    "            s = s.replace(a, ad[a])\n",
    "    return s\n",
    "\n",
    "def remove_newlines(s):\n",
    "    \n",
    "    return re.sub(r'[\\n]+', ' ', s)\n",
    "\n",
    "def remove_puncuations(s):\n",
    "    \n",
    "    return re.sub(r'[\\.?,‘’]+', ' ', s)\n",
    "\n",
    "def insert_dot(text, dot):\n",
    "    pattern1 = re.compile(r'\\S(ㄷㅏ)$')   #다\n",
    "#     pattern2 = re.compile(r'(.ㅔ|ㅏ|ㅓ|ㅐ|ㅗ|ㅜ)(ㅇㅛ)$') # ㅔ요, ㅏ요, ㅓ요\n",
    "#     pattern3 = re.compile(r'(ㅆ)(ㅈ|ㅊ)(ㅛ)$') \n",
    "#     pattern4 = re.compile(r'(ㅂ|ㅣ)(ㄴㅣㄲㅏ)$')  #ㅂ니까\n",
    "#     pattern5 = re.compile(r'(ㄴㄷㅔ)$')\n",
    "    text_list = []\n",
    "    _1 = 0\n",
    "    _2 = 0\n",
    "    _3 = 0\n",
    "    _4 = 0\n",
    "    _5 = 0\n",
    "    _6 = 0\n",
    "    for _ in text.split(' '):         \n",
    "        new_ = j2hcj(h2j(_))\n",
    "        if pattern1.findall(new_):\n",
    "            text_list.append(_.replace(_, _+dot))\n",
    "            _1 += 1\n",
    "#         elif pattern2.findall(new_):\n",
    "#             text_list.append(_.replace(_, _+dot))\n",
    "#             _2 += 1\n",
    "#             list2.append(_)\n",
    "#         elif pattern3.findall(new_):\n",
    "#             text_list.append(_.replace(_, _+dot))\n",
    "#             _3 += 1\n",
    "#             list3.append(_)\n",
    "#         elif pattern4.findall(new_):\n",
    "#             text_list.append(_.replace(_, _+dot))\n",
    "#             _4 += 1\n",
    "#         elif pattern5.findall(new_):\n",
    "#             text_list.append(_.replace(_,_+dot))\n",
    "#             _5 += 1\n",
    "        else:\n",
    "            text_list.append(_)\n",
    "            _6 += 1\n",
    "#     print('pattern1 = {}, pattern2= {}, pattern3 = {}, pattern5 = {}, pattern6 = {}'.format(_1,_2,_3,_4,_5,_6)) \n",
    "    #print('pattern2 = ',list2)#'\\n','list5 = ',list5)\n",
    "    return text_list    \n",
    "\n",
    "# EBS 전처리\n",
    "def EBS_preprocessing(EBS):\n",
    "    \n",
    "#     수학기호 한국어로 변환(EBS)\n",
    "    ebs_math_conversion = mathsymbol_to_korean(EBS)\n",
    "        \n",
    "#     숫자 한국어로 변환(EBS)\n",
    "    ebs_number_conversion = number_to_korean(ebs_math_conversion)\n",
    "        \n",
    "#     알파벳 한국어로 변환(EBS)\n",
    "    ebs_alphabet_conversion = alphabet_to_korean(ebs_number_conversion)\n",
    "    \n",
    "#     특수문자 제거\n",
    "    ebs_punc_removed = remove_puncuations(ebs_alphabet_conversion)\n",
    "    \n",
    "#     점 집어넣기\n",
    "#     ebs_dot_inserted = ' '.join(insert_dot(ebs_punc_removed,'.'))\n",
    "\n",
    "#     띄어쓰기 제거\n",
    "#     ebs_whitespace_removed = re.sub('[\\s]+', '', ebs_punc_removed)\n",
    "\n",
    "    return ebs_punc_removed\n",
    "\n",
    "# GOOGLE 전처리\n",
    "def GOOGLE_preprocessing(GOOGLE):\n",
    "        \n",
    "#     개행 삭제\n",
    "    google_newline_removed = remove_newlines(GOOGLE)\n",
    "    \n",
    "#     수학기호 한국어로 변환\n",
    "    google_math_conversion = mathsymbol_to_korean(google_newline_removed)\n",
    "    \n",
    "#     숫자 한국어로 변환(GOOGLE)\n",
    "    google_number_conversion = number_to_korean(google_math_conversion)\n",
    "        \n",
    "#     알파벳 한국어로 변환(GOOGLE)\n",
    "    google_alphabet_conversion = alphabet_to_korean(google_number_conversion)\n",
    "    \n",
    "#     특수문자 제거\n",
    "    google_punc_removed = remove_puncuations(google_alphabet_conversion)\n",
    "    \n",
    "#     점 집어넣기\n",
    "#     google_dot_inserted = ' '.join(insert_dot(google_punc_removed,'.'))\n",
    "    \n",
    "#     띄어쓰기 제거\n",
    "#     google_whitespace_removed = re.sub('[\\s]+', '', google_punc_removed)\n",
    "\n",
    "    return google_punc_removed"
   ]
  },
  {
   "cell_type": "code",
   "execution_count": 9,
   "metadata": {},
   "outputs": [],
   "source": [
    "ko_pre_EBS = EBS_preprocessing(EBS) #한글로 치환\n",
    "ko_pre_GOOGLE = GOOGLE_preprocessing(GOOGLE) #한글로 치환\n",
    "dot_inserted_EBS = ' '.join(insert_dot(ko_pre_EBS,'.')).split('.')\n",
    "dot_inserted_GOOGLE = ' '.join(insert_dot(ko_pre_GOOGLE,'.')).split('.')"
   ]
  },
  {
   "cell_type": "code",
   "execution_count": null,
   "metadata": {},
   "outputs": [],
   "source": [
    "ws_removed_EBS = [''.join(_.split()) for _ in dot_inserted_EBS]\n",
    "ws_removed_GOOGLE = [''.join(_.split()) for _ in dot_inserted_GOOGLE]"
   ]
  },
  {
   "cell_type": "code",
   "execution_count": null,
   "metadata": {},
   "outputs": [],
   "source": [
    "len(ws_removed_EBS)"
   ]
  },
  {
   "cell_type": "code",
   "execution_count": 10,
   "metadata": {},
   "outputs": [
    {
     "ename": "NameError",
     "evalue": "name 'ws_removed_EBS' is not defined",
     "output_type": "error",
     "traceback": [
      "\u001b[1;31m---------------------------------------------------------------------------\u001b[0m",
      "\u001b[1;31mNameError\u001b[0m                                 Traceback (most recent call last)",
      "\u001b[1;32m<ipython-input-10-8cc9d94f1a0e>\u001b[0m in \u001b[0;36m<module>\u001b[1;34m\u001b[0m\n\u001b[1;32m----> 1\u001b[1;33m \u001b[0mws_removed_EBS\u001b[0m\u001b[1;33m[\u001b[0m\u001b[1;33m:\u001b[0m\u001b[1;36m10\u001b[0m\u001b[1;33m]\u001b[0m\u001b[1;33m\u001b[0m\u001b[1;33m\u001b[0m\u001b[0m\n\u001b[0m",
      "\u001b[1;31mNameError\u001b[0m: name 'ws_removed_EBS' is not defined"
     ]
    }
   ],
   "source": [
    "ws_removed_EBS[:10]"
   ]
  },
  {
   "cell_type": "code",
   "execution_count": null,
   "metadata": {},
   "outputs": [],
   "source": [
    "ws_removed_GOOGLE[:10]"
   ]
  },
  {
   "cell_type": "code",
   "execution_count": null,
   "metadata": {},
   "outputs": [],
   "source": []
  },
  {
   "cell_type": "code",
   "execution_count": 37,
   "metadata": {
    "scrolled": true
   },
   "outputs": [
    {
     "name": "stdout",
     "output_type": "stream",
     "text": [
      "0           0.0\n",
      "\n",
      "ebs :  반갑습니다\n",
      "\n",
      "google :  반갑습니다\n",
      "\n",
      "**********************************************************************\n",
      "7           0.08974358974358974\n",
      "\n",
      "ebs :  이비에스친구여러분들여러분들과함께중학뉴런수학삼하를강의하게된손석민입니다\n",
      "\n",
      "google :  이비에스여러분들여러분들과함께중학뉴런수학삼할을강의하기됨손성민입니다\n",
      "\n",
      "**********************************************************************\n",
      "2           0.013888888888888888\n",
      "\n",
      "ebs :  이학년뉴런을통해서도만났었는데요여러분들이렇게다시만나게되어서정말반갑습니다\n",
      "\n",
      "google :  이학년이런을통해서도만났었는데여러분들이렇게다시만나게되어서정말반갑습니다\n",
      "\n",
      "**********************************************************************\n",
      "6           0.043795620437956206\n",
      "\n",
      "ebs :  앞으로삼하과정어떻게진행되는지에대해서는여러분들께서오리엔테이션강의를통해서확인할수있을거고요오리엔테이션강의는반드시듣고오셔야여러분들이삼학년과정이하과정이특히어떻게수업되는지확인할수있을겁니다\n",
      "\n",
      "google :  앞으로삼과정어떻게진행되는지에대해서는여러분들께서오리엔테이션강의를통해서확인할수있을거구요오리엔테이션강의는반드시듣고오셔야여러분들이삼학년과정이하마종이접기어떻게수업되는지확인할수있을겁니다\n",
      "\n",
      "**********************************************************************\n",
      "4           0.0547945205479452\n",
      "\n",
      "ebs :  일단삼학년과정같은경우에는크게삼개의대단원으로이루어져있는데요첫번째가삼각비라는단원이고두번째가원의성질세번째가통계이렇게이루어져있습니다\n",
      "\n",
      "google :  일단삼학년가정같은경우에는크게세개의대단원으로이루어져있는데요첫번째가삼각비라는단어이거두번째가원의성질세번째가통계이렇게이루어져있습니다\n",
      "\n",
      "**********************************************************************\n"
     ]
    },
    {
     "ename": "KeyboardInterrupt",
     "evalue": "",
     "output_type": "error",
     "traceback": [
      "\u001b[1;31m---------------------------------------------------------------------------\u001b[0m",
      "\u001b[1;31mKeyboardInterrupt\u001b[0m                         Traceback (most recent call last)",
      "\u001b[1;32m<ipython-input-37-cbcb1d2464c4>\u001b[0m in \u001b[0;36m<module>\u001b[1;34m\u001b[0m\n\u001b[0;32m      4\u001b[0m     \u001b[0mMIN\u001b[0m \u001b[1;33m=\u001b[0m \u001b[1;36m150\u001b[0m\u001b[1;33m\u001b[0m\u001b[1;33m\u001b[0m\u001b[0m\n\u001b[0;32m      5\u001b[0m     \u001b[1;32mfor\u001b[0m \u001b[0mgoogle_stnc\u001b[0m \u001b[1;32min\u001b[0m \u001b[0mws_removed_GOOGLE\u001b[0m\u001b[1;33m[\u001b[0m\u001b[0meidx\u001b[0m\u001b[1;33m-\u001b[0m\u001b[1;36m200\u001b[0m \u001b[1;32mif\u001b[0m \u001b[0meidx\u001b[0m\u001b[1;33m-\u001b[0m\u001b[1;36m200\u001b[0m \u001b[1;33m>\u001b[0m \u001b[1;36m0\u001b[0m \u001b[1;32melse\u001b[0m \u001b[1;36m0\u001b[0m\u001b[1;33m:\u001b[0m\u001b[0meidx\u001b[0m\u001b[1;33m+\u001b[0m\u001b[1;36m200\u001b[0m \u001b[1;32mif\u001b[0m \u001b[0meidx\u001b[0m\u001b[1;33m+\u001b[0m\u001b[1;36m200\u001b[0m \u001b[1;33m<\u001b[0m \u001b[0mlen\u001b[0m\u001b[1;33m(\u001b[0m\u001b[0mws_removed_GOOGLE\u001b[0m\u001b[1;33m)\u001b[0m\u001b[1;33m-\u001b[0m\u001b[1;36m1\u001b[0m \u001b[1;32melse\u001b[0m \u001b[0mlen\u001b[0m\u001b[1;33m(\u001b[0m\u001b[0mws_removed_GOOGLE\u001b[0m\u001b[1;33m)\u001b[0m\u001b[1;33m-\u001b[0m\u001b[1;36m1\u001b[0m\u001b[1;33m]\u001b[0m\u001b[1;33m:\u001b[0m\u001b[1;33m\u001b[0m\u001b[1;33m\u001b[0m\u001b[0m\n\u001b[1;32m----> 6\u001b[1;33m         \u001b[0mcurrent\u001b[0m \u001b[1;33m=\u001b[0m \u001b[0mlevenshtein\u001b[0m\u001b[1;33m(\u001b[0m\u001b[0mebs_stnc\u001b[0m\u001b[1;33m,\u001b[0m \u001b[0mgoogle_stnc\u001b[0m\u001b[1;33m)\u001b[0m\u001b[1;33m\u001b[0m\u001b[1;33m\u001b[0m\u001b[0m\n\u001b[0m\u001b[0;32m      7\u001b[0m         \u001b[1;32mif\u001b[0m \u001b[0mcurrent\u001b[0m \u001b[1;33m<\u001b[0m \u001b[0mMIN\u001b[0m\u001b[1;33m:\u001b[0m\u001b[1;33m\u001b[0m\u001b[1;33m\u001b[0m\u001b[0m\n\u001b[0;32m      8\u001b[0m             \u001b[0mMIN\u001b[0m \u001b[1;33m=\u001b[0m \u001b[0mcurrent\u001b[0m\u001b[1;33m\u001b[0m\u001b[1;33m\u001b[0m\u001b[0m\n",
      "\u001b[1;32mC:\\ProgramData\\Anaconda3\\lib\\site-packages\\soynlp\\hangle\\_distance.py\u001b[0m in \u001b[0;36mlevenshtein\u001b[1;34m(s1, s2, cost)\u001b[0m\n\u001b[0;32m      8\u001b[0m     \u001b[1;31m# based on Wikipedia/Levenshtein_distance#Python\u001b[0m\u001b[1;33m\u001b[0m\u001b[1;33m\u001b[0m\u001b[1;33m\u001b[0m\u001b[0m\n\u001b[0;32m      9\u001b[0m     \u001b[1;32mif\u001b[0m \u001b[0mlen\u001b[0m\u001b[1;33m(\u001b[0m\u001b[0ms1\u001b[0m\u001b[1;33m)\u001b[0m \u001b[1;33m<\u001b[0m \u001b[0mlen\u001b[0m\u001b[1;33m(\u001b[0m\u001b[0ms2\u001b[0m\u001b[1;33m)\u001b[0m\u001b[1;33m:\u001b[0m\u001b[1;33m\u001b[0m\u001b[1;33m\u001b[0m\u001b[0m\n\u001b[1;32m---> 10\u001b[1;33m         \u001b[1;32mreturn\u001b[0m \u001b[0mlevenshtein\u001b[0m\u001b[1;33m(\u001b[0m\u001b[0ms2\u001b[0m\u001b[1;33m,\u001b[0m \u001b[0ms1\u001b[0m\u001b[1;33m)\u001b[0m\u001b[1;33m\u001b[0m\u001b[1;33m\u001b[0m\u001b[0m\n\u001b[0m\u001b[0;32m     11\u001b[0m \u001b[1;33m\u001b[0m\u001b[0m\n\u001b[0;32m     12\u001b[0m     \u001b[1;32mif\u001b[0m \u001b[0mlen\u001b[0m\u001b[1;33m(\u001b[0m\u001b[0ms2\u001b[0m\u001b[1;33m)\u001b[0m \u001b[1;33m==\u001b[0m \u001b[1;36m0\u001b[0m\u001b[1;33m:\u001b[0m\u001b[1;33m\u001b[0m\u001b[1;33m\u001b[0m\u001b[0m\n",
      "\u001b[1;32mC:\\ProgramData\\Anaconda3\\lib\\site-packages\\soynlp\\hangle\\_distance.py\u001b[0m in \u001b[0;36mlevenshtein\u001b[1;34m(s1, s2, cost)\u001b[0m\n\u001b[0;32m     22\u001b[0m             \u001b[0minsertions\u001b[0m \u001b[1;33m=\u001b[0m \u001b[0mprevious_row\u001b[0m\u001b[1;33m[\u001b[0m\u001b[0mj\u001b[0m \u001b[1;33m+\u001b[0m \u001b[1;36m1\u001b[0m\u001b[1;33m]\u001b[0m \u001b[1;33m+\u001b[0m \u001b[1;36m1\u001b[0m \u001b[1;31m# j+1 instead of j since previous_row and current_row are one character longer\u001b[0m\u001b[1;33m\u001b[0m\u001b[1;33m\u001b[0m\u001b[0m\n\u001b[0;32m     23\u001b[0m             \u001b[0mdeletions\u001b[0m \u001b[1;33m=\u001b[0m \u001b[0mcurrent_row\u001b[0m\u001b[1;33m[\u001b[0m\u001b[0mj\u001b[0m\u001b[1;33m]\u001b[0m \u001b[1;33m+\u001b[0m \u001b[1;36m1\u001b[0m       \u001b[1;31m# than s2\u001b[0m\u001b[1;33m\u001b[0m\u001b[1;33m\u001b[0m\u001b[0m\n\u001b[1;32m---> 24\u001b[1;33m             \u001b[0msubstitutions\u001b[0m \u001b[1;33m=\u001b[0m \u001b[0mprevious_row\u001b[0m\u001b[1;33m[\u001b[0m\u001b[0mj\u001b[0m\u001b[1;33m]\u001b[0m \u001b[1;33m+\u001b[0m \u001b[0mget_cost\u001b[0m\u001b[1;33m(\u001b[0m\u001b[0mc1\u001b[0m\u001b[1;33m,\u001b[0m \u001b[0mc2\u001b[0m\u001b[1;33m,\u001b[0m \u001b[0mcost\u001b[0m\u001b[1;33m)\u001b[0m\u001b[1;33m\u001b[0m\u001b[1;33m\u001b[0m\u001b[0m\n\u001b[0m\u001b[0;32m     25\u001b[0m             \u001b[0mcurrent_row\u001b[0m\u001b[1;33m.\u001b[0m\u001b[0mappend\u001b[0m\u001b[1;33m(\u001b[0m\u001b[0mmin\u001b[0m\u001b[1;33m(\u001b[0m\u001b[0minsertions\u001b[0m\u001b[1;33m,\u001b[0m \u001b[0mdeletions\u001b[0m\u001b[1;33m,\u001b[0m \u001b[0msubstitutions\u001b[0m\u001b[1;33m)\u001b[0m\u001b[1;33m)\u001b[0m\u001b[1;33m\u001b[0m\u001b[1;33m\u001b[0m\u001b[0m\n\u001b[0;32m     26\u001b[0m         \u001b[0mprevious_row\u001b[0m \u001b[1;33m=\u001b[0m \u001b[0mcurrent_row\u001b[0m\u001b[1;33m\u001b[0m\u001b[1;33m\u001b[0m\u001b[0m\n",
      "\u001b[1;32mC:\\ProgramData\\Anaconda3\\lib\\site-packages\\soynlp\\hangle\\_distance.py\u001b[0m in \u001b[0;36mget_cost\u001b[1;34m(c1, c2, cost)\u001b[0m\n\u001b[0;32m     13\u001b[0m         \u001b[1;32mreturn\u001b[0m \u001b[0mlen\u001b[0m\u001b[1;33m(\u001b[0m\u001b[0ms1\u001b[0m\u001b[1;33m)\u001b[0m\u001b[1;33m\u001b[0m\u001b[1;33m\u001b[0m\u001b[0m\n\u001b[0;32m     14\u001b[0m \u001b[1;33m\u001b[0m\u001b[0m\n\u001b[1;32m---> 15\u001b[1;33m     \u001b[1;32mdef\u001b[0m \u001b[0mget_cost\u001b[0m\u001b[1;33m(\u001b[0m\u001b[0mc1\u001b[0m\u001b[1;33m,\u001b[0m \u001b[0mc2\u001b[0m\u001b[1;33m,\u001b[0m \u001b[0mcost\u001b[0m\u001b[1;33m)\u001b[0m\u001b[1;33m:\u001b[0m\u001b[1;33m\u001b[0m\u001b[1;33m\u001b[0m\u001b[0m\n\u001b[0m\u001b[0;32m     16\u001b[0m         \u001b[1;32mreturn\u001b[0m \u001b[1;36m0\u001b[0m \u001b[1;32mif\u001b[0m \u001b[1;33m(\u001b[0m\u001b[0mc1\u001b[0m \u001b[1;33m==\u001b[0m \u001b[0mc2\u001b[0m\u001b[1;33m)\u001b[0m \u001b[1;32melse\u001b[0m \u001b[0mcost\u001b[0m\u001b[1;33m.\u001b[0m\u001b[0mget\u001b[0m\u001b[1;33m(\u001b[0m\u001b[1;33m(\u001b[0m\u001b[0mc1\u001b[0m\u001b[1;33m,\u001b[0m \u001b[0mc2\u001b[0m\u001b[1;33m)\u001b[0m\u001b[1;33m,\u001b[0m \u001b[1;36m1\u001b[0m\u001b[1;33m)\u001b[0m\u001b[1;33m\u001b[0m\u001b[1;33m\u001b[0m\u001b[0m\n\u001b[0;32m     17\u001b[0m \u001b[1;33m\u001b[0m\u001b[0m\n",
      "\u001b[1;31mKeyboardInterrupt\u001b[0m: "
     ]
    }
   ],
   "source": [
    "# most_similar_GOOGLE 리스트생성\n",
    "most_similar_GOOGLE = []\n",
    "for eidx, ebs_stnc in enumerate(ws_removed_EBS):\n",
    "    MIN = 150\n",
    "    for google_stnc in ws_removed_GOOGLE[eidx-200 if eidx-200 > 0 else 0:eidx+200 if eidx+200 < len(ws_removed_GOOGLE)-1 else len(ws_removed_GOOGLE)-1]:\n",
    "        current = levenshtein(ebs_stnc, google_stnc)\n",
    "        if current < MIN:\n",
    "            MIN = current\n",
    "            MIN_stnc = google_stnc\n",
    "    most_similar_GOOGLE.append(MIN_stnc)\n",
    "    if MIN/(len(ebs_stnc)+len(google_stnc)) > 0.7:\n",
    "        print('!!!!!!!!!!!!!!!!!!!!!!??!????????????????')\n",
    "    print(MIN, '         ', MIN/(len(ebs_stnc)+len(google_stnc)))\n",
    "    print()\n",
    "    print('ebs : ',ebs_stnc)\n",
    "    print()\n",
    "    print('google : ',MIN_stnc)\n",
    "    print()\n",
    "    print('*******'*10)"
   ]
  },
  {
   "cell_type": "code",
   "execution_count": null,
   "metadata": {},
   "outputs": [],
   "source": [
    "# # 저장할때\n",
    "# with open('data/ws_removed_EBS.txt', 'wb') as f:\n",
    "#     pickle.dump(ws_removed_EBS, f)\n",
    "    \n",
    "# with open('data/ws_removed_GOOGLE.txt', 'wb') as f:\n",
    "#     pickle.dump(ws_removed_GOOGLE, f)\n",
    "    \n",
    "# with open('data/most_similar_GOOGLE.txt', 'wb') as f:\n",
    "#     pickle.dump(most_similar_GOOGLE, f)"
   ]
  },
  {
   "cell_type": "code",
   "execution_count": null,
   "metadata": {},
   "outputs": [],
   "source": []
  },
  {
   "cell_type": "code",
   "execution_count": null,
   "metadata": {},
   "outputs": [],
   "source": []
  },
  {
   "cell_type": "code",
   "execution_count": null,
   "metadata": {},
   "outputs": [],
   "source": []
  },
  {
   "cell_type": "code",
   "execution_count": null,
   "metadata": {},
   "outputs": [],
   "source": []
  },
  {
   "cell_type": "code",
   "execution_count": null,
   "metadata": {},
   "outputs": [],
   "source": []
  },
  {
   "cell_type": "code",
   "execution_count": null,
   "metadata": {},
   "outputs": [],
   "source": []
  },
  {
   "cell_type": "code",
   "execution_count": null,
   "metadata": {},
   "outputs": [],
   "source": []
  },
  {
   "cell_type": "code",
   "execution_count": null,
   "metadata": {},
   "outputs": [],
   "source": []
  },
  {
   "cell_type": "code",
   "execution_count": null,
   "metadata": {},
   "outputs": [],
   "source": []
  }
 ],
 "metadata": {
  "kernelspec": {
   "display_name": "Python 3",
   "language": "python",
   "name": "python3"
  },
  "language_info": {
   "codemirror_mode": {
    "name": "ipython",
    "version": 3
   },
   "file_extension": ".py",
   "mimetype": "text/x-python",
   "name": "python",
   "nbconvert_exporter": "python",
   "pygments_lexer": "ipython3",
   "version": "3.7.6"
  }
 },
 "nbformat": 4,
 "nbformat_minor": 4
}
