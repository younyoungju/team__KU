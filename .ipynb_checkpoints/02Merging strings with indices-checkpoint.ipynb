{
 "cells": [
  {
   "cell_type": "code",
   "execution_count": null,
   "metadata": {},
   "outputs": [],
   "source": [
    "import pickle\n",
    "from soynlp.hangle import levenshtein\n",
    "# # from PreProcessing.find_common_part\n",
    "# from konlpy.tag import *\n",
    "# from PreProcessing import find_common_part\n",
    "import numpy as np\n",
    "from gensim.models import Word2Vec\n",
    "from keras.layers import Embedding\n",
    "from tensorflow.keras.models import Sequential\n",
    "from tensorflow.keras.layers import Embedding, Dense, LSTM\n",
    "from tensorflow.keras.preprocessing.text import Tokenizer\n",
    "from tensorflow.keras.preprocessing.sequence import pad_sequences\n",
    "from tensorflow.keras.utils import to_categorical"
   ]
  },
  {
   "cell_type": "code",
   "execution_count": null,
   "metadata": {},
   "outputs": [],
   "source": [
    "# leven_list = [levenshtein(e,g) for e, g in zip(ws_removed_EBS, most_similar_GOOGLE)]\n",
    "# leven_nor_list = [(levenshtein(e,g) / (len(e) + 1e-7)) + (levenshtein(e,g) / (len(g) + 1e-7)) for e, g in zip(ws_removed_EBS, most_similar_GOOGLE)]\n",
    "\n",
    "# # 저장할때\n",
    "# with open('data/leven_list.txt', 'wb') as f:\n",
    "#     pickle.dump(leven_list, f)\n",
    "    \n",
    "# with open('data/leven_nor_list.txt', 'wb') as f:\n",
    "#     pickle.dump(leven_nor_list, f)"
   ]
  },
  {
   "cell_type": "code",
   "execution_count": null,
   "metadata": {},
   "outputs": [],
   "source": [
    "# 불러올때\n",
    "with open('data/ws_removed_EBS.txt', 'rb') as f:\n",
    "    ws_removed_EBS = pickle.load(f)\n",
    "\n",
    "with open('data/most_similar_GOOGLE.txt', 'rb') as f:\n",
    "    most_similar_GOOGLE = pickle.load(f)\n",
    "\n",
    "with open('data/ws_removed_GOOGLE.txt', 'rb') as f:\n",
    "    ws_removed_GOOGLE = pickle.load(f)\n",
    "\n",
    "with open('data/leven_list.txt', 'rb') as f:\n",
    "    leven_list = pickle.load(f)\n",
    "\n",
    "with open('data/leven_nor_list.txt', 'rb') as f:\n",
    "    leven_nor_list = pickle.load(f)"
   ]
  },
  {
   "cell_type": "code",
   "execution_count": null,
   "metadata": {},
   "outputs": [],
   "source": [
    "# 같은 애들끼리는 그대로 두고,\n",
    "# 다른 애들끼리는 사이에 있는 애들 연속으로 붙이기\n",
    "\n",
    "result_ebs = []\n",
    "result_google = []\n",
    "\n",
    "accm = 0\n",
    "prev = 0\n",
    "\n",
    "for _ in range(len(ws_removed_EBS)):\n",
    "    if leven_nor_list[_] > 0.7:    \n",
    "        accm += 1\n",
    "    else:\n",
    "        accm = 0\n",
    "        \n",
    "#     print(_, leven_nor_list[_])\n",
    "#     print(_, prev, accm)\n",
    "    \n",
    "    if prev:\n",
    "        if accm:\n",
    "            pass\n",
    "        else:\n",
    "            ebs_e = _ -1\n",
    "            google_e = ws_removed_GOOGLE.index(most_similar_GOOGLE[_]) - 1\n",
    "            \n",
    "            result_ebs.append(''.join(ws_removed_EBS[ebs_s:ebs_e+1]))\n",
    "            result_google.append(''.join(ws_removed_GOOGLE[google_s:google_e+1]))\n",
    "            \n",
    "#             print()\n",
    "#             print('ebs start : ', ebs_s, 'ebs end :', ebs_e)\n",
    "#             print('ggl start : ', google_s, 'ggl end :', google_e)\n",
    "#             print()\n",
    "#             print(''.join(ws_removed_EBS[ebs_s:ebs_e+1]))\n",
    "#             print()\n",
    "#             print(''.join(ws_removed_GOOGLE[google_s:google_e+1]))\n",
    "#             print()\n",
    "#             print('*****'*10)\n",
    "            \n",
    "            result_ebs.append(ws_removed_EBS[_])\n",
    "            result_google.append(most_similar_GOOGLE[_])\n",
    "            \n",
    "#             print('ebs index :', _)\n",
    "#             print()\n",
    "#             print(ws_removed_EBS[_])\n",
    "#             print()\n",
    "#             print(most_similar_GOOGLE[_])\n",
    "#             print()\n",
    "#             print('*****'*10)\n",
    "            \n",
    "            \n",
    "    else:\n",
    "        if accm:\n",
    "            ebs_s = _\n",
    "            google_s = ws_removed_GOOGLE.index(most_similar_GOOGLE[_-1]) + 1\n",
    "            \n",
    "        else:\n",
    "            result_ebs.append(ws_removed_EBS[_])\n",
    "            result_google.append(most_similar_GOOGLE[_])\n",
    "            \n",
    "#             print('ebs index :', _)\n",
    "#             print()\n",
    "#             print(ws_removed_EBS[_])\n",
    "#             print()\n",
    "#             print(most_similar_GOOGLE[_])\n",
    "#             print()\n",
    "#             print('*****'*10)\n",
    "            \n",
    "    prev = accm\n",
    "    "
   ]
  },
  {
   "cell_type": "code",
   "execution_count": null,
   "metadata": {},
   "outputs": [],
   "source": [
    "print(result_ebs[:10])\n",
    "print()\n",
    "print(result_google[:10])"
   ]
  },
  {
   "cell_type": "code",
   "execution_count": null,
   "metadata": {},
   "outputs": [],
   "source": [
    "#  l_nor라는 변수가 1000보다 높은 애들은 제거하기\n",
    "\n",
    "result_ebs_1000 = []\n",
    "result_google_1000 = []\n",
    "for e, g in zip(result_ebs, result_google):\n",
    "    l = levenshtein(e,g)\n",
    "    l_nor = (l / (len(e) + 1e-7)) + (l / (len(g) + 1e-7))\n",
    "    if l_nor*l < 1000:\n",
    "        result_ebs_1000.append(e)\n",
    "        result_google_1000.append(g)"
   ]
  },
  {
   "cell_type": "code",
   "execution_count": null,
   "metadata": {},
   "outputs": [],
   "source": [
    "# # 저장할때\n",
    "# with open('data/result_ebs_1000.txt', 'wb') as f:\n",
    "#     pickle.dump(result_ebs_1000, f)\n",
    "    \n",
    "# with open('data/result_google_1000.txt', 'wb') as f:\n",
    "#     pickle.dump(result_google_1000, f)"
   ]
  },
  {
   "cell_type": "code",
   "execution_count": null,
   "metadata": {},
   "outputs": [],
   "source": [
    "# 불러올때\n",
    "with open('data/result_ebs_1000.txt', 'rb') as f:\n",
    "    result_ebs_1000 = pickle.load(f)\n",
    "    \n",
    "with open('data/result_google_1000.txt', 'rb') as f:\n",
    "    result_google_1000 = pickle.load(f)"
   ]
  },
  {
   "cell_type": "code",
   "execution_count": null,
   "metadata": {},
   "outputs": [],
   "source": [
    "for e, g in zip(result_ebs_1000, result_google_1000):\n",
    "    print(e)\n",
    "    print(g)\n",
    "    print()"
   ]
  },
  {
   "cell_type": "code",
   "execution_count": null,
   "metadata": {},
   "outputs": [],
   "source": [
    "for e, g in zip(result_ebs, result_google):\n",
    "    eidx = result_ebs.index(e)\n",
    "    gidx = result_google.index(g)\n",
    "    l = levenshtein(e,g)\n",
    "    l_nor = (l / (len(e) + 1e-7)) + (l / (len(g) + 1e-7))\n",
    "    print('levenshtein :', l, '    ', 'normal : ', l_nor, '    ', 'production : ', l_nor*l )\n",
    "    print()\n",
    "    print('ebs index : ', eidx)\n",
    "    print('google index : ', gidx)\n",
    "    print()\n",
    "    print(e)\n",
    "    print()\n",
    "    print(g)\n",
    "    print()\n",
    "    print('******'*10)"
   ]
  },
  {
   "cell_type": "code",
   "execution_count": null,
   "metadata": {},
   "outputs": [],
   "source": []
  },
  {
   "cell_type": "code",
   "execution_count": null,
   "metadata": {},
   "outputs": [],
   "source": []
  },
  {
   "cell_type": "code",
   "execution_count": null,
   "metadata": {},
   "outputs": [],
   "source": []
  },
  {
   "cell_type": "code",
   "execution_count": null,
   "metadata": {},
   "outputs": [],
   "source": []
  },
  {
   "cell_type": "code",
   "execution_count": null,
   "metadata": {},
   "outputs": [],
   "source": []
  },
  {
   "cell_type": "code",
   "execution_count": null,
   "metadata": {},
   "outputs": [],
   "source": []
  },
  {
   "cell_type": "code",
   "execution_count": null,
   "metadata": {},
   "outputs": [],
   "source": []
  },
  {
   "cell_type": "code",
   "execution_count": null,
   "metadata": {},
   "outputs": [],
   "source": []
  },
  {
   "cell_type": "code",
   "execution_count": null,
   "metadata": {},
   "outputs": [],
   "source": []
  },
  {
   "cell_type": "code",
   "execution_count": null,
   "metadata": {},
   "outputs": [],
   "source": []
  },
  {
   "cell_type": "code",
   "execution_count": null,
   "metadata": {},
   "outputs": [],
   "source": []
  },
  {
   "cell_type": "code",
   "execution_count": null,
   "metadata": {},
   "outputs": [],
   "source": []
  },
  {
   "cell_type": "code",
   "execution_count": null,
   "metadata": {},
   "outputs": [],
   "source": []
  }
 ],
 "metadata": {
  "kernelspec": {
   "display_name": "Python 3",
   "language": "python",
   "name": "python3"
  },
  "language_info": {
   "codemirror_mode": {
    "name": "ipython",
    "version": 3
   },
   "file_extension": ".py",
   "mimetype": "text/x-python",
   "name": "python",
   "nbconvert_exporter": "python",
   "pygments_lexer": "ipython3",
   "version": "3.7.6"
  }
 },
 "nbformat": 4,
 "nbformat_minor": 4
}
