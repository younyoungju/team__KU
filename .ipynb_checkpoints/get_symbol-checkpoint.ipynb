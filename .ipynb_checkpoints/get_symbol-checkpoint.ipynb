{
 "cells": [
  {
   "cell_type": "code",
   "execution_count": 3,
   "metadata": {},
   "outputs": [],
   "source": [
    "import re"
   ]
  },
  {
   "cell_type": "code",
   "execution_count": 4,
   "metadata": {},
   "outputs": [],
   "source": [
    "def EBS_dict(s, e):\n",
    "    pattern1 = re.compile(r'\\s{2,}') \n",
    "    pattern2 = re.compile(r'[가-힣.?,‘’]') \n",
    "#     pattern3 = re.compile(r'[ㄱ-ㅎa-z]{1}') # ㄱ,ㄴ ....a,b,c....\n",
    "    \n",
    "    dic = []\n",
    "    for i in range(s, e+1):\n",
    "        n = '{0:05d}'.format(i)\n",
    "        lec = 'lec' + n + '_EBS.txt'\n",
    "        dic.append(lec)\n",
    "        \n",
    "    texts = ''\n",
    "        \n",
    "    for _ in dic:\n",
    "        # 로컬 경로\n",
    "        with open('C:\\\\Users\\\\KYEONGCHAN LEE\\\\(1-1.5) DataCampus\\\\'+ _ ,'r',encoding='utf-8') as r:\n",
    "            texts += r.read()\n",
    "\n",
    "    texts = pattern1.sub(' ', texts) ## o\n",
    "    texts = pattern2.sub(' ', texts) ## o\n",
    "#     texts = pattern3.sub(' ', texts) ## o\n",
    "#     EBSDic = texts.split()\n",
    "    EBSDic = texts\n",
    "    return list(set(EBSDic.split()))\n",
    "#     return ' '.join(EBSDic.split())\n",
    "    \n",
    "#     return [_ for _ in set(EBSDic) if len(_) == 1] + ['sin','cos','tan']"
   ]
  },
  {
   "cell_type": "code",
   "execution_count": 5,
   "metadata": {},
   "outputs": [],
   "source": [
    "pat1 = re.compile(r'\\D+')\n",
    "pat2 = re.compile(r'[^0-9a-zA-Z]')\n",
    "pat3 = re.compile(r'[a-zA-Z]+')"
   ]
  },
  {
   "cell_type": "code",
   "execution_count": 6,
   "metadata": {},
   "outputs": [],
   "source": [
    "result = EBS_dict(1, 26)\n",
    "i=0\n",
    "for _ in range(0,len(result)):\n",
    "    got_symbols = pat2.findall(result[0])\n",
    "    got_alphabets = pat3.findall(result[0])\n",
    "    result.pop(0)\n",
    "    if got_symbols:\n",
    "        result += got_symbols\n",
    "    if got_alphabets:\n",
    "        result += got_alphabets\n",
    "    i+=1"
   ]
  },
  {
   "cell_type": "code",
   "execution_count": 7,
   "metadata": {},
   "outputs": [
    {
     "name": "stdout",
     "output_type": "stream",
     "text": [
      "{'tanA', 'n', 'S', 'DC', 'D', 'OH', 'c', 'ABE', ':', 'SAS', 'AH', '＞', 'CD', 'BR', 'AQ', 'AF', 'CB', 'EBS', '…', '－', 'km', 'EAD', 'GD', 'CM', '(', 'BDH', 'DBH', '⑵', 'OP', 'RSH', 'CQ', 'ED', '~', 'B', 'OAB', '-', 'ACH', 'HC', '≤', '④', 'CAD', 'PH', '□', 'cosB', 'QH', 'ACD', 'b', 'GBC', '㈐', 'OA', 'ㅁ', 'CAH', 'OC', '√', 'BM', 'BA', 'PS', 'tna', 'cos', 'DE', 'MN', '③', 'E', 'BAD', 'AOB', 'I', 'EC', 'H', 'RHS', 'HQCD', 'tan', 'm', 'y', 'L', 'BQP', 'PQH', 'MBN', 'AHB', 'ㄴ', 'HB', 'PQRS', '¼', 'r', 'ABM', 'EDC', 'π', 'PD', 'DAC', 'X', 'C', 'BF', 'BAH', 'sim', '㎠', 'w', '!', 'CH', 'DB', '㎝', 'h', '%', 'AB', 'O', 'AE', 'AA', '①', 'F', 'BC', 'AED', 'DCH', 'a', 'K', 'ADC', 'mx', 'EB', '＜', 'CBN', 'ASA', 'N', 'AO', '=', 'ODC', 'ㄷ', '＝', 'AMH', 'Q', 'k', 'BD', 'ABQ', '②', 'con', 'P', 'BO', 'CAB', 'PR', 'p', 'z', 'DMN', 'BCD', 'AHC', 'OMR', 'M', 'CO', 'BCH', 'x', 'BAC', '÷', '′', 'BIC', 'IBC', 'CBH', '×', 'PA', '㎞', 'AM', 'ㄱ', 'ABH', 'OD', 'v', '⅓', 'A', 'DBC', 'AMN', 'cm', 'AG', '½', 'BE', '¾', 'BH', 'ba', 'PQ', 'AOC', 'G', 'BHF', 'd', 'OEF', 'ABCD', '⑤', '⑴', 'QnA', 'ABD', 'AC', 'ADB', 'OB', 'sinA', 'xx', '²', '|', 'MH', 'ADE', 'AMC', 'BOA', 'BP', 'COD', 'ACB', '+', 'ab', 'DH', 'PB', 'FA', ')', 'CA', 'BHC', \"'\", '㈏', '△', 'BQ', 'DCB', '˚', 'POA', '∠', 'sin', '㈎', 'AD', '⅔', 'DAB', 'ABC', 's', '＋', 'BMN'}\n"
     ]
    }
   ],
   "source": [
    "result = set(result)\n",
    "print(result)"
   ]
  },
  {
   "cell_type": "code",
   "execution_count": 8,
   "metadata": {},
   "outputs": [],
   "source": [
    "result_ = ' '.join(result)\n",
    "p = re.compile(r'[a-zA-Zㄱ-ㅎ]+')\n",
    "result_ = p.sub(' ', result_)"
   ]
  },
  {
   "cell_type": "code",
   "execution_count": 9,
   "metadata": {},
   "outputs": [
    {
     "data": {
      "text/plain": [
       "\"                :     ＞             … －         (     ⑵         ~     -     ≤ ④     □           ㈐         √               ③                                       ¼       π               ㎠   !     ㎝   %         ①                   ＜         =     ＝           ②                                 ÷ ′       ×   ㎞           ⅓           ½   ¾                   ⑤ ⑴               ² |               +         )     ' ㈏ △     ˚   ∠   ㈎   ⅔       ＋  \""
      ]
     },
     "execution_count": 9,
     "metadata": {},
     "output_type": "execute_result"
    }
   ],
   "source": [
    "result_"
   ]
  },
  {
   "cell_type": "code",
   "execution_count": 10,
   "metadata": {},
   "outputs": [
    {
     "data": {
      "text/plain": [
       "46"
      ]
     },
     "execution_count": 10,
     "metadata": {},
     "output_type": "execute_result"
    }
   ],
   "source": [
    "len(result_.split())"
   ]
  },
  {
   "cell_type": "code",
   "execution_count": 11,
   "metadata": {},
   "outputs": [
    {
     "name": "stdout",
     "output_type": "stream",
     "text": [
      "{'tanA', 'n', 'S', 'DC', 'D', 'OH', 'c', 'ABE', ':', 'SAS', 'AH', '＞', 'CD', 'BR', 'AQ', 'AF', 'CB', 'EBS', '…', '－', 'km', 'EAD', 'GD', 'CM', '(', 'BDH', 'DBH', '⑵', 'OP', 'RSH', 'CQ', 'ED', '~', 'B', 'OAB', '-', 'ACH', 'HC', '≤', '④', 'CAD', 'PH', '□', 'cosB', 'QH', 'ACD', 'b', 'GBC', '㈐', 'OA', 'ㅁ', 'CAH', 'OC', '√', 'BM', 'BA', 'PS', 'tna', 'cos', 'DE', 'MN', '③', 'E', 'BAD', 'AOB', 'I', 'EC', 'H', 'RHS', 'HQCD', 'tan', 'm', 'y', 'L', 'BQP', 'PQH', 'MBN', 'AHB', 'ㄴ', 'HB', 'PQRS', '¼', 'r', 'ABM', 'EDC', 'π', 'PD', 'DAC', 'X', 'C', 'BF', 'BAH', 'sim', '㎠', 'w', '!', 'CH', 'DB', '㎝', 'h', '%', 'AB', 'O', 'AE', 'AA', '①', 'F', 'BC', 'AED', 'DCH', 'a', 'K', 'ADC', 'mx', 'EB', '＜', 'CBN', 'ASA', 'N', 'AO', '=', 'ODC', 'ㄷ', '＝', 'AMH', 'Q', 'k', 'BD', 'ABQ', '②', 'con', 'P', 'BO', 'CAB', 'PR', 'p', 'z', 'DMN', 'BCD', 'AHC', 'OMR', 'M', 'CO', 'BCH', 'x', 'BAC', '÷', '′', 'BIC', 'IBC', 'CBH', '×', 'PA', '㎞', 'AM', 'ㄱ', 'ABH', 'OD', 'v', '⅓', 'A', 'DBC', 'AMN', 'cm', 'AG', '½', 'BE', '¾', 'BH', 'ba', 'PQ', 'AOC', 'G', 'BHF', 'd', 'OEF', 'ABCD', '⑤', '⑴', 'QnA', 'ABD', 'AC', 'ADB', 'OB', 'sinA', 'xx', '²', '|', 'MH', 'ADE', 'AMC', 'BOA', 'BP', 'COD', 'ACB', '+', 'ab', 'DH', 'PB', 'FA', ')', 'CA', 'BHC', \"'\", '㈏', '△', 'BQ', 'DCB', '˚', 'POA', '∠', 'sin', '㈎', 'AD', '⅔', 'DAB', 'ABC', 's', '＋', 'BMN'}\n"
     ]
    }
   ],
   "source": [
    "print(result)"
   ]
  },
  {
   "cell_type": "code",
   "execution_count": null,
   "metadata": {},
   "outputs": [],
   "source": []
  }
 ],
 "metadata": {
  "kernelspec": {
   "display_name": "Python 3",
   "language": "python",
   "name": "python3"
  },
  "language_info": {
   "codemirror_mode": {
    "name": "ipython",
    "version": 3
   },
   "file_extension": ".py",
   "mimetype": "text/x-python",
   "name": "python",
   "nbconvert_exporter": "python",
   "pygments_lexer": "ipython3",
   "version": "3.7.6"
  }
 },
 "nbformat": 4,
 "nbformat_minor": 4
}
