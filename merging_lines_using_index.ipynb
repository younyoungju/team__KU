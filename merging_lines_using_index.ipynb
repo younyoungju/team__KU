{
 "cells": [
  {
   "cell_type": "code",
<<<<<<< HEAD
   "execution_count": 19,
=======
   "execution_count": null,
   "metadata": {},
   "outputs": [],
   "source": [
    "# pip install --upgrade pip --user\n",
    "# pip install konlpy --user"
   ]
  },
  {
   "cell_type": "code",
   "execution_count": 6,
>>>>>>> 2eab00ff292d66409c0d0e984073af7736d51d9d
   "metadata": {},
   "outputs": [],
   "source": [
    "import pickle\n",
    "from soynlp.hangle import levenshtein\n",
    "# from PreProcessing.find_common_part\n",
    "from konlpy.tag import *\n",
    "from PreProcessing import find_common_part\n",
    "import numpy as np\n",
    "from gensim.models import Word2Vec"
   ]
  },
  {
   "cell_type": "code",
   "execution_count": null,
   "metadata": {},
   "outputs": [],
   "source": [
    "hannanum = Hannanum()\n",
    "kkma = Kkma()\n",
    "komoran = Komoran()\n",
    "okt = Okt()"
   ]
  },
  {
   "cell_type": "code",
<<<<<<< HEAD
   "execution_count": 6,
=======
   "execution_count": null,
>>>>>>> 2eab00ff292d66409c0d0e984073af7736d51d9d
   "metadata": {},
   "outputs": [],
   "source": [
    "# leven_list = [levenshtein(e,g) for e, g in zip(ws_removed_EBS, most_similar_GOOGLE)]"
   ]
  },
  {
   "cell_type": "code",
<<<<<<< HEAD
   "execution_count": 7,
=======
   "execution_count": null,
>>>>>>> 2eab00ff292d66409c0d0e984073af7736d51d9d
   "metadata": {},
   "outputs": [],
   "source": [
    "# leven_nor_list = [(levenshtein(e,g) / (len(e) + 1e-7)) + (levenshtein(e,g) / (len(g) + 1e-7)) for e, g in zip(ws_removed_EBS, most_similar_GOOGLE)]"
   ]
  },
  {
   "cell_type": "code",
<<<<<<< HEAD
   "execution_count": 8,
=======
   "execution_count": null,
>>>>>>> 2eab00ff292d66409c0d0e984073af7736d51d9d
   "metadata": {},
   "outputs": [],
   "source": [
    "# # 저장할때\n",
    "# with open('data/leven_list.txt', 'wb') as f:\n",
    "#     pickle.dump(leven_list, f)\n",
    "    \n",
    "# with open('data/leven_nor_list.txt', 'wb') as f:\n",
    "#     pickle.dump(leven_nor_list, f)"
   ]
  },
  {
   "cell_type": "code",
<<<<<<< HEAD
   "execution_count": 9,
=======
   "execution_count": null,
>>>>>>> 2eab00ff292d66409c0d0e984073af7736d51d9d
   "metadata": {},
   "outputs": [],
   "source": [
    "# 불러올때\n",
    "with open('data/ws_removed_EBS.txt', 'rb') as f:\n",
    "    ws_removed_EBS = pickle.load(f)\n",
    "\n",
    "with open('data/most_similar_GOOGLE.txt', 'rb') as f:\n",
    "    most_similar_GOOGLE = pickle.load(f)\n",
    "\n",
    "with open('data/ws_removed_GOOGLE.txt', 'rb') as f:\n",
    "    ws_removed_GOOGLE = pickle.load(f)\n",
    "\n",
    "with open('data/leven_list.txt', 'rb') as f:\n",
    "    leven_list = pickle.load(f)\n",
    "\n",
    "with open('data/leven_nor_list.txt', 'rb') as f:\n",
    "    leven_nor_list = pickle.load(f)"
   ]
  },
  {
   "cell_type": "code",
<<<<<<< HEAD
   "execution_count": 10,
=======
   "execution_count": null,
>>>>>>> 2eab00ff292d66409c0d0e984073af7736d51d9d
   "metadata": {},
   "outputs": [],
   "source": [
    "# result_ebs = []\n",
    "# result_google = []\n",
    "\n",
    "# accm = 0\n",
    "# prev = 0\n",
    "\n",
    "# for _ in range(len(ws_removed_EBS)):\n",
    "#     if leven_nor_list[_] > 0.7:    \n",
    "#         accm += 1\n",
    "#     else:\n",
    "#         accm = 0\n",
    "        \n",
    "# #     print(_, leven_nor_list[_])\n",
    "# #     print(_, prev, accm)\n",
    "    \n",
    "#     if prev:\n",
    "#         if accm:\n",
    "#             pass\n",
    "#         else:\n",
    "#             ebs_e = _ -1\n",
    "#             google_e = ws_removed_GOOGLE.index(most_similar_GOOGLE[_]) - 1\n",
    "            \n",
    "#             result_ebs.append(''.join(ws_removed_EBS[ebs_s:ebs_e+1]))\n",
    "#             result_google.append(''.join(ws_removed_GOOGLE[google_s:google_e+1]))\n",
    "            \n",
    "# #             print()\n",
    "# #             print('ebs start : ', ebs_s, 'ebs end :', ebs_e)\n",
    "# #             print('ggl start : ', google_s, 'ggl end :', google_e)\n",
    "# #             print()\n",
    "# #             print(''.join(ws_removed_EBS[ebs_s:ebs_e+1]))\n",
    "# #             print()\n",
    "# #             print(''.join(ws_removed_GOOGLE[google_s:google_e+1]))\n",
    "# #             print()\n",
    "# #             print('*****'*10)\n",
    "            \n",
    "#             result_ebs.append(ws_removed_EBS[_])\n",
    "#             result_google.append(most_similar_GOOGLE[_])\n",
    "            \n",
    "# #             print('ebs index :', _)\n",
    "# #             print()\n",
    "# #             print(ws_removed_EBS[_])\n",
    "# #             print()\n",
    "# #             print(most_similar_GOOGLE[_])\n",
    "# #             print()\n",
    "# #             print('*****'*10)\n",
    "            \n",
    "            \n",
    "#     else:\n",
    "#         if accm:\n",
    "#             ebs_s = _\n",
    "#             google_s = ws_removed_GOOGLE.index(most_similar_GOOGLE[_-1]) + 1\n",
    "            \n",
    "#         else:\n",
    "#             result_ebs.append(ws_removed_EBS[_])\n",
    "#             result_google.append(most_similar_GOOGLE[_])\n",
    "            \n",
    "# #             print('ebs index :', _)\n",
    "# #             print()\n",
    "# #             print(ws_removed_EBS[_])\n",
    "# #             print()\n",
    "# #             print(most_similar_GOOGLE[_])\n",
    "# #             print()\n",
    "# #             print('*****'*10)\n",
    "            \n",
    "#     prev = accm\n",
    "    "
   ]
  },
  {
   "cell_type": "code",
<<<<<<< HEAD
   "execution_count": 11,
=======
   "execution_count": null,
   "metadata": {},
   "outputs": [],
   "source": [
    "# len(result_ebs)"
   ]
  },
  {
   "cell_type": "code",
   "execution_count": null,
   "metadata": {},
   "outputs": [],
   "source": [
    "# len(result_google)"
   ]
  },
  {
   "cell_type": "code",
   "execution_count": null,
>>>>>>> 2eab00ff292d66409c0d0e984073af7736d51d9d
   "metadata": {},
   "outputs": [],
   "source": [
    "# result_ebs_1000 = []\n",
    "# result_google_1000 = []\n",
    "# for e, g in zip(result_ebs, result_google):\n",
    "#     l = levenshtein(e,g)\n",
    "#     l_nor = (l / (len(e) + 1e-7)) + (l / (len(g) + 1e-7))\n",
    "#     if l_nor*l < 1000:\n",
    "#         result_ebs_1000.append(e)\n",
    "#         result_google_1000.append(g)"
   ]
  },
  {
   "cell_type": "code",
<<<<<<< HEAD
   "execution_count": 12,
=======
   "execution_count": null,
>>>>>>> 2eab00ff292d66409c0d0e984073af7736d51d9d
   "metadata": {},
   "outputs": [
    {
     "ename": "NameError",
     "evalue": "name 'result_ebs_1000' is not defined",
     "output_type": "error",
     "traceback": [
      "\u001b[1;31m---------------------------------------------------------------------------\u001b[0m",
      "\u001b[1;31mNameError\u001b[0m                                 Traceback (most recent call last)",
      "\u001b[1;32m<ipython-input-12-a9acee622c7b>\u001b[0m in \u001b[0;36m<module>\u001b[1;34m\u001b[0m\n\u001b[0;32m      1\u001b[0m \u001b[1;31m# 저장할때\u001b[0m\u001b[1;33m\u001b[0m\u001b[1;33m\u001b[0m\u001b[1;33m\u001b[0m\u001b[0m\n\u001b[0;32m      2\u001b[0m \u001b[1;32mwith\u001b[0m \u001b[0mopen\u001b[0m\u001b[1;33m(\u001b[0m\u001b[1;34m'data/result_ebs_1000.txt'\u001b[0m\u001b[1;33m,\u001b[0m \u001b[1;34m'wb'\u001b[0m\u001b[1;33m)\u001b[0m \u001b[1;32mas\u001b[0m \u001b[0mf\u001b[0m\u001b[1;33m:\u001b[0m\u001b[1;33m\u001b[0m\u001b[1;33m\u001b[0m\u001b[0m\n\u001b[1;32m----> 3\u001b[1;33m     \u001b[0mpickle\u001b[0m\u001b[1;33m.\u001b[0m\u001b[0mdump\u001b[0m\u001b[1;33m(\u001b[0m\u001b[0mresult_ebs_1000\u001b[0m\u001b[1;33m,\u001b[0m \u001b[0mf\u001b[0m\u001b[1;33m)\u001b[0m\u001b[1;33m\u001b[0m\u001b[1;33m\u001b[0m\u001b[0m\n\u001b[0m\u001b[0;32m      4\u001b[0m \u001b[1;33m\u001b[0m\u001b[0m\n\u001b[0;32m      5\u001b[0m \u001b[1;32mwith\u001b[0m \u001b[0mopen\u001b[0m\u001b[1;33m(\u001b[0m\u001b[1;34m'data/result_google_1000.txt'\u001b[0m\u001b[1;33m,\u001b[0m \u001b[1;34m'wb'\u001b[0m\u001b[1;33m)\u001b[0m \u001b[1;32mas\u001b[0m \u001b[0mf\u001b[0m\u001b[1;33m:\u001b[0m\u001b[1;33m\u001b[0m\u001b[1;33m\u001b[0m\u001b[0m\n",
      "\u001b[1;31mNameError\u001b[0m: name 'result_ebs_1000' is not defined"
     ]
    }
   ],
   "source": [
    "# # 저장할때\n",
    "# with open('data/result_ebs_1000.txt', 'wb') as f:\n",
    "#     pickle.dump(result_ebs_1000, f)\n",
    "    \n",
    "# with open('data/result_google_1000.txt', 'wb') as f:\n",
    "#     pickle.dump(result_google_1000, f)"
   ]
  },
  {
   "cell_type": "code",
   "execution_count": null,
   "metadata": {},
   "outputs": [],
   "source": [
    "# 불러올때\n",
    "with open('data/result_ebs_1000.txt', 'rb') as f:\n",
    "    result_ebs_1000 = pickle.load(f)\n",
    "    \n",
    "with open('data/result_google_1000.txt', 'rb') as f:\n",
    "    result_google_1000 = pickle.load(f)"
   ]
  },
  {
   "cell_type": "code",
   "execution_count": null,
   "metadata": {},
   "outputs": [],
<<<<<<< HEAD
=======
   "source": [
    "len(result_ebs_1000)"
   ]
  },
  {
   "cell_type": "code",
   "execution_count": null,
   "metadata": {},
   "outputs": [],
   "source": [
    "len(result_google_1000)"
   ]
  },
  {
   "cell_type": "code",
   "execution_count": null,
   "metadata": {
    "scrolled": true
   },
   "outputs": [],
>>>>>>> 2eab00ff292d66409c0d0e984073af7736d51d9d
   "source": [
    "for e, g in zip(result_ebs_1000, result_google_1000):\n",
    "    print(e)\n",
    "    print(g)\n",
    "    print()"
   ]
  },
  {
   "cell_type": "code",
   "execution_count": null,
   "metadata": {
    "scrolled": true
   },
   "outputs": [],
   "source": [
    "# for e, g in zip(result_ebs, result_google):\n",
    "#     eidx = result_ebs.index(e)\n",
    "#     gidx = result_google.index(g)\n",
    "#     l = levenshtein(e,g)\n",
    "#     l_nor = (l / (len(e) + 1e-7)) + (l / (len(g) + 1e-7))\n",
    "#     print('levenshtein :', l, '    ', 'normal : ', l_nor, '    ', 'production : ', l_nor*l )\n",
    "#     print()\n",
    "#     print('ebs index : ', eidx)\n",
    "#     print('google index : ', gidx)\n",
    "#     print()\n",
    "#     print(e)\n",
    "#     print()\n",
    "#     print(g)\n",
    "#     print()\n",
    "#     print('******'*10)"
   ]
  },
  {
   "cell_type": "code",
   "execution_count": null,
   "metadata": {},
   "outputs": [],
   "source": [
    "# s1 = '그러면이오른쪽에있는삼각형에서비씨를구해볼텐데기준각사십오도로봤을때빗변이주어져있고마주보이니까뭐예요높이를구하면되는거예요그렇죠결국빗변하고높이사인사십오도구나사인사십오도는뭐분의뭐구나이루트육분의비씨구나여기까지갈수있으면되겠죠그럼양변에이루트육곱해주면비씨의길이는이루트육곱하기사인사십오도는이분의루트이이죠이렇게약분해보면루트십이니까이루트삼까지갈수있어요이길이가이루트삼이야그럼이제다왔어요그렇죠이제는다시이노란색삼각형에이비씨로와서보는거죠삼각형누구에서삼각형에이비씨에서나는에이씨를구하고자하고기준각에서마주보는높이가나와있어빗변과높이바로사인입니다'\n",
    "# s2 = '그러면이오른쪽에있는삼각형에서비씨로구해볼텐데기준각사십오도로봤을때빗변이젖어있고마주보이니까뭐야높이를결국기변하고높이싸인사십오더구나싸인사십오도는오분의보구나이루트육분의비씨구나여기까지갈수있으면되겠죠처럼양변에이루트곱해주면비씨이루트육곱하기싸인사십오도는이분의루트이적요렇게약분해보면루트십이이니까이루트삼까지갈수있어요이일부터삼이야자그럼이제다왔어요그저어이제는다시이노란색삼각형에이비씨로와서보는거죠제가생각하는누구에서에이비씨에서나를에이스를구할보자고기준가게에서마주보이는높이가나와있어집병과높이바로싸인입니다'"
   ]
  },
  {
   "cell_type": "code",
   "execution_count": null,
   "metadata": {},
   "outputs": [],
   "source": [
    "# def get_words_of_two_length(s):\n",
    "#     answer = []\n",
    "#     MIN_LEN = 2\n",
    "#     MAX_LEN =2\n",
    "#     for l in range(MIN_LEN, MAX_LEN+1):\n",
    "#         for i in range(len(s)-l+1):\n",
    "#             answer.append(s[i:i+l])\n",
    "    \n",
    "#     return answer \n",
    "\n",
    "# def find_common_part(s1, s2):\n",
    "#     answer = []\n",
    "#     s1 = ''.join(s1.split())\n",
    "#     s2 = ''.join(s2.split())\n",
    "    \n",
    "#     s1_token_in_s2 = [_ for _ in get_words_of_two_length(s1) if _ in s2]\n",
    "    \n",
    "#     for i, _ in enumerate(s1_token_in_s2):\n",
    "#         if i == 0:\n",
    "#             answer.append(_)\n",
    "#         else:\n",
    "#             if answer[-1][1:] in _ or answer[-1][-1] in _:\n",
    "#                 answer.append(answer.pop()+_[-1])\n",
    "#             elif _ in answer[-1]:\n",
    "#                 continue\n",
    "#             else:\n",
    "#                 answer.append(_)\n",
    "                \n",
    "#     return answer   \n",
    "\n",
    "# def selected_pos_kkma(pos_text):\n",
    "#     alist = []\n",
    "#     for _ in pos_text:\n",
    "#         if _[1] in ['NNG','NNP','NNB','NNM', 'NR','NNA', 'NP', #명사\n",
    "#                     'VV','VA', 'VX', 'VXV', 'VXA', 'VCP', 'VCN', 'VX', #용언\n",
    "# #                     'MDT','MDN', 'MAG', 'MAC', 'MD',  #관형사, 부사\n",
    "# #                     'JKS', 'JKC', 'JKG', 'JKO', 'JKM', 'JKI', 'JKQ', 'JX', 'JC', \n",
    "# #                     'IC',#감탄사 \n",
    "# #                     'OL',#외국어\n",
    "#                     'XR']: #어근\n",
    "#             alist.append(_)\n",
    "#             continue\n",
    "#     return alist\n",
    "\n",
    "# def selected_pos_komoran(pos_text):\n",
    "#     alist = []\n",
    "#     for _ in pos_text:\n",
    "#         if _[1] in ['NN','NP','NNG','NNP', 'NNB', 'NP', 'NR',\n",
    "#                    'VV', 'VA', 'VX', 'VC', 'VCP', 'VCN']:\n",
    "#             alist.append(_)\n",
    "#             continue\n",
    "#     return alist"
   ]
  },
  {
   "cell_type": "markdown",
   "metadata": {},
   "source": [
    "# Kkma"
   ]
  },
  {
   "cell_type": "code",
   "execution_count": null,
   "metadata": {},
   "outputs": [],
   "source": [
    "# ebs_mor = kkma.pos(s1)\n",
    "# google_mor = kkma.pos(s2)\n",
    "# ebs_pos_filter_kkma= selected_pos_kkma(ebs_mor)\n",
    "# google_pos_filter_kkma = selected_pos_kkma(google_mor)"
   ]
  },
  {
   "cell_type": "code",
<<<<<<< HEAD
   "execution_count": 14,
=======
   "execution_count": null,
>>>>>>> 2eab00ff292d66409c0d0e984073af7736d51d9d
   "metadata": {},
   "outputs": [],
   "source": [
    "# print(' '.join([_[0] for _ in ebs_mor]))\n",
    "# print()\n",
    "# print(' '.join([_[0] for _ in google_mor]))\n",
    "# print()\n",
    "# print(' '.join([_[0] for _ in ebs_pos_filter_kkma]))\n",
    "# print()\n",
    "# print(' '.join([_[0] for _ in google_pos_filter_kkma]))"
   ]
  },
  {
   "cell_type": "code",
<<<<<<< HEAD
   "execution_count": 15,
=======
   "execution_count": null,
>>>>>>> 2eab00ff292d66409c0d0e984073af7736d51d9d
   "metadata": {},
   "outputs": [],
   "source": [
    "# for e, g in zip(ebs_pos_filter_kkma, google_pos_filter_kkma):\n",
    "#     print(e, '   ',g)"
   ]
  },
  {
   "cell_type": "markdown",
   "metadata": {},
   "source": [
    "# OKT"
   ]
  },
  {
   "cell_type": "code",
<<<<<<< HEAD
   "execution_count": 16,
=======
   "execution_count": null,
>>>>>>> 2eab00ff292d66409c0d0e984073af7736d51d9d
   "metadata": {},
   "outputs": [],
   "source": [
    "def selected_pos_okt(pos_text):\n",
    "    alist = []\n",
    "    for _ in pos_text:\n",
    "        if _[1] in ['Noun','Verb','Modifier','Adjective', 'Adverb']:\n",
    "            alist.append(_)\n",
    "            continue\n",
    "    return alist\n",
    "\n",
    "def get_pos_filter_okt(s1,s2):\n",
    "\n",
    "    ebs_mor_okt = okt.pos(s1)\n",
    "    google_mor_okt = okt.pos(s2)\n",
    "    ebs_pos_filter_okt= selected_pos_okt(ebs_mor_okt)\n",
    "    google_pos_filter_okt = selected_pos_okt(google_mor_okt)\n",
    "    \n",
    "    return ebs_pos_filter_okt, google_pos_filter_okt"
   ]
  },
  {
   "cell_type": "code",
<<<<<<< HEAD
   "execution_count": 17,
=======
   "execution_count": null,
>>>>>>> 2eab00ff292d66409c0d0e984073af7736d51d9d
   "metadata": {},
   "outputs": [],
   "source": [
    "# print(' '.join([_[0] for _ in ebs_mor_okt]))\n",
    "# print()\n",
    "# print(' '.join([_[0] for _ in google_mor_okt]))\n",
    "# print()\n",
    "# print(' '.join([_[0] for _ in ebs_pos_filter_okt]))\n",
    "# print()\n",
    "# print(' '.join([_[0] for _ in google_pos_filter_okt]))"
   ]
  },
  {
   "cell_type": "markdown",
   "metadata": {},
   "source": [
    "# 같은부분 인덱싱 (okt)"
   ]
  },
  {
   "cell_type": "code",
<<<<<<< HEAD
   "execution_count": 21,
=======
   "execution_count": null,
>>>>>>> 2eab00ff292d66409c0d0e984073af7736d51d9d
   "metadata": {},
   "outputs": [
    {
     "ename": "ModuleNotFoundError",
     "evalue": "No module named 'Kkma'",
     "output_type": "error",
     "traceback": [
      "\u001b[1;31m---------------------------------------------------------------------------\u001b[0m",
      "\u001b[1;31mModuleNotFoundError\u001b[0m                       Traceback (most recent call last)",
      "\u001b[1;32m<ipython-input-21-fb1371f77cd0>\u001b[0m in \u001b[0;36m<module>\u001b[1;34m\u001b[0m\n\u001b[1;32m----> 1\u001b[1;33m \u001b[1;32mimport\u001b[0m \u001b[0mKkma\u001b[0m \u001b[1;32mas\u001b[0m \u001b[0mkkma\u001b[0m\u001b[1;33m\u001b[0m\u001b[1;33m\u001b[0m\u001b[0m\n\u001b[0m\u001b[0;32m      2\u001b[0m \u001b[0mebs_pos\u001b[0m \u001b[1;33m=\u001b[0m \u001b[0mkkma\u001b[0m\u001b[1;33m.\u001b[0m\u001b[0mpos\u001b[0m\u001b[1;33m(\u001b[0m\u001b[0ms1\u001b[0m\u001b[1;33m)\u001b[0m\u001b[1;33m\u001b[0m\u001b[1;33m\u001b[0m\u001b[0m\n\u001b[0;32m      3\u001b[0m \u001b[0mgoogle_pos\u001b[0m \u001b[1;33m=\u001b[0m \u001b[0mkkma\u001b[0m\u001b[1;33m.\u001b[0m\u001b[0mpos\u001b[0m\u001b[1;33m(\u001b[0m\u001b[0ms2\u001b[0m\u001b[1;33m)\u001b[0m\u001b[1;33m\u001b[0m\u001b[1;33m\u001b[0m\u001b[0m\n",
      "\u001b[1;31mModuleNotFoundError\u001b[0m: No module named 'Kkma'"
     ]
    }
   ],
   "source": [
<<<<<<< HEAD
    "\n",
    "ebs_pos = kkma.pos(s1)\n",
    "google_pos = kkma.pos(s2)"
=======
    "def find_common_pos(ebs_pos, google_pos):\n",
    "    prev_found_g_idx = 0\n",
    "    i = 0\n",
    "    used_g_idx = []\n",
    "#     for e, g in zip(ebs_pos, google_pos):\n",
    "#         print(i, '   ', e, '   ', g)\n",
    "#         i+= 1\n",
    "#     print()\n",
    "    \n",
    "    mor_merge_ebs = []\n",
    "    mor_merge_google = []\n",
    "\n",
    "    accm = 0\n",
    "    prev = 0\n",
    "    \n",
    "    for _ in range(len(ebs_pos)):\n",
    "        \n",
    "        # ran_g 시작 인덱스, 끝 인덱스 얻기#################################\n",
    "        ran_g_idx_s = _-10 if _-10>0 else 0\n",
    "        ran_g_idx_e = _+10 if _+10<len(google_pos) else len(google_pos)\n",
    "        ran_g = []\n",
    "#         print('_:',_, 'ebs_pos[_]:', ebs_pos[_], 'g_start:',  ran_g_idx_s, 'g_end:',  ran_g_idx_e)\n",
    "        #################################################################\n",
    "        \n",
    "        # ran_g 얻기 #####################################################\n",
    "        for lets_removed_used in list(range(ran_g_idx_s, ran_g_idx_e)):\n",
    "            if lets_removed_used in used_g_idx:\n",
    "                ran_g.append(' ')\n",
    "            else:\n",
    "                ran_g.append(google_pos[lets_removed_used])\n",
    "        #################################################################\n",
    "        \n",
    "        # 현 ebs 형태소 in ran_g ? ######################################\n",
    "        if ebs_pos[_] in ran_g:\n",
    "            accm = 0\n",
    "            if _ < 5:\n",
    "                curr_g_idx = ran_g.index(ebs_pos[_])\n",
    "#                 print(curr_g_idx)\n",
    "            else:\n",
    "                curr_g_idx  = _ + ran_g.index(ebs_pos[_]) -5\n",
    "            used_g_idx.append(curr_g_idx)\n",
    "        else:\n",
    "            accm += 1\n",
    "#         print('accm:', accm)\n",
    "        #################################################################\n",
    "\n",
    "        if prev:\n",
    "            if accm:\n",
    "                if _ == len(ebs_pos) - 1:\n",
    "                    mor_merge_ebs.append(ebs_pos[ebs_s:])\n",
    "                    mor_merge_google.append((google_pos[google_s:]))\n",
    "                else:\n",
    "                    pass\n",
    "                \n",
    "            else:\n",
    "                ebs_e = _ -1\n",
    "                google_e = curr_g_idx - 1\n",
    "\n",
    "                mor_merge_ebs.append(ebs_pos[ebs_s:ebs_e+1])\n",
    "                mor_merge_google.append((google_pos[google_s:google_e+1]))\n",
    "#                 print('merged')\n",
    "#                 print(ebs_pos[ebs_s:ebs_e+1], ebs_s, '~', ebs_e)\n",
    "#                 print(google_pos[google_s:google_e+1], google_s, '~', google_e)\n",
    "#                 print()\n",
    "#                 print('****'*10)\n",
    "#                 print()\n",
    "\n",
    "                mor_merge_ebs.append(ebs_pos[_])\n",
    "                mor_merge_google.append(google_pos[curr_g_idx])\n",
    "#                 print('find!')\n",
    "#                 print(ebs_pos[_], _, '   ',google_pos[curr_g_idx], curr_g_idx)\n",
    "#                 print()\n",
    "#                 print('****'*10)\n",
    "#                 print()\n",
    "\n",
    "                prev_found_g_idx = curr_g_idx\n",
    "        else:\n",
    "            if accm:\n",
    "                ebs_s = _\n",
    "                google_s = prev_found_g_idx + 1\n",
    "\n",
    "            else:\n",
    "                mor_merge_ebs.append(ebs_pos[_])\n",
    "                mor_merge_google.append(google_pos[curr_g_idx])\n",
    "                prev_found_g_idx = curr_g_idx\n",
    "                \n",
    "#                 print('find!')\n",
    "#                 print(ebs_pos[_], _, '  ', google_pos[curr_g_idx], curr_g_idx)\n",
    "#                 print()\n",
    "#                 print('****'*10)\n",
    "#                 print()\n",
    "        prev = accm\n",
    "    return mor_merge_ebs, mor_merge_google"
>>>>>>> 2eab00ff292d66409c0d0e984073af7736d51d9d
   ]
  },
  {
   "cell_type": "code",
   "execution_count": null,
   "metadata": {},
   "outputs": [],
   "source": [
    "def get_final_string_ebs(mor_merge_ebs):\n",
    "    final_string_ebs = ''\n",
    "    for _ in mor_merge_ebs:\n",
    "        if type(_) == list:\n",
    "            add = ''.join([t[0] for t in _])\n",
    "        else:\n",
    "            add = _[0]\n",
    "        final_string_ebs += ' '+add\n",
    "        \n",
    "    return final_string_ebs\n",
    "\n",
    "def get_final_string_google(mor_merge_google):\n",
    "    final_string_google = ''\n",
    "    for _ in mor_merge_google:\n",
    "        if type(_) == list:\n",
    "            add = ''.join([t[0] for t in _])\n",
    "        else:\n",
    "            add = _[0]\n",
    "        final_string_google += ' '+add\n",
    "        \n",
    "    return final_string_google"
   ]
  },
  {
   "cell_type": "code",
   "execution_count": null,
<<<<<<< HEAD
   "metadata": {
    "scrolled": true
   },
=======
   "metadata": {},
>>>>>>> 2eab00ff292d66409c0d0e984073af7736d51d9d
   "outputs": [],
   "source": [
    "get_final_string_ebs(mor_merge_ebs)"
   ]
  },
  {
   "cell_type": "code",
   "execution_count": null,
   "metadata": {},
   "outputs": [],
   "source": [
    "get_final_string_google(mor_merge_google)"
   ]
  },
  {
   "cell_type": "code",
   "execution_count": null,
   "metadata": {},
   "outputs": [],
   "source": [
    "# def get_final_input_strings(result_ebs_1000, result_google_1000):\n",
    "#     result = []\n",
    "#     for e, g in zip(result_ebs_1000, result_google_1000):\n",
    "#         ebs_pos_filter_okt, google_pos_filter_okt = get_pos_filter_okt(e,g)\n",
    "#         mor_merge_ebs, mor_merge_google = find_common_pos(ebs_pos_filter_okt, google_pos_filter_okt)\n",
    "#         print(get_final_string_ebs(mor_merge_ebs))\n",
    "#         print()\n",
    "#         print(get_final_string_ebs(mor_merge_google))\n",
    "#         print()\n",
    "#         print()\n",
    "#         result.append(get_final_string_ebs(mor_merge_ebs))\n",
    "#         result.append(get_final_string_ebs(mor_merge_google))\n",
    "        \n",
    "#     return result"
   ]
  },
  {
   "cell_type": "code",
   "execution_count": null,
   "metadata": {
    "scrolled": true
   },
   "outputs": [],
   "source": [
    "# result = get_final_input_strings(result_ebs_1000, result_google_1000)"
   ]
  },
  {
   "cell_type": "code",
   "execution_count": null,
   "metadata": {},
   "outputs": [],
   "source": [
    "# # 저장할때\n",
    "# with open('data/result.txt', 'wb') as f:\n",
    "#     pickle.dump(result, f)"
   ]
  },
  {
<<<<<<< HEAD
   "cell_type": "code",
   "execution_count": null,
   "metadata": {},
   "outputs": [],
=======
   "cell_type": "markdown",
   "metadata": {},
>>>>>>> 2eab00ff292d66409c0d0e984073af7736d51d9d
   "source": [
    "# ------------------------------------------박사님 같이 해본"
   ]
  },
  {
   "cell_type": "code",
   "execution_count": null,
<<<<<<< HEAD
   "metadata": {
    "scrolled": true
   },
=======
   "metadata": {},
>>>>>>> 2eab00ff292d66409c0d0e984073af7736d51d9d
   "outputs": [],
   "source": [
    "test_m = np.array([1,2, 3, 4, 5])\n",
    "test_m"
   ]
  },
  {
   "cell_type": "code",
   "execution_count": null,
   "metadata": {},
   "outputs": [],
   "source": [
    "test_m = np.diag(test_m)\n",
    "test_m"
   ]
  },
  {
   "cell_type": "code",
   "execution_count": null,
   "metadata": {},
   "outputs": [],
   "source": [
    "Q = np.array([1,0,0,0, 0])\n",
    "Q"
   ]
  },
  {
   "cell_type": "code",
<<<<<<< HEAD
   "execution_count": 13,
   "metadata": {},
   "outputs": [
    {
     "ename": "NameError",
     "evalue": "name 'result_ebs_ws' is not defined",
     "output_type": "error",
     "traceback": [
      "\u001b[1;31m---------------------------------------------------------------------------\u001b[0m",
      "\u001b[1;31mNameError\u001b[0m                                 Traceback (most recent call last)",
      "\u001b[1;32m<ipython-input-13-8a0bf6844731>\u001b[0m in \u001b[0;36m<module>\u001b[1;34m\u001b[0m\n\u001b[0;32m      1\u001b[0m \u001b[0mresult_ebs_morph\u001b[0m \u001b[1;33m=\u001b[0m \u001b[1;33m[\u001b[0m\u001b[1;33m]\u001b[0m\u001b[1;33m\u001b[0m\u001b[1;33m\u001b[0m\u001b[0m\n\u001b[0;32m      2\u001b[0m \u001b[0mresult_google_morph\u001b[0m \u001b[1;33m=\u001b[0m \u001b[1;33m[\u001b[0m\u001b[1;33m]\u001b[0m\u001b[1;33m\u001b[0m\u001b[1;33m\u001b[0m\u001b[0m\n\u001b[1;32m----> 3\u001b[1;33m \u001b[1;32mfor\u001b[0m \u001b[0me\u001b[0m\u001b[1;33m,\u001b[0m \u001b[0mg\u001b[0m \u001b[1;32min\u001b[0m \u001b[0mzip\u001b[0m\u001b[1;33m(\u001b[0m\u001b[0mresult_ebs_ws\u001b[0m\u001b[1;33m,\u001b[0m \u001b[0mresult_google_ws\u001b[0m\u001b[1;33m)\u001b[0m\u001b[1;33m:\u001b[0m\u001b[1;33m\u001b[0m\u001b[1;33m\u001b[0m\u001b[0m\n\u001b[0m\u001b[0;32m      4\u001b[0m     \u001b[0mebs_pos\u001b[0m \u001b[1;33m=\u001b[0m \u001b[0mkkma\u001b[0m\u001b[1;33m.\u001b[0m\u001b[0mpos\u001b[0m\u001b[1;33m(\u001b[0m\u001b[0me\u001b[0m\u001b[1;33m)\u001b[0m\u001b[1;33m\u001b[0m\u001b[1;33m\u001b[0m\u001b[0m\n\u001b[0;32m      5\u001b[0m     \u001b[0mgoogle_pos\u001b[0m \u001b[1;33m=\u001b[0m \u001b[0mkkma\u001b[0m\u001b[1;33m.\u001b[0m\u001b[0mpos\u001b[0m\u001b[1;33m(\u001b[0m\u001b[0mg\u001b[0m\u001b[1;33m)\u001b[0m\u001b[1;33m\u001b[0m\u001b[1;33m\u001b[0m\u001b[0m\n",
      "\u001b[1;31mNameError\u001b[0m: name 'result_ebs_ws' is not defined"
=======
   "execution_count": null,
   "metadata": {},
   "outputs": [],
   "source": [
    "Q.reshape(5, -1)"
   ]
  },
  {
   "cell_type": "code",
   "execution_count": null,
   "metadata": {},
   "outputs": [],
   "source": [
    "dot_pro.shape"
   ]
  },
  {
   "cell_type": "code",
   "execution_count": null,
   "metadata": {},
   "outputs": [],
   "source": [
    "dot_pro"
   ]
  },
  {
   "cell_type": "code",
   "execution_count": null,
   "metadata": {},
   "outputs": [],
   "source": [
    "Q.shape"
   ]
  },
  {
   "cell_type": "code",
   "execution_count": null,
   "metadata": {},
   "outputs": [],
   "source": [
    "Q"
   ]
  },
  {
   "cell_type": "code",
   "execution_count": null,
   "metadata": {},
   "outputs": [],
   "source": [
    "dot_pro = test_m.dot(Q)"
   ]
  },
  {
   "cell_type": "code",
   "execution_count": null,
   "metadata": {},
   "outputs": [],
   "source": [
    "np.linalg.norm(test_m, axis=1)#길이"
   ]
  },
  {
   "cell_type": "code",
   "execution_count": null,
   "metadata": {},
   "outputs": [],
   "source": [
    "np.linalg.norm(Q) #길이"
   ]
  },
  {
   "cell_type": "code",
   "execution_count": null,
   "metadata": {},
   "outputs": [],
   "source": [
    "np.linalg.norm(test_m, axis=1) * np.linalg.norm(Q) #길"
   ]
  },
  {
   "cell_type": "code",
   "execution_count": null,
   "metadata": {},
   "outputs": [],
   "source": [
    "sim = dot_pro / np.linalg.norm(test_m, axis=1) * np.linalg.norm(Q) #길"
   ]
  },
  {
   "cell_type": "code",
   "execution_count": null,
   "metadata": {},
   "outputs": [],
   "source": [
    "sim.argmax()"
   ]
  },
  {
   "cell_type": "markdown",
   "metadata": {},
   "source": [
    "# ---------------------------------------------"
   ]
  },
  {
   "cell_type": "markdown",
   "metadata": {},
   "source": [
    "# ---------------------혼자해보기"
   ]
  },
  {
   "cell_type": "code",
   "execution_count": 10,
   "metadata": {},
   "outputs": [],
   "source": [
    "# 불러올때\n",
    "with open('data/result.txt', 'rb') as f:\n",
    "    result = pickle.load(f)"
   ]
  },
  {
   "cell_type": "code",
   "execution_count": 11,
   "metadata": {},
   "outputs": [],
   "source": [
    "result_gensim_input = [_.split() for _ in result]"
   ]
  },
  {
   "cell_type": "code",
   "execution_count": 12,
   "metadata": {},
   "outputs": [],
   "source": [
    "ebs_in_result_gensim_input = [v for i, v in enumerate(result_gensim_input) if i%2 == 0 and v != [] and result_gensim_input[i+1] != []]"
   ]
  },
  {
   "cell_type": "code",
   "execution_count": 13,
   "metadata": {},
   "outputs": [],
   "source": [
    "google_in_result_gensim_input = [v for i, v in enumerate(result_gensim_input) if i%2 == 1 and v != []]"
   ]
  },
  {
   "cell_type": "code",
   "execution_count": 32,
   "metadata": {},
   "outputs": [],
   "source": [
    "embedding_size = 10\n",
    "window_size = 2"
   ]
  },
  {
   "cell_type": "code",
   "execution_count": 23,
   "metadata": {},
   "outputs": [],
   "source": [
    "window_sizes = list(range(1, 11, 1))"
   ]
  },
  {
   "cell_type": "code",
   "execution_count": 24,
   "metadata": {
    "scrolled": true
   },
   "outputs": [
    {
     "data": {
      "text/plain": [
       "[1, 2, 3, 4, 5, 6, 7, 8, 9, 10]"
      ]
     },
     "execution_count": 24,
     "metadata": {},
     "output_type": "execute_result"
    }
   ],
   "source": [
    "window_sizes"
   ]
  },
  {
   "cell_type": "code",
   "execution_count": 30,
   "metadata": {},
   "outputs": [],
   "source": [
    "embedding_sizes = list(range(10, 160, 10))"
   ]
  },
  {
   "cell_type": "code",
   "execution_count": 31,
   "metadata": {},
   "outputs": [
    {
     "data": {
      "text/plain": [
       "[10, 20, 30, 40, 50, 60, 70, 80, 90, 100, 110, 120, 130, 140, 150]"
      ]
     },
     "execution_count": 31,
     "metadata": {},
     "output_type": "execute_result"
    }
   ],
   "source": [
    "embedding_sizes"
   ]
  },
  {
   "cell_type": "code",
   "execution_count": 15,
   "metadata": {},
   "outputs": [],
   "source": [
    "model = Word2Vec(\n",
    "                result_gensim_input, \n",
    "                window = window_size,\n",
    "                size =embedding_size,\n",
    "                min_count=1,\n",
    "                workers = 10\n",
    "                )"
   ]
  },
  {
   "cell_type": "code",
   "execution_count": 39,
   "metadata": {},
   "outputs": [],
   "source": [
    "def get_s_vec(s_list, embedding_size):\n",
    "    s_vec = np.zeros(embedding_size)\n",
    "    for t in s_list:\n",
    "        s_vec += model[t]\n",
    "    s_vec /= len(s_list)\n",
    "    return s_vec"
   ]
  },
  {
   "cell_type": "code",
   "execution_count": 17,
   "metadata": {},
   "outputs": [
    {
     "name": "stderr",
     "output_type": "stream",
     "text": [
      "C:\\ProgramData\\Anaconda3\\lib\\site-packages\\ipykernel_launcher.py:4: DeprecationWarning: Call to deprecated `__getitem__` (Method will be removed in 4.0.0, use self.wv.__getitem__() instead).\n",
      "  after removing the cwd from sys.path.\n"
     ]
    }
   ],
   "source": [
    "# Generate EBS string vectors matrix\n",
    "ebs_str_arr = np.zeros((len(ebs_in_result_gensim_input), embedding_size))\n",
    "for i, s_list in enumerate(ebs_in_result_gensim_input):\n",
    "    ebs_str_arr[i] = get_s_vec(s_list)\n",
    "ebs_vec_norms = np.linalg.norm(ebs_str_arr, axis=1)"
   ]
  },
  {
   "cell_type": "code",
   "execution_count": 18,
   "metadata": {
    "scrolled": true
   },
   "outputs": [
    {
     "name": "stderr",
     "output_type": "stream",
     "text": [
      "C:\\ProgramData\\Anaconda3\\lib\\site-packages\\ipykernel_launcher.py:4: DeprecationWarning: Call to deprecated `__getitem__` (Method will be removed in 4.0.0, use self.wv.__getitem__() instead).\n",
      "  after removing the cwd from sys.path.\n"
     ]
    },
    {
     "name": "stdout",
     "output_type": "stream",
     "text": [
      "74.84367484367485\n"
     ]
    }
   ],
   "source": [
    "#Query comparison\n",
    "cos_sims_bool = np.zeros(len(google_in_result_gensim_input))\n",
    "for g_idx, Q_str in enumerate(google_in_result_gensim_input):\n",
    "    Q_vec = get_s_vec(Q_str)\n",
    "#     Q_vec = Q_vec.reshape(embedding_size, -1)\n",
    "    dot_products = ebs_str_arr.dot(Q_vec)\n",
    "\n",
    "    Q_vec_norm = np.linalg.norm(Q_vec)\n",
    "    norm_productions = ebs_vec_norms * Q_vec_norm\n",
    "    cos_sims = dot_products / norm_productions\n",
    "    \n",
    "#     print(g_idx, '   ', cos_sims.argmax())\n",
    "    \n",
    "    if g_idx == cos_sims.argmax():\n",
    "        cos_sims_bool[g_idx] = 1\n",
    "        \n",
    "diff_num = np.unique(cos_sims_bool, return_counts=True)[1][0]\n",
    "same_num = np.unique(cos_sims_bool, return_counts=True)[1][1]\n",
    "print(same_num/(diff_num+same_num) * 100)"
   ]
  },
  {
   "cell_type": "markdown",
   "metadata": {},
   "source": [
    "# 자동화"
   ]
  },
  {
   "cell_type": "code",
   "execution_count": null,
   "metadata": {},
   "outputs": [],
   "source": []
  },
  {
   "cell_type": "code",
   "execution_count": 33,
   "metadata": {},
   "outputs": [
    {
     "name": "stdout",
     "output_type": "stream",
     "text": [
      "[1, 2, 3, 4, 5, 6, 7, 8, 9, 10]\n",
      "[10, 20, 30, 40, 50, 60, 70, 80, 90, 100, 110, 120, 130, 140, 150]\n"
>>>>>>> 2eab00ff292d66409c0d0e984073af7736d51d9d
     ]
    }
   ],
   "source": [
    "window_sizes = list(range(1, 11, 1))\n",
    "embedding_sizes = list(range(10, 160, 10))\n",
    "print(window_sizes)\n",
    "print(embedding_sizes)"
   ]
  },
  {
   "cell_type": "code",
<<<<<<< HEAD
   "execution_count": null,
=======
   "execution_count": 42,
>>>>>>> 2eab00ff292d66409c0d0e984073af7736d51d9d
   "metadata": {},
   "outputs": [],
   "source": [
    "def get_s_vec(s_list, embedding_size):\n",
    "    s_vec = np.zeros(embedding_size)\n",
    "    for t in s_list:\n",
    "        s_vec += model[t]\n",
    "    s_vec /= len(s_list)\n",
    "    return s_vec"
   ]
  },
  {
<<<<<<< HEAD
   "cell_type": "code",
   "execution_count": null,
   "metadata": {},
   "outputs": [],
=======
   "cell_type": "markdown",
   "metadata": {},
   "source": [
    "## Cbow"
   ]
  },
  {
   "cell_type": "code",
   "execution_count": 45,
   "metadata": {
    "scrolled": false
   },
   "outputs": [
    {
     "name": "stderr",
     "output_type": "stream",
     "text": [
      "C:\\ProgramData\\Anaconda3\\lib\\site-packages\\ipykernel_launcher.py:4: DeprecationWarning: Call to deprecated `__getitem__` (Method will be removed in 4.0.0, use self.wv.__getitem__() instead).\n",
      "  after removing the cwd from sys.path.\n"
     ]
    },
    {
     "name": "stdout",
     "output_type": "stream",
     "text": [
      "window_size : 1, embedding_size : 10, accuracy : 59.78835978835979\n",
      "window_size : 1, embedding_size : 20, accuracy : 63.97306397306397\n",
      "window_size : 1, embedding_size : 30, accuracy : 84.22318422318422\n",
      "window_size : 1, embedding_size : 40, accuracy : 81.19288119288119\n",
      "window_size : 1, embedding_size : 50, accuracy : 83.98268398268398\n",
      "window_size : 1, embedding_size : 60, accuracy : 66.42616642616642\n",
      "window_size : 1, embedding_size : 70, accuracy : 81.72198172198172\n",
      "window_size : 1, embedding_size : 80, accuracy : 79.46127946127946\n",
      "window_size : 1, embedding_size : 90, accuracy : 75.03607503607503\n",
      "window_size : 1, embedding_size : 100, accuracy : 82.2029822029822\n",
      "window_size : 1, embedding_size : 110, accuracy : 70.85137085137086\n",
      "window_size : 1, embedding_size : 120, accuracy : 72.72727272727273\n",
      "window_size : 1, embedding_size : 130, accuracy : 72.39057239057239\n",
      "window_size : 1, embedding_size : 140, accuracy : 14.285714285714285\n",
      "window_size : 1, embedding_size : 150, accuracy : 34.1991341991342\n",
      "window_size : 2, embedding_size : 10, accuracy : 3.6075036075036073\n",
      "window_size : 2, embedding_size : 20, accuracy : 5.146705146705147\n",
      "window_size : 2, embedding_size : 30, accuracy : 5.627705627705628\n",
      "window_size : 2, embedding_size : 40, accuracy : 65.60846560846561\n",
      "window_size : 2, embedding_size : 50, accuracy : 56.51755651755652\n",
      "window_size : 2, embedding_size : 60, accuracy : 1.6835016835016834\n",
      "window_size : 2, embedding_size : 70, accuracy : 11.351611351611352\n",
      "window_size : 2, embedding_size : 80, accuracy : 4.040404040404041\n",
      "window_size : 2, embedding_size : 90, accuracy : 1.1063011063011063\n",
      "window_size : 2, embedding_size : 100, accuracy : 2.3088023088023086\n",
      "window_size : 2, embedding_size : 110, accuracy : 1.0101010101010102\n",
      "window_size : 2, embedding_size : 120, accuracy : 71.38047138047138\n",
      "window_size : 2, embedding_size : 130, accuracy : 6.0606060606060606\n",
      "window_size : 2, embedding_size : 140, accuracy : 0.9139009139009139\n",
      "window_size : 2, embedding_size : 150, accuracy : 4.425204425204425\n",
      "window_size : 3, embedding_size : 10, accuracy : 2.405002405002405\n",
      "window_size : 3, embedding_size : 20, accuracy : 5.483405483405483\n",
      "window_size : 3, embedding_size : 30, accuracy : 1.6835016835016834\n",
      "window_size : 3, embedding_size : 40, accuracy : 1.9240019240019242\n",
      "window_size : 3, embedding_size : 50, accuracy : 2.405002405002405\n",
      "window_size : 3, embedding_size : 60, accuracy : 3.222703222703223\n",
      "window_size : 3, embedding_size : 70, accuracy : 1.0101010101010102\n",
      "window_size : 3, embedding_size : 80, accuracy : 28.86002886002886\n",
      "window_size : 3, embedding_size : 90, accuracy : 2.7898027898027897\n",
      "window_size : 3, embedding_size : 100, accuracy : 2.837902837902838\n",
      "window_size : 3, embedding_size : 110, accuracy : 54.20875420875421\n",
      "window_size : 3, embedding_size : 120, accuracy : 44.54064454064454\n",
      "window_size : 3, embedding_size : 130, accuracy : 11.928811928811928\n",
      "window_size : 3, embedding_size : 140, accuracy : 10.149110149110149\n",
      "window_size : 3, embedding_size : 150, accuracy : 1.1544011544011543\n",
      "window_size : 4, embedding_size : 10, accuracy : 4.521404521404522\n",
      "window_size : 4, embedding_size : 20, accuracy : 12.554112554112553\n",
      "window_size : 4, embedding_size : 30, accuracy : 2.6936026936026933\n",
      "window_size : 4, embedding_size : 40, accuracy : 56.56565656565656\n",
      "window_size : 4, embedding_size : 50, accuracy : 39.82683982683983\n",
      "window_size : 4, embedding_size : 60, accuracy : 28.86002886002886\n",
      "window_size : 4, embedding_size : 70, accuracy : 0.7696007696007696\n",
      "window_size : 4, embedding_size : 80, accuracy : 19.52861952861953\n",
      "window_size : 4, embedding_size : 90, accuracy : 11.544011544011545\n",
      "window_size : 4, embedding_size : 100, accuracy : 0.5291005291005291\n",
      "window_size : 4, embedding_size : 110, accuracy : 1.6354016354016354\n",
      "window_size : 4, embedding_size : 120, accuracy : 3.6075036075036073\n",
      "window_size : 4, embedding_size : 130, accuracy : 2.5012025012025014\n",
      "window_size : 4, embedding_size : 140, accuracy : 0.9620009620009621\n",
      "window_size : 4, embedding_size : 150, accuracy : 0.7215007215007215\n",
      "window_size : 5, embedding_size : 10, accuracy : 2.356902356902357\n",
      "window_size : 5, embedding_size : 20, accuracy : 2.356902356902357\n",
      "window_size : 5, embedding_size : 30, accuracy : 1.0582010582010581\n",
      "window_size : 5, embedding_size : 40, accuracy : 2.9341029341029343\n",
      "window_size : 5, embedding_size : 50, accuracy : 1.9721019721019721\n",
      "window_size : 5, embedding_size : 60, accuracy : 1.7316017316017316\n",
      "window_size : 5, embedding_size : 70, accuracy : 0.7215007215007215\n",
      "window_size : 5, embedding_size : 80, accuracy : 1.443001443001443\n",
      "window_size : 5, embedding_size : 90, accuracy : 0.7696007696007696\n",
      "window_size : 5, embedding_size : 100, accuracy : 3.222703222703223\n",
      "window_size : 5, embedding_size : 110, accuracy : 0.8658008658008658\n",
      "window_size : 5, embedding_size : 120, accuracy : 5.242905242905243\n",
      "window_size : 5, embedding_size : 130, accuracy : 39.73063973063973\n",
      "window_size : 5, embedding_size : 140, accuracy : 17.989417989417987\n",
      "window_size : 5, embedding_size : 150, accuracy : 26.791726791726795\n",
      "window_size : 6, embedding_size : 10, accuracy : 2.1645021645021645\n",
      "window_size : 6, embedding_size : 20, accuracy : 46.51274651274651\n",
      "window_size : 6, embedding_size : 30, accuracy : 4.6657046657046655\n",
      "window_size : 6, embedding_size : 40, accuracy : 1.9721019721019721\n",
      "window_size : 6, embedding_size : 50, accuracy : 2.3088023088023086\n",
      "window_size : 6, embedding_size : 60, accuracy : 44.05964405964406\n",
      "window_size : 6, embedding_size : 70, accuracy : 3.3670033670033668\n",
      "window_size : 6, embedding_size : 80, accuracy : 2.5493025493025496\n",
      "window_size : 6, embedding_size : 90, accuracy : 3.270803270803271\n",
      "window_size : 6, embedding_size : 100, accuracy : 1.875901875901876\n",
      "window_size : 6, embedding_size : 110, accuracy : 1.2025012025012025\n",
      "window_size : 6, embedding_size : 120, accuracy : 8.273208273208272\n",
      "window_size : 6, embedding_size : 130, accuracy : 3.4151034151034154\n",
      "window_size : 6, embedding_size : 140, accuracy : 0.9139009139009139\n",
      "window_size : 6, embedding_size : 150, accuracy : 0.6253006253006254\n",
      "window_size : 7, embedding_size : 10, accuracy : 2.5012025012025014\n",
      "window_size : 7, embedding_size : 20, accuracy : 13.708513708513708\n",
      "window_size : 7, embedding_size : 30, accuracy : 6.349206349206349\n",
      "window_size : 7, embedding_size : 40, accuracy : 1.1063011063011063\n",
      "window_size : 7, embedding_size : 50, accuracy : 2.5974025974025974\n",
      "window_size : 7, embedding_size : 60, accuracy : 1.0582010582010581\n",
      "window_size : 7, embedding_size : 70, accuracy : 6.493506493506493\n",
      "window_size : 7, embedding_size : 80, accuracy : 1.7797017797017798\n",
      "window_size : 7, embedding_size : 90, accuracy : 3.3670033670033668\n",
      "window_size : 7, embedding_size : 100, accuracy : 0.5772005772005772\n",
      "window_size : 7, embedding_size : 110, accuracy : 1.1063011063011063\n",
      "window_size : 7, embedding_size : 120, accuracy : 3.222703222703223\n",
      "window_size : 7, embedding_size : 130, accuracy : 8.658008658008658\n",
      "window_size : 7, embedding_size : 140, accuracy : 1.7316017316017316\n",
      "window_size : 7, embedding_size : 150, accuracy : 1.5392015392015392\n",
      "window_size : 8, embedding_size : 10, accuracy : 1.491101491101491\n",
      "window_size : 8, embedding_size : 20, accuracy : 5.82010582010582\n",
      "window_size : 8, embedding_size : 30, accuracy : 5.05050505050505\n",
      "window_size : 8, embedding_size : 40, accuracy : 9.716209716209717\n",
      "window_size : 8, embedding_size : 50, accuracy : 2.260702260702261\n",
      "window_size : 8, embedding_size : 60, accuracy : 7.35930735930736\n",
      "window_size : 8, embedding_size : 70, accuracy : 1.7797017797017798\n",
      "window_size : 8, embedding_size : 80, accuracy : 19.576719576719576\n",
      "window_size : 8, embedding_size : 90, accuracy : 2.2126022126022127\n",
      "window_size : 8, embedding_size : 100, accuracy : 2.5012025012025014\n",
      "window_size : 8, embedding_size : 110, accuracy : 0.8658008658008658\n",
      "window_size : 8, embedding_size : 120, accuracy : 14.622414622414622\n",
      "window_size : 8, embedding_size : 130, accuracy : 0.33670033670033667\n",
      "window_size : 8, embedding_size : 140, accuracy : 0.7696007696007696\n",
      "window_size : 8, embedding_size : 150, accuracy : 2.260702260702261\n",
      "window_size : 9, embedding_size : 10, accuracy : 4.858104858104858\n"
     ]
    },
    {
     "name": "stdout",
     "output_type": "stream",
     "text": [
      "window_size : 9, embedding_size : 20, accuracy : 34.824434824434825\n",
      "window_size : 9, embedding_size : 30, accuracy : 5.387205387205387\n",
      "window_size : 9, embedding_size : 40, accuracy : 1.0582010582010581\n",
      "window_size : 9, embedding_size : 50, accuracy : 2.260702260702261\n",
      "window_size : 9, embedding_size : 60, accuracy : 1.7797017797017798\n",
      "window_size : 9, embedding_size : 70, accuracy : 3.511303511303511\n",
      "window_size : 9, embedding_size : 80, accuracy : 1.0101010101010102\n",
      "window_size : 9, embedding_size : 90, accuracy : 11.592111592111593\n",
      "window_size : 9, embedding_size : 100, accuracy : 19.143819143819144\n",
      "window_size : 9, embedding_size : 110, accuracy : 0.8177008177008177\n",
      "window_size : 9, embedding_size : 120, accuracy : 0.7215007215007215\n",
      "window_size : 9, embedding_size : 130, accuracy : 0.9620009620009621\n",
      "window_size : 9, embedding_size : 140, accuracy : 2.9341029341029343\n",
      "window_size : 9, embedding_size : 150, accuracy : 18.422318422318423\n",
      "window_size : 10, embedding_size : 10, accuracy : 1.2025012025012025\n",
      "window_size : 10, embedding_size : 20, accuracy : 5.5796055796055795\n",
      "window_size : 10, embedding_size : 30, accuracy : 19.52861952861953\n",
      "window_size : 10, embedding_size : 40, accuracy : 1.1544011544011543\n",
      "window_size : 10, embedding_size : 50, accuracy : 7.8884078884078885\n",
      "window_size : 10, embedding_size : 60, accuracy : 5.483405483405483\n",
      "window_size : 10, embedding_size : 70, accuracy : 20.153920153920154\n",
      "window_size : 10, embedding_size : 80, accuracy : 7.8884078884078885\n",
      "window_size : 10, embedding_size : 90, accuracy : 1.1063011063011063\n",
      "window_size : 10, embedding_size : 100, accuracy : 9.812409812409813\n",
      "window_size : 10, embedding_size : 110, accuracy : 1.2987012987012987\n",
      "window_size : 10, embedding_size : 120, accuracy : 3.0784030784030785\n",
      "window_size : 10, embedding_size : 130, accuracy : 3.9442039442039443\n",
      "window_size : 10, embedding_size : 140, accuracy : 2.260702260702261\n",
      "window_size : 10, embedding_size : 150, accuracy : 12.121212121212121\n"
     ]
    }
   ],
>>>>>>> 2eab00ff292d66409c0d0e984073af7736d51d9d
   "source": [
    "for ws in window_sizes:\n",
    "    for es in embedding_sizes:\n",
    "        \n",
    "        model = Word2Vec(\n",
    "                result_gensim_input, \n",
    "                window = ws,\n",
    "                size =es,\n",
    "                min_count=1,\n",
    "                workers = 10\n",
    "                )\n",
    "        \n",
    "        # Generate EBS string vectors matrix\n",
    "        ebs_str_arr = np.zeros((len(ebs_in_result_gensim_input), es))\n",
    "        for i, s_list in enumerate(ebs_in_result_gensim_input):\n",
    "            ebs_str_arr[i] = get_s_vec(s_list, es)\n",
    "        ebs_vec_norms = np.linalg.norm(ebs_str_arr, axis=1)\n",
    "        \n",
    "        model = Word2Vec(\n",
    "                        result_gensim_input, \n",
    "                        window = ws,\n",
    "                        size =es,\n",
    "                        min_count=1,\n",
    "                        workers = 10\n",
    "                        )\n",
    "\n",
    "        #Query comparison\n",
    "        cos_sims_bool = np.zeros(len(google_in_result_gensim_input))\n",
    "        for g_idx, Q_str in enumerate(google_in_result_gensim_input):\n",
    "#             print(Q_str)\n",
    "            Q_vec = get_s_vec(Q_str, es)\n",
    "        #     Q_vec = Q_vec.reshape(embedding_size, -1)\n",
    "            dot_products = ebs_str_arr.dot(Q_vec)\n",
    "\n",
    "            Q_vec_norm = np.linalg.norm(Q_vec)\n",
    "            norm_productions = ebs_vec_norms * Q_vec_norm\n",
    "            cos_sims = dot_products / norm_productions\n",
    "\n",
    "        #     print(g_idx, '   ', cos_sims.argmax())\n",
    "\n",
    "            if g_idx == cos_sims.argmax():\n",
    "                cos_sims_bool[g_idx] = 1\n",
    "\n",
    "        diff_num = np.unique(cos_sims_bool, return_counts=True)[1][0]\n",
    "        same_num = np.unique(cos_sims_bool, return_counts=True)[1][1]\n",
    "        accuracy = same_num/(diff_num+same_num) * 100\n",
    "        print('window_size : {}, embedding_size : {}, accuracy : {}'.format(ws, es, accuracy))"
   ]
  },
  {
<<<<<<< HEAD
   "cell_type": "code",
   "execution_count": null,
   "metadata": {},
   "outputs": [],
=======
   "cell_type": "markdown",
   "metadata": {},
   "source": [
    "## Skip-gram"
   ]
  },
  {
   "cell_type": "code",
   "execution_count": 46,
   "metadata": {
    "scrolled": false
   },
   "outputs": [
    {
     "name": "stderr",
     "output_type": "stream",
     "text": [
      "C:\\ProgramData\\Anaconda3\\lib\\site-packages\\ipykernel_launcher.py:4: DeprecationWarning: Call to deprecated `__getitem__` (Method will be removed in 4.0.0, use self.wv.__getitem__() instead).\n",
      "  after removing the cwd from sys.path.\n"
     ]
    },
    {
     "name": "stdout",
     "output_type": "stream",
     "text": [
      "window_size : 1, embedding_size : 10, accuracy : 0.5772005772005772\n",
      "window_size : 1, embedding_size : 20, accuracy : 1.1063011063011063\n",
      "window_size : 1, embedding_size : 30, accuracy : 1.1544011544011543\n",
      "window_size : 1, embedding_size : 40, accuracy : 1.443001443001443\n",
      "window_size : 1, embedding_size : 50, accuracy : 0.9620009620009621\n",
      "window_size : 1, embedding_size : 60, accuracy : 1.491101491101491\n",
      "window_size : 1, embedding_size : 70, accuracy : 0.9139009139009139\n",
      "window_size : 1, embedding_size : 80, accuracy : 0.9139009139009139\n",
      "window_size : 1, embedding_size : 90, accuracy : 0.8177008177008177\n",
      "window_size : 1, embedding_size : 100, accuracy : 0.5772005772005772\n",
      "window_size : 1, embedding_size : 110, accuracy : 1.1063011063011063\n",
      "window_size : 1, embedding_size : 120, accuracy : 0.8658008658008658\n",
      "window_size : 1, embedding_size : 130, accuracy : 0.7696007696007696\n",
      "window_size : 1, embedding_size : 140, accuracy : 0.8658008658008658\n",
      "window_size : 1, embedding_size : 150, accuracy : 0.6734006734006733\n",
      "window_size : 2, embedding_size : 10, accuracy : 0.7696007696007696\n",
      "window_size : 2, embedding_size : 20, accuracy : 0.8177008177008177\n",
      "window_size : 2, embedding_size : 30, accuracy : 0.5291005291005291\n",
      "window_size : 2, embedding_size : 40, accuracy : 0.7215007215007215\n",
      "window_size : 2, embedding_size : 50, accuracy : 0.9139009139009139\n",
      "window_size : 2, embedding_size : 60, accuracy : 0.6253006253006254\n",
      "window_size : 2, embedding_size : 70, accuracy : 0.6734006734006733\n",
      "window_size : 2, embedding_size : 80, accuracy : 0.4329004329004329\n",
      "window_size : 2, embedding_size : 90, accuracy : 0.48100048100048104\n",
      "window_size : 2, embedding_size : 100, accuracy : 0.6734006734006733\n",
      "window_size : 2, embedding_size : 110, accuracy : 0.6253006253006254\n",
      "window_size : 2, embedding_size : 120, accuracy : 0.3848003848003848\n",
      "window_size : 2, embedding_size : 130, accuracy : 0.5772005772005772\n",
      "window_size : 2, embedding_size : 140, accuracy : 0.4329004329004329\n",
      "window_size : 2, embedding_size : 150, accuracy : 0.33670033670033667\n",
      "window_size : 3, embedding_size : 10, accuracy : 0.5772005772005772\n",
      "window_size : 3, embedding_size : 20, accuracy : 0.7215007215007215\n",
      "window_size : 3, embedding_size : 30, accuracy : 1.0101010101010102\n",
      "window_size : 3, embedding_size : 40, accuracy : 0.3848003848003848\n",
      "window_size : 3, embedding_size : 50, accuracy : 0.6734006734006733\n",
      "window_size : 3, embedding_size : 60, accuracy : 0.6253006253006254\n",
      "window_size : 3, embedding_size : 70, accuracy : 0.6253006253006254\n",
      "window_size : 3, embedding_size : 80, accuracy : 0.48100048100048104\n",
      "window_size : 3, embedding_size : 90, accuracy : 0.33670033670033667\n",
      "window_size : 3, embedding_size : 100, accuracy : 0.4329004329004329\n",
      "window_size : 3, embedding_size : 110, accuracy : 0.4329004329004329\n",
      "window_size : 3, embedding_size : 120, accuracy : 0.3848003848003848\n",
      "window_size : 3, embedding_size : 130, accuracy : 0.3848003848003848\n",
      "window_size : 3, embedding_size : 140, accuracy : 0.1924001924001924\n",
      "window_size : 3, embedding_size : 150, accuracy : 0.33670033670033667\n",
      "window_size : 4, embedding_size : 10, accuracy : 0.4329004329004329\n",
      "window_size : 4, embedding_size : 20, accuracy : 0.33670033670033667\n",
      "window_size : 4, embedding_size : 30, accuracy : 0.3848003848003848\n",
      "window_size : 4, embedding_size : 40, accuracy : 0.3848003848003848\n",
      "window_size : 4, embedding_size : 50, accuracy : 0.2886002886002886\n",
      "window_size : 4, embedding_size : 60, accuracy : 0.1924001924001924\n",
      "window_size : 4, embedding_size : 70, accuracy : 0.33670033670033667\n",
      "window_size : 4, embedding_size : 80, accuracy : 0.4329004329004329\n",
      "window_size : 4, embedding_size : 90, accuracy : 0.48100048100048104\n",
      "window_size : 4, embedding_size : 100, accuracy : 0.2886002886002886\n",
      "window_size : 4, embedding_size : 110, accuracy : 0.5291005291005291\n",
      "window_size : 4, embedding_size : 120, accuracy : 0.48100048100048104\n",
      "window_size : 4, embedding_size : 130, accuracy : 0.3848003848003848\n",
      "window_size : 4, embedding_size : 140, accuracy : 0.2886002886002886\n",
      "window_size : 4, embedding_size : 150, accuracy : 0.2886002886002886\n",
      "window_size : 5, embedding_size : 10, accuracy : 0.3848003848003848\n",
      "window_size : 5, embedding_size : 20, accuracy : 0.5291005291005291\n",
      "window_size : 5, embedding_size : 30, accuracy : 0.24050024050024052\n",
      "window_size : 5, embedding_size : 40, accuracy : 0.5291005291005291\n",
      "window_size : 5, embedding_size : 50, accuracy : 0.3848003848003848\n",
      "window_size : 5, embedding_size : 60, accuracy : 0.3848003848003848\n",
      "window_size : 5, embedding_size : 70, accuracy : 0.3848003848003848\n",
      "window_size : 5, embedding_size : 80, accuracy : 0.4329004329004329\n",
      "window_size : 5, embedding_size : 90, accuracy : 0.4329004329004329\n",
      "window_size : 5, embedding_size : 100, accuracy : 0.1443001443001443\n",
      "window_size : 5, embedding_size : 110, accuracy : 0.24050024050024052\n",
      "window_size : 5, embedding_size : 120, accuracy : 0.33670033670033667\n",
      "window_size : 5, embedding_size : 130, accuracy : 0.2886002886002886\n",
      "window_size : 5, embedding_size : 140, accuracy : 0.24050024050024052\n",
      "window_size : 5, embedding_size : 150, accuracy : 0.2886002886002886\n",
      "window_size : 6, embedding_size : 10, accuracy : 0.1924001924001924\n",
      "window_size : 6, embedding_size : 20, accuracy : 0.33670033670033667\n",
      "window_size : 6, embedding_size : 30, accuracy : 0.2886002886002886\n",
      "window_size : 6, embedding_size : 40, accuracy : 0.2886002886002886\n",
      "window_size : 6, embedding_size : 50, accuracy : 0.33670033670033667\n",
      "window_size : 6, embedding_size : 60, accuracy : 0.2886002886002886\n",
      "window_size : 6, embedding_size : 70, accuracy : 0.1924001924001924\n",
      "window_size : 6, embedding_size : 80, accuracy : 0.2886002886002886\n",
      "window_size : 6, embedding_size : 90, accuracy : 0.4329004329004329\n",
      "window_size : 6, embedding_size : 100, accuracy : 0.33670033670033667\n",
      "window_size : 6, embedding_size : 110, accuracy : 0.48100048100048104\n",
      "window_size : 6, embedding_size : 120, accuracy : 0.3848003848003848\n",
      "window_size : 6, embedding_size : 130, accuracy : 0.33670033670033667\n",
      "window_size : 6, embedding_size : 140, accuracy : 0.1443001443001443\n",
      "window_size : 6, embedding_size : 150, accuracy : 0.24050024050024052\n",
      "window_size : 7, embedding_size : 10, accuracy : 0.24050024050024052\n",
      "window_size : 7, embedding_size : 20, accuracy : 0.33670033670033667\n",
      "window_size : 7, embedding_size : 30, accuracy : 0.24050024050024052\n",
      "window_size : 7, embedding_size : 40, accuracy : 0.33670033670033667\n",
      "window_size : 7, embedding_size : 50, accuracy : 0.2886002886002886\n",
      "window_size : 7, embedding_size : 60, accuracy : 0.1924001924001924\n",
      "window_size : 7, embedding_size : 70, accuracy : 0.3848003848003848\n",
      "window_size : 7, embedding_size : 80, accuracy : 0.1924001924001924\n",
      "window_size : 7, embedding_size : 90, accuracy : 0.1924001924001924\n",
      "window_size : 7, embedding_size : 100, accuracy : 0.1924001924001924\n",
      "window_size : 7, embedding_size : 110, accuracy : 0.33670033670033667\n",
      "window_size : 7, embedding_size : 120, accuracy : 0.24050024050024052\n",
      "window_size : 7, embedding_size : 130, accuracy : 0.4329004329004329\n",
      "window_size : 7, embedding_size : 140, accuracy : 0.1924001924001924\n",
      "window_size : 7, embedding_size : 150, accuracy : 0.48100048100048104\n",
      "window_size : 8, embedding_size : 10, accuracy : 0.24050024050024052\n",
      "window_size : 8, embedding_size : 20, accuracy : 0.2886002886002886\n",
      "window_size : 8, embedding_size : 30, accuracy : 0.1924001924001924\n",
      "window_size : 8, embedding_size : 40, accuracy : 0.4329004329004329\n",
      "window_size : 8, embedding_size : 50, accuracy : 0.24050024050024052\n",
      "window_size : 8, embedding_size : 60, accuracy : 0.1443001443001443\n",
      "window_size : 8, embedding_size : 70, accuracy : 0.24050024050024052\n",
      "window_size : 8, embedding_size : 80, accuracy : 0.24050024050024052\n",
      "window_size : 8, embedding_size : 90, accuracy : 0.33670033670033667\n",
      "window_size : 8, embedding_size : 100, accuracy : 0.33670033670033667\n",
      "window_size : 8, embedding_size : 110, accuracy : 0.2886002886002886\n",
      "window_size : 8, embedding_size : 120, accuracy : 0.1443001443001443\n",
      "window_size : 8, embedding_size : 130, accuracy : 0.3848003848003848\n",
      "window_size : 8, embedding_size : 140, accuracy : 0.24050024050024052\n",
      "window_size : 8, embedding_size : 150, accuracy : 0.1924001924001924\n"
     ]
    },
    {
     "name": "stdout",
     "output_type": "stream",
     "text": [
      "window_size : 9, embedding_size : 10, accuracy : 0.2886002886002886\n",
      "window_size : 9, embedding_size : 20, accuracy : 0.2886002886002886\n",
      "window_size : 9, embedding_size : 30, accuracy : 0.24050024050024052\n",
      "window_size : 9, embedding_size : 40, accuracy : 0.24050024050024052\n",
      "window_size : 9, embedding_size : 50, accuracy : 0.1924001924001924\n",
      "window_size : 9, embedding_size : 60, accuracy : 0.2886002886002886\n",
      "window_size : 9, embedding_size : 70, accuracy : 0.1924001924001924\n",
      "window_size : 9, embedding_size : 80, accuracy : 0.2886002886002886\n",
      "window_size : 9, embedding_size : 90, accuracy : 0.33670033670033667\n",
      "window_size : 9, embedding_size : 100, accuracy : 0.24050024050024052\n",
      "window_size : 9, embedding_size : 110, accuracy : 0.33670033670033667\n",
      "window_size : 9, embedding_size : 120, accuracy : 0.2886002886002886\n",
      "window_size : 9, embedding_size : 130, accuracy : 0.3848003848003848\n",
      "window_size : 9, embedding_size : 140, accuracy : 0.1924001924001924\n",
      "window_size : 9, embedding_size : 150, accuracy : 0.1924001924001924\n",
      "window_size : 10, embedding_size : 10, accuracy : 0.1924001924001924\n",
      "window_size : 10, embedding_size : 20, accuracy : 0.24050024050024052\n",
      "window_size : 10, embedding_size : 30, accuracy : 0.2886002886002886\n",
      "window_size : 10, embedding_size : 40, accuracy : 0.24050024050024052\n",
      "window_size : 10, embedding_size : 50, accuracy : 0.1443001443001443\n",
      "window_size : 10, embedding_size : 60, accuracy : 0.2886002886002886\n",
      "window_size : 10, embedding_size : 70, accuracy : 0.33670033670033667\n",
      "window_size : 10, embedding_size : 80, accuracy : 0.24050024050024052\n",
      "window_size : 10, embedding_size : 90, accuracy : 0.24050024050024052\n",
      "window_size : 10, embedding_size : 100, accuracy : 0.1924001924001924\n",
      "window_size : 10, embedding_size : 110, accuracy : 0.1924001924001924\n",
      "window_size : 10, embedding_size : 120, accuracy : 0.33670033670033667\n",
      "window_size : 10, embedding_size : 130, accuracy : 0.3848003848003848\n",
      "window_size : 10, embedding_size : 140, accuracy : 0.4329004329004329\n",
      "window_size : 10, embedding_size : 150, accuracy : 0.33670033670033667\n"
     ]
    }
   ],
>>>>>>> 2eab00ff292d66409c0d0e984073af7736d51d9d
   "source": [
    "for ws in window_sizes:\n",
    "    for es in embedding_sizes:\n",
    "        \n",
    "        model = Word2Vec(\n",
    "                result_gensim_input, \n",
    "                window = ws,\n",
    "                size =es,\n",
    "                min_count=1,\n",
    "                sg = 1,\n",
    "                workers = 10\n",
    "                )\n",
    "        \n",
    "        # Generate EBS string vectors matrix\n",
    "        ebs_str_arr = np.zeros((len(ebs_in_result_gensim_input), es))\n",
    "        for i, s_list in enumerate(ebs_in_result_gensim_input):\n",
    "            ebs_str_arr[i] = get_s_vec(s_list, es)\n",
    "        ebs_vec_norms = np.linalg.norm(ebs_str_arr, axis=1)\n",
    "        \n",
    "        model = Word2Vec(\n",
    "                        result_gensim_input, \n",
    "                        window = ws,\n",
    "                        size =es,\n",
    "                        min_count=1,\n",
    "                        workers = 10\n",
    "                        )\n",
    "\n",
    "        #Query comparison\n",
    "        cos_sims_bool = np.zeros(len(google_in_result_gensim_input))\n",
    "        for g_idx, Q_str in enumerate(google_in_result_gensim_input):\n",
    "#             print(Q_str)\n",
    "            Q_vec = get_s_vec(Q_str, es)\n",
    "        #     Q_vec = Q_vec.reshape(embedding_size, -1)\n",
    "            dot_products = ebs_str_arr.dot(Q_vec)\n",
    "\n",
    "            Q_vec_norm = np.linalg.norm(Q_vec)\n",
    "            norm_productions = ebs_vec_norms * Q_vec_norm\n",
    "            cos_sims = dot_products / norm_productions\n",
    "\n",
    "        #     print(g_idx, '   ', cos_sims.argmax())\n",
    "\n",
    "            if g_idx == cos_sims.argmax():\n",
    "                cos_sims_bool[g_idx] = 1\n",
    "\n",
    "        diff_num = np.unique(cos_sims_bool, return_counts=True)[1][0]\n",
    "        same_num = np.unique(cos_sims_bool, return_counts=True)[1][1]\n",
    "        accuracy = same_num/(diff_num+same_num) * 100\n",
    "        print('window_size : {}, embedding_size : {}, accuracy : {}'.format(ws, es, accuracy))"
   ]
  },
  {
   "cell_type": "markdown",
   "metadata": {},
   "source": [
    "# -------------------------------------"
   ]
  },
  {
   "cell_type": "code",
   "execution_count": null,
   "metadata": {
    "scrolled": false
   },
   "outputs": [],
   "source": [
    "# for _ in list(range(10,160,10)):\n",
    "model_skip = Word2Vec(\n",
    "result_gensim_input, \n",
    "window = 2,\n",
    "size =100,\n",
    "min_count=1,\n",
    "workers = 10\n",
    ")\n",
    "print(_)\n",
    "print('집값삼각형 : ', model_skip.most_similar('집값삼각형',topn=5))\n",
    "print()\n",
    "print('도영 : ', model_skip.most_similar('도영',topn=5))\n",
    "print()\n",
    "print('싸인 : ', model_skip.most_similar('싸인',topn=5))\n",
    "print()\n",
    "print('수박 : ',model_skip.most_similar('수박',topn=5)) \n",
    "print()\n",
    "print('가게대변인 : ',model_skip.most_similar('가게대변인',topn=5))\n",
    "print()"
   ]
  },
  {
   "cell_type": "code",
   "execution_count": null,
   "metadata": {},
   "outputs": [],
   "source": [
    "# model_skip = Word2Vec(\n",
    "#     result_gensim_input, \n",
    "#     window = 2,\n",
    "#     size =40,\n",
    "#     min_count=1,\n",
    "#     sg = 1,\n",
    "#     workers = 10\n",
    "# )\n",
    "# print(model_skip)"
   ]
  },
  {
   "cell_type": "code",
   "execution_count": null,
   "metadata": {},
   "outputs": [],
   "source": [
    "model_skip.most_similar('집값삼각형',topn=10)"
   ]
  },
  {
   "cell_type": "code",
   "execution_count": null,
   "metadata": {},
   "outputs": [],
   "source": [
    "model_skip.most_similar('도영',topn=10)"
   ]
  },
  {
   "cell_type": "code",
   "execution_count": null,
   "metadata": {},
   "outputs": [],
   "source": [
    "model_skip.most_similar('싸인',topn=10)"
   ]
  },
  {
   "cell_type": "code",
   "execution_count": null,
   "metadata": {},
   "outputs": [],
   "source": [
    "model_skip.most_similar('수박',topn=10) #특수각"
   ]
  },
  {
   "cell_type": "code",
   "execution_count": null,
   "metadata": {},
   "outputs": [],
   "source": [
    "model_skip.most_similar('가게대변인',topn=10) #각의대변"
   ]
  },
  {
   "cell_type": "code",
   "execution_count": null,
   "metadata": {},
   "outputs": [],
   "source": [
    "model_skip.most_similar('추위',topn=10) #최애"
   ]
  },
  {
   "cell_type": "code",
   "execution_count": null,
   "metadata": {},
   "outputs": [],
   "source": []
  },
  {
   "cell_type": "code",
   "execution_count": null,
   "metadata": {},
   "outputs": [],
   "source": []
  },
  {
   "cell_type": "code",
   "execution_count": null,
   "metadata": {},
   "outputs": [],
   "source": []
  },
  {
   "cell_type": "code",
   "execution_count": null,
   "metadata": {},
   "outputs": [],
   "source": [
    "model_skip.most_similar('',topn=10)"
   ]
  },
  {
   "cell_type": "code",
   "execution_count": null,
   "metadata": {},
   "outputs": [],
   "source": [
    "model_skip.most_similar('',topn=10)"
   ]
  },
  {
   "cell_type": "code",
   "execution_count": null,
   "metadata": {},
   "outputs": [],
   "source": [
    "model_skip.most_similar('',topn=10)"
   ]
  },
  {
   "cell_type": "code",
   "execution_count": null,
   "metadata": {},
   "outputs": [],
   "source": [
    "model_skip.most_similar('',topn=10)"
   ]
  },
  {
   "cell_type": "code",
   "execution_count": null,
   "metadata": {},
   "outputs": [],
   "source": [
    "model_skip.most_similar('',topn=10)"
   ]
  },
  {
   "cell_type": "code",
   "execution_count": null,
   "metadata": {},
   "outputs": [],
   "source": [
    "print(ebs_pos, '            ', google_pos)"
   ]
  },
  {
   "cell_type": "code",
   "execution_count": null,
   "metadata": {},
   "outputs": [],
   "source": []
  },
  {
   "cell_type": "code",
   "execution_count": null,
   "metadata": {},
   "outputs": [],
   "source": []
  },
  {
   "cell_type": "code",
   "execution_count": null,
   "metadata": {},
   "outputs": [],
   "source": []
  },
  {
   "cell_type": "code",
   "execution_count": null,
   "metadata": {},
   "outputs": [],
   "source": []
  }
 ],
 "metadata": {
  "kernelspec": {
   "display_name": "Python 3",
   "language": "python",
   "name": "python3"
  },
  "language_info": {
   "codemirror_mode": {
    "name": "ipython",
    "version": 3
   },
   "file_extension": ".py",
   "mimetype": "text/x-python",
   "name": "python",
   "nbconvert_exporter": "python",
   "pygments_lexer": "ipython3",
   "version": "3.7.6"
  }
 },
 "nbformat": 4,
 "nbformat_minor": 4
}
