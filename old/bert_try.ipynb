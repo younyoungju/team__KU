{
 "cells": [
  {
   "cell_type": "code",
   "execution_count": 10,
   "metadata": {},
   "outputs": [],
   "source": [
    "from PreProcessing.Opentext import get_EBS\n",
    "from jamo import h2j, j2hcj, j2h\n",
    "from PreProcessing.Dictionary import sd, ad, kopro"
   ]
  },
  {
   "cell_type": "code",
   "execution_count": 12,
   "metadata": {},
   "outputs": [],
   "source": [
    "import tensorflow as tf\n",
    "import numpy as np\n",
    "import os\n",
    "import time\n",
    "import re"
   ]
  },
  {
   "cell_type": "code",
   "execution_count": 3,
   "metadata": {},
   "outputs": [
    {
     "name": "stdout",
     "output_type": "stream",
     "text": [
      "['lec00001_EBS.txt', 'lec00002_EBS.txt', 'lec00003_EBS.txt', 'lec00004_EBS.txt', 'lec00005_EBS.txt', 'lec00006_EBS.txt', 'lec00007_EBS.txt', 'lec00008_EBS.txt', 'lec00009_EBS.txt', 'lec00010_EBS.txt', 'lec00011_EBS.txt', 'lec00012_EBS.txt', 'lec00013_EBS.txt', 'lec00014_EBS.txt', 'lec00015_EBS.txt', 'lec00016_EBS.txt', 'lec00017_EBS.txt', 'lec00018_EBS.txt', 'lec00019_EBS.txt', 'lec00020_EBS.txt', 'lec00021_EBS.txt', 'lec00022_EBS.txt', 'lec00023_EBS.txt', 'lec00024_EBS.txt', 'lec00025_EBS.txt', 'lec00026_EBS.txt']\n"
     ]
    }
   ],
   "source": [
    "all_EBS = get_EBS(1,26)"
   ]
  },
  {
   "cell_type": "code",
   "execution_count": 4,
   "metadata": {},
   "outputs": [],
   "source": [
    "def decimalnumber_to_korean(m):\n",
    "    answer = ''\n",
    "    for _ in m.group(1):\n",
    "        answer += kopro[int(_)]\n",
    "    answer += '점'\n",
    "    for _ in m.group(3):\n",
    "        answer += kopro[int(_)]\n",
    "    return answer\n",
    "\n",
    "def number_to_korean(s):\n",
    "    #소수점 한국어로\n",
    "    s = re.sub(r'(\\d+)(\\.)(\\d+)', decimalnumber_to_korean, s)\n",
    "    \n",
    "    #정수 한국어로\n",
    "    fl = re.findall(r'\\d+', s)\n",
    "    fl = set(fl)\n",
    "    fl = [int(_) for _ in fl]\n",
    "    fl.sort(reverse=True)\n",
    "    fl = [str(_) for _ in fl]\n",
    "    for n in fl:\n",
    "        s = s.replace(n, kopro[int(n)])\n",
    "    return s\n",
    "\n",
    "def mathsymbol_to_korean(s):\n",
    "    for ms in sd.keys():\n",
    "        if ms in s:\n",
    "            s = s.replace(ms, sd[ms])\n",
    "    return s\n",
    "\n",
    "def alphabet_to_korean(s):\n",
    "    for a in ad.keys():\n",
    "        if a in s:\n",
    "            s = s.replace(a, ad[a])\n",
    "    return s\n",
    "\n",
    "def remove_newlines(s):\n",
    "    \n",
    "    return re.sub(r'[\\n]+', ' ', s)\n",
    "\n",
    "def remove_puncuations(s):\n",
    "    \n",
    "    return re.sub(r'[\\.?,‘’]+', ' ', s)"
   ]
  },
  {
   "cell_type": "code",
   "execution_count": 5,
   "metadata": {},
   "outputs": [],
   "source": [
    "def insert_dot(text, dot):\n",
    "    pattern1 = re.compile(r'(ㅂㄴㅣㄷㅏ)$')   #ㅂ 니다\n",
    "    pattern2 = re.compile(r'(.ㅔ|ㅏ|ㅓ|ㅐ|ㅗ|ㅜ)(ㅇㅛ)$') # ㅔ요, ㅏ요, ㅓ요\n",
    "#     pattern3 = re.compile(r'(ㅆ)(ㅈ|ㅊ)(ㅛ)$') \n",
    "    pattern4 = re.compile(r'(ㅂ|ㅣ)(ㄴㅣㄲㅏ)$')  #ㅂ니까\n",
    "    pattern5 = re.compile(r'(ㄴㄷㅔ)$')\n",
    "    text_list = []\n",
    "    _1 = 0\n",
    "    _2 = 0\n",
    "    _3 = 0\n",
    "    _4 = 0\n",
    "    _5 = 0\n",
    "    _6 = 0\n",
    "    for _ in text.split(' '):         \n",
    "        new_ = j2hcj(h2j(_))\n",
    "        if pattern1.findall(new_):\n",
    "            text_list.append(_.replace(_, _+dot))\n",
    "            _1 += 1\n",
    "        elif pattern2.findall(new_):\n",
    "            text_list.append(_.replace(_, _+dot))\n",
    "            _2 += 1\n",
    "            #list2.append(_)\n",
    "#         elif pattern3.findall(new_):\n",
    "#             text_list.append(_.replace(_, _+dot))\n",
    "#             _3 += 1\n",
    "#             list3.append(_)\n",
    "        elif pattern4.findall(new_):\n",
    "            text_list.append(_.replace(_, _+dot))\n",
    "            _4 += 1\n",
    "        elif pattern5.findall(new_):\n",
    "            text_list.append(_.replace(_,_+dot))\n",
    "            _5 += 1\n",
    "        else:\n",
    "            text_list.append(_)\n",
    "            _6 += 1\n",
    "            #list6.append(_)\n",
    "    print('pattern1 = {}, pattern2= {}, pattern3 = {}, pattern5 = {}, pattern6 = {}'.format(_1,_2,_3,_4,_5,_6)) \n",
    "    #print('pattern2 = ',list2)#'\\n','list5 = ',list5)\n",
    "    return text_list    "
   ]
  },
  {
   "cell_type": "code",
   "execution_count": 60,
   "metadata": {},
   "outputs": [],
   "source": [
    "# EBS 전처리\n",
    "def EBS_preprocessing(EBS):\n",
    "\n",
    "    \n",
    "#     수학기호 한국어로 변환(EBS)\n",
    "    ebs_math_conversion = mathsymbol_to_korean(EBS)\n",
    "        \n",
    "#     숫자 한국어로 변환(EBS)\n",
    "    ebs_number_conversion = number_to_korean(ebs_math_conversion)\n",
    "        \n",
    "#     알파벳 한국어로 변환(EBS)\n",
    "    ebs_alphabet_conversion = alphabet_to_korean(ebs_number_conversion)\n",
    "    \n",
    "#     특수문자 제거\n",
    "    ebs_punc_removed = remove_puncuations(ebs_alphabet_conversion)\n",
    "    \n",
    "#     점 집어넣기\n",
    "    ebs_dot_inserted = ' '.join(insert_dot(ebs_punc_removed,'.'))\n",
    "\n",
    "#     띄어쓰기 제거\n",
    "    #ebs_whitespace_removed = re.sub('[\\s]+', '', ebs_dot_inserted)\n",
    "\n",
    "    ebs_sep_by_lec = ebs_dot_inserted.replace('  ',' ')\n",
    "    return ebs_sep_by_lec.split('.')"
   ]
  },
  {
   "cell_type": "code",
   "execution_count": 7,
   "metadata": {},
   "outputs": [],
   "source": [
    "# GOOGLE 전처리\n",
    "def GOOGLE_preprocessing(GOOGLE):\n",
    "        \n",
    "#     개행 삭제\n",
    "    #google_newline_removed = remove_newlines(GOOGLE)\n",
    "    \n",
    "#     수학기호 한국어로 변환\n",
    "    google_math_conversion = mathsymbol_to_korean(google_newline_removed)\n",
    "    \n",
    "#     숫자 한국어로 변환(GOOGLE)\n",
    "    google_number_conversion = number_to_korean(google_math_conversion)\n",
    "        \n",
    "#     알파벳 한국어로 변환(GOOGLE)\n",
    "    google_alphabet_conversion = alphabet_to_korean(google_number_conversion)\n",
    "    \n",
    "#     특수문자 제거\n",
    "    google_punc_removed = remove_puncuations(google_alphabet_conversion)\n",
    "    \n",
    "#     점 집어넣기\n",
    "    google_dot_inserted = ' '.join(insert_dot(google_punc_removed,'.'))\n",
    "    \n",
    "#     띄어쓰기 제거\n",
    "    #google_whitespace_removed = re.sub('[\\s]+', '', google_dot_inserted)\n",
    "\n",
    "    return google_whitespace_removed"
   ]
  },
  {
   "cell_type": "code",
   "execution_count": 61,
   "metadata": {},
   "outputs": [
    {
     "name": "stdout",
     "output_type": "stream",
     "text": [
      "pattern1 = 1872, pattern2= 2455, pattern3 = 0, pattern5 = 781, pattern6 = 1128\n"
     ]
    }
   ],
   "source": [
    "ko_pre_EBS = EBS_preprocessing(all_EBS)"
   ]
  },
  {
   "cell_type": "code",
   "execution_count": 62,
   "metadata": {},
   "outputs": [
    {
     "data": {
      "text/plain": [
       "[' 선생님이 앞으로 항상 내 주는 그런 숙제라고 생각하시면 돼요 유제 일번부터 보도록 할 텐데',\n",
       " ' 직각삼각형 에이비씨에서 코사인 씨를 구하래요',\n",
       " ' 결론부터 보고 우리가 거꾸로 가 볼게요',\n",
       " ' 코사인은 뭐 분의 뭐 빗변 분의 밑변 그럼 여기서 직각에서 마주보는 변이 빗변이고 밑변은 마주보는 게 높이겠죠 기준각에서 그러니까 자동으로 이 변이 밑변이야 그러면 코사인 씨라는 건 빗변 분의 밑변이니 비씨분의에이씨를 하라는 얘기고 비씨는 몰라 그리고 에이씨는 얼마야 삼루트오야 그러니까 이 문제는 결국 누굴 구하라는 얘기야 비씨를 구하라는 얘기예요 코사인 씨 구하라는 게 결국 비씨 구해서 해결해라 이 얘기죠 그럼 비씨를 구할 수 있는 방법은 뭡니까',\n",
       " ' 직각삼각형이니까',\n",
       " ' 당연히 피타고라스의 정리이죠 그럼 비씨는 어떻게 된다 빗변이네 루트 나머지 두 변의 제곱의 합이죠 육의제곱더하기삼루트오의제곱 해 주면 구곱하기오는사십오이니까',\n",
       " ' 루트팔십일이 돼서 얼마임을 알 수 있어 비씨가 구가 돼요 이 길이가 구이구나 그렇다면 비씨 자리에 구를 대입해서 구분의삼루트오이니까',\n",
       " ' 정답은 삼분의루트오이다 이렇게 여러분들이 유제 일번 해결할 수 있겠다 조금 부지런히 유제 이번 문제도 들어가 보도록 하겠습니다',\n",
       " ' 이제 기준각이 좀 왔다 갔다 하면서 여러분들이 좀 어려워집니다',\n",
       " ' 그림에서 선분비씨는 원의 지름이에요',\n",
       " ' 원의 지름  원에 내접하는 삼각형이 있구나 그러니까 당연히 직각삼각형이다 라는 건 기본 개념으로 알 수 있어야 되겠고 에이비의 길이가 십이이고 비오의 길이가 십이입니다',\n",
       " ' 결론부터 볼게요',\n",
       " ' 구하라는 게 뭐예요 지금 탄젠트 비입니다',\n",
       " ' 탄젠트는 뭐였더라 밑변 분의 높이였었죠 기준각이 누구예요 지금 비 마주보는 게 높이겠네 그렇죠 그러면 이게 빗변이니까',\n",
       " ' 밑변이 바로 이 길이가 되는구나 라는 걸 여러분들이 알 수 있으니탄젠트 비를 구하라는 얘기는 결국 밑변 분의 높이  십이분의에이씨를 하라 이 얘기야 그렇죠 그럼 누구만 구하면 돼 에이씨만 구하면 해결되는 거구나 근데',\n",
       " ' 에이씨는 누굴 통해서 직각삼각형이니까',\n",
       " ' 피타고라스의 정리를 똑같이 이용하는 거고 반지름이 십이니까',\n",
       " ' 지름은 당연히 이십일 거 아니에요',\n",
       " ' 그렇죠 그럼 에이씨는 어떻게 구할 수 있단 얘기야 루트 빗변의 제곱 빼기 다른 변의 제곱 그렇죠 루트이십의제곱마이너스십이의제곱이니까',\n",
       " ' 루트이백오십육이 돼서 이백오십육은 십육의제곱이다 이렇게 여러분들이 에이씨 자리에 십육을 대입해 주면 결국 밑변 분의 높이가 뭐가 된다는 얘기예요  삼분의사가 되는구나 정답은 사번이구나 이렇게 여러분들께서 유제 이번을 해결하시면 되겠습니다',\n",
       " ' 다음으로 유제 삼번 문제 조금 부지런히 가도록 하겠습니다',\n",
       " ' 그림과 같은 직각삼각형 에이비씨에서 이거 어떤 문제이죠 삼각비는 주어져 있고 변의 길이를 구하는 거야 삼각비를 통해서 그렇죠 에이비의 길이가 육이고 그다음에 코사인 에이가 칠분의삼이래 일단 여기서 멈춰 볼까요',\n",
       " ' 코사인 에이 기준각이 에이이네 그럼 써 볼게요',\n",
       " ' 마주보는 변이 뭐야 높이죠 그다음에 여기는 뭐죠 빗변이죠 나머지 한 변이 자동으로 뭐가 되죠 밑변이 되죠 그러면 코사인은 뭐 분의 뭐였어 빗변 분의 밑변 즉 에이씨분의육이구나 코사인 에이라는 건 에이씨분의육이구나 근데',\n",
       " ' 그게 지금 칠분의삼이라는 이야기예요 그럼 이걸 통해서 누굴 구하라는 얘기야 에이씨의 길이를 구할 수 있겠죠 그리고 문제에서 구하라는 것도 그거야 그럼 어렵지 않아지네 그렇죠 곱해 보면 삼에이씨가 육곱하기칠는사십이이니까',\n",
       " ' 여기서 에이씨는 삼으로 나누면 십사 단위는 따로 없으니까 여기까지 답을 구해 주시면 되겠습니다',\n",
       " ' 다음으로 유제 사번 바로 이어서 가 보도록 하겠습니다',\n",
       " ' 같은 문제겠죠 짝지어진 문제이니까',\n",
       " ' 유제 사번 볼게요',\n",
       " ' 그림과 같이 이것도 조금 중요한 문제예요 여러분들 한번 신경써서 보도록 합시다 각비는구십도인 직각삼각형 에이비씨가 있습니다',\n",
       " ' 에이비는팔이고 탄젠트 에이는이분의삼이래 기준각 에이 주어져 있으니 일단 탄젠트는 뭐 분의 뭐 밑변 분의 높이 그럼 기준각에서 마주보는 게 높이잖아 그렇죠 그럼 여기 자동으로 밑변 뭐 빗변은 지금 따로 신경 안 써도 될 거 같아요',\n",
       " ' 왜 탄젠트라는 건 밑변 분의 높이이니까',\n",
       " ' 그렇죠 그러면 결국 팔분의비씨가 이게 바로 탄젠트 에이잖아요',\n",
       " ' 그렇죠 근데',\n",
       " ' 탄젠트 에이가 뭐라고 주어져 있어 이분의삼이라고 주어져 있으니 우리는 여기서 비씨를 구할 수 있을 겁니다',\n",
       " ' 일단 비씨를 구해 보면 양변에 팔 곱해서 이분의삼곱하기팔 하면 결과는 십이까지 나오죠 비씨의 길이가 십이구나 근데',\n",
       " ' 문제에서 뭘 구하라고 했어요',\n",
       " ' 씨엠 씨엠이 뭐죠 이거네 어렵지 않다 비씨를 둘로 나눈 것 중에 하나이니까',\n",
       " ' 결과는 육이다 이렇게 여러분들이 유제 사번 어렵지 않게 해결할 수 있죠 괜히 중점 나와서 좀 어려워 보이지만 사실은 비씨만 구하면 해결이 가능한 유형이었습니다',\n",
       " ' 다음으로 유제 오번 문제 들어가 보도록 할 텐데',\n",
       " ' 이 유제 오번 여러분들께서 제일 어려워합니다',\n",
       " ' 왜 어렵다고 했죠 혹시 기억납니까',\n",
       " ' 이거 왜 어렵다고 했지 그림이 없어서 여러분들이 직접 직각삼각형을 그리셔야 돼요 그냥 읽으면 전혀 안 풀려 탄젠트 에이는삼분의사일 때 사인 에이더하기코사인 에이 에이가 얼만데',\n",
       " ' 이런 질문을 하죠 그렇게 푸는 문제가 아니란 얘기죠 탄젠트 에이는삼분의사 첫 시작이 이거야 아 삼각비네 탄젠트 삼각비는 직각삼각형에서 따졌어 그리고 탄젠트라는 건 밑변 분의 높이야 에이가 기준각이야 아 기준각 하나 잡아볼까 이렇게 시작하는 거죠 직각삼각형에서 삼각비를 따졌지 기준각 이걸 에이라고 놓으면 밑변 분의 높이라는 건 결국 이 길이 분의 이 길이인데',\n",
       " ' 그게 삼분의사구나 이 말이 그림으로 이렇게 표현될 수 있어야 되는 거예요 됐나요',\n",
       " ' 그럼 우리는 빗변의 길이는 피타고라스의 정리에 의해서 오가 나올 거예요 이 정도는 여러분들이 암산 가능할 겁니다',\n",
       " ' 그럼 이제 구하고자 하는 게 사인 에이더하기코사인 에이이죠 기준각이 이거면 다시 한번 써 볼까 마주보는 변이 높이였고 이 변이 밑변이고 이 변이 지금 빗변이잖아 사인이 뭔데',\n",
       " ' 빗변 분의 높이 오분의사 바로 갈 수 있겠죠 코사인은 뭔데',\n",
       " ' 빗변 분의 밑변 오분의삼 그러니까 결과는 뭐가 된다 오분의칠 선택지에서 정답은 몇 번 삼번 이렇게 여러분들이 구할 수 있으면 되겠죠 다음으로 유제 육번도 짝을 이뤄서 가니까  문제에서 삼각비만 주어져 있으면 우리가 그림을 그려야겠구나 라는 생각을 해야 돼요 이런 식으로 각비는구십도인 직각삼각형에서 라고 시작하니까 각비는구십도인 직각삼각형을 그려 이 얘기고 코사인 에이는칠분의오 코사인은 빗변 분의 밑변이었고 그게 칠분의오니까 우리가 그림을 그려보자 빗변 분의 밑변이 칠분의오 대략 느낌이 이런 식으로 여러분들이 그려줄 수 있으면 돼요 비가 구십도래요',\n",
       " ' 에이가 기준각 에이를 이쪽에 놔 볼까요',\n",
       " ' 그럼 이거 자동으로 씨가 되겠죠 삼각형 에이비씨라고 했으니까 코사인은 기준각에 대해서 마주보는 게 높이고 이게 밑변인데',\n",
       " ' 코사인은 빗변 분의 밑변이니까',\n",
       " ' 이 길이 분의 이 길이 그게 칠분의오라는 얘기야 칠분의오 하는 순간 우리는 뭐 해야 돼 피타고라스의 정리에 의해서 구해야 됩니다',\n",
       " ' 비씨는 루트 빗변 칠의 제곱 사십구 빼기 나머지 한 변 오의 제곱 루트이십사이니까',\n",
       " ' 이루트육이다 여기까지 갈 수 있다면 이제 사인 에이라는 건 뭐예요 사인 에이 빗변 분의 높이잖아 그렇죠 결국 이렇게 내려와 보면 칠분의이루트육이죠 곱하기 탄젠트 씨 여기서 중요한 건 뭐야 기준각이 바뀌었어 씨로 이게 기준각이래 그러면 마주보는 게 높이죠 그리고 이 변이 밑변이죠 그러니까 탄젠트 씨는 밑변 분의 높이 하려면 이루트육분의오가 되는 겁니다',\n",
       " ' 이렇게 이거 주의해야죠 기준각이 에이에서 씨로 바뀌고 있습니다',\n",
       " ' 결국 정답은 뭐가 돼 칠분의오 한 번쯤 다시 들었으면 하는 문제입니다',\n",
       " ' 유제 오 육번 중에 특히 육번 다시 한번 봤으면 좋겠네요',\n",
       " ' 이제 유제 칠번으로 들어가 보도록 하겠습니다',\n",
       " ' 우리 직각에서 빗변에 수선을 그은 직각삼각형이 있으면 삼개의 삼각형은 닮음이고 직각삼각형에서 닮음일 때는 삼각비가 모두 서로 같다는 거 이야기했었죠 바로 그 유형이 이렇게 복잡한 문제로 나와 있네요',\n",
       " ' 근데',\n",
       " ' 사실 이 문제는 어려운 게 아니야 한번 보세요',\n",
       " ' 직사각형에서 꼭짓점 뒤에서 근데',\n",
       " ' 직사각형이라는 말은 우리에게 뭘 알려 줘 여기가 구십도란 얘기잖아 그렇죠 그러면 결론은 이거네 삼각형에이씨디가 직각삼각형인데',\n",
       " ' 직각에서 빗변에 수선을 그었어 그러면 제일 작은 삼각형 이 삼각형 제일 큰 삼각형 삼개가 모두 다 닮음 이게 개념인 거예요 그러면 이 길이가 루트삼이니까',\n",
       " ' 이 길이도 당연히 루트삼일 테고 그럼 피타고라스의 정리 이용해 보면 이 길이는 얼마예요 삼의제곱는구 더하기 루트삼의제곱는삼점구더하기삼는십이 루트십이이니까',\n",
       " ' 이루트삼 이건 중이 거니까 여러분들이 피타고라스의 정리에 의해서 에이씨까지는 구할 수 있을 거예요 그리고 또 한 가지 이 각엑스 가지고 사인 코사인 탄젠트를 따지려면 이 길이들을 알아야 되는데',\n",
       " ' 이것만 알잖아요',\n",
       " ' 나머지 이개 몰라 하지만 이 각이 엑스면 우리는 누가 엑스임을 알아 닮음이니까',\n",
       " ' 이 각이 엑스 그럼 이제는 어느 삼각형 큰 삼각형만 보면 끝난다는 얘기가 돼요 그러면 코사인 엑스를 구하라고 했잖아요',\n",
       " ' 코사인 엑스 기준각이 여기 있어 마주보는 변이 뭐야 높이 이 변이 뭐예요 밑변 이 변이 빗변 코사인은 뭐 분의 뭐야 빗변 분의 밑변이었죠 헷갈리시면 안 돼요 이 선 쳐다보지 말고 봅시다 즉 이루트삼분의루트삼이니까',\n",
       " ' 약분해서 결국은 뭐가 된다 이분의일이 된다 이렇게 여러분들께서 답을 구하시는 유형입니다',\n",
       " ' 특히나 이 그림 있죠 직각삼각형에서 직각에서 빗변에 수선을 그은 이 중학교 이학년 때 배웠던 이 그림이 계속 나오게 될 거예요 이제 우리 마지막 문제로 유제 팔번 문제 한번 들어가 보도록 할 텐데요',\n",
       " ' 이 문제는 조금 다르네 그렇죠 근데',\n",
       " ' 우리는 그림 딱 보자마자 문제는 잠시 후에 볼게요',\n",
       " ' 이 안에 있는 직각삼각형 보이죠 전체 직각삼각형 보이죠 서로 뭡니까',\n",
       " ' 닮음이에요',\n",
       " ' 왜 안에 있는 삼각형의 이 각 점으로 표현해 볼게 점과 구십도로 이뤄져 있어 밖에 있는 큰 삼각형도 점과 구십도로 이루어져 있으니 에이에이닮음 그 얘기는 이 각이 엑스면 누가 엑스라는 이야기야 큰 삼각형에서 이 각이 엑스라는 얘기예요 그리고 사인 엑스를 구하라고 했는데',\n",
       " ' 작은 삼각형에서 사인 엑스를 구하려면 이걸 알아야 되잖아 그렇죠 하나도 안 나와 있는데',\n",
       " ' 어떻게 알아 그러니까 우리는 바로 어떤 개념 닮음인 직각삼각형에서는 삼각비가 서로 같기 때문에 결국 이제는 작은 삼각형 말고 이 삼각형을 보고 구하라는 얘기예요 피타고라스의 정리 이용하면 우리는 누굴 구할 수 있어 비씨의 길이를 구할 수 있겠죠 비씨 구해 놓고 보면 루트십오의제곱더하기팔의제곱이니까',\n",
       " ' 루트이백이십오더하기육십사는루트이백팔십구 이백팔십구는십칠의제곱입니다',\n",
       " ' 비씨의 길이가 십칠이 나와 한번 마지막 복습으로 써 보겠습니다',\n",
       " ' 기준각이 여기 있어요',\n",
       " ' 마주보는 변이 뭐예요 높이 빗변 이 변은 밑변 마지막 정리 사인은 뭐 분의 뭐였어 빗변 분의 높이 십칠분의십오 바로 그것이 사인 엑스의 값이다 이렇게 여러분들이 답을 구하면 되겠고 만약에 코사인 엑스는 뭐죠 코사인 엑스 나온다면 빗변 분의 밑변이니까',\n",
       " ' 십칠분의팔 탄젠트 엑스는 밑변 분의 높이니까',\n",
       " ' 팔분의십오 여기까지 여러분들께서 답을 구할 수 있으면 되는 겁니다',\n",
       " ' 오늘 굉장히 여러 번 얘기했어요',\n",
       " ' 이제 여러분들 선생님이 조금 아까 얘기했지만 조금 외워졌나요',\n",
       " ' 외워졌으면 좋겠는데',\n",
       " ' 기준각에서 마주보는 변이 밑변이야 높이야 높이였습니다',\n",
       " ' 빗변은 뭐였어 직각에서 마주보는 변이었어요',\n",
       " ' 그렇죠 그럼 나머지 한 변이 자동으로 밑변이 되는 거였고 사인이라는 건 셋 중에 어떤 둘을 뽑았죠  빗변 분의 높이의 비를 사인이다 라고 약속을 한 거야 코사인은 기준각에 대해서 빗변 분의 밑변 그렇죠 탄젠트는 뭐였습니까',\n",
       " ' 밑변 분의 높이 이 삼가지 약속을 여러분들이 오늘 기억하시면 되겠습니다',\n",
       " ' 함께 정리하고 마무리합니다',\n",
       " ' 오늘 끝내는 수학 여러분들 사인 코사인 탄젠트 다시 한번 정리합시다 각에이의 사인이라는 건 바로 뭐였냐 하면 빗변의 길이 분의 높이였었죠 높이는 직각에서 마주보는 변 빗변 기준각에서 마주보는 변 바로 높이였습니다',\n",
       " ' 각에이의 코사인 바로 뭐 분의 뭐였냐 하면 빗변의 길이 분의 밑변의 길이였다는 거 기억하시고요',\n",
       " ' 세 번째 탄젠트는 어떻게 됐습니까',\n",
       " ' 바로 밑변의 길이 분의 높이였다 오늘 삼각비 첫 시간 어땠나요',\n",
       " ' 오늘도 좀 많이 어려웠죠 왜냐하면 새로운 약속들이 계속 나왔기 때문에 그 약속은 여러분들이 받아들이시고 좀 암기해야 되는 부분도 있습니다',\n",
       " ' 오늘 여러 가지 문제들 다 중요했지만 특히나 선생님이 꼭 한 문제 추천한다면 유제 칠번 문제입니다',\n",
       " ' 여러분들이 문제를 확실히 해결한다 함은직접 풀어서 다른 친구에게 이 문제의 풀이를 설명할 수 있도록 공부가 되어야 되는 겁니다',\n",
       " ' 꼭 그렇게 약속 지켜 주시기 바라고요',\n",
       " ' 우리 다음 시간에 또 만나도록 하겠습니다',\n",
       " ' 수고 많으셨습니다',\n",
       " ' \\n반갑습니다',\n",
       " ' 이비에스 친구 여러분들 중학뉴런수학 삼학년하의 손석민입니다',\n",
       " ' 여러분 지난 시간에 우리가 삼각비의 뜻에 관련된 공부를 했습니다',\n",
       " ' 사인 코사인 탄젠트 값이 각각 무엇을 의미하는지 즉 빗변분의높이 빗변분의밑변 그다음 밑변분의높이가 각각 사인 코사인 탄젠트 기준각이라는 걸 이야기했는데요',\n",
       " ' 오늘 공부할 주제는 딱 한 가지입니다',\n",
       " ' 바로 삼십도 사십오도 육십도 우리는 이 각들을 특수한 각이라고 이름 지었어요',\n",
       " ' 이 각에서의 삼각비의 값을 알아볼 거고 선생님이 원래는 외우는 수학을 여러분들께 별로 그런 강의를 안 하려고 하는 편인데',\n",
       " ' 이 값들은 여러분들이 암기하셔야 해서 암기하기 쉬운 방법까지 선생님이 제시해 드릴 테니까오늘 수업이 끝날 때쯤에는 여러분들께서 사인 코사인 탄젠트 삼십도 사십오도 육십도의 값이 암기되어 있으면 되겠습니다',\n",
       " ' 같이 함께 수업 시작해 보도록 하겠습니다',\n",
       " ' 중삼 수학 끝내 봅시다 오늘 함께 공부할 내용은 한 가지예요 크기가 삼십도 사십오도 육십도인 각의 삼각비의 값 이렇게 돼 있죠 이 내용을 공부하기에 앞서서 선생님하고 한 가지 이야기해 볼게요',\n",
       " ' 지난 시간에 막 사인 코사인 탄젠트 기준각이 어떻고 빗변이 뭐고 막 이런 얘기 했잖아 그렇죠 근데',\n",
       " ' 아마 배우면서 그랬겠죠 선생님 근데',\n",
       " ' 그거 왜 배워요 내지는 여러분들 이 생각할 수 있을 거예요  선생님 왜 변의 길이의 비인데',\n",
       " ' 그걸 각으로 표현해요',\n",
       " ' 사인 에이 사인 비 사인 씨 왜 사인 뒤에 각이 붙나요',\n",
       " ' 이런 질문을 여러분들이 할 수 있을 거 같아요',\n",
       " '  약속이야 라고 하고 그냥 넘어가긴 합니다만 조금 더 살짝 깊이 있게 우리가 살펴볼게요',\n",
       " ' 우리는 삼각형이 어떤 도형이 갖는 성질이긴 한데',\n",
       " ' 기본적으로 하나 이 정도 느낌만 보겠습니다',\n",
       " ' 여기에서 이 각을 에이라고 해볼게요',\n",
       " ' 지금 기준각 이런 걸 얘기하고자 하는 게 아니에요',\n",
       " ' 기본적으로 어떤 도형이 갖는 성질이에요',\n",
       " ' 직각삼각형 만약에 이 어떤 각 에이가 기준각이 커진다는 건 무엇을 의미하냐는 거야 왜 각하고 변의 길이의 비가 연결돼 있지 라는 느낌을 여러분들이 가져야 돼요 우리가 여기 있는 주황색 삼각형을 보면 하얀색 삼각형과 밑변은 변함이 없죠 근데',\n",
       " ' 기준각이 변한다는 건 어떤 것들이 변하나 살펴봤더니 각만 변하는 게 아니라 각을 변화시키면 높이도 하얀색보다 주황색이 변해요',\n",
       " ' 길어지죠 빗변의 길이도 어떻게 되죠 길어집니다',\n",
       " ' 결국 변의 길이는 각의 크기에 영향을 받아 안 받아 받아요',\n",
       " ' 이해됐죠 그래서 우리는 삼각비 사인 코사인 탄젠트 뒤에 각을 넣는 거예요 근데',\n",
       " ' 이렇게 변함에 따라서 뭐 더 작은 것도 있겠죠 물론 이렇게도 있을 거예요 그렇죠 이렇게도 있을 텐데',\n",
       " ' 그러면 이 각의 변화에 따라서 밑변분의높이라든가 빗변분의높이라든가 빗변분의밑변의 길이의 비들이 마구 변화가 생기겠죠 맞죠 여러분들이 한번 이렇게 왔다 갔다 하면서 머릿속에서 막 그려 보세요',\n",
       " ' 사이사이에 있는 걸 막 그려 보면 길이의 비들이 계속 변하고 있어요',\n",
       " ' 근데',\n",
       " ' 이 중에 몇 개의 각들이 의미 있는 숫자를 갖는다는 거야 비가 예를 들어서 이거 분의 이거 했더니 영점삼육칠팔이야 뭐 이런 거 말고요',\n",
       " ' 좀 더 의미 있는 거 주로 무리수를 이용해서 표현되는데',\n",
       " ' 그 의미 있는 값을 갖도록 하는 각이 바로 삼십도 사십오도 육십도일 때라는 이야기예요 그래서 우리는 이걸 특수한 각이라고 이야기를 합니다',\n",
       " ' 특수한 각이라는 게 되게 특수한 이상한 게 아니라 우리에게 의미 있는 길이의 비를 제시해 주는 게 바로 특수한 각이고 우리는 그 의미 있는 비를 외워야 되는 겁니다',\n",
       " ' 그러면 우리가 개념을 한번 보도록 하겠습니다',\n",
       " ' 그래서 삼각비라는 게 변의 길이의 비인데',\n",
       " ' 왜 각하고 연결돼 있나 각이 변하면 기준각이 변함에 따라서 변의 길이의 비가 변하니까 그런데',\n",
       " ' 그중에 의미 있는 각이 각이 의미 있는 게 아니라 변의 길이의 비를 의미 있게 하는 각이 삼십도 사십오도 육십도라는 이야기예요 아셨죠 그럼 우리는 기준각이 삼십도일 때의 세 변의 길이의 비를 먼저 살펴보겠습니다',\n",
       " ' 기준각이 삼십도 우리 이렇게 한번 그림을 놔 볼게요',\n",
       " ' 처음엔 이렇게 여러분들이 이제 그려 보겠죠 여기에서 이 각을 삼십도라고 놔 보겠습니다',\n",
       " ' 그럼 이 각은 자연스럽게 육십도겠죠  선생님 여기에서 기준각을 삼십도라고 놨을 때 저는 사인 삼십도를 구하고 싶어요',\n",
       " ' 라고 생각해 본다면 결국 빗변분의높이죠 기준각에서 마주 보는 게 높이니까',\n",
       " ' 근데',\n",
       " ' 선생님 이 길이하고 이 길이의 비를 어떻게 알죠 아무 정보가 없는데',\n",
       " ' 근데',\n",
       " ' 우리는 그 정보를 만들어 낼 수가 있습니다',\n",
       " ' 어떻게 만들어 낼지 한번 잘 보시기 바랍니다',\n",
       " ' 우리가 이 변을 에이라고 잡아 볼게요',\n",
       " ' 그럼 이 변은 뭐가 될까 아직은 모르죠 그런데',\n",
       " ' 뒤집어서 하나를 더 붙여 보는 겁니다',\n",
       " ' 이렇게 됐나요',\n",
       " ' 이게 일직선이 되도록 그러면 선생님 이걸 뒤집어서 붙였기 때문에 이 길이가 에이면 이 길이도 에이예요 근데',\n",
       " ' 이 각이 육십도이니까',\n",
       " ' 뒤집혀서 이 각이 육십도가 되거든요 그러면 육십도 육십도이면 이것도 육십도잖아요',\n",
       " ' 무슨 삼각형이에요',\n",
       " ' 정삼각형이 됩니다',\n",
       " ' 그러기 때문에 이 길이가 이에이면 이 길이도 이에이가 됩니다',\n",
       " ' 이것까지 여러분들이 생각할 수 있으면 되는 거예요 그렇다면 이제 그림을 다시 잘라서 이렇게 보겠습니다',\n",
       " ' 그러면 우리는 피타고라스의 정리에 의해서 이 길이를 구할 수 있을 테고 루트이에이의제곱마이너스에이의제곱 계산해 보면 루트이에이의제곱는루트사에이의제곱이죠 마이너스에이의제곱이죠 루트삼에이의제곱이구나 그러니까 에이는 루트 밖으로 나가서 루트삼에이구나 이렇게 여러분들이 이 길이를 표현할 수 있다는 얘기죠 결국 잘 들어 보세요',\n",
       " ' 한 내각이 삼십도 육십도 구십도이면 제일 짧은 변 두 번째로 긴 변 빗변의 길이의 비는 에이대루트삼에이대이에이가 항상 성립하는 거야 삼십도로 시작하는 이 각에 대해서는 어떤 삼각형이든 중요한 게 어떤 직각삼각형이든이겠죠 당연히 그렇죠 빗변과 높이의 비가 이에이대에이 즉 이대일 이대일 이대일이 다 된다는 겁니다',\n",
       " ' 그렇다면 우리는 그것을 정리해서 뭐라고 이야기할 거냐 기준각을 삼십도로 봤을 때 사인 삼십도는 결국 빗변분의높이이니까',\n",
       " ' 이에이분의에이 이분의일이 된다는 이야기예요 오늘 특수한 각이라는 건 의미가 처음에 뭐라 그랬어 그냥 각 자체가 특수한 게 아니라 변의 길이의 비가 의미 있는 숫자로 나오는 게 특수각이라고 했어요',\n",
       " ' 삼십도 같은 경우에는 사인 삼십도가 뭐가 돼 이분의일 영점오로 이렇게 깔끔한 수가 나온다는 이야기야 됐나요',\n",
       " ' 즉 빗변분의높이가 이분의일 일대이 이대일 의미 있는 숫자가 나온다는 얘기입니다',\n",
       " ' 그렇다면 우리는 여기서 코사인 삼십도도 생각할 수 있겠죠 코사인 삼십도는 뭐가 돼 빗변분의밑변이겠죠 기준각에서 마주 보는 게 높이였어요',\n",
       " ' 지난 시간 거 빗변분의밑변은 이에이분의루트삼에이이니까',\n",
       " ' 약분해 보면 에이 에이 약분돼서 이분의루트삼 이것이 바로 코사인 삼십도의 값이 됩니다',\n",
       " ' 마지막으로 탄젠트 삼십도의 값은 그럼 뭐가 되나 살펴보면 탄젠트 삼십도는 밑변분의높이잖아요',\n",
       " ' 그렇죠 루트삼에이분의에이이니까',\n",
       " ' 에이를 약분하고 나면 루트삼분의일 또는 유리화해서 삼분의루트삼이 된다는 거 그럼 오늘의 결론은 뭐냐 여러분들이 사인 삼십도 얼마니 그러면 이분의일 나와야 된다는 얘기예요 코사인 삼십도 얼마예요 이분의루트삼 나와야 되는 거예요 탄젠트 삼십도 얼마 삼분의루트삼 이렇게 바로바로 나올 수 있게끔 암기되어 있는 게 오늘의 결론 마지막 해야 할 일입니다',\n",
       " ' 그렇다면 이제는 이 그림에서 기준각을 육십도로 바꿔 보겠습니다',\n",
       " ' 그 얘기는 뭘 구하겠다는 얘기야 사인 육십도 코사인 육십도 탄젠트 육십도의 값을 알아보자는 이야기겠죠 잘 보세요',\n",
       " ' 기준각이 이쪽으로 바뀌면 마주 보는 변이 뭐가 돼 높이가 되고 이 변은 밑변 이 변이 빗변 지난 시간 내용이에요',\n",
       " ' 그렇죠 그렇다면 사인 육십도라는 건 빗변분의높이죠 빗변분의높이가 뭐야 이에이분의루트삼에이 이렇게 되겠죠 이에이분의루트삼에이이니까',\n",
       " ' 에이 약분하면 이분의루트삼이 바로 사인 육십도의 값입니다',\n",
       " ' 암기하셔야 돼요 코사인 육십도는 그럼 뭐가 될까 빗변분의밑변이니까',\n",
       " ' 이에이분의에이이죠 결국 뭐가 돼 이분의일 탄젠트 육십도는 밑변분의높이이니까',\n",
       " ' 에이분의루트삼에이 이렇게 되겠죠 에이분의루트삼에이는 결국 에이 에이 약분하면 루트삼이구나 탄젠트 육십도 기준각 육십도에 대해서 밑변분의높이네 루트삼이구나 일대루트삼 됐죠 이렇게 여러분들께서 일대루트삼 하고 암기해 주셔야 된다는 얘기예요 그렇다면 사십오도 아직 빠졌잖아요',\n",
       " ' 그렇죠 그럼 사십오도에 대해서 한번 알아볼게요',\n",
       " ' 여러분들 좀 있다 이 표 다시 한번 보여 드릴 거니까 지금은 지우셔도 상관없어요',\n",
       " ' 삼십도 육십도 구십도일 때 세 변의 길이의 비는 구하는 게 뒤집어서 붙이고 좀 복잡했다면 사십오도는 조금 쉽습니다',\n",
       " ' 직각삼각형인데',\n",
       " ' 한 내각이 사십오도라는 말은 여기에서 세 변 사이의 길이의 비를 우리가 공부하겠다는 거예요 근데',\n",
       " ' 이 각이 사십오도이면 이 각이 자연스럽게 몇 도 나와 사십오도 나오잖아요',\n",
       " ' 그렇죠 그러면 결국 뭘 의미해 이등변삼각형이에요',\n",
       " ' 두 내각이 같으니까 그럼 우리가 이 길이를 일이라고 놓으면 또는 에이라고 놓으면 이 길이도 뭐가 돼 당연히 에이가 되겠죠 그럼 이 길이는 피타고라스의 정리에 의해서 뭐가 되냐 하면 루트에이의제곱더하기에이의제곱입니다',\n",
       " ' 결국 루트 몇 에이의제곱 이에이의제곱이니까',\n",
       " ' 에이가 빠져 나와서 루트이에이가 된다는 얘기야 결국 우리는 여기에서 직각이등변삼각형은 길이의 비가 에이대에이대루트이에이 즉 일대일대루트이이고 그로 인해서 우리는 삼각비 삼개 사인 사십오도와 코사인 사십오도와 탄젠트 사십오도의 값을 생각해 보면그러면 사십오도에 대해서 사인 값은 결국 뭐가 되냐 빗변분의높이죠 마주 보는 게 높이니까',\n",
       " ' 결국 루트이에이분의에이입니다',\n",
       " ' 그래서 약분해 보면 루트이분의일이니까',\n",
       " ' 유리화해서 이분의루트이까지 갈 수 있고 코사인 사십오도는 빗변분의밑변이겠죠 기준각에서 마주 보는 게 높이이면 이게 밑변이니까',\n",
       " ' 근데',\n",
       " ' 뭐야 똑같이 루트이에이분의에이네 그러니까 에이 에이 약분하면 루트이분의일 그래서 이분의루트이가 똑같이 나와요 탄젠트 사십오도는 뭐죠 밑변분의높이였죠 즉 에이분의에이이니까',\n",
       " ' 뭐가 돼 일 이렇게 나온다는 이야기야 그래서 여러분들께서 이걸 가지고 이제 우리가 나중 되면 결론은 뭐 하겠다는 이야기냐 하면 이런 거 하겠다는 얘기예요 너무 어렵지 않으니까 보세요',\n",
       " ' 사십오도 직각삼각형인데']"
      ]
     },
     "execution_count": 62,
     "metadata": {},
     "output_type": "execute_result"
    }
   ],
   "source": [
    "ko_pre_EBS[200:400]"
   ]
  },
  {
   "cell_type": "code",
   "execution_count": null,
   "metadata": {},
   "outputs": [],
   "source": [
    "#ko_pre_GOOGLE = GOOGLE_preprocessing(all_GOOGLE)"
   ]
  },
  {
   "cell_type": "code",
   "execution_count": 48,
   "metadata": {},
   "outputs": [
    {
     "name": "stdout",
     "output_type": "stream",
     "text": [
      "Mon Aug 24 19:12:55 2020       \n",
      "+-----------------------------------------------------------------------------+\n",
      "| NVIDIA-SMI 442.23       Driver Version: 442.23       CUDA Version: 10.2     |\n",
      "|-------------------------------+----------------------+----------------------+\n",
      "| GPU  Name            TCC/WDDM | Bus-Id        Disp.A | Volatile Uncorr. ECC |\n",
      "| Fan  Temp  Perf  Pwr:Usage/Cap|         Memory-Usage | GPU-Util  Compute M. |\n",
      "|===============================+======================+======================|\n",
      "|   0  GeForce GTX 1650   WDDM  | 00000000:01:00.0  On |                  N/A |\n",
      "| N/A   41C    P8     1W /  N/A |    460MiB /  4096MiB |      1%      Default |\n",
      "+-------------------------------+----------------------+----------------------+\n",
      "                                                                               \n",
      "+-----------------------------------------------------------------------------+\n",
      "| Processes:                                                       GPU Memory |\n",
      "|  GPU       PID   Type   Process name                             Usage      |\n",
      "|=============================================================================|\n",
      "|    0      1368    C+G   Insufficient Permissions                   N/A      |\n",
      "|    0      3188    C+G   ...t_cw5n1h2txyewy\\ShellExperienceHost.exe N/A      |\n",
      "|    0      5716    C+G   ...mmersiveControlPanel\\SystemSettings.exe N/A      |\n",
      "|    0      7372    C+G   ...osoft.LockApp_cw5n1h2txyewy\\LockApp.exe N/A      |\n",
      "|    0      7800    C+G   ...5n1h2txyewy\\StartMenuExperienceHost.exe N/A      |\n",
      "|    0      8332    C+G   C:\\Windows\\explorer.exe                    N/A      |\n",
      "|    0      8924    C+G   ...16211.0_x64__8wekyb3d8bbwe\\Video.UI.exe N/A      |\n",
      "|    0      9484    C+G   ...dows.Cortana_cw5n1h2txyewy\\SearchUI.exe N/A      |\n",
      "|    0     10840    C+G   ....100.0_x64__8wekyb3d8bbwe\\YourPhone.exe N/A      |\n",
      "|    0     12696    C+G   ...hell.Experiences.TextInput.InputApp.exe N/A      |\n",
      "|    0     13084    C+G   ...\\bin\\cef\\cef.win7x64\\steamwebhelper.exe N/A      |\n",
      "|    0     13448    C+G   ...6)\\Google\\Chrome\\Application\\chrome.exe N/A      |\n",
      "|    0     14320    C+G   ...76.0_x86__kzf8qxf38zg5c\\Skype\\Skype.exe N/A      |\n",
      "|    0     14436    C+G   ...cal\\SourceTree\\app-3.3.9\\SourceTree.exe N/A      |\n",
      "|    0     16012    C+G   ...1.0_x64__8wekyb3d8bbwe\\WinStore.App.exe N/A      |\n",
      "+-----------------------------------------------------------------------------+\n"
     ]
    }
   ],
   "source": [
    "!nvidia-smi"
   ]
  },
  {
   "cell_type": "code",
   "execution_count": null,
   "metadata": {},
   "outputs": [],
   "source": []
  },
  {
   "cell_type": "code",
   "execution_count": null,
   "metadata": {},
   "outputs": [],
   "source": []
  },
  {
   "cell_type": "code",
   "execution_count": 65,
   "metadata": {},
   "outputs": [],
   "source": [
    "#word embedding KOR2VEC"
   ]
  },
  {
   "cell_type": "code",
   "execution_count": 75,
   "metadata": {},
   "outputs": [
    {
     "name": "stdout",
     "output_type": "stream",
     "text": [
      "Collecting kor2vec\n",
      "  Using cached kor2vec-0.0.1a0-py3-none-any.whl (22 kB)\n",
      "Requirement already satisfied: tqdm in c:\\users\\kcy93\\anaconda3\\lib\\site-packages (from kor2vec) (4.47.0)\n",
      "Requirement already satisfied: numpy in c:\\users\\kcy93\\anaconda3\\lib\\site-packages (from kor2vec) (1.18.5)\n"
     ]
    },
    {
     "name": "stderr",
     "output_type": "stream",
     "text": [
      "ERROR: Could not find a version that satisfies the requirement torch>=0.4.0 (from kor2vec) (from versions: 0.1.2, 0.1.2.post1, 0.1.2.post2)\n",
      "ERROR: No matching distribution found for torch>=0.4.0 (from kor2vec)\n"
     ]
    }
   ],
   "source": [
    "!pip install kor2vec"
   ]
  },
  {
   "cell_type": "code",
   "execution_count": 73,
   "metadata": {},
   "outputs": [
    {
     "name": "stdout",
     "output_type": "stream",
     "text": [
      "Collecting git+https://github.com/naver/kor2vec.git\n",
      "  Cloning https://github.com/naver/kor2vec.git to c:\\users\\kcy93\\appdata\\local\\temp\\pip-req-build-l4bhircj\n"
     ]
    },
    {
     "name": "stderr",
     "output_type": "stream",
     "text": [
      "  Running command git clone -q https://github.com/naver/kor2vec.git 'C:\\Users\\kcy93\\AppData\\Local\\Temp\\pip-req-build-l4bhircj'\n",
      "  ERROR: Error [WinError 2] The system cannot find the file specified while executing command git clone -q https://github.com/naver/kor2vec.git 'C:\\Users\\kcy93\\AppData\\Local\\Temp\\pip-req-build-l4bhircj'\n",
      "ERROR: Cannot find command 'git' - do you have 'git' installed and in your PATH?\n"
     ]
    }
   ],
   "source": [
    "!pip install git+https://github.com/naver/kor2vec.git"
   ]
  },
  {
   "cell_type": "code",
   "execution_count": 77,
   "metadata": {},
   "outputs": [
    {
     "name": "stdout",
     "output_type": "stream",
     "text": [
      "Collecting sentencepiece\n",
      "  Downloading sentencepiece-0.1.91-cp38-cp38-win_amd64.whl (1.2 MB)\n",
      "Installing collected packages: sentencepiece\n",
      "Successfully installed sentencepiece-0.1.91\n"
     ]
    }
   ],
   "source": [
    "!pip install sentencepiece"
   ]
  },
  {
   "cell_type": "code",
   "execution_count": 80,
   "metadata": {},
   "outputs": [
    {
     "name": "stderr",
     "output_type": "stream",
     "text": [
      "'git' is not recognized as an internal or external command,\n",
      "operable program or batch file.\n"
     ]
    }
   ],
   "source": [
    "!git clone https://github.com/google-research/bert"
   ]
  },
  {
   "cell_type": "code",
   "execution_count": 84,
   "metadata": {},
   "outputs": [],
   "source": [
    "import os\n",
    "form bert"
   ]
  },
  {
   "cell_type": "code",
   "execution_count": null,
   "metadata": {},
   "outputs": [],
   "source": []
  },
  {
   "cell_type": "code",
   "execution_count": 87,
   "metadata": {},
   "outputs": [
    {
     "ename": "AttributeError",
     "evalue": "module 'tensorflow._api.v2.train' has no attribute 'Optimizer'",
     "output_type": "error",
     "traceback": [
      "\u001b[1;31m---------------------------------------------------------------------------\u001b[0m",
      "\u001b[1;31mAttributeError\u001b[0m                            Traceback (most recent call last)",
      "\u001b[1;32m<ipython-input-87-2bc14019bd22>\u001b[0m in \u001b[0;36m<module>\u001b[1;34m\u001b[0m\n\u001b[0;32m     13\u001b[0m \u001b[1;31m#sys.path.append(os.pardir)\u001b[0m\u001b[1;33m\u001b[0m\u001b[1;33m\u001b[0m\u001b[1;33m\u001b[0m\u001b[0m\n\u001b[0;32m     14\u001b[0m \u001b[1;33m\u001b[0m\u001b[0m\n\u001b[1;32m---> 15\u001b[1;33m \u001b[1;32mfrom\u001b[0m \u001b[0mbert\u001b[0m \u001b[1;32mimport\u001b[0m \u001b[0mmodeling\u001b[0m\u001b[1;33m,\u001b[0m \u001b[0moptimization\u001b[0m\u001b[1;33m,\u001b[0m \u001b[0mtokenization\u001b[0m\u001b[1;33m\u001b[0m\u001b[1;33m\u001b[0m\u001b[0m\n\u001b[0m\u001b[0;32m     16\u001b[0m \u001b[1;32mfrom\u001b[0m \u001b[0mbert\u001b[0m\u001b[1;33m.\u001b[0m\u001b[0mrun_pretraining\u001b[0m \u001b[1;32mimport\u001b[0m \u001b[0minput_fn_builder\u001b[0m\u001b[1;33m,\u001b[0m \u001b[0mmodel_fn_builder\u001b[0m\u001b[1;33m\u001b[0m\u001b[1;33m\u001b[0m\u001b[0m\n",
      "\u001b[1;32m~\\Documents\\team__KU\\bert\\optimization.py\u001b[0m in \u001b[0;36m<module>\u001b[1;34m\u001b[0m\n\u001b[0;32m     85\u001b[0m \u001b[1;33m\u001b[0m\u001b[0m\n\u001b[0;32m     86\u001b[0m \u001b[1;33m\u001b[0m\u001b[0m\n\u001b[1;32m---> 87\u001b[1;33m \u001b[1;32mclass\u001b[0m \u001b[0mAdamWeightDecayOptimizer\u001b[0m\u001b[1;33m(\u001b[0m\u001b[0mtf\u001b[0m\u001b[1;33m.\u001b[0m\u001b[0mtrain\u001b[0m\u001b[1;33m.\u001b[0m\u001b[0mOptimizer\u001b[0m\u001b[1;33m)\u001b[0m\u001b[1;33m:\u001b[0m\u001b[1;33m\u001b[0m\u001b[1;33m\u001b[0m\u001b[0m\n\u001b[0m\u001b[0;32m     88\u001b[0m   \u001b[1;34m\"\"\"A basic Adam optimizer that includes \"correct\" L2 weight decay.\"\"\"\u001b[0m\u001b[1;33m\u001b[0m\u001b[1;33m\u001b[0m\u001b[0m\n\u001b[0;32m     89\u001b[0m \u001b[1;33m\u001b[0m\u001b[0m\n",
      "\u001b[1;31mAttributeError\u001b[0m: module 'tensorflow._api.v2.train' has no attribute 'Optimizer'"
     ]
    }
   ],
   "source": [
    "\n",
    "import sys\n",
    "import json\n",
    "import nltk\n",
    "import random\n",
    "import logging\n",
    "import tensorflow as tf\n",
    "import sentencepiece as spm\n",
    "\n",
    "from glob import glob\n",
    "#from google.colab import auth, drive\n",
    "from tensorflow.keras.utils import Progbar\n",
    "\n",
    "#sys.path.append(os.pardir)\n",
    "\n",
    "from bert import modeling, optimization, tokenization\n",
    "from bert.run_pretraining import input_fn_builder, model_fn_builder\n"
   ]
  },
  {
   "cell_type": "code",
   "execution_count": null,
   "metadata": {},
   "outputs": [],
   "source": []
  }
 ],
 "metadata": {
  "kernelspec": {
   "display_name": "Python 3",
   "language": "python",
   "name": "python3"
  },
  "language_info": {
   "codemirror_mode": {
    "name": "ipython",
    "version": 3
   },
   "file_extension": ".py",
   "mimetype": "text/x-python",
   "name": "python",
   "nbconvert_exporter": "python",
   "pygments_lexer": "ipython3",
   "version": "3.8.3"
  }
 },
 "nbformat": 4,
 "nbformat_minor": 4
}
