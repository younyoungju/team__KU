{
 "cells": [
  {
   "cell_type": "code",
   "execution_count": null,
   "metadata": {},
   "outputs": [],
   "source": [
    "import azure.cognitiveservices.speech as speechsdk"
   ]
  },
  {
   "cell_type": "code",
   "execution_count": null,
   "metadata": {},
   "outputs": [],
   "source": [
    "speechsdk.__version__"
   ]
  },
  {
   "cell_type": "code",
   "execution_count": null,
   "metadata": {},
   "outputs": [],
   "source": []
  },
  {
   "cell_type": "code",
   "execution_count": null,
   "metadata": {},
   "outputs": [],
   "source": [
    "#continous recognition"
   ]
  },
  {
   "cell_type": "code",
   "execution_count": 1,
   "metadata": {},
   "outputs": [],
   "source": [
    "import time\n",
    "import azure.cognitiveservices.speech as speechsdk"
   ]
  },
  {
   "cell_type": "code",
   "execution_count": 42,
   "metadata": {
    "scrolled": false
   },
   "outputs": [],
   "source": [
    "def get_text(audio_filename):\n",
    "    \n",
    "    speech_key, service_region = '5490a6f2b33844d7b80e62f4ead4a6ba', \"koreacentral\"\n",
    "    speech_config = speechsdk.SpeechConfig(subscription=speech_key, region=service_region)\n",
    "    speech_config.speech_recognition_language=\"ko-KR\"\n",
    "    \n",
    "    \n",
    "    audio_config = speechsdk.audio.AudioConfig(filename=audio_filename)\n",
    "    speech_recognizer = speechsdk.SpeechRecognizer(speech_config=speech_config, audio_config=audio_config)\n",
    "        \n",
    "    done = False\n",
    "    def stop_cb(evt):\n",
    "        print('CLOSING on {}'.format(evt))\n",
    "        speech_recognizer.stop_continuous_recognition()\n",
    "        nonlocal done\n",
    "        done = True\n",
    "        \n",
    "    #speech_recognizer.recognizing.connect(lambda evt: print('RECOGNIZING: {}'.format(evt)))\n",
    "    speech_recognizer.recognized.connect(lambda evt: print('RECOGNIZED: {}'.format(evt)))\n",
    "    #speech_recognizer.session_started.connect(lambda evt: print('SESSION STARTED: {}'.format(evt)))\n",
    "    #speech_recognizer.session_stopped.connect(lambda evt: print('SESSION STOPPED {}'.format(evt)))\n",
    "    #speech_recognizer.canceled.connect(lambda evt: print('CANCELED {}'.format(evt)))\n",
    "\n",
    "    speech_recognizer.session_stopped.connect(stop_cb)\n",
    "    speech_recognizer.canceled.connect(stop_cb)\n",
    "\n",
    "        \n",
    "    x = speech_recognizer.start_continuous_recognition()\n",
    "    while not done:\n",
    "        time.sleep(.7)\n",
    "        \n",
    "    return x"
   ]
  },
  {
   "cell_type": "code",
   "execution_count": 43,
   "metadata": {},
   "outputs": [
    {
     "name": "stdout",
     "output_type": "stream",
     "text": [
      "RECOGNIZED: SpeechRecognitionEventArgs(session_id=360e0244c93547d9b9833e8ead69f42b, result=SpeechRecognitionResult(result_id=51bc97d505b448a881e4af6364a24a99, text=\"반갑습니다 있으며 여러분들 여러분들과 함께 중학 뉴런 수학 삼 할을 강행하게된 손성민 입니다. 자 2학년 를 통해서도 만나 썼는데요. 여러분들 이렇게 다시 만나게 되어서 정말 반갑습니다. 앞으로 삼하 과정 어떻게 진행되는지 에 대해서는 여러분들께서 오리엔테이션 강의를 통해서 확인할 수 있을 거구요.\", reason=ResultReason.RecognizedSpeech))\n",
      "CLOSING on SpeechRecognitionCanceledEventArgs(session_id=884f3774914743b785cd82fdf7ca060f, result=SpeechRecognitionResult(result_id=416557de1956490e89d2a09b3bc80858, text=\"\", reason=ResultReason.Canceled))\n",
      "CLOSING on SessionEventArgs(session_id=884f3774914743b785cd82fdf7ca060f)\n",
      "RECOGNIZED: SpeechRecognitionEventArgs(session_id=360e0244c93547d9b9833e8ead69f42b, result=SpeechRecognitionResult(result_id=684bd00d2ed747cc864441dda6008035, text=\"오리엔테이션 강의 는 반드시 듣고 오셔야 여러분들이 3학년 과정이 화과정이 특히 어떻게 수업 되는지 확인할 수 있을 겁니다. 자 일단 3학년 과정 같은 경우에는 크게 세계의 대 단원으로 이루어져 있는데요. 첫 번째가 삼각비 라는 단어 이고 두번째가 원의 성질 세 번째가 통계 이렇게 이루어져 있습니다. 우리가 일학년 하도 마찬가지고 2학년 하도 그래 왔듯 주로 도형에 대한 이야기가 삼 ha 에서 많이 다루어지는 구나 라는 걸 생각하면 될 테고요.\", reason=ResultReason.RecognizedSpeech))\n",
      "RECOGNIZED: SpeechRecognitionEventArgs(session_id=360e0244c93547d9b9833e8ead69f42b, result=SpeechRecognitionResult(result_id=6f740abd37b54ec6adedbbe50f034b6a, text=\"자, 오늘은 그 첫 시간이니까 삼가 p 삼각 알아요. B 알아요. 근데 합쳐져 있는 삼각비 라는 새로운 용어가 나왔죠. 그럼 이 개념을 공부하게 앞서서 당연히 삼각비 뜻 부터 시작하는 것이 첫 시간입니다. 자 오늘 첫 시간, 함께 시작해 보도록 할 텐데요. 자, 중학교 3학년 수학 선생님과 끝냅시다.\", reason=ResultReason.RecognizedSpeech))\n"
     ]
    },
    {
     "ename": "KeyboardInterrupt",
     "evalue": "",
     "output_type": "error",
     "traceback": [
      "\u001b[0;31m---------------------------------------------------------------------------\u001b[0m",
      "\u001b[0;31mKeyboardInterrupt\u001b[0m                         Traceback (most recent call last)",
      "\u001b[0;32m<ipython-input-43-d85e8f0e5841>\u001b[0m in \u001b[0;36m<module>\u001b[0;34m\u001b[0m\n\u001b[0;32m----> 1\u001b[0;31m \u001b[0mget_text\u001b[0m\u001b[0;34m(\u001b[0m\u001b[0;34m'lec00001.wav'\u001b[0m\u001b[0;34m)\u001b[0m\u001b[0;34m\u001b[0m\u001b[0;34m\u001b[0m\u001b[0m\n\u001b[0m",
      "\u001b[0;32m<ipython-input-42-a70f319bd1d4>\u001b[0m in \u001b[0;36mget_text\u001b[0;34m(audio_filename)\u001b[0m\n\u001b[1;32m     28\u001b[0m     \u001b[0mx\u001b[0m \u001b[0;34m=\u001b[0m \u001b[0mspeech_recognizer\u001b[0m\u001b[0;34m.\u001b[0m\u001b[0mstart_continuous_recognition\u001b[0m\u001b[0;34m(\u001b[0m\u001b[0;34m)\u001b[0m\u001b[0;34m\u001b[0m\u001b[0;34m\u001b[0m\u001b[0m\n\u001b[1;32m     29\u001b[0m     \u001b[0;32mwhile\u001b[0m \u001b[0;32mnot\u001b[0m \u001b[0mdone\u001b[0m\u001b[0;34m:\u001b[0m\u001b[0;34m\u001b[0m\u001b[0;34m\u001b[0m\u001b[0m\n\u001b[0;32m---> 30\u001b[0;31m         \u001b[0mtime\u001b[0m\u001b[0;34m.\u001b[0m\u001b[0msleep\u001b[0m\u001b[0;34m(\u001b[0m\u001b[0;36m.7\u001b[0m\u001b[0;34m)\u001b[0m\u001b[0;34m\u001b[0m\u001b[0;34m\u001b[0m\u001b[0m\n\u001b[0m\u001b[1;32m     31\u001b[0m \u001b[0;34m\u001b[0m\u001b[0m\n\u001b[1;32m     32\u001b[0m     \u001b[0;32mreturn\u001b[0m \u001b[0mx\u001b[0m\u001b[0;34m\u001b[0m\u001b[0;34m\u001b[0m\u001b[0m\n",
      "\u001b[0;31mKeyboardInterrupt\u001b[0m: "
     ]
    }
   ],
   "source": [
    "get_text('lec00001.wav')"
   ]
  },
  {
   "cell_type": "code",
   "execution_count": null,
   "metadata": {},
   "outputs": [],
   "source": []
  }
 ],
 "metadata": {
  "kernelspec": {
   "display_name": "Python 3",
   "language": "python",
   "name": "python3"
  },
  "language_info": {
   "codemirror_mode": {
    "name": "ipython",
    "version": 3
   },
   "file_extension": ".py",
   "mimetype": "text/x-python",
   "name": "python",
   "nbconvert_exporter": "python",
   "pygments_lexer": "ipython3",
   "version": "3.7.4"
  }
 },
 "nbformat": 4,
 "nbformat_minor": 2
}
