{
 "cells": [
  {
   "cell_type": "code",
   "execution_count": 43,
   "metadata": {},
   "outputs": [],
   "source": [
    "import re\n",
    "from jamo import h2j, j2hcj, j2h\n",
    "import pickle\n",
    "from gensim.models import Word2Vec\n",
    "import numpy as np\n",
    "# 불러올때\n",
    "with open('data/result.txt', 'rb') as f:\n",
    "    result = pickle.load(f)"
   ]
  },
  {
   "cell_type": "markdown",
   "metadata": {},
   "source": [
    "# ---(박사님 같이) 코사인유사도 구하기 연습------"
   ]
  },
  {
   "cell_type": "code",
   "execution_count": null,
   "metadata": {},
   "outputs": [],
   "source": [
    "test_m = np.array([1,2, 3, 4, 5])\n",
    "test_m"
   ]
  },
  {
   "cell_type": "code",
   "execution_count": null,
   "metadata": {},
   "outputs": [],
   "source": [
    "test_m = np.diag(test_m)\n",
    "test_m"
   ]
  },
  {
   "cell_type": "code",
   "execution_count": null,
   "metadata": {},
   "outputs": [],
   "source": [
    "Q = np.array([1,0,0,0, 0])\n",
    "Q"
   ]
  },
  {
   "cell_type": "code",
   "execution_count": null,
   "metadata": {},
   "outputs": [],
   "source": [
    "Q.reshape(5, -1)"
   ]
  },
  {
   "cell_type": "code",
   "execution_count": null,
   "metadata": {},
   "outputs": [],
   "source": [
    "dot_pro.shape"
   ]
  },
  {
   "cell_type": "code",
   "execution_count": null,
   "metadata": {},
   "outputs": [],
   "source": [
    "dot_pro"
   ]
  },
  {
   "cell_type": "code",
   "execution_count": null,
   "metadata": {},
   "outputs": [],
   "source": [
    "Q.shape"
   ]
  },
  {
   "cell_type": "code",
   "execution_count": null,
   "metadata": {},
   "outputs": [],
   "source": [
    "Q"
   ]
  },
  {
   "cell_type": "code",
   "execution_count": null,
   "metadata": {},
   "outputs": [],
   "source": [
    "dot_pro = test_m.dot(Q)"
   ]
  },
  {
   "cell_type": "code",
   "execution_count": null,
   "metadata": {},
   "outputs": [],
   "source": [
    "np.linalg.norm(test_m, axis=1)#길이"
   ]
  },
  {
   "cell_type": "code",
   "execution_count": null,
   "metadata": {},
   "outputs": [],
   "source": [
    "np.linalg.norm(Q) #길이"
   ]
  },
  {
   "cell_type": "code",
   "execution_count": null,
   "metadata": {},
   "outputs": [],
   "source": [
    "np.linalg.norm(test_m, axis=1) * np.linalg.norm(Q) #길"
   ]
  },
  {
   "cell_type": "code",
   "execution_count": null,
   "metadata": {},
   "outputs": [],
   "source": [
    "sim = dot_pro / np.linalg.norm(test_m, axis=1) * np.linalg.norm(Q) #길"
   ]
  },
  {
   "cell_type": "code",
   "execution_count": null,
   "metadata": {},
   "outputs": [],
   "source": [
    "sim.argmax()"
   ]
  },
  {
   "cell_type": "markdown",
   "metadata": {},
   "source": [
    "# --------------"
   ]
  },
  {
   "cell_type": "markdown",
   "metadata": {},
   "source": [
    "### -----문장간 코사인유사도 찾기(좋은 임베딩 파라미터 찾기------"
   ]
  },
  {
   "cell_type": "code",
   "execution_count": 3,
   "metadata": {},
   "outputs": [
    {
     "data": {
      "text/plain": [
       "[' 반갑습니다',\n",
       " ' 반갑습니다',\n",
       " ' 이비에스 친구 여러분 여러분 함께 중학 뉴런 수학 삼하를 강의 된손석민 입니다',\n",
       " ' 이비에스  여러분 여러분 함께 중학 뉴런 수학 삼할을 강의 하기됨손성민 입니다',\n",
       " ' 학년 뉴런 통해 서도 만났었는데요 여러분 이렇게 다시 만나게 되어서 정말 반갑습니다',\n",
       " ' 학년 이런을 통해 서도 만났었는데 여러분 이렇게 다시 만나게 되어서 정말 반갑습니다',\n",
       " ' 앞 삼하 과정 어떻게 진행 되는지에 대해 서는 여러분 오리엔테이션 강의 통해 확인 할수있을거고요 오리엔테이션 강의 반드시 듣고오셔야 여러분 이삼 학년 과정 이하과정특히 어떻게 수업 되는지 확인 할수있을 겁니다',\n",
       " ' 앞 삼 과정 어떻게 진행 되는지에 대해 서는 여러분 오리엔테이션 강의 통해 확인 할수있을거구요 오리엔테이션 강의 반드시 듣고오셔야 여러분 이삼 학년 과정 하마종이접기 어떻게 수업 되는지 확인 할수있을 겁니다',\n",
       " ' 일 단삼 학년 과정 같은 경우 크게 삼 개 대단원 이루어져있는데요 첫 삼각비 단원두번째 가원 성질 세번 통계 이렇게 이루어져있습니다',\n",
       " ' 일 단삼 학년 가정 같은 경우 크게 세 개 대단원 이루어져있는데요 첫 삼각비 단어거두 가원 성질 세번 통계 이렇게 이루어져있습니다']"
      ]
     },
     "execution_count": 3,
     "metadata": {},
     "output_type": "execute_result"
    }
   ],
   "source": [
    "result[:10]"
   ]
  },
  {
   "cell_type": "code",
   "execution_count": 4,
   "metadata": {},
   "outputs": [
    {
     "name": "stdout",
     "output_type": "stream",
     "text": [
      "4162\n",
      "[['반갑습니다'], ['반갑습니다'], ['이비에스', '친구', '여러분', '여러분', '함께', '중학', '뉴런', '수학', '삼하를', '강의', '된손석민', '입니다']]\n"
     ]
    }
   ],
   "source": [
    "#ebs, google 문장들 쪼개서\n",
    "result_gensim_input = [_.split() for _ in result if _ != '']\n",
    "print(len(result_gensim_input))\n",
    "print(result_gensim_input[:3])"
   ]
  },
  {
   "cell_type": "code",
   "execution_count": 5,
   "metadata": {},
   "outputs": [
    {
     "name": "stdout",
     "output_type": "stream",
     "text": [
      "2081\n",
      "[' 반갑습니다', ' 이비에스 친구 여러분 여러분 함께 중학 뉴런 수학 삼하를 강의 된손석민 입니다', ' 학년 뉴런 통해 서도 만났었는데요 여러분 이렇게 다시 만나게 되어서 정말 반갑습니다']\n"
     ]
    }
   ],
   "source": [
    "#ebs 문장들 안쪼개서\n",
    "result_tokenizer_input = [v for i, v in enumerate(result) if i%2 == 0 and v != '']\n",
    "print(len(result_tokenizer_input))\n",
    "print(result_tokenizer_input[:3])"
   ]
  },
  {
   "cell_type": "code",
   "execution_count": 6,
   "metadata": {},
   "outputs": [
    {
     "name": "stdout",
     "output_type": "stream",
     "text": [
      "2081\n",
      "[['반갑습니다'], ['이비에스', '친구', '여러분', '여러분', '함께', '중학', '뉴런', '수학', '삼하를', '강의', '된손석민', '입니다'], ['학년', '뉴런', '통해', '서도', '만났었는데요', '여러분', '이렇게', '다시', '만나게', '되어서', '정말', '반갑습니다']]\n"
     ]
    }
   ],
   "source": [
    "#ebs 문장들 쪼개서\n",
    "ebs_in_result_for_getting_max_len = [v for i, v in enumerate(result_gensim_input) if i%2 == 0 and v != []]\n",
    "print(len(ebs_in_result_for_getting_max_len))\n",
    "print(ebs_in_result_for_getting_max_len[:3])"
   ]
  },
  {
   "cell_type": "code",
   "execution_count": 27,
   "metadata": {},
   "outputs": [
    {
     "name": "stdout",
     "output_type": "stream",
     "text": [
      "2079\n",
      "[['반갑습니다'], ['이비에스', '친구', '여러분', '여러분', '함께', '중학', '뉴런', '수학', '삼하를', '강의', '된손석민', '입니다'], ['학년', '뉴런', '통해', '서도', '만났었는데요', '여러분', '이렇게', '다시', '만나게', '되어서', '정말', '반갑습니다']]\n"
     ]
    }
   ],
   "source": [
    "ebs_in_result_gensim_input = [v for i, v in enumerate(result_gensim_input) if i%2 == 0 and v != [] and result_gensim_input[i+1] != []]\n",
    "print(len(ebs_in_result_gensim_input))\n",
    "print(ebs_in_result_gensim_input[:3])"
   ]
  },
  {
   "cell_type": "code",
   "execution_count": 28,
   "metadata": {},
   "outputs": [
    {
     "name": "stdout",
     "output_type": "stream",
     "text": [
      "2079\n",
      "[['반갑습니다'], ['이비에스', '여러분', '여러분', '함께', '중학', '뉴런', '수학', '삼할을', '강의', '하기됨손성민', '입니다'], ['학년', '이런을', '통해', '서도', '만났었는데', '여러분', '이렇게', '다시', '만나게', '되어서', '정말', '반갑습니다']]\n"
     ]
    }
   ],
   "source": [
    "google_in_result_gensim_input = [v for i, v in enumerate(result_gensim_input) if i%2 == 1 and v != []]\n",
    "print(len(google_in_result_gensim_input))\n",
    "print(google_in_result_gensim_input[:3])"
   ]
  },
  {
   "cell_type": "code",
   "execution_count": 29,
   "metadata": {},
   "outputs": [],
   "source": [
    "embedding_size = 30\n",
    "window_size = 1\n",
    "\n",
    "model = Word2Vec(\n",
    "                result_gensim_input, \n",
    "                window = window_size,\n",
    "                size =embedding_size,\n",
    "                min_count=1,\n",
    "                workers = 10\n",
    "                )\n",
    "\n",
    "def get_s_vec(s_list, embedding_size):\n",
    "    s_vec = np.zeros(embedding_size)\n",
    "    for t in s_list:\n",
    "        s_vec += model[t]\n",
    "    s_vec /= len(s_list)\n",
    "    return s_vec"
   ]
  },
  {
   "cell_type": "code",
   "execution_count": 30,
   "metadata": {},
   "outputs": [
    {
     "name": "stderr",
     "output_type": "stream",
     "text": [
      "C:\\ProgramData\\Anaconda3\\lib\\site-packages\\ipykernel_launcher.py:15: DeprecationWarning: Call to deprecated `__getitem__` (Method will be removed in 4.0.0, use self.wv.__getitem__() instead).\n",
      "  from ipykernel import kernelapp as app\n"
     ]
    }
   ],
   "source": [
    "# Generate EBS string vectors matrix\n",
    "ebs_str_arr = np.zeros((len(ebs_in_result_gensim_input), embedding_size))\n",
    "for i, s_list in enumerate(ebs_in_result_gensim_input):\n",
    "    ebs_str_arr[i] = get_s_vec(s_list, embedding_size)\n",
    "ebs_vec_norms = np.linalg.norm(ebs_str_arr, axis=1)"
   ]
  },
  {
   "cell_type": "code",
   "execution_count": null,
   "metadata": {},
   "outputs": [],
   "source": [
    "#수고하셨습니다가 들어가는 문장 인덱스\n",
    "lec_last_str_idx = '104 192 299 407 517 617 715 780 896 1004 1091 1214 1340 1531 1588 1626 1657 1700 1742 1797 1845 1877 1931 1993 2035 2078'\n",
    "lec_last_str_idx = [int(_) for _ in lec_last_str_idx.split()]"
   ]
  },
  {
   "cell_type": "code",
   "execution_count": 116,
   "metadata": {},
   "outputs": [
    {
     "name": "stderr",
     "output_type": "stream",
     "text": [
      "C:\\ProgramData\\Anaconda3\\lib\\site-packages\\ipykernel_launcher.py:15: DeprecationWarning: Call to deprecated `__getitem__` (Method will be removed in 4.0.0, use self.wv.__getitem__() instead).\n",
      "  from ipykernel import kernelapp as app\n"
     ]
    },
    {
     "name": "stdout",
     "output_type": "stream",
     "text": [
      "82.68398268398268\n"
     ]
    }
   ],
   "source": [
    "#Query comparison\n",
    "cos_sims_bool = np.zeros(len(google_in_result_gensim_input))\n",
    "\n",
    "i = 1\n",
    "ebs = ''\n",
    "google = ''\n",
    "for g_idx, Q_str in enumerate(google_in_result_gensim_input):\n",
    "    Q_vec = get_s_vec(Q_str, embedding_size)\n",
    "#     Q_vec = Q_vec.reshape(embedding_size, -1)\n",
    "    dot_products = ebs_str_arr.dot(Q_vec)\n",
    "\n",
    "    Q_vec_norm = np.linalg.norm(Q_vec)\n",
    "    norm_productions = ebs_vec_norms * Q_vec_norm\n",
    "    cos_sims = dot_products / norm_productions\n",
    "    \n",
    "#     print(g_idx, '   ', cos_sims.argmax())\n",
    "#     print(ebs_in_result_gensim_input[cos_sims.argmax()])\n",
    "    \n",
    "    if g_idx == cos_sims.argmax():\n",
    "        cos_sims_bool[g_idx] = 1\n",
    "    \n",
    "    ebs += '\\n' + ' '.join(ebs_in_result_gensim_input[cos_sims.argmax()])\n",
    "    google += '\\n' + ' '.join(Q_str)\n",
    "    if g_idx in lec_last_str_idx:\n",
    "        ebs_save_name = 'result_conversion_' + '{0:05d}'.format(i) + '.txt'\n",
    "        google_save_name = 'result_google_' + '{0:05d}'.format(i) + '.txt'\n",
    "        with open('data/'+ebs_save_name, 'w') as text:\n",
    "            text.write(ebs)\n",
    "        with open('data/'+google_save_name, 'w') as text:\n",
    "            text.write(google)\n",
    "        ebs = ''\n",
    "        google = ''\n",
    "        i+=1\n",
    "    \n",
    "diff_num = np.unique(cos_sims_bool, return_counts=True)[1][0]\n",
    "same_num = np.unique(cos_sims_bool, return_counts=True)[1][1]\n",
    "print(same_num/(diff_num+same_num) * 100)\n",
    "\n",
    "    "
   ]
  }
 ],
 "metadata": {
  "kernelspec": {
   "display_name": "Python 3",
   "language": "python",
   "name": "python3"
  },
  "language_info": {
   "codemirror_mode": {
    "name": "ipython",
    "version": 3
   },
   "file_extension": ".py",
   "mimetype": "text/x-python",
   "name": "python",
   "nbconvert_exporter": "python",
   "pygments_lexer": "ipython3",
   "version": "3.7.6"
  }
 },
 "nbformat": 4,
 "nbformat_minor": 4
}
